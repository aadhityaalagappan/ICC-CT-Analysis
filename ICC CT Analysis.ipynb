{
 "cells": [
  {
   "cell_type": "code",
   "execution_count": 0,
   "metadata": {
    "application/vnd.databricks.v1+cell": {
     "cellMetadata": {
      "byteLimit": 2048000,
      "rowLimit": 10000
     },
     "inputWidgets": {},
     "nuid": "8345ab94-ef29-47d0-a697-b645be229fb2",
     "showTitle": false,
     "tableResultSettingsMap": {},
     "title": ""
    }
   },
   "outputs": [
    {
     "output_type": "display_data",
     "data": {
      "text/html": [
       "\n",
       "            <div>\n",
       "                <p><b>SparkSession - hive</b></p>\n",
       "                \n",
       "        <div>\n",
       "            <p><b>SparkContext</b></p>\n",
       "\n",
       "            <p><a href=\"/?o=2021009750037460#setting/sparkui/0107-062834-qpi29hz3/driver-889881843006815658\">Spark UI</a></p>\n",
       "\n",
       "            <dl>\n",
       "              <dt>Version</dt>\n",
       "                <dd><code>v3.3.2</code></dd>\n",
       "              <dt>Master</dt>\n",
       "                <dd><code>local[8]</code></dd>\n",
       "              <dt>AppName</dt>\n",
       "                <dd><code>Databricks Shell</code></dd>\n",
       "            </dl>\n",
       "        </div>\n",
       "        \n",
       "            </div>\n",
       "        "
      ]
     },
     "metadata": {
      "application/vnd.databricks.v1+output": {
       "addedWidgets": {},
       "arguments": {},
       "data": "\n            <div>\n                <p><b>SparkSession - hive</b></p>\n                \n        <div>\n            <p><b>SparkContext</b></p>\n\n            <p><a href=\"/?o=2021009750037460#setting/sparkui/0107-062834-qpi29hz3/driver-889881843006815658\">Spark UI</a></p>\n\n            <dl>\n              <dt>Version</dt>\n                <dd><code>v3.3.2</code></dd>\n              <dt>Master</dt>\n                <dd><code>local[8]</code></dd>\n              <dt>AppName</dt>\n                <dd><code>Databricks Shell</code></dd>\n            </dl>\n        </div>\n        \n            </div>\n        ",
       "datasetInfos": [],
       "metadata": {},
       "removedWidgets": [],
       "textData": null,
       "type": "htmlSandbox"
      }
     },
     "output_type": "display_data"
    }
   ],
   "source": [
    "spark"
   ]
  },
  {
   "cell_type": "code",
   "execution_count": 0,
   "metadata": {
    "application/vnd.databricks.v1+cell": {
     "cellMetadata": {
      "byteLimit": 2048000,
      "rowLimit": 10000
     },
     "inputWidgets": {},
     "nuid": "a8e8b373-60cf-424c-bc38-e221f80107a8",
     "showTitle": false,
     "tableResultSettingsMap": {},
     "title": ""
    }
   },
   "outputs": [],
   "source": [
    "from pyspark.sql import SparkSession\n",
    "spark = SparkSession.builder.appName(\"CT_Analysis\").getOrCreate()"
   ]
  },
  {
   "cell_type": "code",
   "execution_count": 0,
   "metadata": {
    "application/vnd.databricks.v1+cell": {
     "cellMetadata": {
      "byteLimit": 2048000,
      "rowLimit": 10000
     },
     "inputWidgets": {},
     "nuid": "df670f7a-19d0-424a-9a34-e60cf4864258",
     "showTitle": false,
     "tableResultSettingsMap": {},
     "title": ""
    }
   },
   "outputs": [
    {
     "output_type": "display_data",
     "data": {
      "text/html": [
       "\n",
       "            <div>\n",
       "                <p><b>SparkSession - hive</b></p>\n",
       "                \n",
       "        <div>\n",
       "            <p><b>SparkContext</b></p>\n",
       "\n",
       "            <p><a href=\"/?o=2021009750037460#setting/sparkui/0107-062834-qpi29hz3/driver-889881843006815658\">Spark UI</a></p>\n",
       "\n",
       "            <dl>\n",
       "              <dt>Version</dt>\n",
       "                <dd><code>v3.3.2</code></dd>\n",
       "              <dt>Master</dt>\n",
       "                <dd><code>local[8]</code></dd>\n",
       "              <dt>AppName</dt>\n",
       "                <dd><code>Databricks Shell</code></dd>\n",
       "            </dl>\n",
       "        </div>\n",
       "        \n",
       "            </div>\n",
       "        "
      ]
     },
     "metadata": {
      "application/vnd.databricks.v1+output": {
       "addedWidgets": {},
       "arguments": {},
       "data": "\n            <div>\n                <p><b>SparkSession - hive</b></p>\n                \n        <div>\n            <p><b>SparkContext</b></p>\n\n            <p><a href=\"/?o=2021009750037460#setting/sparkui/0107-062834-qpi29hz3/driver-889881843006815658\">Spark UI</a></p>\n\n            <dl>\n              <dt>Version</dt>\n                <dd><code>v3.3.2</code></dd>\n              <dt>Master</dt>\n                <dd><code>local[8]</code></dd>\n              <dt>AppName</dt>\n                <dd><code>Databricks Shell</code></dd>\n            </dl>\n        </div>\n        \n            </div>\n        ",
       "datasetInfos": [],
       "metadata": {},
       "removedWidgets": [],
       "textData": null,
       "type": "htmlSandbox"
      }
     },
     "output_type": "display_data"
    }
   ],
   "source": [
    "spark"
   ]
  },
  {
   "cell_type": "code",
   "execution_count": 0,
   "metadata": {
    "application/vnd.databricks.v1+cell": {
     "cellMetadata": {
      "byteLimit": 2048000,
      "rowLimit": 10000
     },
     "inputWidgets": {},
     "nuid": "75e868f8-b31a-4622-a224-3708eadb80b9",
     "showTitle": false,
     "tableResultSettingsMap": {},
     "title": ""
    }
   },
   "outputs": [],
   "source": [
    "highest_run_scorer_df = spark.read.format(\"csv\").option(\"header\", \"true\").load(\"dbfs:/FileStore/tables/highest_run_scorers.csv\")"
   ]
  },
  {
   "cell_type": "code",
   "execution_count": 0,
   "metadata": {
    "application/vnd.databricks.v1+cell": {
     "cellMetadata": {
      "byteLimit": 2048000,
      "rowLimit": 10000
     },
     "inputWidgets": {},
     "nuid": "b4c114e1-cde6-4e39-bd83-a90142f5783a",
     "showTitle": false,
     "tableResultSettingsMap": {},
     "title": ""
    }
   },
   "outputs": [
    {
     "output_type": "stream",
     "name": "stdout",
     "output_type": "stream",
     "text": [
      "Out[5]: DataFrame[Player: string, Span: string, Mat: string, Inns: string, NO: string, Runs: string, HS: string, Ave: string, BF: string, SR: string, 100: string, 50: string, 0: string, 4s: string, 6s: string]"
     ]
    }
   ],
   "source": [
    "highest_run_scorer_df"
   ]
  },
  {
   "cell_type": "code",
   "execution_count": 0,
   "metadata": {
    "application/vnd.databricks.v1+cell": {
     "cellMetadata": {
      "byteLimit": 2048000,
      "rowLimit": 10000
     },
     "inputWidgets": {},
     "nuid": "3a57c83a-5094-4fb4-bb48-8b15943d9a11",
     "showTitle": false,
     "tableResultSettingsMap": {},
     "title": ""
    }
   },
   "outputs": [
    {
     "output_type": "stream",
     "name": "stdout",
     "output_type": "stream",
     "text": [
      "+--------------------+---------+---+----+---+----+----+-----+---+------+---+---+---+---+---+\n|              Player|     Span|Mat|Inns| NO|Runs|  HS|  Ave| BF|    SR|100| 50|  0| 4s| 6s|\n+--------------------+---------+---+----+---+----+----+-----+---+------+---+---+---+---+---+\n|   Tamim Iqbal (BAN)|2016-2016|  6|   6|  2| 295|103*|73.75|207|142.51|  1|  1|  -| 24| 14|\n|       V Kohli (IND)|2016-2016|  5|   5|  3| 273| 89*|136.5|186|146.77|  -|  3|  -| 29|  5|\n|       JE Root (ENG)|2016-2016|  6|   6|  1| 249|  83| 49.8|170|146.47|  -|  2|  -| 24|  7|\n|Mohammad Shahzad ...|2016-2016|  7|   7|  -| 222|  61|31.71|158| 140.5|  -|  1|  -| 23| 12|\n|    JC Buttler (ENG)|2016-2016|  6|   6|  2| 191| 66*|47.75|120|159.16|  -|  1|  -| 13| 12|\n+--------------------+---------+---+----+---+----+----+-----+---+------+---+---+---+---+---+\nonly showing top 5 rows\n\n"
     ]
    }
   ],
   "source": [
    "highest_run_scorer_df.show(5)"
   ]
  },
  {
   "cell_type": "code",
   "execution_count": 0,
   "metadata": {
    "application/vnd.databricks.v1+cell": {
     "cellMetadata": {
      "byteLimit": 2048000,
      "rowLimit": 10000
     },
     "inputWidgets": {},
     "nuid": "ec0b1b28-2082-48d4-a118-cb3e3031fe6f",
     "showTitle": false,
     "tableResultSettingsMap": {},
     "title": ""
    }
   },
   "outputs": [],
   "source": [
    "most_wickets_1 = spark.read.format(\"csv\").option(\"headers\", \"true\").load(\"dbfs:/FileStore/tables/most_wicket_takers-2.csv\")"
   ]
  },
  {
   "cell_type": "code",
   "execution_count": 0,
   "metadata": {
    "application/vnd.databricks.v1+cell": {
     "cellMetadata": {
      "byteLimit": 2048000,
      "rowLimit": 10000
     },
     "inputWidgets": {},
     "nuid": "8a9cda7b-37b3-4399-8afc-7fcb084761e6",
     "showTitle": false,
     "tableResultSettingsMap": {},
     "title": ""
    }
   },
   "outputs": [
    {
     "output_type": "stream",
     "name": "stdout",
     "output_type": "stream",
     "text": [
      "+--------------------+---------+---+----+-----+-----+----+----+----+------+-----+----+-----+----+----+\n|                 _c0|      _c1|_c2| _c3|  _c4|  _c5| _c6| _c7| _c8|   _c9| _c10|_c11| _c12|_c13|_c14|\n+--------------------+---------+---+----+-----+-----+----+----+----+------+-----+----+-----+----+----+\n|              Player|     Span|Mat|Inns|Balls|Overs|Mdns|Runs|Wkts|   BBI|  Ave|Econ|   SR|   4|   5|\n| Mohammad Nabi (AFG)|2016-2016|  7|   7|  162|   27|   1| 164|  12|Apr-20|13.66|6.07| 13.5|   1|   -|\n|   Rashid Khan (AFG)|2016-2016|  7|   7|  168|   28|   -| 183|  11|03-Nov|16.63|6.53|15.27|   -|   -|\n|     MJ Santner (NZ)|2016-2016|  5|   5|  109| 18.1|   -| 114|  10|04-Nov| 11.4|6.27| 10.9|   1|   -|\n|       IS Sodhi (NZ)|2016-2016|  5|   5|  118| 19.4|   -| 120|  10|Mar-18|   12| 6.1| 11.8|   -|   -|\n|     DJ Willey (ENG)|2016-2016|  6|   6|  126|   21|   -| 159|  10|Mar-20| 15.9|7.57| 12.6|   -|   -|\n|Shakib Al Hasan (...|2016-2016|  7|   6|  138|   23|   -| 166|  10|Apr-15| 16.6|7.21| 13.8|   1|   -|\n+--------------------+---------+---+----+-----+-----+----+----+----+------+-----+----+-----+----+----+\nonly showing top 7 rows\n\n"
     ]
    }
   ],
   "source": [
    "most_wickets_1.show(7)"
   ]
  },
  {
   "cell_type": "code",
   "execution_count": 0,
   "metadata": {
    "application/vnd.databricks.v1+cell": {
     "cellMetadata": {
      "byteLimit": 2048000,
      "rowLimit": 10000
     },
     "inputWidgets": {},
     "nuid": "38bdde6a-e2c3-497f-8f7a-eefad851db9e",
     "showTitle": false,
     "tableResultSettingsMap": {},
     "title": ""
    }
   },
   "outputs": [],
   "source": [
    "economy_rate_df = spark.read.format(\"csv\").option(\"header\", \"true\").load(\"dbfs:/FileStore/tables/best_economy_rates.csv\")"
   ]
  },
  {
   "cell_type": "code",
   "execution_count": 0,
   "metadata": {
    "application/vnd.databricks.v1+cell": {
     "cellMetadata": {
      "byteLimit": 2048000,
      "rowLimit": 10000
     },
     "inputWidgets": {},
     "nuid": "319731eb-ea88-4eba-b56a-0b3e622eb58f",
     "showTitle": false,
     "tableResultSettingsMap": {},
     "title": ""
    }
   },
   "outputs": [
    {
     "output_type": "stream",
     "name": "stdout",
     "output_type": "stream",
     "text": [
      "+--------------------+---------+---+-----+----+-----+----+----+------+-----+----+---+---+---+---+\n|              Player|     Span|Mat|Overs|Mdns|Balls|Runs|Wkts|   BBI|  Ave|Econ| SR|  4|  5| 10|\n+--------------------+---------+---+-----+----+-----+----+----+------+-----+----+---+---+---+---+\n|    NL McCullum (NZ)|2016-2016|  2|    5|   -|   30|  21|   3|Feb-15|    7| 4.2| 10|  -|  -|  -|\n|PA van Meekeren (...|2016-2016|  3|    6|   -|   36|  28|   6|04-Nov| 4.66|4.66|  6|  1|  -|  -|\n|  CD de Lange (SCOT)|2016-2016|  1|    4|   -|   24|  19|   1|Jan-19|   19|4.75| 24|  -|  -|  -|\n|      SK Raina (IND)|2016-2016|  5|    6|   -|   36|  29|   3|01-Apr| 9.66|4.83| 12|  -|  -|  -|\n|  JDF Vandersay (SL)|2016-2016|  3|   12|   1|   72|  62|   3|Feb-26|20.66|5.16| 24|  -|  -|  -|\n+--------------------+---------+---+-----+----+-----+----+----+------+-----+----+---+---+---+---+\nonly showing top 5 rows\n\n"
     ]
    }
   ],
   "source": [
    "economy_rate_df.show(5)"
   ]
  },
  {
   "cell_type": "code",
   "execution_count": 0,
   "metadata": {
    "application/vnd.databricks.v1+cell": {
     "cellMetadata": {
      "byteLimit": 2048000,
      "rowLimit": 10000
     },
     "inputWidgets": {},
     "nuid": "564b950c-0aad-4ec8-983a-57c39ce40c18",
     "showTitle": false,
     "tableResultSettingsMap": {},
     "title": ""
    }
   },
   "outputs": [],
   "source": [
    "wc_match_winners_df = spark.read.format(\"csv\").option(\"header\", \"true\").load(\"dbfs:/FileStore/tables/world_cup_match_winners.csv\")"
   ]
  },
  {
   "cell_type": "code",
   "execution_count": 0,
   "metadata": {
    "application/vnd.databricks.v1+cell": {
     "cellMetadata": {
      "byteLimit": 2048000,
      "rowLimit": 10000
     },
     "inputWidgets": {},
     "nuid": "0aedcbc9-2a84-46af-9c06-7a6cf1bb1d9d",
     "showTitle": false,
     "tableResultSettingsMap": {},
     "title": ""
    }
   },
   "outputs": [
    {
     "output_type": "stream",
     "name": "stdout",
     "output_type": "stream",
     "text": [
      "+------------+-----------+------------+---------+------------+------------+----------+\n|      Team 1|     Team 2|      Winner|   Margin|      Ground|  Match Date| Scorecard|\n+------------+-----------+------------+---------+------------+------------+----------+\n|     England|West Indies| West Indies|4 wickets|Eden Gardens| Apr 3, 2016|T20I # 557|\n|       India|West Indies| West Indies|7 wickets|    Wankhede|Mar 31, 2016|T20I # 556|\n|     England|New Zealand|     England|7 wickets|       Delhi|Mar 30, 2016|T20I # 555|\n|South Africa|  Sri Lanka|South Africa|8 wickets|       Delhi|Mar 28, 2016|T20I # 554|\n|       India|  Australia|       India|6 wickets|      Mohali|Mar 27, 2016|T20I # 553|\n+------------+-----------+------------+---------+------------+------------+----------+\nonly showing top 5 rows\n\n"
     ]
    }
   ],
   "source": [
    "wc_match_winners_df.show(5)"
   ]
  },
  {
   "cell_type": "code",
   "execution_count": 0,
   "metadata": {
    "application/vnd.databricks.v1+cell": {
     "cellMetadata": {
      "byteLimit": 2048000,
      "rowLimit": 10000
     },
     "inputWidgets": {},
     "nuid": "aefcf562-a8e3-4497-9765-82d91014347c",
     "showTitle": false,
     "tableResultSettingsMap": {},
     "title": ""
    }
   },
   "outputs": [],
   "source": [
    "wc_winners_df = spark.read.format(\"csv\").option(\"header\", \"true\").load(\"dbfs:/FileStore/tables/World_cup_winners-1.csv\")"
   ]
  },
  {
   "cell_type": "code",
   "execution_count": 0,
   "metadata": {
    "application/vnd.databricks.v1+cell": {
     "cellMetadata": {
      "byteLimit": 2048000,
      "rowLimit": 10000
     },
     "inputWidgets": {},
     "nuid": "0ad3634d-ffa4-43e3-9fb2-c4cd3e72615f",
     "showTitle": false,
     "tableResultSettingsMap": {},
     "title": ""
    }
   },
   "outputs": [
    {
     "output_type": "stream",
     "name": "stdout",
     "output_type": "stream",
     "text": [
      "+------+----+-----------+------------+----------------+\n|Series|Type|     Winner|      Runner|      Tournament|\n+------+----+-----------+------------+----------------+\n|  2016| T20|West Indies|     England|          T20 WC|\n|  2017| ODI|   Pakistan|       India|Champions Trophy|\n|  2019| ODI|    England| New Zealand|          ODI WC|\n|  2021| T20|  Australia| New Zealand|          T20 WC|\n|  2022| T20|    England|    Pakistan|          T20 WC|\n|  2023| ODI|  Australia|       India|          ODI WC|\n|  2024| T20|      India|South Africa|          T20 WC|\n+------+----+-----------+------------+----------------+\n\n"
     ]
    }
   ],
   "source": [
    "wc_winners_df.show(10)"
   ]
  },
  {
   "cell_type": "code",
   "execution_count": 0,
   "metadata": {
    "application/vnd.databricks.v1+cell": {
     "cellMetadata": {
      "byteLimit": 2048000,
      "rowLimit": 10000
     },
     "inputWidgets": {},
     "nuid": "006e20aa-156b-4655-a0dd-6dc52e536730",
     "showTitle": false,
     "tableResultSettingsMap": {},
     "title": ""
    }
   },
   "outputs": [],
   "source": [
    "large_victories_df2 = spark.read.format(\"csv\").option(\"headers\", \"true\").load(\"dbfs:/FileStore/tables/largest_victories_by_runs-1.csv\")"
   ]
  },
  {
   "cell_type": "code",
   "execution_count": 0,
   "metadata": {
    "application/vnd.databricks.v1+cell": {
     "cellMetadata": {
      "byteLimit": 2048000,
      "rowLimit": 10000
     },
     "inputWidgets": {},
     "nuid": "ce4e3bfa-4ede-453d-97d2-7282d5fcac29",
     "showTitle": false,
     "tableResultSettingsMap": {},
     "title": ""
    }
   },
   "outputs": [
    {
     "output_type": "stream",
     "name": "stdout",
     "output_type": "stream",
     "text": [
      "+-----------+-------+---------+------+-----+---+------------+------------+----------+----------+\n|        _c0|    _c1|      _c2|   _c3|  _c4|_c5|         _c6|         _c7|       _c8|       _c9|\n+-----------+-------+---------+------+-----+---+------------+------------+----------+----------+\n|     Winner| Margin|Balls Rem|Target|Overs|Max|  Opposition|      Ground|Match Date| Scorecard|\n|New Zealand|75 runs|        0|   146| 15.4| 20|v Bangladesh|Eden Gardens| 26-Mar-16|T20I # 550|\n|Afghanistan|59 runs|        0|   187| 19.4| 20|  v Zimbabwe|      Nagpur| 12-Mar-16|T20I # 531|\n|   Pakistan|55 runs|        0|   202|   20| 20|v Bangladesh|Eden Gardens| 16-Mar-16|T20I # 536|\n| Bangladesh|54 runs|        0|   120|   12| 12|      v Oman|  Dharamsala| 13-Mar-16|T20I # 534|\n+-----------+-------+---------+------+-----+---+------------+------------+----------+----------+\nonly showing top 5 rows\n\n"
     ]
    }
   ],
   "source": [
    "large_victories_df2.show(5)"
   ]
  },
  {
   "cell_type": "code",
   "execution_count": 0,
   "metadata": {
    "application/vnd.databricks.v1+cell": {
     "cellMetadata": {
      "byteLimit": 2048000,
      "rowLimit": 10000
     },
     "inputWidgets": {},
     "nuid": "6355333f-8817-4fe7-9c14-9057d5de7726",
     "showTitle": false,
     "tableResultSettingsMap": {},
     "title": ""
    }
   },
   "outputs": [
    {
     "output_type": "stream",
     "name": "stdout",
     "output_type": "stream",
     "text": [
      "+-----------+-------+---------+------+-----+---+------------+------------+----------+----------+\n|        _c0|    _c1|      _c2|   _c3|  _c4|_c5|         _c6|         _c7|       _c8|       _c9|\n+-----------+-------+---------+------+-----+---+------------+------------+----------+----------+\n|     Winner| Margin|Balls Rem|Target|Overs|Max|  Opposition|      Ground|Match Date| Scorecard|\n|New Zealand|75 runs|        0|   146| 15.4| 20|v Bangladesh|Eden Gardens| 26-Mar-16|T20I # 550|\n|Afghanistan|59 runs|        0|   187| 19.4| 20|  v Zimbabwe|      Nagpur| 12-Mar-16|T20I # 531|\n|   Pakistan|55 runs|        0|   202|   20| 20|v Bangladesh|Eden Gardens| 16-Mar-16|T20I # 536|\n| Bangladesh|54 runs|        0|   120|   12| 12|      v Oman|  Dharamsala| 13-Mar-16|T20I # 534|\n+-----------+-------+---------+------+-----+---+------------+------------+----------+----------+\nonly showing top 5 rows\n\n"
     ]
    }
   ],
   "source": [
    "large_victories_df2.show(5)"
   ]
  },
  {
   "cell_type": "code",
   "execution_count": 0,
   "metadata": {
    "application/vnd.databricks.v1+cell": {
     "cellMetadata": {
      "byteLimit": 2048000,
      "rowLimit": 10000
     },
     "inputWidgets": {},
     "nuid": "962272d5-1a29-434a-9c49-086103601211",
     "showTitle": false,
     "tableResultSettingsMap": {},
     "title": ""
    }
   },
   "outputs": [
    {
     "output_type": "stream",
     "name": "stdout",
     "output_type": "stream",
     "text": [
      "+-----------+-------+---------+------+-----+---+------------+------------+----------+----------+\n|        _c0|    _c1|      _c2|   _c3|  _c4|_c5|         _c6|         _c7|       _c8|       _c9|\n+-----------+-------+---------+------+-----+---+------------+------------+----------+----------+\n|     Winner| Margin|Balls Rem|Target|Overs|Max|  Opposition|      Ground|Match Date| Scorecard|\n|New Zealand|75 runs|        0|   146| 15.4| 20|v Bangladesh|Eden Gardens| 26-Mar-16|T20I # 550|\n|Afghanistan|59 runs|        0|   187| 19.4| 20|  v Zimbabwe|      Nagpur| 12-Mar-16|T20I # 531|\n|   Pakistan|55 runs|        0|   202|   20| 20|v Bangladesh|Eden Gardens| 16-Mar-16|T20I # 536|\n| Bangladesh|54 runs|        0|   120|   12| 12|      v Oman|  Dharamsala| 13-Mar-16|T20I # 534|\n+-----------+-------+---------+------+-----+---+------------+------------+----------+----------+\nonly showing top 5 rows\n\n"
     ]
    }
   ],
   "source": [
    "large_victories_df2.show(5)"
   ]
  },
  {
   "cell_type": "code",
   "execution_count": 0,
   "metadata": {
    "application/vnd.databricks.v1+cell": {
     "cellMetadata": {
      "byteLimit": 2048000,
      "rowLimit": 10000
     },
     "inputWidgets": {},
     "nuid": "0a7a6ae4-7041-4926-9324-ea020e405488",
     "showTitle": false,
     "tableResultSettingsMap": {},
     "title": ""
    }
   },
   "outputs": [],
   "source": [
    "from pyspark.sql.functions import col\n",
    "columns = [f\"_c{i}\" for i in range(10)]"
   ]
  },
  {
   "cell_type": "code",
   "execution_count": 0,
   "metadata": {
    "application/vnd.databricks.v1+cell": {
     "cellMetadata": {
      "byteLimit": 2048000,
      "rowLimit": 10000
     },
     "inputWidgets": {},
     "nuid": "42409336-0fa5-4d3d-8034-9e128142c791",
     "showTitle": false,
     "tableResultSettingsMap": {},
     "title": ""
    }
   },
   "outputs": [
    {
     "output_type": "stream",
     "name": "stdout",
     "output_type": "stream",
     "text": [
      "Out[20]: ['_c0', '_c1', '_c2', '_c3', '_c4', '_c5', '_c6', '_c7', '_c8', '_c9']"
     ]
    }
   ],
   "source": [
    "columns"
   ]
  },
  {
   "cell_type": "code",
   "execution_count": 0,
   "metadata": {
    "application/vnd.databricks.v1+cell": {
     "cellMetadata": {
      "byteLimit": 2048000,
      "rowLimit": 10000
     },
     "inputWidgets": {},
     "nuid": "fcc2eb65-5278-469e-994b-a6343434f996",
     "showTitle": false,
     "tableResultSettingsMap": {},
     "title": ""
    }
   },
   "outputs": [],
   "source": [
    "new_large_victories_df = large_victories_df2.select('*')"
   ]
  },
  {
   "cell_type": "code",
   "execution_count": 0,
   "metadata": {
    "application/vnd.databricks.v1+cell": {
     "cellMetadata": {
      "byteLimit": 2048000,
      "rowLimit": 10000
     },
     "inputWidgets": {},
     "nuid": "70daa424-86b0-44cb-9ecb-5fa698606ec9",
     "showTitle": false,
     "tableResultSettingsMap": {},
     "title": ""
    }
   },
   "outputs": [
    {
     "output_type": "stream",
     "name": "stdout",
     "output_type": "stream",
     "text": [
      "+-----------+-------+---------+------+-----+---+------------+------------+----------+----------+\n|        _c0|    _c1|      _c2|   _c3|  _c4|_c5|         _c6|         _c7|       _c8|       _c9|\n+-----------+-------+---------+------+-----+---+------------+------------+----------+----------+\n|     Winner| Margin|Balls Rem|Target|Overs|Max|  Opposition|      Ground|Match Date| Scorecard|\n|New Zealand|75 runs|        0|   146| 15.4| 20|v Bangladesh|Eden Gardens| 26-Mar-16|T20I # 550|\n|Afghanistan|59 runs|        0|   187| 19.4| 20|  v Zimbabwe|      Nagpur| 12-Mar-16|T20I # 531|\n|   Pakistan|55 runs|        0|   202|   20| 20|v Bangladesh|Eden Gardens| 16-Mar-16|T20I # 536|\n| Bangladesh|54 runs|        0|   120|   12| 12|      v Oman|  Dharamsala| 13-Mar-16|T20I # 534|\n+-----------+-------+---------+------+-----+---+------------+------------+----------+----------+\nonly showing top 5 rows\n\n"
     ]
    }
   ],
   "source": [
    "new_large_victories_df.show(5)"
   ]
  },
  {
   "cell_type": "code",
   "execution_count": 0,
   "metadata": {
    "application/vnd.databricks.v1+cell": {
     "cellMetadata": {
      "byteLimit": 2048000,
      "rowLimit": 10000
     },
     "inputWidgets": {},
     "nuid": "4f7358ef-00e3-4c54-9ffe-471bed4259f3",
     "showTitle": false,
     "tableResultSettingsMap": {},
     "title": ""
    }
   },
   "outputs": [],
   "source": [
    "header = new_large_victories_df.first()"
   ]
  },
  {
   "cell_type": "code",
   "execution_count": 0,
   "metadata": {
    "application/vnd.databricks.v1+cell": {
     "cellMetadata": {
      "byteLimit": 2048000,
      "rowLimit": 10000
     },
     "inputWidgets": {},
     "nuid": "0516050c-0539-497e-beed-ca0a59f2fbaf",
     "showTitle": false,
     "tableResultSettingsMap": {},
     "title": ""
    }
   },
   "outputs": [
    {
     "output_type": "stream",
     "name": "stdout",
     "output_type": "stream",
     "text": [
      "Out[24]: Row(_c0='Winner', _c1='Margin', _c2='Balls Rem', _c3='Target', _c4='Overs', _c5='Max', _c6='Opposition', _c7='Ground', _c8='Match Date', _c9='Scorecard')"
     ]
    }
   ],
   "source": [
    "header"
   ]
  },
  {
   "cell_type": "code",
   "execution_count": 0,
   "metadata": {
    "application/vnd.databricks.v1+cell": {
     "cellMetadata": {
      "byteLimit": 2048000,
      "rowLimit": 10000
     },
     "inputWidgets": {},
     "nuid": "9f42b98d-d454-47d0-8ef1-c1679046e60a",
     "showTitle": false,
     "tableResultSettingsMap": {},
     "title": ""
    }
   },
   "outputs": [],
   "source": [
    "new_win_mar_df = new_large_victories_df.filter(~(col(\"_c0\") == header[\"_c0\"] ))"
   ]
  },
  {
   "cell_type": "code",
   "execution_count": 0,
   "metadata": {
    "application/vnd.databricks.v1+cell": {
     "cellMetadata": {
      "byteLimit": 2048000,
      "rowLimit": 10000
     },
     "inputWidgets": {},
     "nuid": "a663671a-9807-4afb-84ce-2b58efafa753",
     "showTitle": false,
     "tableResultSettingsMap": {},
     "title": ""
    }
   },
   "outputs": [
    {
     "output_type": "stream",
     "name": "stdout",
     "output_type": "stream",
     "text": [
      "+-----------+-------+---+---+----+---+------------+------------+---------+----------+\n|        _c0|    _c1|_c2|_c3| _c4|_c5|         _c6|         _c7|      _c8|       _c9|\n+-----------+-------+---+---+----+---+------------+------------+---------+----------+\n|New Zealand|75 runs|  0|146|15.4| 20|v Bangladesh|Eden Gardens|26-Mar-16|T20I # 550|\n|Afghanistan|59 runs|  0|187|19.4| 20|  v Zimbabwe|      Nagpur|12-Mar-16|T20I # 531|\n|   Pakistan|55 runs|  0|202|  20| 20|v Bangladesh|Eden Gardens|16-Mar-16|T20I # 536|\n| Bangladesh|54 runs|  0|120|  12| 12|      v Oman|  Dharamsala|13-Mar-16|T20I # 534|\n|New Zealand|47 runs|  0|127|18.1| 20|     v India|      Nagpur|15-Mar-16|T20I # 535|\n+-----------+-------+---+---+----+---+------------+------------+---------+----------+\nonly showing top 5 rows\n\n"
     ]
    }
   ],
   "source": [
    "new_win_mar_df.show(5)"
   ]
  },
  {
   "cell_type": "code",
   "execution_count": 0,
   "metadata": {
    "application/vnd.databricks.v1+cell": {
     "cellMetadata": {
      "byteLimit": 2048000,
      "rowLimit": 10000
     },
     "inputWidgets": {},
     "nuid": "ac314dc1-ffd1-4a55-abfb-c396ef78acb7",
     "showTitle": false,
     "tableResultSettingsMap": {},
     "title": ""
    }
   },
   "outputs": [
    {
     "output_type": "stream",
     "name": "stdout",
     "output_type": "stream",
     "text": [
      "Out[27]: 'Winner'"
     ]
    }
   ],
   "source": [
    "header[\"_c0\"]"
   ]
  },
  {
   "cell_type": "code",
   "execution_count": 0,
   "metadata": {
    "application/vnd.databricks.v1+cell": {
     "cellMetadata": {
      "byteLimit": 2048000,
      "rowLimit": 10000
     },
     "inputWidgets": {},
     "nuid": "9c959353-9a33-4a55-a62a-06510dd2ad9c",
     "showTitle": false,
     "tableResultSettingsMap": {},
     "title": ""
    }
   },
   "outputs": [],
   "source": [
    "new_cols = [header[f\"_c{i}\"] for i in range(len(header))]"
   ]
  },
  {
   "cell_type": "code",
   "execution_count": 0,
   "metadata": {
    "application/vnd.databricks.v1+cell": {
     "cellMetadata": {
      "byteLimit": 2048000,
      "rowLimit": 10000
     },
     "inputWidgets": {},
     "nuid": "9aa2e516-e6d9-4462-85f9-d34293946f45",
     "showTitle": false,
     "tableResultSettingsMap": {},
     "title": ""
    }
   },
   "outputs": [
    {
     "output_type": "stream",
     "name": "stdout",
     "output_type": "stream",
     "text": [
      "Out[29]: ['Winner',\n 'Margin',\n 'Balls Rem',\n 'Target',\n 'Overs',\n 'Max',\n 'Opposition',\n 'Ground',\n 'Match Date',\n 'Scorecard']"
     ]
    }
   ],
   "source": [
    "new_cols"
   ]
  },
  {
   "cell_type": "code",
   "execution_count": 0,
   "metadata": {
    "application/vnd.databricks.v1+cell": {
     "cellMetadata": {
      "byteLimit": 2048000,
      "rowLimit": 10000
     },
     "inputWidgets": {},
     "nuid": "027933b8-6582-430f-b89e-238de3c84630",
     "showTitle": false,
     "tableResultSettingsMap": {},
     "title": ""
    }
   },
   "outputs": [],
   "source": [
    "new_win_mar_df_final = new_win_mar_df.toDF(*new_cols)"
   ]
  },
  {
   "cell_type": "code",
   "execution_count": 0,
   "metadata": {
    "application/vnd.databricks.v1+cell": {
     "cellMetadata": {
      "byteLimit": 2048000,
      "rowLimit": 10000
     },
     "inputWidgets": {},
     "nuid": "23d62a6c-d013-42e2-ad66-79284e99277e",
     "showTitle": false,
     "tableResultSettingsMap": {},
     "title": ""
    }
   },
   "outputs": [
    {
     "output_type": "stream",
     "name": "stdout",
     "output_type": "stream",
     "text": [
      "+-----------+-------+---------+------+-----+---+------------+------------+----------+----------+\n|     Winner| Margin|Balls Rem|Target|Overs|Max|  Opposition|      Ground|Match Date| Scorecard|\n+-----------+-------+---------+------+-----+---+------------+------------+----------+----------+\n|New Zealand|75 runs|        0|   146| 15.4| 20|v Bangladesh|Eden Gardens| 26-Mar-16|T20I # 550|\n|Afghanistan|59 runs|        0|   187| 19.4| 20|  v Zimbabwe|      Nagpur| 12-Mar-16|T20I # 531|\n|   Pakistan|55 runs|        0|   202|   20| 20|v Bangladesh|Eden Gardens| 16-Mar-16|T20I # 536|\n| Bangladesh|54 runs|        0|   120|   12| 12|      v Oman|  Dharamsala| 13-Mar-16|T20I # 534|\n|New Zealand|47 runs|        0|   127| 18.1| 20|     v India|      Nagpur| 15-Mar-16|T20I # 535|\n+-----------+-------+---------+------+-----+---+------------+------------+----------+----------+\nonly showing top 5 rows\n\n"
     ]
    }
   ],
   "source": [
    "new_win_mar_df_final.show(5)"
   ]
  },
  {
   "cell_type": "code",
   "execution_count": 0,
   "metadata": {
    "application/vnd.databricks.v1+cell": {
     "cellMetadata": {
      "byteLimit": 2048000,
      "rowLimit": 10000
     },
     "inputWidgets": {},
     "nuid": "c5c0a079-013a-4d55-8511-4a35aa2ca503",
     "showTitle": false,
     "tableResultSettingsMap": {},
     "title": ""
    }
   },
   "outputs": [],
   "source": [
    "most_wickets_1_1 = most_wickets_1.select('*')"
   ]
  },
  {
   "cell_type": "code",
   "execution_count": 0,
   "metadata": {
    "application/vnd.databricks.v1+cell": {
     "cellMetadata": {
      "byteLimit": 2048000,
      "rowLimit": 10000
     },
     "inputWidgets": {},
     "nuid": "237d6744-2f6b-4ffe-8802-539fca0c7f88",
     "showTitle": false,
     "tableResultSettingsMap": {},
     "title": ""
    }
   },
   "outputs": [],
   "source": [
    "header_1 = most_wickets_1_1.first()"
   ]
  },
  {
   "cell_type": "code",
   "execution_count": 0,
   "metadata": {
    "application/vnd.databricks.v1+cell": {
     "cellMetadata": {
      "byteLimit": 2048000,
      "rowLimit": 10000
     },
     "inputWidgets": {},
     "nuid": "5779ee63-dcca-4ace-9e8b-4fb5fec44604",
     "showTitle": false,
     "tableResultSettingsMap": {},
     "title": ""
    }
   },
   "outputs": [
    {
     "output_type": "stream",
     "name": "stdout",
     "output_type": "stream",
     "text": [
      "Out[34]: Row(_c0='Player', _c1='Span', _c2='Mat', _c3='Inns', _c4='Balls', _c5='Overs', _c6='Mdns', _c7='Runs', _c8='Wkts', _c9='BBI', _c10='Ave', _c11='Econ', _c12='SR', _c13='4', _c14='5')"
     ]
    }
   ],
   "source": [
    "header_1"
   ]
  },
  {
   "cell_type": "code",
   "execution_count": 0,
   "metadata": {
    "application/vnd.databricks.v1+cell": {
     "cellMetadata": {
      "byteLimit": 2048000,
      "rowLimit": 10000
     },
     "inputWidgets": {},
     "nuid": "a12c6d05-9cf5-409c-af63-6b8b2ff3a21e",
     "showTitle": false,
     "tableResultSettingsMap": {},
     "title": ""
    }
   },
   "outputs": [],
   "source": [
    "most_wickets_new_df = most_wickets_1_1.filter(~(col(\"_c0\") == header_1[\"_c0\"]))"
   ]
  },
  {
   "cell_type": "code",
   "execution_count": 0,
   "metadata": {
    "application/vnd.databricks.v1+cell": {
     "cellMetadata": {
      "byteLimit": 2048000,
      "rowLimit": 10000
     },
     "inputWidgets": {},
     "nuid": "9d5441bf-2f3a-4d1e-847e-9d15207d93df",
     "showTitle": false,
     "tableResultSettingsMap": {},
     "title": ""
    }
   },
   "outputs": [
    {
     "output_type": "stream",
     "name": "stdout",
     "output_type": "stream",
     "text": [
      "+-------------------+---------+---+---+---+----+---+---+---+------+-----+----+-----+----+----+\n|                _c0|      _c1|_c2|_c3|_c4| _c5|_c6|_c7|_c8|   _c9| _c10|_c11| _c12|_c13|_c14|\n+-------------------+---------+---+---+---+----+---+---+---+------+-----+----+-----+----+----+\n|Mohammad Nabi (AFG)|2016-2016|  7|  7|162|  27|  1|164| 12|Apr-20|13.66|6.07| 13.5|   1|   -|\n|  Rashid Khan (AFG)|2016-2016|  7|  7|168|  28|  -|183| 11|03-Nov|16.63|6.53|15.27|   -|   -|\n|    MJ Santner (NZ)|2016-2016|  5|  5|109|18.1|  -|114| 10|04-Nov| 11.4|6.27| 10.9|   1|   -|\n|      IS Sodhi (NZ)|2016-2016|  5|  5|118|19.4|  -|120| 10|Mar-18|   12| 6.1| 11.8|   -|   -|\n|    DJ Willey (ENG)|2016-2016|  6|  6|126|  21|  -|159| 10|Mar-20| 15.9|7.57| 12.6|   -|   -|\n+-------------------+---------+---+---+---+----+---+---+---+------+-----+----+-----+----+----+\nonly showing top 5 rows\n\n"
     ]
    }
   ],
   "source": [
    "most_wickets_new_df.show(5)"
   ]
  },
  {
   "cell_type": "code",
   "execution_count": 0,
   "metadata": {
    "application/vnd.databricks.v1+cell": {
     "cellMetadata": {
      "byteLimit": 2048000,
      "rowLimit": 10000
     },
     "inputWidgets": {},
     "nuid": "2a39df8c-e17e-4e48-88b3-a2f994ce91a7",
     "showTitle": false,
     "tableResultSettingsMap": {},
     "title": ""
    }
   },
   "outputs": [],
   "source": [
    "new_columns_1 = [header_1[f\"_c{i}\"] for i in range(len(header_1))]"
   ]
  },
  {
   "cell_type": "code",
   "execution_count": 0,
   "metadata": {
    "application/vnd.databricks.v1+cell": {
     "cellMetadata": {
      "byteLimit": 2048000,
      "rowLimit": 10000
     },
     "inputWidgets": {},
     "nuid": "868c4f77-c9e1-44dd-aab6-b49686b6811d",
     "showTitle": false,
     "tableResultSettingsMap": {},
     "title": ""
    }
   },
   "outputs": [],
   "source": [
    "most_wickets_final_df = most_wickets_new_df.toDF(*new_columns_1)"
   ]
  },
  {
   "cell_type": "code",
   "execution_count": 0,
   "metadata": {
    "application/vnd.databricks.v1+cell": {
     "cellMetadata": {
      "byteLimit": 2048000,
      "rowLimit": 10000
     },
     "inputWidgets": {},
     "nuid": "dfde6938-50c2-44ab-ba04-a295a5fd79f7",
     "showTitle": false,
     "tableResultSettingsMap": {},
     "title": ""
    }
   },
   "outputs": [
    {
     "output_type": "stream",
     "name": "stdout",
     "output_type": "stream",
     "text": [
      "+-------------------+---------+---+----+-----+-----+----+----+----+------+-----+----+-----+---+---+\n|             Player|     Span|Mat|Inns|Balls|Overs|Mdns|Runs|Wkts|   BBI|  Ave|Econ|   SR|  4|  5|\n+-------------------+---------+---+----+-----+-----+----+----+----+------+-----+----+-----+---+---+\n|Mohammad Nabi (AFG)|2016-2016|  7|   7|  162|   27|   1| 164|  12|Apr-20|13.66|6.07| 13.5|  1|  -|\n|  Rashid Khan (AFG)|2016-2016|  7|   7|  168|   28|   -| 183|  11|03-Nov|16.63|6.53|15.27|  -|  -|\n|    MJ Santner (NZ)|2016-2016|  5|   5|  109| 18.1|   -| 114|  10|04-Nov| 11.4|6.27| 10.9|  1|  -|\n|      IS Sodhi (NZ)|2016-2016|  5|   5|  118| 19.4|   -| 120|  10|Mar-18|   12| 6.1| 11.8|  -|  -|\n|    DJ Willey (ENG)|2016-2016|  6|   6|  126|   21|   -| 159|  10|Mar-20| 15.9|7.57| 12.6|  -|  -|\n+-------------------+---------+---+----+-----+-----+----+----+----+------+-----+----+-----+---+---+\nonly showing top 5 rows\n\n"
     ]
    }
   ],
   "source": [
    "most_wickets_final_df.show(5)"
   ]
  },
  {
   "cell_type": "code",
   "execution_count": 0,
   "metadata": {
    "application/vnd.databricks.v1+cell": {
     "cellMetadata": {
      "byteLimit": 2048000,
      "rowLimit": 10000
     },
     "inputWidgets": {},
     "nuid": "a901b0bf-899c-4908-8fe6-d274d7839637",
     "showTitle": false,
     "tableResultSettingsMap": {},
     "title": ""
    }
   },
   "outputs": [],
   "source": [
    "from pyspark.sql.functions import when"
   ]
  },
  {
   "cell_type": "code",
   "execution_count": 0,
   "metadata": {
    "application/vnd.databricks.v1+cell": {
     "cellMetadata": {
      "byteLimit": 2048000,
      "rowLimit": 10000
     },
     "inputWidgets": {},
     "nuid": "88d8ef4a-c3ed-4022-a693-ae12fb837788",
     "showTitle": false,
     "tableResultSettingsMap": {},
     "title": ""
    }
   },
   "outputs": [],
   "source": [
    "columns_most_wickets = most_wickets_final_df.columns"
   ]
  },
  {
   "cell_type": "code",
   "execution_count": 0,
   "metadata": {
    "application/vnd.databricks.v1+cell": {
     "cellMetadata": {
      "byteLimit": 2048000,
      "rowLimit": 10000
     },
     "inputWidgets": {},
     "nuid": "7441e7af-abe2-49ea-9ede-01816ea4aa79",
     "showTitle": false,
     "tableResultSettingsMap": {},
     "title": ""
    }
   },
   "outputs": [
    {
     "output_type": "stream",
     "name": "stdout",
     "output_type": "stream",
     "text": [
      "Out[42]: ['Player',\n 'Span',\n 'Mat',\n 'Inns',\n 'Balls',\n 'Overs',\n 'Mdns',\n 'Runs',\n 'Wkts',\n 'BBI',\n 'Ave',\n 'Econ',\n 'SR',\n '4',\n '5']"
     ]
    }
   ],
   "source": [
    "columns_most_wickets"
   ]
  },
  {
   "cell_type": "code",
   "execution_count": 0,
   "metadata": {
    "application/vnd.databricks.v1+cell": {
     "cellMetadata": {
      "byteLimit": 2048000,
      "rowLimit": 10000
     },
     "inputWidgets": {},
     "nuid": "dc60e4b8-993c-4727-93b9-cb6838ef18d7",
     "showTitle": false,
     "tableResultSettingsMap": {},
     "title": ""
    }
   },
   "outputs": [
    {
     "output_type": "stream",
     "name": "stdout",
     "output_type": "stream",
     "text": [
      "+-------------------+---------+---+----+-----+-----+----+----+----+------+-----+----+-----+---+---+\n|             Player|     Span|Mat|Inns|Balls|Overs|Mdns|Runs|Wkts|   BBI|  Ave|Econ|   SR|  4|  5|\n+-------------------+---------+---+----+-----+-----+----+----+----+------+-----+----+-----+---+---+\n|Mohammad Nabi (AFG)|2016-2016|  7|   7|  162|   27|   1| 164|  12|Apr-20|13.66|6.07| 13.5|  1|  0|\n|  Rashid Khan (AFG)|2016-2016|  7|   7|  168|   28|   0| 183|  11|03-Nov|16.63|6.53|15.27|  0|  0|\n|    MJ Santner (NZ)|2016-2016|  5|   5|  109| 18.1|   0| 114|  10|04-Nov| 11.4|6.27| 10.9|  1|  0|\n|      IS Sodhi (NZ)|2016-2016|  5|   5|  118| 19.4|   0| 120|  10|Mar-18|   12| 6.1| 11.8|  0|  0|\n|    DJ Willey (ENG)|2016-2016|  6|   6|  126|   21|   0| 159|  10|Mar-20| 15.9|7.57| 12.6|  0|  0|\n+-------------------+---------+---+----+-----+-----+----+----+----+------+-----+----+-----+---+---+\nonly showing top 5 rows\n\n"
     ]
    }
   ],
   "source": [
    "columns_needed = [\"Mdns\", \"4\", \"5\"]\n",
    "for cols in columns_needed:\n",
    "    most_wickets_final_df = most_wickets_final_df.withColumn(cols, when(col(cols) == \"-\", \"0\").otherwise(col(cols)))\n",
    "\n",
    "most_wickets_final_df.show(5)\n"
   ]
  },
  {
   "cell_type": "code",
   "execution_count": 0,
   "metadata": {
    "application/vnd.databricks.v1+cell": {
     "cellMetadata": {
      "byteLimit": 2048000,
      "rowLimit": 10000
     },
     "inputWidgets": {},
     "nuid": "50f666da-6984-4c47-9e42-5fb0329e22bb",
     "showTitle": false,
     "tableResultSettingsMap": {},
     "title": ""
    }
   },
   "outputs": [],
   "source": [
    "#Starting Analysis\n",
    "from pyspark.sql.functions import split, length\n",
    "most_wickets_final_df123 =  most_wickets_final_df.withColumn(\"Country\", split(col(\"Player\"), r\"\\(\").getItem(1))\n",
    "\n",
    "most_wickets_final_df123 = most_wickets_final_df123.withColumn(\"Country\", col(\"Country\").substr(0,3))\n",
    "most_wickets_final_df123 = most_wickets_final_df123.withColumn(\"Player\", split(col(\"Player\"), r\"\\(\").getItem(0))\n",
    "most_wickets_final_df123 = most_wickets_final_df123.withColumn(\"CountryName\", \n",
    "                                                               when(col(\"Country\") == 'AFG', \"Afghanistan\")\n",
    "                                                               .when(col(\"Country\") == 'NZ)', \"New Zealand\")\n",
    "                                                               .when(col(\"Country\") == 'IND', \"India\")\n",
    "                                                               .when(col(\"Country\") == 'PAK', \"Pakistan\")\n",
    "                                                               .when(col(\"Country\") == 'AUS', \"Australia\")\n",
    "                                                               .when(col(\"Country\") == 'SL)', \"Sri Lanka\")\n",
    "                                                               .when(col(\"Country\") == 'ENG', \"England\")\n",
    "                                                               .when(col(\"Country\") == 'WI)', \"West Indies\")\n",
    "                                                               .when(col(\"Country\") == 'BAN', \"Bangladesh\")\n",
    "                                                               .when(col(\"Country\") == 'SA)', \"South Africa\")\n",
    "                                                               .when(col(\"Country\") == 'NED', \"Netherlands\")\n",
    "                                                               .when(col(\"Country\") == 'ZIM', \"Zimbabwe\")\n",
    "                                                               .otherwise(\"Unknown\")\n",
    "\n",
    ")\n",
    "\n"
   ]
  },
  {
   "cell_type": "code",
   "execution_count": 0,
   "metadata": {
    "application/vnd.databricks.v1+cell": {
     "cellMetadata": {
      "byteLimit": 2048000,
      "rowLimit": 10000
     },
     "inputWidgets": {},
     "nuid": "7959f63a-5394-4373-ab3e-b9aed70cf617",
     "showTitle": false,
     "tableResultSettingsMap": {},
     "title": ""
    }
   },
   "outputs": [
    {
     "output_type": "stream",
     "name": "stdout",
     "output_type": "stream",
     "text": [
      "+--------------+---------+---+----+-----+-----+----+----+----+------+-----+----+-----+---+---+-------+-----------+\n|        Player|     Span|Mat|Inns|Balls|Overs|Mdns|Runs|Wkts|   BBI|  Ave|Econ|   SR|  4|  5|Country|CountryName|\n+--------------+---------+---+----+-----+-----+----+----+----+------+-----+----+-----+---+---+-------+-----------+\n|Mohammad Nabi |2016-2016|  7|   7|  162|   27|   1| 164|  12|Apr-20|13.66|6.07| 13.5|  1|  0|    AFG|Afghanistan|\n|  Rashid Khan |2016-2016|  7|   7|  168|   28|   0| 183|  11|03-Nov|16.63|6.53|15.27|  0|  0|    AFG|Afghanistan|\n|   MJ Santner |2016-2016|  5|   5|  109| 18.1|   0| 114|  10|04-Nov| 11.4|6.27| 10.9|  1|  0|    NZ)|New Zealand|\n|     IS Sodhi |2016-2016|  5|   5|  118| 19.4|   0| 120|  10|Mar-18|   12| 6.1| 11.8|  0|  0|    NZ)|New Zealand|\n|    DJ Willey |2016-2016|  6|   6|  126|   21|   0| 159|  10|Mar-20| 15.9|7.57| 12.6|  0|  0|    ENG|    England|\n+--------------+---------+---+----+-----+-----+----+----+----+------+-----+----+-----+---+---+-------+-----------+\nonly showing top 5 rows\n\n"
     ]
    }
   ],
   "source": [
    "most_wickets_final_df123.show(5)"
   ]
  },
  {
   "cell_type": "code",
   "execution_count": 0,
   "metadata": {
    "application/vnd.databricks.v1+cell": {
     "cellMetadata": {
      "byteLimit": 2048000,
      "rowLimit": 10000
     },
     "inputWidgets": {},
     "nuid": "a7ca39a0-de9e-4d11-8fc6-3d46952455a3",
     "showTitle": false,
     "tableResultSettingsMap": {},
     "title": ""
    }
   },
   "outputs": [],
   "source": [
    "from pyspark.sql.functions import row_number, sum, avg, desc\n",
    "wickets_by_each_country = most_wickets_final_df123.groupBy(\"Country\").agg(\n",
    "                            sum(\"Wkts\").alias(\"Total Wickets\"),\n",
    "                            avg(\"Wkts\").alias(\"Avg Wickets\")\n",
    "                            ).orderBy(desc(\"Avg Wickets\"))"
   ]
  },
  {
   "cell_type": "code",
   "execution_count": 0,
   "metadata": {
    "application/vnd.databricks.v1+cell": {
     "cellMetadata": {
      "byteLimit": 2048000,
      "rowLimit": 10000
     },
     "inputWidgets": {},
     "nuid": "ed75ef1c-9ac7-4177-8c5a-bb2596c1e745",
     "showTitle": false,
     "tableResultSettingsMap": {},
     "title": ""
    }
   },
   "outputs": [
    {
     "output_type": "stream",
     "name": "stdout",
     "output_type": "stream",
     "text": [
      "+-------+-------------+-----------------+\n|Country|Total Wickets|      Avg Wickets|\n+-------+-------------+-----------------+\n|    IND|        351.0|           7.3125|\n|    SA)|        323.0|7.021739130434782|\n|    ENG|        345.0|              6.9|\n|    NZ)|        314.0|6.826086956521739|\n|    AUS|        314.0|             6.28|\n|    PAK|        286.0|6.085106382978723|\n|    AFG|        233.0|            5.825|\n|    BAN|        279.0|5.365384615384615|\n|    WI)|        170.0|           5.3125|\n|    NED|        158.0|5.266666666666667|\n|    ZIM|         65.0|              5.0|\n|    SL)|        235.0|4.795918367346939|\n+-------+-------------+-----------------+\nonly showing top 12 rows\n\n"
     ]
    }
   ],
   "source": [
    "wickets_by_each_country.show(12)"
   ]
  },
  {
   "cell_type": "code",
   "execution_count": 0,
   "metadata": {
    "application/vnd.databricks.v1+cell": {
     "cellMetadata": {
      "byteLimit": 2048000,
      "rowLimit": 10000
     },
     "inputWidgets": {},
     "nuid": "06074332-0699-4ed8-bec3-a65d859b5467",
     "showTitle": false,
     "tableResultSettingsMap": {},
     "title": ""
    }
   },
   "outputs": [
    {
     "output_type": "display_data",
     "data": {
      "application/vnd.databricks.v1+bamboolib_hint": "{\"pd.DataFrames\": [], \"version\": \"0.0.1\"}",
      "text/plain": []
     },
     "metadata": {},
     "output_type": "display_data"
    },
    {
     "output_type": "display_data",
     "data": {
      "image/png": "[encoded data removed]"
     },
     "metadata": {
      "application/vnd.databricks.v1+output": {
       "addedWidgets": {},
       "arguments": {},
       "data": "data:image/png;base64,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\n",
       "datasetInfos": [],
       "metadata": {},
       "removedWidgets": [],
       "type": "image"
      }
     },
     "output_type": "display_data"
    },
    {
     "output_type": "display_data",
     "data": {
      "image/png": "[encoded data removed]"
     },
     "metadata": {
      "application/vnd.databricks.v1+output": {
       "addedWidgets": {},
       "arguments": {},
       "data": "data:image/png;base64,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\n",
       "datasetInfos": [],
       "metadata": {},
       "removedWidgets": [],
       "type": "image"
      }
     },
     "output_type": "display_data"
    }
   ],
   "source": [
    "import pandas as py\n",
    "import seaborn as sn\n",
    "import matplotlib.pyplot as plt\n",
    "\n",
    "sn.set(style=\"whitegrid\")\n",
    "\n",
    "plt.figure(figsize=(10,6))\n",
    "\n",
    "wickets_by_each_country_pandas = wickets_by_each_country.toPandas()\n",
    "bar_plot = sn.barplot(x=\"Country\", y = \"Avg Wickets\", data = wickets_by_each_country_pandas, palette=\"viridis\")\n",
    "bar_plot.set_title(\"Avg Wickets by each country in the ICC torunaments for the past decade\")\n",
    "bar_plot.set_xlabel(\"Avg Wickets\", fontsize=\"18\")\n",
    "bar_plot.set_ylabel(\"Country\", fontsize=\"18\")\n",
    "plt.xticks(rotation=45)\n",
    "plt.show()\n",
    "\n",
    "wickets_by_each_country_pandas = wickets_by_each_country.toPandas()\n",
    "bar_plot = sn.barplot(x=\"Country\", y = \"Total Wickets\", data = wickets_by_each_country_pandas, palette=\"viridis\")\n",
    "bar_plot.set_title(\"Total Wickets by each country in the ICC torunaments for the past decade\")\n",
    "bar_plot.set_xlabel(\"Total Wickets\", fontsize=\"18\")\n",
    "bar_plot.set_ylabel(\"Country\", fontsize=\"18\")\n",
    "plt.xticks(rotation=45)\n",
    "plt.show()\n",
    "\n",
    "\n",
    "\n"
   ]
  },
  {
   "cell_type": "code",
   "execution_count": 0,
   "metadata": {
    "application/vnd.databricks.v1+cell": {
     "cellMetadata": {
      "byteLimit": 2048000,
      "rowLimit": 10000
     },
     "inputWidgets": {},
     "nuid": "0ea90239-7999-432d-8b62-22d227ae20da",
     "showTitle": false,
     "tableResultSettingsMap": {},
     "title": ""
    }
   },
   "outputs": [],
   "source": [
    "## From this graph, we can infer why SL is performing poorly since the 2016 ICC Tournament as their wickets tally is really low whereas India ranks higher in the wickets tally and also performed consistently in the ICC tournaments in the past decade. So wickets tally plays a significant part in the successful campaign of the team."
   ]
  },
  {
   "cell_type": "code",
   "execution_count": 0,
   "metadata": {
    "application/vnd.databricks.v1+cell": {
     "cellMetadata": {
      "byteLimit": 2048000,
      "rowLimit": 10000
     },
     "inputWidgets": {},
     "nuid": "989f99bb-bdca-4078-b3df-cc410065d307",
     "showTitle": false,
     "tableResultSettingsMap": {},
     "title": ""
    }
   },
   "outputs": [],
   "source": [
    "## Now we are going to analyze how wickets taken impacts the rate of winning the trophy"
   ]
  },
  {
   "cell_type": "code",
   "execution_count": 0,
   "metadata": {
    "application/vnd.databricks.v1+cell": {
     "cellMetadata": {
      "byteLimit": 2048000,
      "rowLimit": 10000
     },
     "inputWidgets": {},
     "nuid": "e1c46c98-4223-4fb1-b85f-2ca32f918c64",
     "showTitle": false,
     "tableResultSettingsMap": {},
     "title": ""
    }
   },
   "outputs": [
    {
     "output_type": "stream",
     "name": "stdout",
     "output_type": "stream",
     "text": [
      "Out[51]: DataFrame[Series: string, Type: string, Winner: string, Runner: string, Tournament: string]"
     ]
    }
   ],
   "source": [
    "wc_winners_df"
   ]
  },
  {
   "cell_type": "code",
   "execution_count": 0,
   "metadata": {
    "application/vnd.databricks.v1+cell": {
     "cellMetadata": {
      "byteLimit": 2048000,
      "rowLimit": 10000
     },
     "inputWidgets": {},
     "nuid": "f9821cf8-3fdc-4569-9a48-ca032cde0d70",
     "showTitle": false,
     "tableResultSettingsMap": {},
     "title": ""
    }
   },
   "outputs": [
    {
     "output_type": "stream",
     "name": "stdout",
     "output_type": "stream",
     "text": [
      "+------+----+-----------+------------+----------------+\n|Series|Type|     Winner|      Runner|      Tournament|\n+------+----+-----------+------------+----------------+\n|  2016| T20|West Indies|     England|          T20 WC|\n|  2017| ODI|   Pakistan|       India|Champions Trophy|\n|  2019| ODI|    England| New Zealand|          ODI WC|\n|  2021| T20|  Australia| New Zealand|          T20 WC|\n|  2022| T20|    England|    Pakistan|          T20 WC|\n|  2023| ODI|  Australia|       India|          ODI WC|\n|  2024| T20|      India|South Africa|          T20 WC|\n+------+----+-----------+------------+----------------+\n\n"
     ]
    }
   ],
   "source": [
    "wc_winners_df.show(10)"
   ]
  },
  {
   "cell_type": "code",
   "execution_count": 0,
   "metadata": {
    "application/vnd.databricks.v1+cell": {
     "cellMetadata": {
      "byteLimit": 2048000,
      "rowLimit": 10000
     },
     "inputWidgets": {},
     "nuid": "fb18c8dc-7637-465a-b206-3beb694d040d",
     "showTitle": false,
     "tableResultSettingsMap": {},
     "title": ""
    }
   },
   "outputs": [],
   "source": [
    "#Total wickets taken by winning team\n",
    "\n",
    "total_wickets_impact = most_wickets_final_df123.join(wc_winners_df, wc_winners_df[\"Winner\"] == most_wickets_final_df123[\"CountryName\"]).groupBy(\"Winner\", \"Tournament\", \"Series\").agg(avg(\"Wkts\").alias(\"Avg Wickets by champions\"))"
   ]
  },
  {
   "cell_type": "code",
   "execution_count": 0,
   "metadata": {
    "application/vnd.databricks.v1+cell": {
     "cellMetadata": {
      "byteLimit": 2048000,
      "rowLimit": 10000
     },
     "inputWidgets": {},
     "nuid": "d4f762d2-e3a5-4b96-899d-604b0c526043",
     "showTitle": false,
     "tableResultSettingsMap": {},
     "title": ""
    }
   },
   "outputs": [
    {
     "output_type": "stream",
     "name": "stdout",
     "output_type": "stream",
     "text": [
      "+-----------+----------------+------+------------------------+\n|     Winner|      Tournament|Series|Avg Wickets by champions|\n+-----------+----------------+------+------------------------+\n|      India|          T20 WC|  2024|                  7.3125|\n|West Indies|          T20 WC|  2016|                  5.3125|\n|  Australia|          T20 WC|  2021|                    6.28|\n|    England|          ODI WC|  2019|                     6.9|\n|  Australia|          ODI WC|  2023|                    6.28|\n|    England|          T20 WC|  2022|                     6.9|\n|   Pakistan|Champions Trophy|  2017|       6.085106382978723|\n+-----------+----------------+------+------------------------+\n\n"
     ]
    }
   ],
   "source": [
    "total_wickets_impact.show(10)"
   ]
  },
  {
   "cell_type": "code",
   "execution_count": 0,
   "metadata": {
    "application/vnd.databricks.v1+cell": {
     "cellMetadata": {
      "byteLimit": 2048000,
      "rowLimit": 10000
     },
     "inputWidgets": {},
     "nuid": "560081a3-a0f7-4e44-8f4a-80ea90333d0b",
     "showTitle": false,
     "tableResultSettingsMap": {},
     "title": ""
    }
   },
   "outputs": [],
   "source": [
    "total_wickets_impact_non_winners = most_wickets_final_df123.join(wc_winners_df, wc_winners_df[\"Winner\"] != most_wickets_final_df123[\"CountryName\"]).groupBy(\"Tournament\", \"Series\").agg(avg(\"Wkts\").alias(\"Avg Wickets by non winners\"))"
   ]
  },
  {
   "cell_type": "code",
   "execution_count": 0,
   "metadata": {
    "application/vnd.databricks.v1+cell": {
     "cellMetadata": {
      "byteLimit": 2048000,
      "rowLimit": 10000
     },
     "inputWidgets": {},
     "nuid": "438fc6ab-1cd9-4bb4-8335-b78dac2cf019",
     "showTitle": false,
     "tableResultSettingsMap": {},
     "title": ""
    }
   },
   "outputs": [
    {
     "output_type": "stream",
     "name": "stdout",
     "output_type": "stream",
     "text": [
      "+----------------+------+--------------------------+\n|      Tournament|Series|Avg Wickets by non winners|\n+----------------+------+--------------------------+\n|          ODI WC|  2019|         5.552584670231729|\n|          ODI WC|  2023|         5.607843137254902|\n|          T20 WC|  2021|         5.607843137254902|\n|          T20 WC|  2022|         5.552584670231729|\n|          T20 WC|  2016|         5.682210708117444|\n|Champions Trophy|  2017|         5.627659574468085|\n|          T20 WC|  2024|         5.522202486678508|\n+----------------+------+--------------------------+\n\n"
     ]
    }
   ],
   "source": [
    "total_wickets_impact_non_winners.show(10)"
   ]
  },
  {
   "cell_type": "code",
   "execution_count": 0,
   "metadata": {
    "application/vnd.databricks.v1+cell": {
     "cellMetadata": {
      "byteLimit": 2048000,
      "rowLimit": 10000
     },
     "inputWidgets": {},
     "nuid": "0ce28f94-1c33-4147-b5ce-3d7d057b996d",
     "showTitle": false,
     "tableResultSettingsMap": {},
     "title": ""
    }
   },
   "outputs": [],
   "source": [
    "compare_wickets_impact = total_wickets_impact.join(total_wickets_impact_non_winners, [\"Tournament\", \"Series\"])"
   ]
  },
  {
   "cell_type": "code",
   "execution_count": 0,
   "metadata": {
    "application/vnd.databricks.v1+cell": {
     "cellMetadata": {
      "byteLimit": 2048000,
      "rowLimit": 10000
     },
     "inputWidgets": {},
     "nuid": "cd80ff8c-f004-48f3-8c50-0c51be9680c3",
     "showTitle": false,
     "tableResultSettingsMap": {},
     "title": ""
    }
   },
   "outputs": [
    {
     "output_type": "stream",
     "name": "stdout",
     "output_type": "stream",
     "text": [
      "+----------------+------+-----------+------------------------+--------------------------+\n|      Tournament|Series|     Winner|Avg Wickets by champions|Avg Wickets by non winners|\n+----------------+------+-----------+------------------------+--------------------------+\n|          T20 WC|  2024|      India|                  7.3125|         5.522202486678508|\n|          T20 WC|  2016|West Indies|                  5.3125|         5.682210708117444|\n|          T20 WC|  2021|  Australia|                    6.28|         5.607843137254902|\n|          ODI WC|  2019|    England|                     6.9|         5.552584670231729|\n|          ODI WC|  2023|  Australia|                    6.28|         5.607843137254902|\n|          T20 WC|  2022|    England|                     6.9|         5.552584670231729|\n|Champions Trophy|  2017|   Pakistan|       6.085106382978723|         5.627659574468085|\n+----------------+------+-----------+------------------------+--------------------------+\n\n"
     ]
    }
   ],
   "source": [
    "compare_wickets_impact.show(10)"
   ]
  },
  {
   "cell_type": "code",
   "execution_count": 0,
   "metadata": {
    "application/vnd.databricks.v1+cell": {
     "cellMetadata": {
      "byteLimit": 2048000,
      "rowLimit": 10000
     },
     "inputWidgets": {},
     "nuid": "83317a5b-1b6c-4899-bd02-4af4c9d2a32c",
     "showTitle": false,
     "tableResultSettingsMap": {},
     "title": ""
    }
   },
   "outputs": [],
   "source": [
    "compare_wickets_impact_pandas = compare_wickets_impact.toPandas()"
   ]
  },
  {
   "cell_type": "code",
   "execution_count": 0,
   "metadata": {
    "application/vnd.databricks.v1+cell": {
     "cellMetadata": {
      "byteLimit": 2048000,
      "rowLimit": 10000
     },
     "inputWidgets": {},
     "nuid": "49c656c1-c886-4b07-8a90-05f815b112c8",
     "showTitle": false,
     "tableResultSettingsMap": {},
     "title": ""
    }
   },
   "outputs": [
    {
     "output_type": "display_data",
     "data": {
      "image/png": "[encoded data removed]"
     },
     "metadata": {
      "application/vnd.databricks.v1+output": {
       "addedWidgets": {},
       "arguments": {},
       "data": "data:image/png;base64,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\n",
       "datasetInfos": [],
       "metadata": {},
       "removedWidgets": [],
       "type": "image"
      }
     },
     "output_type": "display_data"
    }
   ],
   "source": [
    "compare_wickets_impact_pandas_long = compare_wickets_impact_pandas.melt(\n",
    "    id_vars=[\"Series\", \"Tournament\"],\n",
    "    value_vars=[\"Avg Wickets by champions\", \"Avg Wickets by non winners\"],\n",
    "    var_name=\"Type\",\n",
    "    value_name=\"Avg Wickets\"\n",
    ")\n",
    "\n",
    "\n",
    "plt.figure(figsize=(12, 6))\n",
    "sn.barplot(\n",
    "    data=compare_wickets_impact_pandas_long,\n",
    "    x=\"Tournament\",\n",
    "    y=\"Avg Wickets\",\n",
    "    hue=\"Type\",\n",
    "    palette=\"muted\"\n",
    ")\n",
    "\n",
    "plt.title(\"Average Wickets Comparison by Champions and Non-Winners\", fontsize=16)\n",
    "plt.xlabel(\"Tournament\", fontsize=12)\n",
    "plt.ylabel(\"Average Wickets\", fontsize=12)\n",
    "plt.xticks(rotation=45)\n",
    "plt.legend(title=\"Type\", loc=\"upper right\")\n",
    "\n",
    "plt.tight_layout()\n",
    "plt.show()"
   ]
  },
  {
   "cell_type": "code",
   "execution_count": 0,
   "metadata": {
    "application/vnd.databricks.v1+cell": {
     "cellMetadata": {
      "byteLimit": 2048000,
      "rowLimit": 10000
     },
     "inputWidgets": {},
     "nuid": "55a579af-99cb-4d9a-92b8-557b1b421c7b",
     "showTitle": false,
     "tableResultSettingsMap": {},
     "title": ""
    }
   },
   "outputs": [
    {
     "output_type": "display_data",
     "data": {
      "image/png": "[encoded data removed]"
     },
     "metadata": {
      "application/vnd.databricks.v1+output": {
       "addedWidgets": {},
       "arguments": {},
       "data": "data:image/png;base64,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\n",
       "datasetInfos": [],
       "metadata": {},
       "removedWidgets": [],
       "type": "image"
      }
     },
     "output_type": "display_data"
    }
   ],
   "source": [
    "plt.figure(figsize=(12, 6))\n",
    "sn.barplot(\n",
    "    data=compare_wickets_impact_pandas_long,\n",
    "    x=\"Series\",\n",
    "    y=\"Avg Wickets\",\n",
    "    hue=\"Type\",\n",
    "    palette=\"muted\"\n",
    ")\n",
    "\n",
    "plt.title(\"Average Wickets Comparison by Champions and Non-Winners\", fontsize=16)\n",
    "plt.xlabel(\"Series\", fontsize=12)\n",
    "plt.ylabel(\"Average Wickets\", fontsize=12)\n",
    "plt.xticks(rotation=45)\n",
    "plt.legend(title=\"Type\", loc=\"upper right\")\n",
    "\n",
    "plt.tight_layout()\n",
    "plt.show()"
   ]
  },
  {
   "cell_type": "code",
   "execution_count": 0,
   "metadata": {
    "application/vnd.databricks.v1+cell": {
     "cellMetadata": {
      "byteLimit": 2048000,
      "rowLimit": 10000
     },
     "inputWidgets": {},
     "nuid": "2f54dcfb-9a5e-4eaa-bf10-5b67f3a2b84f",
     "showTitle": false,
     "tableResultSettingsMap": {},
     "title": ""
    }
   },
   "outputs": [
    {
     "output_type": "stream",
     "name": "stdout",
     "output_type": "stream",
     "text": [
      "+--------------------+---------+---+-----+----+-----+----+----+------+-----+----+---+---+---+---+\n|              Player|     Span|Mat|Overs|Mdns|Balls|Runs|Wkts|   BBI|  Ave|Econ| SR|  4|  5| 10|\n+--------------------+---------+---+-----+----+-----+----+----+------+-----+----+---+---+---+---+\n|    NL McCullum (NZ)|2016-2016|  2|    5|   -|   30|  21|   3|Feb-15|    7| 4.2| 10|  -|  -|  -|\n|PA van Meekeren (...|2016-2016|  3|    6|   -|   36|  28|   6|04-Nov| 4.66|4.66|  6|  1|  -|  -|\n|  CD de Lange (SCOT)|2016-2016|  1|    4|   -|   24|  19|   1|Jan-19|   19|4.75| 24|  -|  -|  -|\n|      SK Raina (IND)|2016-2016|  5|    6|   -|   36|  29|   3|01-Apr| 9.66|4.83| 12|  -|  -|  -|\n|  JDF Vandersay (SL)|2016-2016|  3|   12|   1|   72|  62|   3|Feb-26|20.66|5.16| 24|  -|  -|  -|\n+--------------------+---------+---+-----+----+-----+----+----+------+-----+----+---+---+---+---+\nonly showing top 5 rows\n\n"
     ]
    }
   ],
   "source": [
    "economy_rate_df.show(5)"
   ]
  },
  {
   "cell_type": "code",
   "execution_count": 0,
   "metadata": {
    "application/vnd.databricks.v1+cell": {
     "cellMetadata": {
      "byteLimit": 2048000,
      "rowLimit": 10000
     },
     "inputWidgets": {},
     "nuid": "1ce3f45e-f130-44d1-9e05-303d62a30d33",
     "showTitle": false,
     "tableResultSettingsMap": {},
     "title": ""
    }
   },
   "outputs": [],
   "source": [
    "economy_rate_df_new = economy_rate_df.withColumn(\"Country\", split(col(\"Player\"), r\"\\(\").getItem(1))\n",
    "\n"
   ]
  },
  {
   "cell_type": "code",
   "execution_count": 0,
   "metadata": {
    "application/vnd.databricks.v1+cell": {
     "cellMetadata": {
      "byteLimit": 2048000,
      "rowLimit": 10000
     },
     "inputWidgets": {},
     "nuid": "08fde42c-1b52-46e3-aee2-7462cb6b0a0b",
     "showTitle": false,
     "tableResultSettingsMap": {},
     "title": ""
    }
   },
   "outputs": [
    {
     "output_type": "stream",
     "name": "stdout",
     "output_type": "stream",
     "text": [
      "+--------------------+---------+---+-----+----+-----+----+----+------+-----+----+----+---+---+---+-------+\n|              Player|     Span|Mat|Overs|Mdns|Balls|Runs|Wkts|   BBI|  Ave|Econ|  SR|  4|  5| 10|Country|\n+--------------------+---------+---+-----+----+-----+----+----+------+-----+----+----+---+---+---+-------+\n|    NL McCullum (NZ)|2016-2016|  2|    5|   -|   30|  21|   3|Feb-15|    7| 4.2|  10|  -|  -|  -|    NZ)|\n|PA van Meekeren (...|2016-2016|  3|    6|   -|   36|  28|   6|04-Nov| 4.66|4.66|   6|  1|  -|  -|   NED)|\n|  CD de Lange (SCOT)|2016-2016|  1|    4|   -|   24|  19|   1|Jan-19|   19|4.75|  24|  -|  -|  -|  SCOT)|\n|      SK Raina (IND)|2016-2016|  5|    6|   -|   36|  29|   3|01-Apr| 9.66|4.83|  12|  -|  -|  -|   IND)|\n|  JDF Vandersay (SL)|2016-2016|  3|   12|   1|   72|  62|   3|Feb-26|20.66|5.16|  24|  -|  -|  -|    SL)|\n|    Imran Tahir (SA)|2016-2016|  4|   16|   -|   96|  83|   6|Feb-13|13.83|5.18|  16|  -|  -|  -|    SA)|\n|       S Badree (WI)|2016-2016|  6|   23|   1|  138| 124|   9|03-Dec|13.77|5.39|15.3|  -|  -|  -|    WI)|\n|    AM Phangiso (SA)|2016-2016|  2|    8|   -|   48|  45|   3|Feb-26|   15|5.62|  16|  -|  -|  -|    SA)|\n|     GD Elliott (NZ)|2016-2016|  5|   13|   -|   78|  75|   3|03-Dec|   25|5.76|  26|  -|  -|  -|    NZ)|\n|       A Nehra (IND)|2016-2016|  5|   19|   1|  114| 113|   5|Jan-20| 22.6|5.94|22.8|  -|  -|  -|   IND)|\n|     MRJ Watt (SCOT)|2016-2016|  3|   12|   -|   72|  72|   4|Feb-21|   18|   6|  18|  -|  -|  -|  SCOT)|\n|    Bilal Khan (OMA)|2016-2016|  3|    8|   -|   48|  48|   -|     -|    0|   6|   -|  -|  -|  -|   OMA)|\n| Mohammad Nabi (AFG)|2016-2016|  7|   27|   1|  162| 164|  12|Apr-20|13.66|6.07|13.5|  1|  -|  -|   AFG)|\n|  Taskin Ahmed (BAN)|2016-2016|  4|   10|   -|   60|  61|   3|Feb-32|20.33| 6.1|  20|  -|  -|  -|   BAN)|\n|       IS Sodhi (NZ)|2016-2016|  5| 19.4|   -|  118| 120|  10|Mar-18|   12| 6.1|11.8|  -|  -|  -|    NZ)|\n|   HMRKB Herath (SL)|2016-2016|  4|   16|   1|   96|  99|   3|Feb-24|   33|6.18|  32|  -|  -|  -|    SL)|\n|   GH Dockrell (IRE)|2016-2016|  2|    4|   -|   24|  25|   4|03-Jul| 6.25|6.25|   6|  -|  -|  -|   IRE)|\n|Samiullah Shinwar...|2016-2016|  7|   22|   -|  132| 138|   3|Jan-21|   46|6.27|  44|  -|  -|  -|   AFG)|\n|       A Zampa (AUS)|2016-2016|  4|   11|   -|   66|  69|   5|Mar-23| 13.8|6.27|13.2|  -|  -|  -|   AUS)|\n|     MJ Santner (NZ)|2016-2016|  5| 18.1|   -|  109| 114|  10|04-Nov| 11.4|6.27|10.9|  1|  -|  -|    NZ)|\n|  Hamid Hassan (AFG)|2016-2016|  4| 13.3|   -|   81|  85|   3|02-Nov|28.33|6.29|  27|  -|  -|  -|   AFG)|\n|   PVD Chameera (SL)|2016-2016|  3|   11|   -|   66|  70|   -|     -|    0|6.36|   -|  -|  -|  -|    SL)|\n|   LE Plunkett (ENG)|2016-2016|  4|   16|   1|   96| 102|   2|Jan-23|   51|6.37|  48|  -|  -|  -|   ENG)|\n|  Tanwir Afzal (HKG)|2016-2016|  3|    8|   -|   48|  51|   2|Feb-19| 25.5|6.37|  24|  -|  -|  -|   HKG)|\n|   Rashid Khan (AFG)|2016-2016|  7|   28|   -|  168| 183|  11|03-Nov|16.63|6.53|15.2|  -|  -|  -|   AFG)|\n|  T Panyangara (ZIM)|2016-2016|  3|   12|   -|   72|  79|   4|Mar-32|19.75|6.58|  18|  -|  -|  -|   ZIM)|\n| Shuvagata Hom (BAN)|2016-2016|  3|    8|   -|   48|  53|   1|Jan-24|   53|6.62|  48|  -|  -|  -|   BAN)|\n|     AC Evans (SCOT)|2016-2016|  2|    8|   -|   48|  54|   3|Feb-30|   18|6.75|  16|  -|  -|  -|  SCOT)|\n|   SC Williams (ZIM)|2016-2016|  3|    9|   -|   54|  61|   2|Jan-22| 30.5|6.77|  27|  -|  -|  -|   ZIM)|\n|   RJ Campbell (HKG)|2016-2016|  3|   10|   -|   60|  68|   2|Feb-28|   34| 6.8|  30|  -|  -|  -|   HKG)|\n+--------------------+---------+---+-----+----+-----+----+----+------+-----+----+----+---+---+---+-------+\nonly showing top 30 rows\n\n"
     ]
    }
   ],
   "source": [
    "economy_rate_df_new.show(30)"
   ]
  },
  {
   "cell_type": "code",
   "execution_count": 0,
   "metadata": {
    "application/vnd.databricks.v1+cell": {
     "cellMetadata": {
      "byteLimit": 2048000,
      "rowLimit": 10000
     },
     "inputWidgets": {},
     "nuid": "71d91fac-5d9b-4038-9f58-5a73e2be826b",
     "showTitle": false,
     "tableResultSettingsMap": {},
     "title": ""
    }
   },
   "outputs": [],
   "source": [
    "economy_rate_df_new = economy_rate_df_new.withColumn(\"Player\", split(col(\"Player\"), r\"\\(\").getItem(0))\n"
   ]
  },
  {
   "cell_type": "code",
   "execution_count": 0,
   "metadata": {
    "application/vnd.databricks.v1+cell": {
     "cellMetadata": {
      "byteLimit": 2048000,
      "rowLimit": 10000
     },
     "inputWidgets": {},
     "nuid": "0dcc3fbd-e091-4c10-b3ae-9b4b54473e53",
     "showTitle": false,
     "tableResultSettingsMap": {},
     "title": ""
    }
   },
   "outputs": [
    {
     "output_type": "stream",
     "name": "stdout",
     "output_type": "stream",
     "text": [
      "+----------------+---------+---+-----+----+-----+----+----+------+-----+----+---+---+---+---+-------+\n|          Player|     Span|Mat|Overs|Mdns|Balls|Runs|Wkts|   BBI|  Ave|Econ| SR|  4|  5| 10|Country|\n+----------------+---------+---+-----+----+-----+----+----+------+-----+----+---+---+---+---+-------+\n|    NL McCullum |2016-2016|  2|    5|   -|   30|  21|   3|Feb-15|    7| 4.2| 10|  -|  -|  -|    NZ)|\n|PA van Meekeren |2016-2016|  3|    6|   -|   36|  28|   6|04-Nov| 4.66|4.66|  6|  1|  -|  -|   NED)|\n|    CD de Lange |2016-2016|  1|    4|   -|   24|  19|   1|Jan-19|   19|4.75| 24|  -|  -|  -|  SCOT)|\n|       SK Raina |2016-2016|  5|    6|   -|   36|  29|   3|01-Apr| 9.66|4.83| 12|  -|  -|  -|   IND)|\n|  JDF Vandersay |2016-2016|  3|   12|   1|   72|  62|   3|Feb-26|20.66|5.16| 24|  -|  -|  -|    SL)|\n+----------------+---------+---+-----+----+-----+----+----+------+-----+----+---+---+---+---+-------+\nonly showing top 5 rows\n\n"
     ]
    }
   ],
   "source": [
    "economy_rate_df_new.show(5)"
   ]
  },
  {
   "cell_type": "code",
   "execution_count": 0,
   "metadata": {
    "application/vnd.databricks.v1+cell": {
     "cellMetadata": {
      "byteLimit": 2048000,
      "rowLimit": 10000
     },
     "inputWidgets": {},
     "nuid": "2077246f-9feb-44df-9c6f-445ae15037a2",
     "showTitle": false,
     "tableResultSettingsMap": {},
     "title": ""
    }
   },
   "outputs": [],
   "source": [
    "economy_rate_df_new = economy_rate_df_new.withColumn(\"CountryName\", \n",
    "                                                 when(col(\"Country\") == 'AFG)', \"Afghanistan\")\n",
    "                                                               .when(col(\"Country\") == 'NZ)', \"New Zealand\")\n",
    "                                                               .when(col(\"Country\") == 'IND)', \"India\")\n",
    "                                                               .when(col(\"Country\") == 'PAK)', \"Pakistan\")\n",
    "                                                               .when(col(\"Country\") == 'AUS)', \"Australia\")\n",
    "                                                               .when(col(\"Country\") == 'SL)', \"Sri Lanka\")\n",
    "                                                               .when(col(\"Country\") == 'ENG)', \"England\")\n",
    "                                                               .when(col(\"Country\") == 'WI)', \"West Indies\")\n",
    "                                                               .when(col(\"Country\") == 'BAN)', \"Bangladesh\")\n",
    "                                                               .when(col(\"Country\") == 'SA)', \"South Africa\")\n",
    "                                                               .when(col(\"Country\") == 'NED)', \"Netherlands\")\n",
    "                                                               .when(col(\"Country\") == 'ZIM)', \"Zimbabwe\")\n",
    "                                                               .otherwise(\"Unknown\"))\n"
   ]
  },
  {
   "cell_type": "code",
   "execution_count": 0,
   "metadata": {
    "application/vnd.databricks.v1+cell": {
     "cellMetadata": {
      "byteLimit": 2048000,
      "rowLimit": 10000
     },
     "inputWidgets": {},
     "nuid": "a6f98d85-6765-4153-9fa5-588537b056dc",
     "showTitle": false,
     "tableResultSettingsMap": {},
     "title": ""
    }
   },
   "outputs": [
    {
     "output_type": "stream",
     "name": "stdout",
     "output_type": "stream",
     "text": [
      "+-------------------+---------+---+-----+----+-----+----+----+------+-----+----+----+---+---+---+-------+------------+\n|             Player|     Span|Mat|Overs|Mdns|Balls|Runs|Wkts|   BBI|  Ave|Econ|  SR|  4|  5| 10|Country| CountryName|\n+-------------------+---------+---+-----+----+-----+----+----+------+-----+----+----+---+---+---+-------+------------+\n|       NL McCullum |2016-2016|  2|    5|   -|   30|  21|   3|Feb-15|    7| 4.2|  10|  -|  -|  -|    NZ)| New Zealand|\n|   PA van Meekeren |2016-2016|  3|    6|   -|   36|  28|   6|04-Nov| 4.66|4.66|   6|  1|  -|  -|   NED)| Netherlands|\n|       CD de Lange |2016-2016|  1|    4|   -|   24|  19|   1|Jan-19|   19|4.75|  24|  -|  -|  -|  SCOT)|     Unknown|\n|          SK Raina |2016-2016|  5|    6|   -|   36|  29|   3|01-Apr| 9.66|4.83|  12|  -|  -|  -|   IND)|       India|\n|     JDF Vandersay |2016-2016|  3|   12|   1|   72|  62|   3|Feb-26|20.66|5.16|  24|  -|  -|  -|    SL)|   Sri Lanka|\n|       Imran Tahir |2016-2016|  4|   16|   -|   96|  83|   6|Feb-13|13.83|5.18|  16|  -|  -|  -|    SA)|South Africa|\n|          S Badree |2016-2016|  6|   23|   1|  138| 124|   9|03-Dec|13.77|5.39|15.3|  -|  -|  -|    WI)| West Indies|\n|       AM Phangiso |2016-2016|  2|    8|   -|   48|  45|   3|Feb-26|   15|5.62|  16|  -|  -|  -|    SA)|South Africa|\n|        GD Elliott |2016-2016|  5|   13|   -|   78|  75|   3|03-Dec|   25|5.76|  26|  -|  -|  -|    NZ)| New Zealand|\n|           A Nehra |2016-2016|  5|   19|   1|  114| 113|   5|Jan-20| 22.6|5.94|22.8|  -|  -|  -|   IND)|       India|\n|          MRJ Watt |2016-2016|  3|   12|   -|   72|  72|   4|Feb-21|   18|   6|  18|  -|  -|  -|  SCOT)|     Unknown|\n|        Bilal Khan |2016-2016|  3|    8|   -|   48|  48|   -|     -|    0|   6|   -|  -|  -|  -|   OMA)|     Unknown|\n|     Mohammad Nabi |2016-2016|  7|   27|   1|  162| 164|  12|Apr-20|13.66|6.07|13.5|  1|  -|  -|   AFG)| Afghanistan|\n|      Taskin Ahmed |2016-2016|  4|   10|   -|   60|  61|   3|Feb-32|20.33| 6.1|  20|  -|  -|  -|   BAN)|  Bangladesh|\n|          IS Sodhi |2016-2016|  5| 19.4|   -|  118| 120|  10|Mar-18|   12| 6.1|11.8|  -|  -|  -|    NZ)| New Zealand|\n|      HMRKB Herath |2016-2016|  4|   16|   1|   96|  99|   3|Feb-24|   33|6.18|  32|  -|  -|  -|    SL)|   Sri Lanka|\n|       GH Dockrell |2016-2016|  2|    4|   -|   24|  25|   4|03-Jul| 6.25|6.25|   6|  -|  -|  -|   IRE)|     Unknown|\n|Samiullah Shinwari |2016-2016|  7|   22|   -|  132| 138|   3|Jan-21|   46|6.27|  44|  -|  -|  -|   AFG)| Afghanistan|\n|           A Zampa |2016-2016|  4|   11|   -|   66|  69|   5|Mar-23| 13.8|6.27|13.2|  -|  -|  -|   AUS)|   Australia|\n|        MJ Santner |2016-2016|  5| 18.1|   -|  109| 114|  10|04-Nov| 11.4|6.27|10.9|  1|  -|  -|    NZ)| New Zealand|\n+-------------------+---------+---+-----+----+-----+----+----+------+-----+----+----+---+---+---+-------+------------+\nonly showing top 20 rows\n\n"
     ]
    }
   ],
   "source": [
    "economy_rate_df_new.show(20)"
   ]
  },
  {
   "cell_type": "code",
   "execution_count": 0,
   "metadata": {
    "application/vnd.databricks.v1+cell": {
     "cellMetadata": {
      "byteLimit": 2048000,
      "rowLimit": 10000
     },
     "inputWidgets": {},
     "nuid": "7b0a4652-c4f0-43fe-895f-8fab10ef08a5",
     "showTitle": false,
     "tableResultSettingsMap": {},
     "title": ""
    }
   },
   "outputs": [
    {
     "output_type": "stream",
     "name": "stdout",
     "output_type": "stream",
     "text": [
      "+------+----+-----------+------------+----------------+\n|Series|Type|     Winner|      Runner|      Tournament|\n+------+----+-----------+------------+----------------+\n|  2016| T20|West Indies|     England|          T20 WC|\n|  2017| ODI|   Pakistan|       India|Champions Trophy|\n|  2019| ODI|    England| New Zealand|          ODI WC|\n|  2021| T20|  Australia| New Zealand|          T20 WC|\n|  2022| T20|    England|    Pakistan|          T20 WC|\n|  2023| ODI|  Australia|       India|          ODI WC|\n|  2024| T20|      India|South Africa|          T20 WC|\n+------+----+-----------+------------+----------------+\n\n"
     ]
    }
   ],
   "source": [
    "wc_winners_df.show(10)"
   ]
  },
  {
   "cell_type": "code",
   "execution_count": 0,
   "metadata": {
    "application/vnd.databricks.v1+cell": {
     "cellMetadata": {
      "byteLimit": 2048000,
      "rowLimit": 10000
     },
     "inputWidgets": {},
     "nuid": "90714ef1-48f4-4da2-8ae8-4c48f1327457",
     "showTitle": false,
     "tableResultSettingsMap": {},
     "title": ""
    }
   },
   "outputs": [],
   "source": [
    "economy_rate_df_winners = economy_rate_df_new.join(wc_winners_df, economy_rate_df_new[\"CountryName\"] == wc_winners_df[\"Winner\"]).groupBy([\"Series\", \"Tournament\", \"Winner\"]).agg(avg(col(\"Econ\")).alias(\"Avg Economy rate of winner bowlers\")).orderBy(col(\"Avg Economy rate of winner bowlers\").asc())"
   ]
  },
  {
   "cell_type": "code",
   "execution_count": 0,
   "metadata": {
    "application/vnd.databricks.v1+cell": {
     "cellMetadata": {
      "byteLimit": 2048000,
      "rowLimit": 10000
     },
     "inputWidgets": {},
     "nuid": "0d261f13-7bf2-4dd2-bdda-42d8e1df55ea",
     "showTitle": false,
     "tableResultSettingsMap": {},
     "title": ""
    }
   },
   "outputs": [
    {
     "output_type": "stream",
     "name": "stdout",
     "output_type": "stream",
     "text": [
      "+------+----------------+-----------+----------------------------------+\n|Series|      Tournament|     Winner|Avg Economy rate of winner bowlers|\n+------+----------------+-----------+----------------------------------+\n|  2024|          T20 WC|      India|                 6.094081632653062|\n|  2017|Champions Trophy|   Pakistan|                            6.4612|\n|  2022|          T20 WC|    England|                 6.494893617021276|\n|  2019|          ODI WC|    England|                 6.494893617021276|\n|  2021|          T20 WC|  Australia|                 6.550000000000001|\n|  2023|          ODI WC|  Australia|                 6.550000000000001|\n|  2016|          T20 WC|West Indies|                6.9446875000000015|\n+------+----------------+-----------+----------------------------------+\n\n"
     ]
    }
   ],
   "source": [
    "economy_rate_df_winners.show(20)"
   ]
  },
  {
   "cell_type": "code",
   "execution_count": 0,
   "metadata": {
    "application/vnd.databricks.v1+cell": {
     "cellMetadata": {
      "byteLimit": 2048000,
      "rowLimit": 10000
     },
     "inputWidgets": {},
     "nuid": "56e5f44d-b2c3-4063-ab21-f4384f0382dd",
     "showTitle": false,
     "tableResultSettingsMap": {},
     "title": ""
    }
   },
   "outputs": [],
   "source": [
    "economy_rate_df_non_winners = economy_rate_df_new.join(wc_winners_df, economy_rate_df_new[\"CountryName\"] != wc_winners_df[\"Winner\"]).groupBy([\"Series\", \"Tournament\"]).agg(avg(col(\"Econ\")).alias(\"Avg Economy rate of non winner bowlers\")).orderBy(col(\"Avg Economy rate of non winner bowlers\").asc())"
   ]
  },
  {
   "cell_type": "code",
   "execution_count": 0,
   "metadata": {
    "application/vnd.databricks.v1+cell": {
     "cellMetadata": {
      "byteLimit": 2048000,
      "rowLimit": 10000
     },
     "inputWidgets": {},
     "nuid": "262247e6-56fa-47d4-8c18-3f2a0a50bd2c",
     "showTitle": false,
     "tableResultSettingsMap": {},
     "title": ""
    }
   },
   "outputs": [
    {
     "output_type": "stream",
     "name": "stdout",
     "output_type": "stream",
     "text": [
      "+------+----------------+--------------------------------------+\n|Series|      Tournament|Avg Economy rate of non winner bowlers|\n+------+----------------+--------------------------------------+\n|  2016|          T20 WC|                      6.55853135313531|\n|  2023|          ODI WC|                     6.580220713072999|\n|  2021|          T20 WC|                     6.580220713072999|\n|  2019|          ODI WC|                     6.584500846023683|\n|  2022|          T20 WC|                     6.584500846023683|\n|  2017|Champions Trophy|                    6.5878231292516976|\n|  2024|          T20 WC|                     6.618149405772489|\n+------+----------------+--------------------------------------+\n\n"
     ]
    }
   ],
   "source": [
    "economy_rate_df_non_winners.show(10)"
   ]
  },
  {
   "cell_type": "code",
   "execution_count": 0,
   "metadata": {
    "application/vnd.databricks.v1+cell": {
     "cellMetadata": {
      "byteLimit": 2048000,
      "rowLimit": 10000
     },
     "inputWidgets": {},
     "nuid": "384926d6-eaca-4c0c-afcf-63eef561fb38",
     "showTitle": false,
     "tableResultSettingsMap": {},
     "title": ""
    }
   },
   "outputs": [],
   "source": [
    "economy_rate_df_2023 = economy_rate_df_new.filter((col(\"Span\") == \"2023-2023\") & (col(\"CountryName\") == \"Australia\"))"
   ]
  },
  {
   "cell_type": "code",
   "execution_count": 0,
   "metadata": {
    "application/vnd.databricks.v1+cell": {
     "cellMetadata": {
      "byteLimit": 2048000,
      "rowLimit": 10000
     },
     "inputWidgets": {},
     "nuid": "4383e046-80cc-4af4-b26b-afcaac53184c",
     "showTitle": false,
     "tableResultSettingsMap": {},
     "title": ""
    }
   },
   "outputs": [
    {
     "output_type": "stream",
     "name": "stdout",
     "output_type": "stream",
     "text": [
      "+-------------+---------+---+-----+----+-----+----+----+------+-----+----+----+---+---+---+-------+-----------+\n|       Player|     Span|Mat|Overs|Mdns|Balls|Runs|Wkts|   BBI|  Ave|Econ|  SR|  4|  5| 10|Country|CountryName|\n+-------------+---------+---+-----+----+-----+----+----+------+-----+----+----+---+---+---+-------+-----------+\n|     TM Head |2023-2023|  6|   21|   -|  126| 101|   2|Feb-21| 50.5| 4.8|  63|  -|  -|  -|   AUS)|  Australia|\n|  GJ Maxwell |2023-2023|  9| 68.3|   1|  411| 330|   6|Feb-34|   55|4.81|68.5|  -|  -|  -|   AUS)|  Australia|\n|JR Hazlewood |2023-2023| 11| 93.1|   8|  559| 449|  16|Mar-38|28.06|4.81|34.9|  -|  -|  -|   AUS)|  Australia|\n|     A Zampa |2023-2023| 11|   96|   1|  576| 515|  23|04-Aug|22.39|5.36|  25|  3|  -|  -|   AUS)|  Australia|\n|  PJ Cummins |2023-2023| 11| 89.3|   1|  537| 515|  15|Mar-51|34.33|5.75|35.8|  -|  -|  -|   AUS)|  Australia|\n|    MA Starc |2023-2023| 10|   87|   2|  522| 528|  16|Mar-34|   33|6.06|32.6|  -|  -|  -|   AUS)|  Australia|\n|   SA Abbott |2023-2023|  1|   10|   -|   60|  61|   2|Feb-61| 30.5| 6.1|  30|  -|  -|  -|   AUS)|  Australia|\n|    MR Marsh |2023-2023| 10|   13|   -|   78|  96|   2|Feb-19|   48|7.38|  39|  -|  -|  -|   AUS)|  Australia|\n|  MP Stoinis |2023-2023|  6|   19|   -|  114| 143|   4|Feb-40|35.75|7.52|28.5|  -|  -|  -|   AUS)|  Australia|\n+-------------+---------+---+-----+----+-----+----+----+------+-----+----+----+---+---+---+-------+-----------+\n\n"
     ]
    }
   ],
   "source": [
    "economy_rate_df_2023.show(10)"
   ]
  },
  {
   "cell_type": "code",
   "execution_count": 0,
   "metadata": {
    "application/vnd.databricks.v1+cell": {
     "cellMetadata": {
      "byteLimit": 2048000,
      "rowLimit": 10000
     },
     "inputWidgets": {},
     "nuid": "c6924d3d-367e-4bd6-9e2d-d6a80af8c81d",
     "showTitle": false,
     "tableResultSettingsMap": {},
     "title": ""
    }
   },
   "outputs": [],
   "source": [
    "economy_rate_df_combined = economy_rate_df_winners.join(economy_rate_df_non_winners, on=[\"Series\", \"Tournament\"], how=\"inner\").orderBy(col(\"Avg Economy rate of winner bowlers\").asc())"
   ]
  },
  {
   "cell_type": "code",
   "execution_count": 0,
   "metadata": {
    "application/vnd.databricks.v1+cell": {
     "cellMetadata": {
      "byteLimit": 2048000,
      "rowLimit": 10000
     },
     "inputWidgets": {},
     "nuid": "4722650f-46c8-47df-8037-758fa79fc670",
     "showTitle": false,
     "tableResultSettingsMap": {},
     "title": ""
    }
   },
   "outputs": [
    {
     "output_type": "stream",
     "name": "stdout",
     "output_type": "stream",
     "text": [
      "+------+----------------+-----------+----------------------------------+--------------------------------------+\n|Series|      Tournament|     Winner|Avg Economy rate of winner bowlers|Avg Economy rate of non winner bowlers|\n+------+----------------+-----------+----------------------------------+--------------------------------------+\n|  2024|          T20 WC|      India|                 6.094081632653062|                     6.618149405772489|\n|  2017|Champions Trophy|   Pakistan|                            6.4612|                    6.5878231292516976|\n|  2022|          T20 WC|    England|                 6.494893617021276|                     6.584500846023683|\n|  2019|          ODI WC|    England|                 6.494893617021276|                     6.584500846023683|\n|  2021|          T20 WC|  Australia|                 6.550000000000001|                     6.580220713072999|\n|  2023|          ODI WC|  Australia|                 6.550000000000001|                     6.580220713072999|\n|  2016|          T20 WC|West Indies|                6.9446875000000015|                      6.55853135313531|\n+------+----------------+-----------+----------------------------------+--------------------------------------+\n\n"
     ]
    }
   ],
   "source": [
    "economy_rate_df_combined.show(20)"
   ]
  },
  {
   "cell_type": "code",
   "execution_count": 0,
   "metadata": {
    "application/vnd.databricks.v1+cell": {
     "cellMetadata": {
      "byteLimit": 2048000,
      "rowLimit": 10000
     },
     "inputWidgets": {},
     "nuid": "6c855afe-3fbb-43af-bbc7-f6152e72c303",
     "showTitle": false,
     "tableResultSettingsMap": {},
     "title": ""
    }
   },
   "outputs": [],
   "source": [
    " economy_rate_df_combined_pandas =  economy_rate_df_combined.toPandas()\n"
   ]
  },
  {
   "cell_type": "code",
   "execution_count": 0,
   "metadata": {
    "application/vnd.databricks.v1+cell": {
     "cellMetadata": {
      "byteLimit": 2048000,
      "rowLimit": 10000
     },
     "inputWidgets": {},
     "nuid": "5a647537-1311-4ee2-ac9a-8febffdab15d",
     "showTitle": false,
     "tableResultSettingsMap": {},
     "title": ""
    }
   },
   "outputs": [],
   "source": [
    "economy_rate_df_combined_melt = economy_rate_df_combined_pandas.melt(id_vars=[\"Series\", \"Tournament\"], value_vars=[\"Avg Economy rate of winner bowlers\", \"Avg Economy rate of non winner bowlers\"], var_name=\"Type\", value_name=\"Avg Economy rate\")"
   ]
  },
  {
   "cell_type": "code",
   "execution_count": 0,
   "metadata": {
    "application/vnd.databricks.v1+cell": {
     "cellMetadata": {
      "byteLimit": 2048000,
      "rowLimit": 10000
     },
     "inputWidgets": {},
     "nuid": "672763fd-d1f5-45de-b19f-606a56ea2641",
     "showTitle": false,
     "tableResultSettingsMap": {},
     "title": ""
    }
   },
   "outputs": [
    {
     "output_type": "display_data",
     "data": {
      "text/html": [
       "<div>\n",
       "<style scoped>\n",
       "    .dataframe tbody tr th:only-of-type {\n",
       "        vertical-align: middle;\n",
       "    }\n",
       "\n",
       "    .dataframe tbody tr th {\n",
       "        vertical-align: top;\n",
       "    }\n",
       "\n",
       "    .dataframe thead th {\n",
       "        text-align: right;\n",
       "    }\n",
       "</style>\n",
       "<table border=\"1\" class=\"dataframe\">\n",
       "  <thead>\n",
       "    <tr style=\"text-align: right;\">\n",
       "      <th></th>\n",
       "      <th>Series</th>\n",
       "      <th>Tournament</th>\n",
       "      <th>Type</th>\n",
       "      <th>Avg Economy rate</th>\n",
       "    </tr>\n",
       "  </thead>\n",
       "  <tbody>\n",
       "    <tr>\n",
       "      <th>0</th>\n",
       "      <td>2024</td>\n",
       "      <td>T20 WC</td>\n",
       "      <td>Avg Economy rate of winner bowlers</td>\n",
       "      <td>6.094082</td>\n",
       "    </tr>\n",
       "    <tr>\n",
       "      <th>1</th>\n",
       "      <td>2017</td>\n",
       "      <td>Champions Trophy</td>\n",
       "      <td>Avg Economy rate of winner bowlers</td>\n",
       "      <td>6.461200</td>\n",
       "    </tr>\n",
       "    <tr>\n",
       "      <th>2</th>\n",
       "      <td>2022</td>\n",
       "      <td>T20 WC</td>\n",
       "      <td>Avg Economy rate of winner bowlers</td>\n",
       "      <td>6.494894</td>\n",
       "    </tr>\n",
       "    <tr>\n",
       "      <th>3</th>\n",
       "      <td>2019</td>\n",
       "      <td>ODI WC</td>\n",
       "      <td>Avg Economy rate of winner bowlers</td>\n",
       "      <td>6.494894</td>\n",
       "    </tr>\n",
       "    <tr>\n",
       "      <th>4</th>\n",
       "      <td>2021</td>\n",
       "      <td>T20 WC</td>\n",
       "      <td>Avg Economy rate of winner bowlers</td>\n",
       "      <td>6.550000</td>\n",
       "    </tr>\n",
       "    <tr>\n",
       "      <th>5</th>\n",
       "      <td>2023</td>\n",
       "      <td>ODI WC</td>\n",
       "      <td>Avg Economy rate of winner bowlers</td>\n",
       "      <td>6.550000</td>\n",
       "    </tr>\n",
       "    <tr>\n",
       "      <th>6</th>\n",
       "      <td>2016</td>\n",
       "      <td>T20 WC</td>\n",
       "      <td>Avg Economy rate of winner bowlers</td>\n",
       "      <td>6.944688</td>\n",
       "    </tr>\n",
       "    <tr>\n",
       "      <th>7</th>\n",
       "      <td>2024</td>\n",
       "      <td>T20 WC</td>\n",
       "      <td>Avg Economy rate of non winner bowlers</td>\n",
       "      <td>6.618149</td>\n",
       "    </tr>\n",
       "    <tr>\n",
       "      <th>8</th>\n",
       "      <td>2017</td>\n",
       "      <td>Champions Trophy</td>\n",
       "      <td>Avg Economy rate of non winner bowlers</td>\n",
       "      <td>6.587823</td>\n",
       "    </tr>\n",
       "    <tr>\n",
       "      <th>9</th>\n",
       "      <td>2022</td>\n",
       "      <td>T20 WC</td>\n",
       "      <td>Avg Economy rate of non winner bowlers</td>\n",
       "      <td>6.584501</td>\n",
       "    </tr>\n",
       "  </tbody>\n",
       "</table>\n",
       "</div>"
      ]
     },
     "metadata": {
      "application/vnd.databricks.v1+output": {
       "addedWidgets": {},
       "arguments": {},
       "data": "<div>\n<style scoped>\n    .dataframe tbody tr th:only-of-type {\n        vertical-align: middle;\n    }\n\n    .dataframe tbody tr th {\n        vertical-align: top;\n    }\n\n    .dataframe thead th {\n        text-align: right;\n    }\n</style>\n<table border=\"1\" class=\"dataframe\">\n  <thead>\n    <tr style=\"text-align: right;\">\n      <th></th>\n      <th>Series</th>\n      <th>Tournament</th>\n      <th>Type</th>\n      <th>Avg Economy rate</th>\n    </tr>\n  </thead>\n  <tbody>\n    <tr>\n      <th>0</th>\n      <td>2024</td>\n      <td>T20 WC</td>\n      <td>Avg Economy rate of winner bowlers</td>\n      <td>6.094082</td>\n    </tr>\n    <tr>\n      <th>1</th>\n      <td>2017</td>\n      <td>Champions Trophy</td>\n      <td>Avg Economy rate of winner bowlers</td>\n      <td>6.461200</td>\n    </tr>\n    <tr>\n      <th>2</th>\n      <td>2022</td>\n      <td>T20 WC</td>\n      <td>Avg Economy rate of winner bowlers</td>\n      <td>6.494894</td>\n    </tr>\n    <tr>\n      <th>3</th>\n      <td>2019</td>\n      <td>ODI WC</td>\n      <td>Avg Economy rate of winner bowlers</td>\n      <td>6.494894</td>\n    </tr>\n    <tr>\n      <th>4</th>\n      <td>2021</td>\n      <td>T20 WC</td>\n      <td>Avg Economy rate of winner bowlers</td>\n      <td>6.550000</td>\n    </tr>\n    <tr>\n      <th>5</th>\n      <td>2023</td>\n      <td>ODI WC</td>\n      <td>Avg Economy rate of winner bowlers</td>\n      <td>6.550000</td>\n    </tr>\n    <tr>\n      <th>6</th>\n      <td>2016</td>\n      <td>T20 WC</td>\n      <td>Avg Economy rate of winner bowlers</td>\n      <td>6.944688</td>\n    </tr>\n    <tr>\n      <th>7</th>\n      <td>2024</td>\n      <td>T20 WC</td>\n      <td>Avg Economy rate of non winner bowlers</td>\n      <td>6.618149</td>\n    </tr>\n    <tr>\n      <th>8</th>\n      <td>2017</td>\n      <td>Champions Trophy</td>\n      <td>Avg Economy rate of non winner bowlers</td>\n      <td>6.587823</td>\n    </tr>\n    <tr>\n      <th>9</th>\n      <td>2022</td>\n      <td>T20 WC</td>\n      <td>Avg Economy rate of non winner bowlers</td>\n      <td>6.584501</td>\n    </tr>\n  </tbody>\n</table>\n</div>",
       "datasetInfos": [],
       "metadata": {},
       "removedWidgets": [],
       "textData": null,
       "type": "htmlSandbox"
      }
     },
     "output_type": "display_data"
    }
   ],
   "source": [
    "economy_rate_df_combined_melt.head(10)"
   ]
  },
  {
   "cell_type": "code",
   "execution_count": 0,
   "metadata": {
    "application/vnd.databricks.v1+cell": {
     "cellMetadata": {
      "byteLimit": 2048000,
      "rowLimit": 10000
     },
     "inputWidgets": {},
     "nuid": "1c98f982-69ee-4cb8-a0a7-4652910fc6a2",
     "showTitle": false,
     "tableResultSettingsMap": {},
     "title": ""
    }
   },
   "outputs": [
    {
     "output_type": "display_data",
     "data": {
      "image/png": "[encoded data removed]"
     },
     "metadata": {
      "application/vnd.databricks.v1+output": {
       "addedWidgets": {},
       "arguments": {},
       "data": "data:image/png;base64,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\n",
       "datasetInfos": [],
       "metadata": {},
       "removedWidgets": [],
       "type": "image"
      }
     },
     "output_type": "display_data"
    }
   ],
   "source": [
    "import numpy as np\n",
    "plt.figure(figsize=(12,6))\n",
    "sn.barplot(data=economy_rate_df_combined_melt, x=\"Tournament\", y=\"Avg Economy rate\", hue=\"Type\", palette=\"muted\")\n",
    "plt.title(\"Impact of economy rate of bowlers to win the tournament\", fontsize=16)\n",
    "plt.xlabel(\"Tournament\", fontsize=12)\n",
    "plt.ylabel(\"Average economy rate\", fontsize=12)\n",
    "plt.xticks(rotation=50)\n",
    "for i in plt.gca().containers:\n",
    "    plt.gca().bar_label(i, fmt='%.2f', padding=10)\n",
    "\n",
    "plt.legend(title=\"Type\")\n",
    "plt.tight_layout()\n",
    "plt.show()\n"
   ]
  },
  {
   "cell_type": "code",
   "execution_count": 0,
   "metadata": {
    "application/vnd.databricks.v1+cell": {
     "cellMetadata": {
      "byteLimit": 2048000,
      "rowLimit": 10000
     },
     "inputWidgets": {},
     "nuid": "d3df423c-85d8-4351-b378-4e0d3be25cf0",
     "showTitle": false,
     "tableResultSettingsMap": {},
     "title": ""
    }
   },
   "outputs": [
    {
     "output_type": "stream",
     "name": "stdout",
     "output_type": "stream",
     "text": [
      "+------------------+---------+---+----+-----+-----+----+----+----+------+-----+----+-----+---+---+-------+-----------+\n|            Player|     Span|Mat|Inns|Balls|Overs|Mdns|Runs|Wkts|   BBI|  Ave|Econ|   SR|  4|  5|Country|CountryName|\n+------------------+---------+---+----+-----+-----+----+----+----+------+-----+----+-----+---+---+-------+-----------+\n|    Mohammad Nabi |2016-2016|  7|   7|  162|   27|   1| 164|  12|Apr-20|13.66|6.07| 13.5|  1|  0|    AFG|Afghanistan|\n|      Rashid Khan |2016-2016|  7|   7|  168|   28|   0| 183|  11|03-Nov|16.63|6.53|15.27|  0|  0|    AFG|Afghanistan|\n|       MJ Santner |2016-2016|  5|   5|  109| 18.1|   0| 114|  10|04-Nov| 11.4|6.27| 10.9|  1|  0|    NZ)|New Zealand|\n|         IS Sodhi |2016-2016|  5|   5|  118| 19.4|   0| 120|  10|Mar-18|   12| 6.1| 11.8|  0|  0|    NZ)|New Zealand|\n|        DJ Willey |2016-2016|  6|   6|  126|   21|   0| 159|  10|Mar-20| 15.9|7.57| 12.6|  0|  0|    ENG|    England|\n|  Shakib Al Hasan |2016-2016|  7|   6|  138|   23|   0| 166|  10|Apr-15| 16.6|7.21| 13.8|  1|  0|    BAN| Bangladesh|\n|Mustafizur Rahman |2016-2016|  3|   3|   72|   12|   0|  86|   9|May-22| 9.55|7.16|    8|  0|  1|    BAN| Bangladesh|\n|         S Badree |2016-2016|  6|   6|  138|   23|   1| 124|   9|03-Dec|13.77|5.39|15.33|  0|  0|    WI)|West Indies|\n|       AD Russell |2016-2016|  6|   6|  144|   24|   0| 189|   9|Feb-23|   21|7.87|   16|  0|  0|    WI)|West Indies|\n|         DJ Bravo |2016-2016|  6|   6|  144|   24|   0| 190|   9|Mar-37|21.11|7.91|   16|  0|  0|    WI)|West Indies|\n+------------------+---------+---+----+-----+-----+----+----+----+------+-----+----+-----+---+---+-------+-----------+\nonly showing top 10 rows\n\n"
     ]
    }
   ],
   "source": [
    "most_wickets_final_df123.show(10)"
   ]
  },
  {
   "cell_type": "code",
   "execution_count": 0,
   "metadata": {
    "application/vnd.databricks.v1+cell": {
     "cellMetadata": {
      "byteLimit": 2048000,
      "rowLimit": 10000
     },
     "inputWidgets": {},
     "nuid": "f1b2b4a6-4ba2-4610-9948-a22cd47cd04d",
     "showTitle": false,
     "tableResultSettingsMap": {},
     "title": ""
    }
   },
   "outputs": [],
   "source": [
    "most_4_5frs_df = most_wickets_final_df123.filter((col(\"4\")!=0) | (col(\"5\")!=0))"
   ]
  },
  {
   "cell_type": "code",
   "execution_count": 0,
   "metadata": {
    "application/vnd.databricks.v1+cell": {
     "cellMetadata": {
      "byteLimit": 2048000,
      "rowLimit": 10000
     },
     "inputWidgets": {},
     "nuid": "4715844b-52c8-47fa-9484-e71c1f71bf5f",
     "showTitle": false,
     "tableResultSettingsMap": {},
     "title": ""
    }
   },
   "outputs": [
    {
     "output_type": "stream",
     "name": "stdout",
     "output_type": "stream",
     "text": [
      "+------------------+---------+---+----+-----+-----+----+----+----+------+-----+----+-----+---+---+-------+------------+\n|            Player|     Span|Mat|Inns|Balls|Overs|Mdns|Runs|Wkts|   BBI|  Ave|Econ|   SR|  4|  5|Country| CountryName|\n+------------------+---------+---+----+-----+-----+----+----+----+------+-----+----+-----+---+---+-------+------------+\n|    Mohammad Nabi |2016-2016|  7|   7|  162|   27|   1| 164|  12|Apr-20|13.66|6.07| 13.5|  1|  0|    AFG| Afghanistan|\n|       MJ Santner |2016-2016|  5|   5|  109| 18.1|   0| 114|  10|04-Nov| 11.4|6.27| 10.9|  1|  0|    NZ)| New Zealand|\n|  Shakib Al Hasan |2016-2016|  7|   6|  138|   23|   0| 166|  10|Apr-15| 16.6|7.21| 13.8|  1|  0|    BAN|  Bangladesh|\n|Mustafizur Rahman |2016-2016|  3|   3|   72|   12|   0|  86|   9|May-22| 9.55|7.16|    8|  0|  1|    BAN|  Bangladesh|\n|      JP Faulkner |2016-2016|  4|   4|   79| 13.1|   0| 106|   8|May-27|13.25|8.05| 9.87|  0|  1|    AUS|   Australia|\n|  PA van Meekeren |2016-2016|  3|   2|   36|    6|   0|  28|   6|04-Nov| 4.66|4.66|    6|  1|  0|    NED| Netherlands|\n|        CJ Jordan |2016-2016|  6|   6|  138|   23|   0| 188|   6|Apr-28|31.33|8.17|   23|  1|  0|    ENG|     England|\n|     WP Masakadza |2016-2016|  3|   3|   72|   12|   1|  89|   5|Apr-28| 17.8|7.41| 14.4|  1|  0|    ZIM|    Zimbabwe|\n|        CH Morris |2016-2016|  3|   3|   66|   11|   0|  98|   5|Apr-27| 19.6| 8.9| 13.2|  1|  0|    SA)|South Africa|\n|     JR Hazlewood |2017-2017|  3|   3|  168|   28|   0| 142|   9|Jun-52|15.77|5.07|18.66|  0|  1|    AUS|   Australia|\n+------------------+---------+---+----+-----+-----+----+----+----+------+-----+----+-----+---+---+-------+------------+\nonly showing top 10 rows\n\n"
     ]
    }
   ],
   "source": [
    "most_4_5frs_df.show(10)"
   ]
  },
  {
   "cell_type": "code",
   "execution_count": 0,
   "metadata": {
    "application/vnd.databricks.v1+cell": {
     "cellMetadata": {
      "byteLimit": 2048000,
      "rowLimit": 10000
     },
     "inputWidgets": {},
     "nuid": "1fc07506-1282-414e-ba3a-838b7ff836d4",
     "showTitle": false,
     "tableResultSettingsMap": {},
     "title": ""
    }
   },
   "outputs": [],
   "source": [
    "most_4_5frs_df_combined = most_4_5frs_df.withColumn(\"BestBowling\", col(\"4\") + col(\"5\"))"
   ]
  },
  {
   "cell_type": "code",
   "execution_count": 0,
   "metadata": {
    "application/vnd.databricks.v1+cell": {
     "cellMetadata": {
      "byteLimit": 2048000,
      "rowLimit": 10000
     },
     "inputWidgets": {},
     "nuid": "1c0906f8-0adf-46cd-bac9-3b124c4d41fe",
     "showTitle": false,
     "tableResultSettingsMap": {},
     "title": ""
    }
   },
   "outputs": [
    {
     "output_type": "stream",
     "name": "stdout",
     "output_type": "stream",
     "text": [
      "+------------------+---------+---+----+-----+-----+----+----+----+------+-----+----+-----+---+---+-------+------------+-----------+\n|            Player|     Span|Mat|Inns|Balls|Overs|Mdns|Runs|Wkts|   BBI|  Ave|Econ|   SR|  4|  5|Country| CountryName|BestBowling|\n+------------------+---------+---+----+-----+-----+----+----+----+------+-----+----+-----+---+---+-------+------------+-----------+\n|    Mohammad Nabi |2016-2016|  7|   7|  162|   27|   1| 164|  12|Apr-20|13.66|6.07| 13.5|  1|  0|    AFG| Afghanistan|        1.0|\n|       MJ Santner |2016-2016|  5|   5|  109| 18.1|   0| 114|  10|04-Nov| 11.4|6.27| 10.9|  1|  0|    NZ)| New Zealand|        1.0|\n|  Shakib Al Hasan |2016-2016|  7|   6|  138|   23|   0| 166|  10|Apr-15| 16.6|7.21| 13.8|  1|  0|    BAN|  Bangladesh|        1.0|\n|Mustafizur Rahman |2016-2016|  3|   3|   72|   12|   0|  86|   9|May-22| 9.55|7.16|    8|  0|  1|    BAN|  Bangladesh|        1.0|\n|      JP Faulkner |2016-2016|  4|   4|   79| 13.1|   0| 106|   8|May-27|13.25|8.05| 9.87|  0|  1|    AUS|   Australia|        1.0|\n|  PA van Meekeren |2016-2016|  3|   2|   36|    6|   0|  28|   6|04-Nov| 4.66|4.66|    6|  1|  0|    NED| Netherlands|        1.0|\n|        CJ Jordan |2016-2016|  6|   6|  138|   23|   0| 188|   6|Apr-28|31.33|8.17|   23|  1|  0|    ENG|     England|        1.0|\n|     WP Masakadza |2016-2016|  3|   3|   72|   12|   1|  89|   5|Apr-28| 17.8|7.41| 14.4|  1|  0|    ZIM|    Zimbabwe|        1.0|\n|        CH Morris |2016-2016|  3|   3|   66|   11|   0|  98|   5|Apr-27| 19.6| 8.9| 13.2|  1|  0|    SA)|South Africa|        1.0|\n|     JR Hazlewood |2017-2017|  3|   3|  168|   28|   0| 142|   9|Jun-52|15.77|5.07|18.66|  0|  1|    AUS|   Australia|        1.0|\n|      LE Plunkett |2017-2017|  4|   4|  201| 33.3|   0| 196|   8|Apr-55| 24.5|5.85|25.12|  2|  0|    ENG|     England|        2.0|\n|        AU Rashid |2017-2017|  3|   3|  180|   30|   1| 142|   7|Apr-41|20.28|4.73|25.71|  1|  0|    ENG|     England|        1.0|\n|      Imran Tahir |2017-2017|  3|   3|  111| 18.3|   0|  80|   5|Apr-27|   16|4.32| 22.2|  1|  0|    SA)|South Africa|        1.0|\n|         MA Starc |2017-2017|  3|   3|  165| 27.3|   2| 133|   5|Apr-29| 26.6|4.83|   33|  1|  0|    AUS|   Australia|        1.0|\n|          MA Wood |2017-2017|  4|   4|  222|   37|   3| 160|   5|Apr-33|   32|4.32| 44.4|  1|  0|    ENG|     England|        1.0|\n|   Mohammed Shami |2023-2023|  7|   7|  293| 48.5|   4| 257|  24|Jul-57| 10.7|5.26| 12.2|  1|  3|    IND|       India|        4.0|\n|          A Zampa |2023-2023| 11|  11|  576|   96|   1| 515|  23|04-Aug|22.39|5.36|25.04|  3|  0|    AUS|   Australia|        3.0|\n|     D Madushanka |2023-2023|  9|   9|  470| 78.2|   4| 525|  21|May-80|   25| 6.7|22.38|  1|  1|    SL)|   Sri Lanka|        2.0|\n|        JJ Bumrah |2023-2023| 11|  11|  551| 91.5|   9| 373|  20|Apr-39|18.65|4.06|27.55|  1|  0|    IND|       India|        1.0|\n|        G Coetzee |2023-2023|  8|   8|  381| 63.3|   1| 396|  20|Apr-44| 19.8|6.23|19.05|  1|  0|    SA)|South Africa|        1.0|\n+------------------+---------+---+----+-----+-----+----+----+----+------+-----+----+-----+---+---+-------+------------+-----------+\nonly showing top 20 rows\n\n"
     ]
    }
   ],
   "source": [
    "most_4_5frs_df_combined.show(20)"
   ]
  },
  {
   "cell_type": "code",
   "execution_count": 0,
   "metadata": {
    "application/vnd.databricks.v1+cell": {
     "cellMetadata": {
      "byteLimit": 2048000,
      "rowLimit": 10000
     },
     "inputWidgets": {},
     "nuid": "e47bef5a-e76d-437a-a42f-e9f79c8cebfa",
     "showTitle": false,
     "tableResultSettingsMap": {},
     "title": ""
    }
   },
   "outputs": [],
   "source": [
    "most_4_5frs_df_winners_new = most_4_5frs_df_combined.join(wc_winners_df, most_4_5frs_df_combined[\"CountryName\"] == wc_winners_df[\"Winner\"]).groupBy([\"Series\", \"Tournament\", \"Type\", \"Winner\"]).agg(avg(col(\"BestBowling\")).alias(\"Average Best Bowling by Winners\")).orderBy(col(\"Average Best Bowling by Winners\").asc())"
   ]
  },
  {
   "cell_type": "code",
   "execution_count": 0,
   "metadata": {
    "application/vnd.databricks.v1+cell": {
     "cellMetadata": {
      "byteLimit": 2048000,
      "rowLimit": 10000
     },
     "inputWidgets": {},
     "nuid": "d1dd0ff9-5784-4adf-a36d-c2aca11b4239",
     "showTitle": false,
     "tableResultSettingsMap": {},
     "title": ""
    }
   },
   "outputs": [
    {
     "output_type": "stream",
     "name": "stdout",
     "output_type": "stream",
     "text": [
      "+------+----------------+----+-----------+-------------------------------+\n|Series|      Tournament|Type|     Winner|Average Best Bowling by Winners|\n+------+----------------+----+-----------+-------------------------------+\n|  2016|          T20 WC| T20|West Indies|                            1.0|\n|  2019|          ODI WC| ODI|    England|                            1.1|\n|  2022|          T20 WC| T20|    England|                            1.1|\n|  2017|Champions Trophy| ODI|   Pakistan|                          1.125|\n|  2021|          T20 WC| T20|  Australia|             1.5555555555555556|\n|  2023|          ODI WC| ODI|  Australia|             1.5555555555555556|\n|  2024|          T20 WC| T20|      India|             1.7142857142857142|\n+------+----------------+----+-----------+-------------------------------+\n\n"
     ]
    }
   ],
   "source": [
    "most_4_5frs_df_winners_new.show(10)"
   ]
  },
  {
   "cell_type": "code",
   "execution_count": 0,
   "metadata": {
    "application/vnd.databricks.v1+cell": {
     "cellMetadata": {
      "byteLimit": 2048000,
      "rowLimit": 10000
     },
     "inputWidgets": {},
     "nuid": "678154ab-3044-45da-b226-bc31e854ea08",
     "showTitle": false,
     "tableResultSettingsMap": {},
     "title": ""
    }
   },
   "outputs": [],
   "source": [
    "most_4_5frs_df_non_winners_new = most_4_5frs_df_combined.join(wc_winners_df, most_4_5frs_df_combined[\"CountryName\"] != wc_winners_df[\"Winner\"]).groupBy([\"Series\", \"Tournament\", \"Type\"]).agg(avg(col(\"BestBowling\")).alias(\"Average Best Bowling by Non Winners\")).orderBy(col(\"Average Best Bowling by Non Winners\").asc())"
   ]
  },
  {
   "cell_type": "code",
   "execution_count": 0,
   "metadata": {
    "application/vnd.databricks.v1+cell": {
     "cellMetadata": {
      "byteLimit": 2048000,
      "rowLimit": 10000
     },
     "inputWidgets": {},
     "nuid": "89fe2680-8d9a-4055-9c5a-782cd5040643",
     "showTitle": false,
     "tableResultSettingsMap": {},
     "title": ""
    }
   },
   "outputs": [
    {
     "output_type": "stream",
     "name": "stdout",
     "output_type": "stream",
     "text": [
      "+------+----------------+----+-----------------------------------+\n|Series|      Tournament|Type|Average Best Bowling by Non Winners|\n+------+----------------+----+-----------------------------------+\n|  2024|          T20 WC| T20|                 1.1511627906976745|\n|  2021|          T20 WC| T20|                 1.1547619047619047|\n|  2023|          ODI WC| ODI|                 1.1547619047619047|\n|  2017|Champions Trophy| ODI|                                1.2|\n|  2022|          T20 WC| T20|                 1.2048192771084338|\n|  2019|          ODI WC| ODI|                 1.2048192771084338|\n|  2016|          T20 WC| T20|                  1.206896551724138|\n+------+----------------+----+-----------------------------------+\n\n"
     ]
    }
   ],
   "source": [
    "most_4_5frs_df_non_winners_new.show(10)"
   ]
  },
  {
   "cell_type": "code",
   "execution_count": 0,
   "metadata": {
    "application/vnd.databricks.v1+cell": {
     "cellMetadata": {
      "byteLimit": 2048000,
      "rowLimit": 10000
     },
     "inputWidgets": {},
     "nuid": "99290a03-0b8e-44ae-8f6b-78d9b09a5f4c",
     "showTitle": false,
     "tableResultSettingsMap": {},
     "title": ""
    }
   },
   "outputs": [],
   "source": [
    "most_4_5frs_df_final = most_4_5frs_df_winners_new.join(most_4_5frs_df_non_winners_new, on=[\"Series\", \"Tournament\", \"Type\"], how=\"inner\")"
   ]
  },
  {
   "cell_type": "code",
   "execution_count": 0,
   "metadata": {
    "application/vnd.databricks.v1+cell": {
     "cellMetadata": {
      "byteLimit": 2048000,
      "rowLimit": 10000
     },
     "inputWidgets": {},
     "nuid": "145702c5-195e-49ed-b3ed-b8663ada95a7",
     "showTitle": false,
     "tableResultSettingsMap": {},
     "title": ""
    }
   },
   "outputs": [
    {
     "output_type": "stream",
     "name": "stdout",
     "output_type": "stream",
     "text": [
      "+------+----------------+----+-----------+-------------------------------+-----------------------------------+\n|Series|      Tournament|Type|     Winner|Average Best Bowling by Winners|Average Best Bowling by Non Winners|\n+------+----------------+----+-----------+-------------------------------+-----------------------------------+\n|  2019|          ODI WC| ODI|    England|                            1.1|                 1.2048192771084338|\n|  2021|          T20 WC| T20|  Australia|             1.5555555555555556|                 1.1547619047619047|\n|  2024|          T20 WC| T20|      India|             1.7142857142857142|                 1.1511627906976745|\n|  2016|          T20 WC| T20|West Indies|                            1.0|                  1.206896551724138|\n|  2023|          ODI WC| ODI|  Australia|             1.5555555555555556|                 1.1547619047619047|\n|  2022|          T20 WC| T20|    England|                            1.1|                 1.2048192771084338|\n|  2017|Champions Trophy| ODI|   Pakistan|                          1.125|                                1.2|\n+------+----------------+----+-----------+-------------------------------+-----------------------------------+\n\n"
     ]
    }
   ],
   "source": [
    "most_4_5frs_df_final.show(10)"
   ]
  },
  {
   "cell_type": "code",
   "execution_count": 0,
   "metadata": {
    "application/vnd.databricks.v1+cell": {
     "cellMetadata": {
      "byteLimit": 2048000,
      "rowLimit": 10000
     },
     "inputWidgets": {},
     "nuid": "a5aed2db-eb0e-4e83-b88a-118c1af04a83",
     "showTitle": false,
     "tableResultSettingsMap": {},
     "title": ""
    }
   },
   "outputs": [],
   "source": [
    "high_impact_bowlers = most_wickets_final_df123.join(\n",
    "    wc_winners_df,\n",
    "    most_wickets_final_df123[\"CountryName\"] == wc_winners_df[\"Winner\"]\n",
    ").orderBy(col(\"BBI\").desc())"
   ]
  },
  {
   "cell_type": "code",
   "execution_count": 0,
   "metadata": {
    "application/vnd.databricks.v1+cell": {
     "cellMetadata": {
      "byteLimit": 2048000,
      "rowLimit": 10000
     },
     "inputWidgets": {},
     "nuid": "5ce3328f-1243-4e08-b106-418cc33583fc",
     "showTitle": false,
     "tableResultSettingsMap": {},
     "title": ""
    }
   },
   "outputs": [
    {
     "output_type": "stream",
     "name": "stdout",
     "output_type": "stream",
     "text": [
      "+--------------------+---------+---+----+-----+-----+----+----+----+------+-----+----+-----+---+---+-------+-----------+------+----+--------+------------+----------------+\n|              Player|     Span|Mat|Inns|Balls|Overs|Mdns|Runs|Wkts|   BBI|  Ave|Econ|   SR|  4|  5|Country|CountryName|Series|Type|  Winner|      Runner|      Tournament|\n+--------------------+---------+---+----+-----+-----+----+----+----+------+-----+----+-----+---+---+-------+-----------+------+----+--------+------------+----------------+\n|     Mohammed Shami |2019-2019|  4|   4|  211| 35.1|   2| 193|  14|May-69|13.78|5.48|15.07|  2|  1|    IND|      India|  2024| T20|   India|South Africa|          T20 WC|\n|Shaheen Shah Afridi |2023-2023|  9|   9|  486|   81|   3| 481|  18|May-54|26.72|5.93|   27|  0|  1|    PAK|   Pakistan|  2017| ODI|Pakistan|       India|Champions Trophy|\n+--------------------+---------+---+----+-----+-----+----+----+----+------+-----+----+-----+---+---+-------+-----------+------+----+--------+------------+----------------+\nonly showing top 2 rows\n\n"
     ]
    }
   ],
   "source": [
    "high_impact_bowlers.show(2)"
   ]
  },
  {
   "cell_type": "code",
   "execution_count": 0,
   "metadata": {
    "application/vnd.databricks.v1+cell": {
     "cellMetadata": {
      "byteLimit": 2048000,
      "rowLimit": 10000
     },
     "inputWidgets": {},
     "nuid": "558dd473-cac3-4803-bd63-aae4e6204d36",
     "showTitle": false,
     "tableResultSettingsMap": {},
     "title": ""
    }
   },
   "outputs": [
    {
     "output_type": "stream",
     "name": "stdout",
     "output_type": "stream",
     "text": [
      "+------------------+---------+---+----+-----+-----+----+----+----+------+-----+----+-----+---+---+-------+-----------+\n|            Player|     Span|Mat|Inns|Balls|Overs|Mdns|Runs|Wkts|   BBI|  Ave|Econ|   SR|  4|  5|Country|CountryName|\n+------------------+---------+---+----+-----+-----+----+----+----+------+-----+----+-----+---+---+-------+-----------+\n|    Mohammad Nabi |2016-2016|  7|   7|  162|   27|   1| 164|  12|Apr-20|13.66|6.07| 13.5|  1|  0|    AFG|Afghanistan|\n|      Rashid Khan |2016-2016|  7|   7|  168|   28|   0| 183|  11|03-Nov|16.63|6.53|15.27|  0|  0|    AFG|Afghanistan|\n|       MJ Santner |2016-2016|  5|   5|  109| 18.1|   0| 114|  10|04-Nov| 11.4|6.27| 10.9|  1|  0|    NZ)|New Zealand|\n|         IS Sodhi |2016-2016|  5|   5|  118| 19.4|   0| 120|  10|Mar-18|   12| 6.1| 11.8|  0|  0|    NZ)|New Zealand|\n|        DJ Willey |2016-2016|  6|   6|  126|   21|   0| 159|  10|Mar-20| 15.9|7.57| 12.6|  0|  0|    ENG|    England|\n|  Shakib Al Hasan |2016-2016|  7|   6|  138|   23|   0| 166|  10|Apr-15| 16.6|7.21| 13.8|  1|  0|    BAN| Bangladesh|\n|Mustafizur Rahman |2016-2016|  3|   3|   72|   12|   0|  86|   9|May-22| 9.55|7.16|    8|  0|  1|    BAN| Bangladesh|\n|         S Badree |2016-2016|  6|   6|  138|   23|   1| 124|   9|03-Dec|13.77|5.39|15.33|  0|  0|    WI)|West Indies|\n|       AD Russell |2016-2016|  6|   6|  144|   24|   0| 189|   9|Feb-23|   21|7.87|   16|  0|  0|    WI)|West Indies|\n|         DJ Bravo |2016-2016|  6|   6|  144|   24|   0| 190|   9|Mar-37|21.11|7.91|   16|  0|  0|    WI)|West Indies|\n+------------------+---------+---+----+-----+-----+----+----+----+------+-----+----+-----+---+---+-------+-----------+\nonly showing top 10 rows\n\n"
     ]
    }
   ],
   "source": [
    "most_wickets_final_df123.show(10)"
   ]
  },
  {
   "cell_type": "code",
   "execution_count": 0,
   "metadata": {
    "application/vnd.databricks.v1+cell": {
     "cellMetadata": {
      "byteLimit": 2048000,
      "rowLimit": 10000
     },
     "inputWidgets": {},
     "nuid": "a7f2b7a0-1917-45a0-be32-0b6e571588eb",
     "showTitle": false,
     "tableResultSettingsMap": {},
     "title": ""
    }
   },
   "outputs": [
    {
     "output_type": "stream",
     "name": "stdout",
     "output_type": "stream",
     "text": [
      "+------------+-----------+------------+---------+------------+------------+----------+\n|      Team 1|     Team 2|      Winner|   Margin|      Ground|  Match Date| Scorecard|\n+------------+-----------+------------+---------+------------+------------+----------+\n|     England|West Indies| West Indies|4 wickets|Eden Gardens| Apr 3, 2016|T20I # 557|\n|       India|West Indies| West Indies|7 wickets|    Wankhede|Mar 31, 2016|T20I # 556|\n|     England|New Zealand|     England|7 wickets|       Delhi|Mar 30, 2016|T20I # 555|\n|South Africa|  Sri Lanka|South Africa|8 wickets|       Delhi|Mar 28, 2016|T20I # 554|\n|       India|  Australia|       India|6 wickets|      Mohali|Mar 27, 2016|T20I # 553|\n| Afghanistan|West Indies| Afghanistan|   6 runs|      Nagpur|Mar 27, 2016|T20I # 552|\n|     England|  Sri Lanka|     England|  10 runs|       Delhi|Mar 26, 2016|T20I # 551|\n|  Bangladesh|New Zealand| New Zealand|  75 runs|Eden Gardens|Mar 26, 2016|T20I # 550|\n|South Africa|West Indies| West Indies|3 wickets|      Nagpur|Mar 25, 2016|T20I # 549|\n|   Australia|   Pakistan|   Australia|  21 runs|      Mohali|Mar 25, 2016|T20I # 548|\n+------------+-----------+------------+---------+------------+------------+----------+\nonly showing top 10 rows\n\n"
     ]
    }
   ],
   "source": [
    "wc_match_winners_df.show(10)"
   ]
  },
  {
   "cell_type": "code",
   "execution_count": 0,
   "metadata": {
    "application/vnd.databricks.v1+cell": {
     "cellMetadata": {
      "byteLimit": 2048000,
      "rowLimit": 10000
     },
     "inputWidgets": {},
     "nuid": "8b6a0dcf-e3a0-4300-997c-38ab7457c113",
     "showTitle": false,
     "tableResultSettingsMap": {},
     "title": ""
    }
   },
   "outputs": [],
   "source": [
    "wc_match_winners_df_new = wc_match_winners_df.withColumn(\"Year_of_Match\", split(col(\"Match Date\"), r\"\\,\").getItem(1))"
   ]
  },
  {
   "cell_type": "code",
   "execution_count": 0,
   "metadata": {
    "application/vnd.databricks.v1+cell": {
     "cellMetadata": {
      "byteLimit": 2048000,
      "rowLimit": 10000
     },
     "inputWidgets": {},
     "nuid": "8ebd1f45-7273-4820-9bc7-280e227d74ee",
     "showTitle": false,
     "tableResultSettingsMap": {},
     "title": ""
    }
   },
   "outputs": [
    {
     "output_type": "stream",
     "name": "stdout",
     "output_type": "stream",
     "text": [
      "+------------+-----------+------------+---------+------------+------------+----------+-------------+\n|      Team 1|     Team 2|      Winner|   Margin|      Ground|  Match Date| Scorecard|Year_of_Match|\n+------------+-----------+------------+---------+------------+------------+----------+-------------+\n|     England|West Indies| West Indies|4 wickets|Eden Gardens| Apr 3, 2016|T20I # 557|         2016|\n|       India|West Indies| West Indies|7 wickets|    Wankhede|Mar 31, 2016|T20I # 556|         2016|\n|     England|New Zealand|     England|7 wickets|       Delhi|Mar 30, 2016|T20I # 555|         2016|\n|South Africa|  Sri Lanka|South Africa|8 wickets|       Delhi|Mar 28, 2016|T20I # 554|         2016|\n|       India|  Australia|       India|6 wickets|      Mohali|Mar 27, 2016|T20I # 553|         2016|\n| Afghanistan|West Indies| Afghanistan|   6 runs|      Nagpur|Mar 27, 2016|T20I # 552|         2016|\n|     England|  Sri Lanka|     England|  10 runs|       Delhi|Mar 26, 2016|T20I # 551|         2016|\n|  Bangladesh|New Zealand| New Zealand|  75 runs|Eden Gardens|Mar 26, 2016|T20I # 550|         2016|\n|South Africa|West Indies| West Indies|3 wickets|      Nagpur|Mar 25, 2016|T20I # 549|         2016|\n|   Australia|   Pakistan|   Australia|  21 runs|      Mohali|Mar 25, 2016|T20I # 548|         2016|\n+------------+-----------+------------+---------+------------+------------+----------+-------------+\nonly showing top 10 rows\n\n"
     ]
    }
   ],
   "source": [
    "wc_match_winners_df_new.show(10)"
   ]
  },
  {
   "cell_type": "code",
   "execution_count": 0,
   "metadata": {
    "application/vnd.databricks.v1+cell": {
     "cellMetadata": {
      "byteLimit": 2048000,
      "rowLimit": 10000
     },
     "inputWidgets": {},
     "nuid": "bd03100c-e3c9-4d36-82c1-870eadef5b0d",
     "showTitle": false,
     "tableResultSettingsMap": {},
     "title": ""
    }
   },
   "outputs": [],
   "source": [
    "most_wickets_final_df123_new = most_wickets_final_df123.withColumn(\"Year\", split(col(\"Span\"), r\"\\-\").getItem(0))"
   ]
  },
  {
   "cell_type": "code",
   "execution_count": 0,
   "metadata": {
    "application/vnd.databricks.v1+cell": {
     "cellMetadata": {
      "byteLimit": 2048000,
      "rowLimit": 10000
     },
     "inputWidgets": {},
     "nuid": "a71a220d-4150-4878-b11b-21281ceae3b5",
     "showTitle": false,
     "tableResultSettingsMap": {},
     "title": ""
    }
   },
   "outputs": [
    {
     "output_type": "stream",
     "name": "stdout",
     "output_type": "stream",
     "text": [
      "+------------------+---------+---+----+-----+-----+----+----+----+------+-----+----+-----+---+---+-------+-----------+----+\n|            Player|     Span|Mat|Inns|Balls|Overs|Mdns|Runs|Wkts|   BBI|  Ave|Econ|   SR|  4|  5|Country|CountryName|Year|\n+------------------+---------+---+----+-----+-----+----+----+----+------+-----+----+-----+---+---+-------+-----------+----+\n|    Mohammad Nabi |2016-2016|  7|   7|  162|   27|   1| 164|  12|Apr-20|13.66|6.07| 13.5|  1|  0|    AFG|Afghanistan|2016|\n|      Rashid Khan |2016-2016|  7|   7|  168|   28|   0| 183|  11|03-Nov|16.63|6.53|15.27|  0|  0|    AFG|Afghanistan|2016|\n|       MJ Santner |2016-2016|  5|   5|  109| 18.1|   0| 114|  10|04-Nov| 11.4|6.27| 10.9|  1|  0|    NZ)|New Zealand|2016|\n|         IS Sodhi |2016-2016|  5|   5|  118| 19.4|   0| 120|  10|Mar-18|   12| 6.1| 11.8|  0|  0|    NZ)|New Zealand|2016|\n|        DJ Willey |2016-2016|  6|   6|  126|   21|   0| 159|  10|Mar-20| 15.9|7.57| 12.6|  0|  0|    ENG|    England|2016|\n|  Shakib Al Hasan |2016-2016|  7|   6|  138|   23|   0| 166|  10|Apr-15| 16.6|7.21| 13.8|  1|  0|    BAN| Bangladesh|2016|\n|Mustafizur Rahman |2016-2016|  3|   3|   72|   12|   0|  86|   9|May-22| 9.55|7.16|    8|  0|  1|    BAN| Bangladesh|2016|\n|         S Badree |2016-2016|  6|   6|  138|   23|   1| 124|   9|03-Dec|13.77|5.39|15.33|  0|  0|    WI)|West Indies|2016|\n|       AD Russell |2016-2016|  6|   6|  144|   24|   0| 189|   9|Feb-23|   21|7.87|   16|  0|  0|    WI)|West Indies|2016|\n|         DJ Bravo |2016-2016|  6|   6|  144|   24|   0| 190|   9|Mar-37|21.11|7.91|   16|  0|  0|    WI)|West Indies|2016|\n+------------------+---------+---+----+-----+-----+----+----+----+------+-----+----+-----+---+---+-------+-----------+----+\nonly showing top 10 rows\n\n"
     ]
    }
   ],
   "source": [
    "most_wickets_final_df123_new.show(10)"
   ]
  },
  {
   "cell_type": "code",
   "execution_count": 0,
   "metadata": {
    "application/vnd.databricks.v1+cell": {
     "cellMetadata": {
      "byteLimit": 2048000,
      "rowLimit": 10000
     },
     "inputWidgets": {},
     "nuid": "d2271d60-56ab-4f64-91ba-c851984cf7e1",
     "showTitle": false,
     "tableResultSettingsMap": {},
     "title": ""
    }
   },
   "outputs": [],
   "source": [
    "wc_match_winners_economy_rates_df_winners = wc_match_winners_df_new.join(most_wickets_final_df123_new, wc_match_winners_df_new[\"Winner\"] == most_wickets_final_df123_new[\"CountryName\"]).groupBy([\"Year\", \"Player\", \"Winner\"]).agg(avg(col(\"Econ\")))"
   ]
  },
  {
   "cell_type": "code",
   "execution_count": 0,
   "metadata": {
    "application/vnd.databricks.v1+cell": {
     "cellMetadata": {
      "byteLimit": 2048000,
      "rowLimit": 10000
     },
     "inputWidgets": {},
     "nuid": "6cbd9776-61ac-4ec0-9bda-9eda6793f9f4",
     "showTitle": false,
     "tableResultSettingsMap": {},
     "title": ""
    }
   },
   "outputs": [
    {
     "output_type": "stream",
     "name": "stdout",
     "output_type": "stream",
     "text": [
      "+----+---------------+------------+------------------+\n|Year|         Player|      Winner|         avg(Econ)|\n+----+---------------+------------+------------------+\n|2024| Naveen-ul-Haq | Afghanistan|               6.0|\n|2024|    Haris Rauf |    Pakistan|6.7299999999999995|\n|2016| Mohammad Amir |    Pakistan| 7.860000000000006|\n|2017|     RA Jadeja |       India| 5.919999999999995|\n|2023|AL Phehlukwayo |South Africa| 5.139999999999999|\n|2022|   LH Ferguson | New Zealand| 8.360000000000005|\n|2016|  Hamid Hassan | Afghanistan| 6.290000000000002|\n|2017|    PJ Cummins |   Australia| 5.759999999999998|\n|2023|     JJ Bumrah |       India| 4.060000000000001|\n|2023|       L Ngidi |South Africa| 5.860000000000004|\n+----+---------------+------------+------------------+\nonly showing top 10 rows\n\n"
     ]
    }
   ],
   "source": [
    "wc_match_winners_economy_rates_df_winners.show(10)"
   ]
  },
  {
   "cell_type": "code",
   "execution_count": 0,
   "metadata": {
    "application/vnd.databricks.v1+cell": {
     "cellMetadata": {
      "byteLimit": 2048000,
      "rowLimit": 10000
     },
     "inputWidgets": {},
     "nuid": "f3af1b4d-fd74-43f7-8309-393402dd769a",
     "showTitle": false,
     "tableResultSettingsMap": {},
     "title": ""
    }
   },
   "outputs": [
    {
     "output_type": "stream",
     "name": "stdout",
     "output_type": "stream",
     "text": [
      "+------------+-----------+------------+---------+------------+------------+----------+-------------+\n|      Team 1|     Team 2|      Winner|   Margin|      Ground|  Match Date| Scorecard|Year_of_Match|\n+------------+-----------+------------+---------+------------+------------+----------+-------------+\n|     England|West Indies| West Indies|4 wickets|Eden Gardens| Apr 3, 2016|T20I # 557|         2016|\n|       India|West Indies| West Indies|7 wickets|    Wankhede|Mar 31, 2016|T20I # 556|         2016|\n|     England|New Zealand|     England|7 wickets|       Delhi|Mar 30, 2016|T20I # 555|         2016|\n|South Africa|  Sri Lanka|South Africa|8 wickets|       Delhi|Mar 28, 2016|T20I # 554|         2016|\n|       India|  Australia|       India|6 wickets|      Mohali|Mar 27, 2016|T20I # 553|         2016|\n| Afghanistan|West Indies| Afghanistan|   6 runs|      Nagpur|Mar 27, 2016|T20I # 552|         2016|\n|     England|  Sri Lanka|     England|  10 runs|       Delhi|Mar 26, 2016|T20I # 551|         2016|\n|  Bangladesh|New Zealand| New Zealand|  75 runs|Eden Gardens|Mar 26, 2016|T20I # 550|         2016|\n|South Africa|West Indies| West Indies|3 wickets|      Nagpur|Mar 25, 2016|T20I # 549|         2016|\n|   Australia|   Pakistan|   Australia|  21 runs|      Mohali|Mar 25, 2016|T20I # 548|         2016|\n+------------+-----------+------------+---------+------------+------------+----------+-------------+\nonly showing top 10 rows\n\n"
     ]
    }
   ],
   "source": [
    "wc_match_winners_df_new.show(10)"
   ]
  },
  {
   "cell_type": "code",
   "execution_count": 0,
   "metadata": {
    "application/vnd.databricks.v1+cell": {
     "cellMetadata": {
      "byteLimit": 2048000,
      "rowLimit": 10000
     },
     "inputWidgets": {},
     "nuid": "be9b996a-c3ee-45fe-97ac-b6a73e1a93cb",
     "showTitle": false,
     "tableResultSettingsMap": {},
     "title": ""
    }
   },
   "outputs": [],
   "source": [
    "wc_match_winners_df_new_margin = wc_match_winners_df_new.withColumn(\"Margin type\", split(col('Margin'), r\"\\ \").getItem(1))"
   ]
  },
  {
   "cell_type": "code",
   "execution_count": 0,
   "metadata": {
    "application/vnd.databricks.v1+cell": {
     "cellMetadata": {
      "byteLimit": 2048000,
      "rowLimit": 10000
     },
     "inputWidgets": {},
     "nuid": "a611f965-4017-46c3-a716-b13b16aa4646",
     "showTitle": false,
     "tableResultSettingsMap": {},
     "title": ""
    }
   },
   "outputs": [
    {
     "output_type": "stream",
     "name": "stdout",
     "output_type": "stream",
     "text": [
      "+------------+-----------+------------+---------+------------+------------+----------+-------------+-----------+\n|      Team 1|     Team 2|      Winner|   Margin|      Ground|  Match Date| Scorecard|Year_of_Match|Margin type|\n+------------+-----------+------------+---------+------------+------------+----------+-------------+-----------+\n|     England|West Indies| West Indies|4 wickets|Eden Gardens| Apr 3, 2016|T20I # 557|         2016|    wickets|\n|       India|West Indies| West Indies|7 wickets|    Wankhede|Mar 31, 2016|T20I # 556|         2016|    wickets|\n|     England|New Zealand|     England|7 wickets|       Delhi|Mar 30, 2016|T20I # 555|         2016|    wickets|\n|South Africa|  Sri Lanka|South Africa|8 wickets|       Delhi|Mar 28, 2016|T20I # 554|         2016|    wickets|\n|       India|  Australia|       India|6 wickets|      Mohali|Mar 27, 2016|T20I # 553|         2016|    wickets|\n| Afghanistan|West Indies| Afghanistan|   6 runs|      Nagpur|Mar 27, 2016|T20I # 552|         2016|       runs|\n|     England|  Sri Lanka|     England|  10 runs|       Delhi|Mar 26, 2016|T20I # 551|         2016|       runs|\n|  Bangladesh|New Zealand| New Zealand|  75 runs|Eden Gardens|Mar 26, 2016|T20I # 550|         2016|       runs|\n|South Africa|West Indies| West Indies|3 wickets|      Nagpur|Mar 25, 2016|T20I # 549|         2016|    wickets|\n|   Australia|   Pakistan|   Australia|  21 runs|      Mohali|Mar 25, 2016|T20I # 548|         2016|       runs|\n+------------+-----------+------------+---------+------------+------------+----------+-------------+-----------+\nonly showing top 10 rows\n\n"
     ]
    }
   ],
   "source": [
    "wc_match_winners_df_new_margin.show(10)"
   ]
  },
  {
   "cell_type": "code",
   "execution_count": 0,
   "metadata": {
    "application/vnd.databricks.v1+cell": {
     "cellMetadata": {
      "byteLimit": 2048000,
      "rowLimit": 10000
     },
     "inputWidgets": {},
     "nuid": "74e3bf55-ed03-4ba0-9c4f-c1b7da3bdc5a",
     "showTitle": false,
     "tableResultSettingsMap": {},
     "title": ""
    }
   },
   "outputs": [],
   "source": [
    "wc_match_winners_df_new_margin = wc_match_winners_df_new_margin.withColumn(\"Margin\", split(col('Margin'), r\"\\ \").getItem(0))"
   ]
  },
  {
   "cell_type": "code",
   "execution_count": 0,
   "metadata": {
    "application/vnd.databricks.v1+cell": {
     "cellMetadata": {
      "byteLimit": 2048000,
      "rowLimit": 10000
     },
     "inputWidgets": {},
     "nuid": "f225758e-3af8-447b-ba39-fd136ee20b41",
     "showTitle": false,
     "tableResultSettingsMap": {},
     "title": ""
    }
   },
   "outputs": [
    {
     "output_type": "stream",
     "name": "stdout",
     "output_type": "stream",
     "text": [
      "+------------+-----------+------------+------+------------+------------+----------+-------------+-----------+\n|      Team 1|     Team 2|      Winner|Margin|      Ground|  Match Date| Scorecard|Year_of_Match|Margin type|\n+------------+-----------+------------+------+------------+------------+----------+-------------+-----------+\n|     England|West Indies| West Indies|     4|Eden Gardens| Apr 3, 2016|T20I # 557|         2016|    wickets|\n|       India|West Indies| West Indies|     7|    Wankhede|Mar 31, 2016|T20I # 556|         2016|    wickets|\n|     England|New Zealand|     England|     7|       Delhi|Mar 30, 2016|T20I # 555|         2016|    wickets|\n|South Africa|  Sri Lanka|South Africa|     8|       Delhi|Mar 28, 2016|T20I # 554|         2016|    wickets|\n|       India|  Australia|       India|     6|      Mohali|Mar 27, 2016|T20I # 553|         2016|    wickets|\n| Afghanistan|West Indies| Afghanistan|     6|      Nagpur|Mar 27, 2016|T20I # 552|         2016|       runs|\n|     England|  Sri Lanka|     England|    10|       Delhi|Mar 26, 2016|T20I # 551|         2016|       runs|\n|  Bangladesh|New Zealand| New Zealand|    75|Eden Gardens|Mar 26, 2016|T20I # 550|         2016|       runs|\n|South Africa|West Indies| West Indies|     3|      Nagpur|Mar 25, 2016|T20I # 549|         2016|    wickets|\n|   Australia|   Pakistan|   Australia|    21|      Mohali|Mar 25, 2016|T20I # 548|         2016|       runs|\n+------------+-----------+------------+------+------------+------------+----------+-------------+-----------+\nonly showing top 10 rows\n\n"
     ]
    }
   ],
   "source": [
    "wc_match_winners_df_new_margin.show(10)"
   ]
  },
  {
   "cell_type": "code",
   "execution_count": 0,
   "metadata": {
    "application/vnd.databricks.v1+cell": {
     "cellMetadata": {
      "byteLimit": 2048000,
      "rowLimit": 10000
     },
     "inputWidgets": {},
     "nuid": "20dedf69-62b9-4df4-849a-ccfb449d3406",
     "showTitle": false,
     "tableResultSettingsMap": {},
     "title": ""
    }
   },
   "outputs": [
    {
     "output_type": "stream",
     "name": "stdout",
     "output_type": "stream",
     "text": [
      "Out[108]: [('Team 1', 'string'),\n ('Team 2', 'string'),\n ('Winner', 'string'),\n ('Margin', 'string'),\n ('Ground', 'string'),\n ('Match Date', 'string'),\n ('Scorecard', 'string'),\n ('Year_of_Match', 'string'),\n ('Margin type', 'string')]"
     ]
    }
   ],
   "source": [
    "wc_match_winners_df_new_margin.dtypes"
   ]
  },
  {
   "cell_type": "code",
   "execution_count": 0,
   "metadata": {
    "application/vnd.databricks.v1+cell": {
     "cellMetadata": {
      "byteLimit": 2048000,
      "rowLimit": 10000
     },
     "inputWidgets": {},
     "nuid": "232886dc-703c-43ad-bf59-86ea583eff07",
     "showTitle": false,
     "tableResultSettingsMap": {},
     "title": ""
    }
   },
   "outputs": [],
   "source": [
    "wc_match_winners_df_new_margin = wc_match_winners_df_new_margin.withColumn(\"Margin\", col(\"Margin\").cast(\"int\"))"
   ]
  },
  {
   "cell_type": "code",
   "execution_count": 0,
   "metadata": {
    "application/vnd.databricks.v1+cell": {
     "cellMetadata": {
      "byteLimit": 2048000,
      "rowLimit": 10000
     },
     "inputWidgets": {},
     "nuid": "eaa3989d-4792-43d8-afeb-1601175a3591",
     "showTitle": false,
     "tableResultSettingsMap": {},
     "title": ""
    }
   },
   "outputs": [
    {
     "output_type": "stream",
     "name": "stdout",
     "output_type": "stream",
     "text": [
      "Out[110]: [('Team 1', 'string'),\n ('Team 2', 'string'),\n ('Winner', 'string'),\n ('Margin', 'int'),\n ('Ground', 'string'),\n ('Match Date', 'string'),\n ('Scorecard', 'string'),\n ('Year_of_Match', 'string'),\n ('Margin type', 'string')]"
     ]
    }
   ],
   "source": [
    "wc_match_winners_df_new_margin.dtypes"
   ]
  },
  {
   "cell_type": "code",
   "execution_count": 0,
   "metadata": {
    "application/vnd.databricks.v1+cell": {
     "cellMetadata": {
      "byteLimit": 2048000,
      "rowLimit": 10000
     },
     "inputWidgets": {},
     "nuid": "4a0095dc-1ced-4c74-9a5f-7394156f992d",
     "showTitle": false,
     "tableResultSettingsMap": {},
     "title": ""
    }
   },
   "outputs": [
    {
     "output_type": "stream",
     "name": "stdout",
     "output_type": "stream",
     "text": [
      "+------------+-----------+------------+------+------------+------------+----------+-------------+-----------+\n|      Team 1|     Team 2|      Winner|Margin|      Ground|  Match Date| Scorecard|Year_of_Match|Margin type|\n+------------+-----------+------------+------+------------+------------+----------+-------------+-----------+\n|     England|West Indies| West Indies|     4|Eden Gardens| Apr 3, 2016|T20I # 557|         2016|    wickets|\n|       India|West Indies| West Indies|     7|    Wankhede|Mar 31, 2016|T20I # 556|         2016|    wickets|\n|     England|New Zealand|     England|     7|       Delhi|Mar 30, 2016|T20I # 555|         2016|    wickets|\n|South Africa|  Sri Lanka|South Africa|     8|       Delhi|Mar 28, 2016|T20I # 554|         2016|    wickets|\n|       India|  Australia|       India|     6|      Mohali|Mar 27, 2016|T20I # 553|         2016|    wickets|\n| Afghanistan|West Indies| Afghanistan|     6|      Nagpur|Mar 27, 2016|T20I # 552|         2016|       runs|\n|     England|  Sri Lanka|     England|    10|       Delhi|Mar 26, 2016|T20I # 551|         2016|       runs|\n|  Bangladesh|New Zealand| New Zealand|    75|Eden Gardens|Mar 26, 2016|T20I # 550|         2016|       runs|\n|South Africa|West Indies| West Indies|     3|      Nagpur|Mar 25, 2016|T20I # 549|         2016|    wickets|\n|   Australia|   Pakistan|   Australia|    21|      Mohali|Mar 25, 2016|T20I # 548|         2016|       runs|\n+------------+-----------+------------+------+------------+------------+----------+-------------+-----------+\nonly showing top 10 rows\n\n"
     ]
    }
   ],
   "source": [
    "wc_match_winners_df_new_margin.show(10)"
   ]
  },
  {
   "cell_type": "code",
   "execution_count": 0,
   "metadata": {
    "application/vnd.databricks.v1+cell": {
     "cellMetadata": {
      "byteLimit": 2048000,
      "rowLimit": 10000
     },
     "inputWidgets": {},
     "nuid": "67ba8552-7066-482e-97b0-84cc21717155",
     "showTitle": false,
     "tableResultSettingsMap": {},
     "title": ""
    }
   },
   "outputs": [],
   "source": [
    "\n",
    "wc_match_winners_df_new_margin = wc_match_winners_df_new_margin.withColumn(\n",
    "    \"Type of win\",\n",
    "    when(\n",
    "        ((col(\"Margin type\") == \"wickets\") & (col(\"Margin\") < 3)) | \n",
    "        ((col(\"Margin type\") == \"runs\") & (col(\"Margin\") < 20)),\n",
    "        \"Close Win\"\n",
    "    ).otherwise(\"Dominant win\")\n",
    ")"
   ]
  },
  {
   "cell_type": "code",
   "execution_count": 0,
   "metadata": {
    "application/vnd.databricks.v1+cell": {
     "cellMetadata": {
      "byteLimit": 2048000,
      "rowLimit": 10000
     },
     "inputWidgets": {},
     "nuid": "20127b59-a041-482f-bbe1-8287c4bd8d02",
     "showTitle": false,
     "tableResultSettingsMap": {},
     "title": ""
    }
   },
   "outputs": [
    {
     "output_type": "stream",
     "name": "stdout",
     "output_type": "stream",
     "text": [
      "+------------+------------+------------+------+------------+------------+----------+-------------+-----------+------------+\n|      Team 1|      Team 2|      Winner|Margin|      Ground|  Match Date| Scorecard|Year_of_Match|Margin type| Type of win|\n+------------+------------+------------+------+------------+------------+----------+-------------+-----------+------------+\n|     England| West Indies| West Indies|     4|Eden Gardens| Apr 3, 2016|T20I # 557|         2016|    wickets|Dominant win|\n|       India| West Indies| West Indies|     7|    Wankhede|Mar 31, 2016|T20I # 556|         2016|    wickets|Dominant win|\n|     England| New Zealand|     England|     7|       Delhi|Mar 30, 2016|T20I # 555|         2016|    wickets|Dominant win|\n|South Africa|   Sri Lanka|South Africa|     8|       Delhi|Mar 28, 2016|T20I # 554|         2016|    wickets|Dominant win|\n|       India|   Australia|       India|     6|      Mohali|Mar 27, 2016|T20I # 553|         2016|    wickets|Dominant win|\n| Afghanistan| West Indies| Afghanistan|     6|      Nagpur|Mar 27, 2016|T20I # 552|         2016|       runs|   Close Win|\n|     England|   Sri Lanka|     England|    10|       Delhi|Mar 26, 2016|T20I # 551|         2016|       runs|   Close Win|\n|  Bangladesh| New Zealand| New Zealand|    75|Eden Gardens|Mar 26, 2016|T20I # 550|         2016|       runs|Dominant win|\n|South Africa| West Indies| West Indies|     3|      Nagpur|Mar 25, 2016|T20I # 549|         2016|    wickets|Dominant win|\n|   Australia|    Pakistan|   Australia|    21|      Mohali|Mar 25, 2016|T20I # 548|         2016|       runs|Dominant win|\n|       India|  Bangladesh|       India|     1|   Bengaluru|Mar 23, 2016|T20I # 547|         2016|        run|Dominant win|\n| Afghanistan|     England|     England|    15|       Delhi|Mar 23, 2016|T20I # 546|         2016|       runs|   Close Win|\n| New Zealand|    Pakistan| New Zealand|    22|      Mohali|Mar 22, 2016|T20I # 545|         2016|       runs|Dominant win|\n|   Australia|  Bangladesh|   Australia|     3|   Bengaluru|Mar 21, 2016|T20I # 544|         2016|    wickets|Dominant win|\n|   Sri Lanka| West Indies| West Indies|     7|   Bengaluru|Mar 20, 2016|T20I # 543|         2016|    wickets|Dominant win|\n| Afghanistan|South Africa|South Africa|    37|    Wankhede|Mar 20, 2016|T20I # 542|         2016|       runs|Dominant win|\n|       India|    Pakistan|       India|     6|Eden Gardens|Mar 19, 2016|T20I # 541|         2016|    wickets|Dominant win|\n|     England|South Africa|     England|     2|    Wankhede|Mar 18, 2016|T20I # 540|         2016|    wickets|   Close Win|\n|   Australia| New Zealand| New Zealand|     8|  Dharamsala|Mar 18, 2016|T20I # 539|         2016|       runs|   Close Win|\n| Afghanistan|   Sri Lanka|   Sri Lanka|     6|Eden Gardens|Mar 17, 2016|T20I # 538|         2016|    wickets|Dominant win|\n+------------+------------+------------+------+------------+------------+----------+-------------+-----------+------------+\nonly showing top 20 rows\n\n"
     ]
    }
   ],
   "source": [
    "wc_match_winners_df_new_margin.show(20)"
   ]
  },
  {
   "cell_type": "code",
   "execution_count": 0,
   "metadata": {
    "application/vnd.databricks.v1+cell": {
     "cellMetadata": {
      "byteLimit": 2048000,
      "rowLimit": 10000
     },
     "inputWidgets": {},
     "nuid": "a37ec20b-dd9e-4a19-8c65-f21f54bbb7d7",
     "showTitle": false,
     "tableResultSettingsMap": {},
     "title": ""
    }
   },
   "outputs": [
    {
     "output_type": "stream",
     "name": "stdout",
     "output_type": "stream",
     "text": [
      "+----------------+---------+---+-----+----+-----+----+----+------+-----+----+----+---+---+---+-------+------------+\n|          Player|     Span|Mat|Overs|Mdns|Balls|Runs|Wkts|   BBI|  Ave|Econ|  SR|  4|  5| 10|Country| CountryName|\n+----------------+---------+---+-----+----+-----+----+----+------+-----+----+----+---+---+---+-------+------------+\n|    NL McCullum |2016-2016|  2|    5|   -|   30|  21|   3|Feb-15|    7| 4.2|  10|  -|  -|  -|    NZ)| New Zealand|\n|PA van Meekeren |2016-2016|  3|    6|   -|   36|  28|   6|04-Nov| 4.66|4.66|   6|  1|  -|  -|   NED)| Netherlands|\n|    CD de Lange |2016-2016|  1|    4|   -|   24|  19|   1|Jan-19|   19|4.75|  24|  -|  -|  -|  SCOT)|     Unknown|\n|       SK Raina |2016-2016|  5|    6|   -|   36|  29|   3|01-Apr| 9.66|4.83|  12|  -|  -|  -|   IND)|       India|\n|  JDF Vandersay |2016-2016|  3|   12|   1|   72|  62|   3|Feb-26|20.66|5.16|  24|  -|  -|  -|    SL)|   Sri Lanka|\n|    Imran Tahir |2016-2016|  4|   16|   -|   96|  83|   6|Feb-13|13.83|5.18|  16|  -|  -|  -|    SA)|South Africa|\n|       S Badree |2016-2016|  6|   23|   1|  138| 124|   9|03-Dec|13.77|5.39|15.3|  -|  -|  -|    WI)| West Indies|\n|    AM Phangiso |2016-2016|  2|    8|   -|   48|  45|   3|Feb-26|   15|5.62|  16|  -|  -|  -|    SA)|South Africa|\n|     GD Elliott |2016-2016|  5|   13|   -|   78|  75|   3|03-Dec|   25|5.76|  26|  -|  -|  -|    NZ)| New Zealand|\n|        A Nehra |2016-2016|  5|   19|   1|  114| 113|   5|Jan-20| 22.6|5.94|22.8|  -|  -|  -|   IND)|       India|\n+----------------+---------+---+-----+----+-----+----+----+------+-----+----+----+---+---+---+-------+------------+\nonly showing top 10 rows\n\n"
     ]
    }
   ],
   "source": [
    "economy_rate_df_new.show(10)"
   ]
  },
  {
   "cell_type": "code",
   "execution_count": 0,
   "metadata": {
    "application/vnd.databricks.v1+cell": {
     "cellMetadata": {
      "byteLimit": 2048000,
      "rowLimit": 10000
     },
     "inputWidgets": {},
     "nuid": "defe6a9e-82cd-4f95-95b8-9b9a4e1170e9",
     "showTitle": false,
     "tableResultSettingsMap": {},
     "title": ""
    }
   },
   "outputs": [],
   "source": [
    "#Analyse the dominant wins of the champions vs non champions\n",
    "\n",
    "type_of_wins_winners_df = wc_match_winners_df_new_margin.join(wc_winners_df, wc_match_winners_df_new_margin['Winner'] == wc_winners_df[\"Winner\"], how=\"inner\")"
   ]
  },
  {
   "cell_type": "code",
   "execution_count": 0,
   "metadata": {
    "application/vnd.databricks.v1+cell": {
     "cellMetadata": {
      "byteLimit": 2048000,
      "rowLimit": 10000
     },
     "inputWidgets": {},
     "nuid": "8d393c9f-068e-45cd-919b-86c2553e33d9",
     "showTitle": false,
     "tableResultSettingsMap": {},
     "title": ""
    }
   },
   "outputs": [
    {
     "output_type": "stream",
     "name": "stdout",
     "output_type": "stream",
     "text": [
      "+------------+------------+-----------+------+------------+------------+----------+-------------+-----------+------------+------+----+-----------+------------+----------+\n|      Team 1|      Team 2|     Winner|Margin|      Ground|  Match Date| Scorecard|Year_of_Match|Margin type| Type of win|Series|Type|     Winner|      Runner|Tournament|\n+------------+------------+-----------+------+------------+------------+----------+-------------+-----------+------------+------+----+-----------+------------+----------+\n|     England| West Indies|West Indies|     4|Eden Gardens| Apr 3, 2016|T20I # 557|         2016|    wickets|Dominant win|  2016| T20|West Indies|     England|    T20 WC|\n|       India| West Indies|West Indies|     7|    Wankhede|Mar 31, 2016|T20I # 556|         2016|    wickets|Dominant win|  2016| T20|West Indies|     England|    T20 WC|\n|     England| New Zealand|    England|     7|       Delhi|Mar 30, 2016|T20I # 555|         2016|    wickets|Dominant win|  2022| T20|    England|    Pakistan|    T20 WC|\n|     England| New Zealand|    England|     7|       Delhi|Mar 30, 2016|T20I # 555|         2016|    wickets|Dominant win|  2019| ODI|    England| New Zealand|    ODI WC|\n|       India|   Australia|      India|     6|      Mohali|Mar 27, 2016|T20I # 553|         2016|    wickets|Dominant win|  2024| T20|      India|South Africa|    T20 WC|\n|     England|   Sri Lanka|    England|    10|       Delhi|Mar 26, 2016|T20I # 551|         2016|       runs|   Close Win|  2022| T20|    England|    Pakistan|    T20 WC|\n|     England|   Sri Lanka|    England|    10|       Delhi|Mar 26, 2016|T20I # 551|         2016|       runs|   Close Win|  2019| ODI|    England| New Zealand|    ODI WC|\n|South Africa| West Indies|West Indies|     3|      Nagpur|Mar 25, 2016|T20I # 549|         2016|    wickets|Dominant win|  2016| T20|West Indies|     England|    T20 WC|\n|   Australia|    Pakistan|  Australia|    21|      Mohali|Mar 25, 2016|T20I # 548|         2016|       runs|Dominant win|  2023| ODI|  Australia|       India|    ODI WC|\n|   Australia|    Pakistan|  Australia|    21|      Mohali|Mar 25, 2016|T20I # 548|         2016|       runs|Dominant win|  2021| T20|  Australia| New Zealand|    T20 WC|\n|       India|  Bangladesh|      India|     1|   Bengaluru|Mar 23, 2016|T20I # 547|         2016|        run|Dominant win|  2024| T20|      India|South Africa|    T20 WC|\n| Afghanistan|     England|    England|    15|       Delhi|Mar 23, 2016|T20I # 546|         2016|       runs|   Close Win|  2022| T20|    England|    Pakistan|    T20 WC|\n| Afghanistan|     England|    England|    15|       Delhi|Mar 23, 2016|T20I # 546|         2016|       runs|   Close Win|  2019| ODI|    England| New Zealand|    ODI WC|\n|   Australia|  Bangladesh|  Australia|     3|   Bengaluru|Mar 21, 2016|T20I # 544|         2016|    wickets|Dominant win|  2023| ODI|  Australia|       India|    ODI WC|\n|   Australia|  Bangladesh|  Australia|     3|   Bengaluru|Mar 21, 2016|T20I # 544|         2016|    wickets|Dominant win|  2021| T20|  Australia| New Zealand|    T20 WC|\n|   Sri Lanka| West Indies|West Indies|     7|   Bengaluru|Mar 20, 2016|T20I # 543|         2016|    wickets|Dominant win|  2016| T20|West Indies|     England|    T20 WC|\n|       India|    Pakistan|      India|     6|Eden Gardens|Mar 19, 2016|T20I # 541|         2016|    wickets|Dominant win|  2024| T20|      India|South Africa|    T20 WC|\n|     England|South Africa|    England|     2|    Wankhede|Mar 18, 2016|T20I # 540|         2016|    wickets|   Close Win|  2022| T20|    England|    Pakistan|    T20 WC|\n|     England|South Africa|    England|     2|    Wankhede|Mar 18, 2016|T20I # 540|         2016|    wickets|   Close Win|  2019| ODI|    England| New Zealand|    ODI WC|\n|     England| West Indies|West Indies|     6|    Wankhede|Mar 16, 2016|T20I # 537|         2016|    wickets|Dominant win|  2016| T20|West Indies|     England|    T20 WC|\n+------------+------------+-----------+------+------------+------------+----------+-------------+-----------+------------+------+----+-----------+------------+----------+\nonly showing top 20 rows\n\n"
     ]
    }
   ],
   "source": [
    "type_of_wins_winners_df.show(20)"
   ]
  },
  {
   "cell_type": "code",
   "execution_count": 0,
   "metadata": {
    "application/vnd.databricks.v1+cell": {
     "cellMetadata": {
      "byteLimit": 2048000,
      "rowLimit": 10000
     },
     "inputWidgets": {},
     "nuid": "96f940d0-1ec8-4ba0-a815-6330968d3728",
     "showTitle": false,
     "tableResultSettingsMap": {},
     "title": ""
    }
   },
   "outputs": [],
   "source": [
    "from pyspark.sql.functions import count, trim\n",
    "column_names = type_of_wins_winners_df.columns\n",
    "column_names[12] = \"Champion\"\n",
    "type_of_wins_winners_df_1 = type_of_wins_winners_df.toDF(*column_names)\n",
    "\n",
    "type_of_wins_winners_df_1 = type_of_wins_winners_df_1.groupBy(\n",
    "    [\"Series\", \"Tournament\", \"Year_of_Match\"]\n",
    ").agg(\n",
    "    count(when(col(\"Type of win\") == 'Dominant win', True)).alias(\"Dominant Win by Winners\"),\n",
    "    count(\"Champion\").alias(\"Total Matches Won\")\n",
    ").withColumn(\"Dominant win% by Winners\", col(\"Dominant Win by Winners\") / col(\"Total Matches Won\") * 100)\n",
    "\n",
    "\n"
   ]
  },
  {
   "cell_type": "code",
   "execution_count": 0,
   "metadata": {
    "application/vnd.databricks.v1+cell": {
     "cellMetadata": {
      "byteLimit": 2048000,
      "rowLimit": 10000
     },
     "inputWidgets": {},
     "nuid": "103ddd4d-74b7-4e11-9208-975a31948b5c",
     "showTitle": false,
     "tableResultSettingsMap": {},
     "title": ""
    }
   },
   "outputs": [
    {
     "output_type": "stream",
     "name": "stdout",
     "output_type": "stream",
     "text": [
      "+------+----------------+-------------+-----------------------+-----------------+------------------------+\n|Series|      Tournament|Year_of_Match|Dominant Win by Winners|Total Matches Won|Dominant win% by Winners|\n+------+----------------+-------------+-----------------------+-----------------+------------------------+\n|  2019|          ODI WC|         2019|                      7|                7|                   100.0|\n|  2021|          T20 WC|         2021|                      6|                6|                   100.0|\n|  2023|          ODI WC|         2023|                      8|                9|       88.88888888888889|\n|  2016|          T20 WC|         2016|                      5|                5|                   100.0|\n|  2017|Champions Trophy|         2017|                      3|                4|                    75.0|\n|  2022|          T20 WC|         2022|                      5|                5|                   100.0|\n|  2024|          T20 WC|         2024|                      6|                8|                    75.0|\n+------+----------------+-------------+-----------------------+-----------------+------------------------+\n\n"
     ]
    }
   ],
   "source": [
    "type_of_wins_winners_df_1 = type_of_wins_winners_df_1.filter(trim(col(\"Series\")) == trim(col(\"Year_of_Match\")))\n",
    "\n",
    "type_of_wins_winners_df_1.show(10)"
   ]
  },
  {
   "cell_type": "code",
   "execution_count": 0,
   "metadata": {
    "application/vnd.databricks.v1+cell": {
     "cellMetadata": {
      "byteLimit": 2048000,
      "rowLimit": 10000
     },
     "inputWidgets": {},
     "nuid": "37c04398-3d03-4eea-a38f-a183d0e345bb",
     "showTitle": false,
     "tableResultSettingsMap": {},
     "title": ""
    }
   },
   "outputs": [
    {
     "output_type": "stream",
     "name": "stdout",
     "output_type": "stream",
     "text": [
      "+-------+-----------+-----------+------+------------+------------+----------+-------------+-----------+------------+------+----+---------+------------+----------------+\n| Team 1|     Team 2|     Winner|Margin|      Ground|  Match Date| Scorecard|Year_of_Match|Margin type| Type of win|Series|Type|   Winner|      Runner|      Tournament|\n+-------+-----------+-----------+------+------------+------------+----------+-------------+-----------+------------+------+----+---------+------------+----------------+\n|England|West Indies|West Indies|     4|Eden Gardens| Apr 3, 2016|T20I # 557|         2016|    wickets|Dominant win|  2017| ODI| Pakistan|       India|Champions Trophy|\n|England|West Indies|West Indies|     4|Eden Gardens| Apr 3, 2016|T20I # 557|         2016|    wickets|Dominant win|  2019| ODI|  England| New Zealand|          ODI WC|\n|England|West Indies|West Indies|     4|Eden Gardens| Apr 3, 2016|T20I # 557|         2016|    wickets|Dominant win|  2021| T20|Australia| New Zealand|          T20 WC|\n|England|West Indies|West Indies|     4|Eden Gardens| Apr 3, 2016|T20I # 557|         2016|    wickets|Dominant win|  2022| T20|  England|    Pakistan|          T20 WC|\n|England|West Indies|West Indies|     4|Eden Gardens| Apr 3, 2016|T20I # 557|         2016|    wickets|Dominant win|  2023| ODI|Australia|       India|          ODI WC|\n|England|West Indies|West Indies|     4|Eden Gardens| Apr 3, 2016|T20I # 557|         2016|    wickets|Dominant win|  2024| T20|    India|South Africa|          T20 WC|\n|  India|West Indies|West Indies|     7|    Wankhede|Mar 31, 2016|T20I # 556|         2016|    wickets|Dominant win|  2017| ODI| Pakistan|       India|Champions Trophy|\n|  India|West Indies|West Indies|     7|    Wankhede|Mar 31, 2016|T20I # 556|         2016|    wickets|Dominant win|  2019| ODI|  England| New Zealand|          ODI WC|\n|  India|West Indies|West Indies|     7|    Wankhede|Mar 31, 2016|T20I # 556|         2016|    wickets|Dominant win|  2021| T20|Australia| New Zealand|          T20 WC|\n|  India|West Indies|West Indies|     7|    Wankhede|Mar 31, 2016|T20I # 556|         2016|    wickets|Dominant win|  2022| T20|  England|    Pakistan|          T20 WC|\n+-------+-----------+-----------+------+------------+------------+----------+-------------+-----------+------------+------+----+---------+------------+----------------+\nonly showing top 10 rows\n\n"
     ]
    }
   ],
   "source": [
    "type_of_wins_winners_df_non_winners = wc_match_winners_df_new_margin.join(wc_winners_df, wc_match_winners_df_new_margin['Winner'] != wc_winners_df[\"Winner\"], how=\"inner\")\n",
    "\n",
    "type_of_wins_winners_df_non_winners.show(10)\n"
   ]
  },
  {
   "cell_type": "code",
   "execution_count": 0,
   "metadata": {
    "application/vnd.databricks.v1+cell": {
     "cellMetadata": {
      "byteLimit": 2048000,
      "rowLimit": 10000
     },
     "inputWidgets": {},
     "nuid": "ba07f606-c144-4be0-908b-67db90194aa6",
     "showTitle": false,
     "tableResultSettingsMap": {},
     "title": ""
    }
   },
   "outputs": [
    {
     "output_type": "stream",
     "name": "stdout",
     "output_type": "stream",
     "text": [
      "+-------------+----------------+---------------------------+--------------------------------+----------------------------+\n|Year_of_Match|      Tournament|Dominant Win by Non Winners|Total Matches Won by Non Winners|Dominant win% by Non Winners|\n+-------------+----------------+---------------------------+--------------------------------+----------------------------+\n|         2023|          ODI WC|                         39|                              39|                       100.0|\n|         2024|          T20 WC|                         37|                              44|            84.0909090909091|\n|         2022|          T20 WC|                         29|                              37|           78.37837837837837|\n|         2017|Champions Trophy|                         11|                              11|                       100.0|\n|         2021|          T20 WC|                         34|                              39|           87.17948717948718|\n|         2019|          ODI WC|                         31|                              38|           81.57894736842105|\n|         2016|          T20 WC|                         19|                              30|           63.33333333333333|\n+-------------+----------------+---------------------------+--------------------------------+----------------------------+\n\n"
     ]
    }
   ],
   "source": [
    "col_names = type_of_wins_winners_df_non_winners.columns\n",
    "col_names[12] = \"Champion\"\n",
    "type_of_wins_winners_df_non_winners_1 = type_of_wins_winners_df_non_winners.toDF(*col_names)\n",
    "\n",
    "\n",
    "type_of_wins_winners_df_non_winners_1 = type_of_wins_winners_df_non_winners_1.filter(trim(col(\"Series\")) == trim(col(\"Year_of_Match\"))).groupBy(\n",
    "    [\"Year_of_Match\", \"Tournament\"]\n",
    ").agg(\n",
    "    count(when(col(\"Type of win\") == 'Dominant win', True)).alias(\"Dominant Win by Non Winners\"),\n",
    "    count(\"Winner\").alias(\"Total Matches Won by Non Winners\")\n",
    ").withColumn(\"Dominant win% by Non Winners\", col(\"Dominant Win by Non Winners\") / col(\"Total Matches Won by Non Winners\") * 100)\n",
    "\n",
    "\n",
    "\n",
    "type_of_wins_winners_df_non_winners_1.show(10)"
   ]
  },
  {
   "cell_type": "code",
   "execution_count": 0,
   "metadata": {
    "application/vnd.databricks.v1+cell": {
     "cellMetadata": {
      "byteLimit": 2048000,
      "rowLimit": 10000
     },
     "inputWidgets": {},
     "nuid": "2bcdf590-684b-4393-bd51-401e5d5d6ea9",
     "showTitle": false,
     "tableResultSettingsMap": {},
     "title": ""
    }
   },
   "outputs": [
    {
     "output_type": "stream",
     "name": "stdout",
     "output_type": "stream",
     "text": [
      "+-------------+----------------+---------------------------+--------------------------------+----------------------------+\n|Year_of_Match|      Tournament|Dominant Win by Non Winners|Total Matches Won by Non Winners|Dominant win% by Non Winners|\n+-------------+----------------+---------------------------+--------------------------------+----------------------------+\n|         2023|          ODI WC|                         39|                              39|                       100.0|\n|         2024|          T20 WC|                         37|                              44|            84.0909090909091|\n|         2022|          T20 WC|                         29|                              37|           78.37837837837837|\n|         2017|Champions Trophy|                         11|                              11|                       100.0|\n|         2021|          T20 WC|                         34|                              39|           87.17948717948718|\n|         2019|          ODI WC|                         31|                              38|           81.57894736842105|\n|         2016|          T20 WC|                         19|                              30|           63.33333333333333|\n+-------------+----------------+---------------------------+--------------------------------+----------------------------+\n\n"
     ]
    }
   ],
   "source": [
    "\n",
    "\n",
    "type_of_wins_winners_df_non_winners_1.show(10)"
   ]
  },
  {
   "cell_type": "code",
   "execution_count": 0,
   "metadata": {
    "application/vnd.databricks.v1+cell": {
     "cellMetadata": {
      "byteLimit": 2048000,
      "rowLimit": 10000
     },
     "inputWidgets": {},
     "nuid": "e827a23c-53a4-433b-80e7-7b3c45e663b3",
     "showTitle": false,
     "tableResultSettingsMap": {},
     "title": ""
    }
   },
   "outputs": [],
   "source": [
    "# dominant_wins_by_non_winner_teams = type_of_wins_winners_df_non_winners_1.groupBy(\"Series\", \"Tournament\", \"Year_of_Match\").agg(\n",
    "#     sum(\"Dominant Win by Non Winners\").alias(\"Total Dominant Wins by Non Winners\")\n",
    "# )\n",
    "\n",
    "# dominant_wins_by_non_winner_teams.show(30)"
   ]
  },
  {
   "cell_type": "code",
   "execution_count": 0,
   "metadata": {
    "application/vnd.databricks.v1+cell": {
     "cellMetadata": {
      "byteLimit": 2048000,
      "rowLimit": 10000
     },
     "inputWidgets": {},
     "nuid": "66425065-757e-4da2-8c57-81121aa0f242",
     "showTitle": false,
     "tableResultSettingsMap": {},
     "title": ""
    }
   },
   "outputs": [
    {
     "output_type": "stream",
     "name": "stdout",
     "output_type": "stream",
     "text": [
      "+-------------+------+----------------+-----------------------+-----------------+------------------------+----------------+---------------------------+--------------------------------+----------------------------+\n|Year_of_Match|Series|      Tournament|Dominant Win by Winners|Total Matches Won|Dominant win% by Winners|      Tournament|Dominant Win by Non Winners|Total Matches Won by Non Winners|Dominant win% by Non Winners|\n+-------------+------+----------------+-----------------------+-----------------+------------------------+----------------+---------------------------+--------------------------------+----------------------------+\n|         2023|  2023|          ODI WC|                      8|                9|       88.88888888888889|          ODI WC|                         39|                              39|                       100.0|\n|         2024|  2024|          T20 WC|                      6|                8|                    75.0|          T20 WC|                         37|                              44|            84.0909090909091|\n|         2022|  2022|          T20 WC|                      5|                5|                   100.0|          T20 WC|                         29|                              37|           78.37837837837837|\n|         2017|  2017|Champions Trophy|                      3|                4|                    75.0|Champions Trophy|                         11|                              11|                       100.0|\n|         2021|  2021|          T20 WC|                      6|                6|                   100.0|          T20 WC|                         34|                              39|           87.17948717948718|\n|         2019|  2019|          ODI WC|                      7|                7|                   100.0|          ODI WC|                         31|                              38|           81.57894736842105|\n|         2016|  2016|          T20 WC|                      5|                5|                   100.0|          T20 WC|                         19|                              30|           63.33333333333333|\n+-------------+------+----------------+-----------------------+-----------------+------------------------+----------------+---------------------------+--------------------------------+----------------------------+\n\n"
     ]
    }
   ],
   "source": [
    "type_of_wins_winners_df_combined = type_of_wins_winners_df_1.join(type_of_wins_winners_df_non_winners_1, on=\"Year_of_Match\", how=\"inner\")\n",
    "\n",
    "type_of_wins_winners_df_combined.show(20)"
   ]
  },
  {
   "cell_type": "code",
   "execution_count": 0,
   "metadata": {
    "application/vnd.databricks.v1+cell": {
     "cellMetadata": {
      "byteLimit": 2048000,
      "rowLimit": 10000
     },
     "inputWidgets": {},
     "nuid": "af6d1851-8071-4a4b-ae46-ddbfb361893c",
     "showTitle": false,
     "tableResultSettingsMap": {},
     "title": ""
    }
   },
   "outputs": [
    {
     "output_type": "stream",
     "name": "stdout",
     "output_type": "stream",
     "text": [
      "+------+----------------+-----------------+------------------------+----------------+--------------------------------+----------------------------+\n|Series|      Tournament|Total Matches Won|Dominant win% by Winners|      Tournament|Total Matches Won by Non Winners|Dominant win% by Non Winners|\n+------+----------------+-----------------+------------------------+----------------+--------------------------------+----------------------------+\n|  2019|          ODI WC|                7|                   100.0|          ODI WC|                              38|           81.57894736842105|\n|  2021|          T20 WC|                6|                   100.0|          T20 WC|                              39|           87.17948717948718|\n|  2016|          T20 WC|                5|                   100.0|          T20 WC|                              30|           63.33333333333333|\n|  2022|          T20 WC|                5|                   100.0|          T20 WC|                              37|           78.37837837837837|\n|  2023|          ODI WC|                9|       88.88888888888889|          ODI WC|                              39|                       100.0|\n|  2017|Champions Trophy|                4|                    75.0|Champions Trophy|                              11|                       100.0|\n|  2024|          T20 WC|                8|                    75.0|          T20 WC|                              44|            84.0909090909091|\n+------+----------------+-----------------+------------------------+----------------+--------------------------------+----------------------------+\n\n"
     ]
    }
   ],
   "source": [
    "type_of_wins_winners_df_combined = type_of_wins_winners_df_combined.drop(\"Dominant Win by Winners\", \"Dominant Win by Non Winners\", \"Year_of_Match\")\n",
    "\n",
    "type_of_wins_winners_df_combined = type_of_wins_winners_df_combined.orderBy(col(\"Dominant win% by Winners\").desc())\n",
    "\n",
    "type_of_wins_winners_df_combined.show(15)"
   ]
  },
  {
   "cell_type": "code",
   "execution_count": 0,
   "metadata": {
    "application/vnd.databricks.v1+cell": {
     "cellMetadata": {
      "byteLimit": 2048000,
      "rowLimit": 10000
     },
     "inputWidgets": {},
     "nuid": "a7657068-f76e-40f7-aedb-e750be8d3577",
     "showTitle": false,
     "tableResultSettingsMap": {},
     "title": ""
    }
   },
   "outputs": [],
   "source": []
  },
  {
   "cell_type": "code",
   "execution_count": 0,
   "metadata": {
    "application/vnd.databricks.v1+cell": {
     "cellMetadata": {
      "byteLimit": 2048000,
      "rowLimit": 10000
     },
     "inputWidgets": {},
     "nuid": "30b3c4a2-cb2a-4ac7-b256-f13543be0d19",
     "showTitle": false,
     "tableResultSettingsMap": {},
     "title": ""
    }
   },
   "outputs": [
    {
     "output_type": "stream",
     "name": "stdout",
     "output_type": "stream",
     "text": [
      "+------------+-----------+------------+------+------------+------------+----------+-------------+-----------+------------+\n|      Team 1|     Team 2|      Winner|Margin|      Ground|  Match Date| Scorecard|Year_of_Match|Margin type| Type of win|\n+------------+-----------+------------+------+------------+------------+----------+-------------+-----------+------------+\n|     England|West Indies| West Indies|     4|Eden Gardens| Apr 3, 2016|T20I # 557|         2016|    wickets|Dominant win|\n|       India|West Indies| West Indies|     7|    Wankhede|Mar 31, 2016|T20I # 556|         2016|    wickets|Dominant win|\n|     England|New Zealand|     England|     7|       Delhi|Mar 30, 2016|T20I # 555|         2016|    wickets|Dominant win|\n|South Africa|  Sri Lanka|South Africa|     8|       Delhi|Mar 28, 2016|T20I # 554|         2016|    wickets|Dominant win|\n|       India|  Australia|       India|     6|      Mohali|Mar 27, 2016|T20I # 553|         2016|    wickets|Dominant win|\n| Afghanistan|West Indies| Afghanistan|     6|      Nagpur|Mar 27, 2016|T20I # 552|         2016|       runs|   Close Win|\n|     England|  Sri Lanka|     England|    10|       Delhi|Mar 26, 2016|T20I # 551|         2016|       runs|   Close Win|\n|  Bangladesh|New Zealand| New Zealand|    75|Eden Gardens|Mar 26, 2016|T20I # 550|         2016|       runs|Dominant win|\n|South Africa|West Indies| West Indies|     3|      Nagpur|Mar 25, 2016|T20I # 549|         2016|    wickets|Dominant win|\n|   Australia|   Pakistan|   Australia|    21|      Mohali|Mar 25, 2016|T20I # 548|         2016|       runs|Dominant win|\n+------------+-----------+------------+------+------------+------------+----------+-------------+-----------+------------+\nonly showing top 10 rows\n\n"
     ]
    }
   ],
   "source": [
    "wc_match_winners_df_new_margin.show(10)"
   ]
  },
  {
   "cell_type": "code",
   "execution_count": 0,
   "metadata": {
    "application/vnd.databricks.v1+cell": {
     "cellMetadata": {
      "byteLimit": 2048000,
      "rowLimit": 10000
     },
     "inputWidgets": {},
     "nuid": "2307b6b5-c80a-4d33-97de-14d76cfe4d98",
     "showTitle": false,
     "tableResultSettingsMap": {},
     "title": ""
    }
   },
   "outputs": [
    {
     "output_type": "stream",
     "name": "stdout",
     "output_type": "stream",
     "text": [
      "+----------------+---------+---+-----+----+-----+----+----+------+-----+----+----+---+---+---+-------+------------+\n|          Player|     Span|Mat|Overs|Mdns|Balls|Runs|Wkts|   BBI|  Ave|Econ|  SR|  4|  5| 10|Country| CountryName|\n+----------------+---------+---+-----+----+-----+----+----+------+-----+----+----+---+---+---+-------+------------+\n|    NL McCullum |2016-2016|  2|    5|   -|   30|  21|   3|Feb-15|    7| 4.2|  10|  -|  -|  -|    NZ)| New Zealand|\n|PA van Meekeren |2016-2016|  3|    6|   -|   36|  28|   6|04-Nov| 4.66|4.66|   6|  1|  -|  -|   NED)| Netherlands|\n|    CD de Lange |2016-2016|  1|    4|   -|   24|  19|   1|Jan-19|   19|4.75|  24|  -|  -|  -|  SCOT)|     Unknown|\n|       SK Raina |2016-2016|  5|    6|   -|   36|  29|   3|01-Apr| 9.66|4.83|  12|  -|  -|  -|   IND)|       India|\n|  JDF Vandersay |2016-2016|  3|   12|   1|   72|  62|   3|Feb-26|20.66|5.16|  24|  -|  -|  -|    SL)|   Sri Lanka|\n|    Imran Tahir |2016-2016|  4|   16|   -|   96|  83|   6|Feb-13|13.83|5.18|  16|  -|  -|  -|    SA)|South Africa|\n|       S Badree |2016-2016|  6|   23|   1|  138| 124|   9|03-Dec|13.77|5.39|15.3|  -|  -|  -|    WI)| West Indies|\n|    AM Phangiso |2016-2016|  2|    8|   -|   48|  45|   3|Feb-26|   15|5.62|  16|  -|  -|  -|    SA)|South Africa|\n|     GD Elliott |2016-2016|  5|   13|   -|   78|  75|   3|03-Dec|   25|5.76|  26|  -|  -|  -|    NZ)| New Zealand|\n|        A Nehra |2016-2016|  5|   19|   1|  114| 113|   5|Jan-20| 22.6|5.94|22.8|  -|  -|  -|   IND)|       India|\n+----------------+---------+---+-----+----+-----+----+----+------+-----+----+----+---+---+---+-------+------------+\nonly showing top 10 rows\n\n"
     ]
    }
   ],
   "source": [
    "#wc_match_winners_df_new_margin.createOrReplaceTempView(\"wc_match_winners\")\n",
    "economy_rate_df_new.show(10)"
   ]
  },
  {
   "cell_type": "code",
   "execution_count": 0,
   "metadata": {
    "application/vnd.databricks.v1+cell": {
     "cellMetadata": {
      "byteLimit": 2048000,
      "rowLimit": 10000
     },
     "inputWidgets": {},
     "nuid": "268cf9d2-34c9-4b7c-a3c9-9b738be3cf03",
     "showTitle": false,
     "tableResultSettingsMap": {},
     "title": ""
    }
   },
   "outputs": [],
   "source": [
    "wc_match_winners_df_new_margin.createOrReplaceTempView(\"wc_match_winners\")\n",
    "economy_rate_df_new.createOrReplaceTempView(\"economy_rate\")"
   ]
  },
  {
   "cell_type": "code",
   "execution_count": 0,
   "metadata": {
    "application/vnd.databricks.v1+cell": {
     "cellMetadata": {
      "byteLimit": 2048000,
      "rowLimit": 10000
     },
     "inputWidgets": {},
     "nuid": "a6c380cf-763e-4258-b8ee-c5006df2bbcb",
     "showTitle": false,
     "tableResultSettingsMap": {},
     "title": ""
    }
   },
   "outputs": [
    {
     "output_type": "stream",
     "name": "stdout",
     "output_type": "stream",
     "text": [
      "+------------+-----------+------------+------+------------+------------+----------+-------------+-----------+------------+\n|      Team 1|     Team 2|      Winner|Margin|      Ground|  Match Date| Scorecard|Year_of_Match|Margin type| Type of win|\n+------------+-----------+------------+------+------------+------------+----------+-------------+-----------+------------+\n|     England|West Indies| West Indies|     4|Eden Gardens| Apr 3, 2016|T20I # 557|         2016|    wickets|Dominant win|\n|       India|West Indies| West Indies|     7|    Wankhede|Mar 31, 2016|T20I # 556|         2016|    wickets|Dominant win|\n|     England|New Zealand|     England|     7|       Delhi|Mar 30, 2016|T20I # 555|         2016|    wickets|Dominant win|\n|South Africa|  Sri Lanka|South Africa|     8|       Delhi|Mar 28, 2016|T20I # 554|         2016|    wickets|Dominant win|\n|       India|  Australia|       India|     6|      Mohali|Mar 27, 2016|T20I # 553|         2016|    wickets|Dominant win|\n| Afghanistan|West Indies| Afghanistan|     6|      Nagpur|Mar 27, 2016|T20I # 552|         2016|       runs|   Close Win|\n|     England|  Sri Lanka|     England|    10|       Delhi|Mar 26, 2016|T20I # 551|         2016|       runs|   Close Win|\n|  Bangladesh|New Zealand| New Zealand|    75|Eden Gardens|Mar 26, 2016|T20I # 550|         2016|       runs|Dominant win|\n|South Africa|West Indies| West Indies|     3|      Nagpur|Mar 25, 2016|T20I # 549|         2016|    wickets|Dominant win|\n|   Australia|   Pakistan|   Australia|    21|      Mohali|Mar 25, 2016|T20I # 548|         2016|       runs|Dominant win|\n+------------+-----------+------------+------+------------+------------+----------+-------------+-----------+------------+\nonly showing top 10 rows\n\n"
     ]
    }
   ],
   "source": [
    "wc_match_winners_df_new_margin.show(10)"
   ]
  },
  {
   "cell_type": "code",
   "execution_count": 0,
   "metadata": {
    "application/vnd.databricks.v1+cell": {
     "cellMetadata": {
      "byteLimit": 2048000,
      "rowLimit": 10000
     },
     "inputWidgets": {},
     "nuid": "4d2323e8-52dd-4b8a-a658-ff0df3ff903c",
     "showTitle": false,
     "tableResultSettingsMap": {},
     "title": ""
    }
   },
   "outputs": [],
   "source": [
    "venue_analysis = spark.sql(\"\"\"\n",
    "                           SELECT wc.Ground, avg(ec.ECON) as `Avg Economy Rate` from wc_match_winners as wc JOIN economy_rate as ec\n",
    "                           ON wc.Winner == ec.CountryName GROUP BY wc.Ground ORDER BY `Avg Economy Rate` DESC\n",
    "                           \"\"\")"
   ]
  },
  {
   "cell_type": "code",
   "execution_count": 0,
   "metadata": {
    "application/vnd.databricks.v1+cell": {
     "cellMetadata": {
      "byteLimit": 2048000,
      "rowLimit": 10000
     },
     "inputWidgets": {},
     "nuid": "56615f5d-9000-4242-9874-5f3baa035701",
     "showTitle": false,
     "tableResultSettingsMap": {},
     "title": ""
    }
   },
   "outputs": [
    {
     "output_type": "stream",
     "name": "stdout",
     "output_type": "stream",
     "text": [
      "+-----------------+------------------+\n|           Ground|  Avg Economy Rate|\n+-----------------+------------------+\n|           Hobart| 6.836181818181821|\n|           Dallas| 6.669156626506025|\n|          Geelong| 6.664090909090911|\n|        Al Amerat| 6.660196078431375|\n|       Nottingham|            6.5955|\n|         Brisbane|  6.59334975369458|\n|       Hambantota| 6.562547169811324|\n|    Colombo (RPS)|  6.56254716981132|\n|          Bristol|              6.55|\n|       Dharamsala| 6.509119804400977|\n|            Leeds| 6.505187165775403|\n|           Lord's| 6.505151515151516|\n|           Nagpur| 6.499031413612564|\n|            Perth| 6.481428571428564|\n|          Taunton| 6.471292517006806|\n|       Lauderhill| 6.461200000000002|\n|       Gros Islet| 6.460211267605631|\n|          Cardiff|6.4526817042606455|\n|Chester-le-Street|6.4474675324675355|\n|       Providence| 6.445228426395937|\n+-----------------+------------------+\nonly showing top 20 rows\n\n"
     ]
    }
   ],
   "source": [
    "venue_analysis.show(20)"
   ]
  },
  {
   "cell_type": "code",
   "execution_count": 0,
   "metadata": {
    "application/vnd.databricks.v1+cell": {
     "cellMetadata": {
      "byteLimit": 2048000,
      "rowLimit": 10000
     },
     "inputWidgets": {},
     "nuid": "8805b2d5-18dc-44d8-8cbf-f5e2fa57e405",
     "showTitle": false,
     "tableResultSettingsMap": {},
     "title": ""
    }
   },
   "outputs": [
    {
     "output_type": "stream",
     "name": "stdout",
     "output_type": "stream",
     "text": [
      "+--------------------+---------+---+----+---+----+----+-----+---+------+---+---+---+---+---+\n|              Player|     Span|Mat|Inns| NO|Runs|  HS|  Ave| BF|    SR|100| 50|  0| 4s| 6s|\n+--------------------+---------+---+----+---+----+----+-----+---+------+---+---+---+---+---+\n|   Tamim Iqbal (BAN)|2016-2016|  6|   6|  2| 295|103*|73.75|207|142.51|  1|  1|  -| 24| 14|\n|       V Kohli (IND)|2016-2016|  5|   5|  3| 273| 89*|136.5|186|146.77|  -|  3|  -| 29|  5|\n|       JE Root (ENG)|2016-2016|  6|   6|  1| 249|  83| 49.8|170|146.47|  -|  2|  -| 24|  7|\n|Mohammad Shahzad ...|2016-2016|  7|   7|  -| 222|  61|31.71|158| 140.5|  -|  1|  -| 23| 12|\n|    JC Buttler (ENG)|2016-2016|  6|   6|  2| 191| 66*|47.75|120|159.16|  -|  1|  -| 13| 12|\n|        JJ Roy (ENG)|2016-2016|  6|   6|  -| 183|  78| 30.5|123|148.78|  -|  1|  1| 22|  7|\n|     MN Samuels (WI)|2016-2016|  6|   6|  1| 181| 85*| 36.2|161|112.42|  -|  1|  -| 26|  2|\n|      Q de Kock (SA)|2016-2016|  4|   4|  -| 153|  52|38.25|107|142.99|  -|  1|  -| 18|  6|\n| Sabbir Rahman (BAN)|2016-2016|  7|   7|  1| 147|  44| 24.5|119|123.52|  -|  -|  -| 17|  4|\n|    UT Khawaja (AUS)|2016-2016|  4|   4|  -| 143|  58|35.75|104| 137.5|  -|  1|  -| 22|  2|\n+--------------------+---------+---+----+---+----+----+-----+---+------+---+---+---+---+---+\nonly showing top 10 rows\n\n"
     ]
    }
   ],
   "source": [
    "highest_run_scorer_df.show(10)"
   ]
  },
  {
   "cell_type": "code",
   "execution_count": 0,
   "metadata": {
    "application/vnd.databricks.v1+cell": {
     "cellMetadata": {
      "byteLimit": 2048000,
      "rowLimit": 10000
     },
     "inputWidgets": {},
     "nuid": "7f88cd4a-c94f-493e-af54-73359268524d",
     "showTitle": false,
     "tableResultSettingsMap": {},
     "title": ""
    }
   },
   "outputs": [],
   "source": [
    "highest_run_scorer_df_new = highest_run_scorer_df.withColumn(\"Year\", split(col(\"Span\"), r\"\\-\").getItem(1))"
   ]
  },
  {
   "cell_type": "code",
   "execution_count": 0,
   "metadata": {
    "application/vnd.databricks.v1+cell": {
     "cellMetadata": {
      "byteLimit": 2048000,
      "rowLimit": 10000
     },
     "inputWidgets": {},
     "nuid": "849920e4-f324-4d90-b27c-1912e26140ff",
     "showTitle": false,
     "tableResultSettingsMap": {},
     "title": ""
    }
   },
   "outputs": [
    {
     "output_type": "stream",
     "name": "stdout",
     "output_type": "stream",
     "text": [
      "+--------------------+---------+---+----+---+----+----+-----+---+------+---+---+---+---+---+----+\n|              Player|     Span|Mat|Inns| NO|Runs|  HS|  Ave| BF|    SR|100| 50|  0| 4s| 6s|Year|\n+--------------------+---------+---+----+---+----+----+-----+---+------+---+---+---+---+---+----+\n|   Tamim Iqbal (BAN)|2016-2016|  6|   6|  2| 295|103*|73.75|207|142.51|  1|  1|  -| 24| 14|2016|\n|       V Kohli (IND)|2016-2016|  5|   5|  3| 273| 89*|136.5|186|146.77|  -|  3|  -| 29|  5|2016|\n|       JE Root (ENG)|2016-2016|  6|   6|  1| 249|  83| 49.8|170|146.47|  -|  2|  -| 24|  7|2016|\n|Mohammad Shahzad ...|2016-2016|  7|   7|  -| 222|  61|31.71|158| 140.5|  -|  1|  -| 23| 12|2016|\n|    JC Buttler (ENG)|2016-2016|  6|   6|  2| 191| 66*|47.75|120|159.16|  -|  1|  -| 13| 12|2016|\n|        JJ Roy (ENG)|2016-2016|  6|   6|  -| 183|  78| 30.5|123|148.78|  -|  1|  1| 22|  7|2016|\n|     MN Samuels (WI)|2016-2016|  6|   6|  1| 181| 85*| 36.2|161|112.42|  -|  1|  -| 26|  2|2016|\n|      Q de Kock (SA)|2016-2016|  4|   4|  -| 153|  52|38.25|107|142.99|  -|  1|  -| 18|  6|2016|\n| Sabbir Rahman (BAN)|2016-2016|  7|   7|  1| 147|  44| 24.5|119|123.52|  -|  -|  -| 17|  4|2016|\n|    UT Khawaja (AUS)|2016-2016|  4|   4|  -| 143|  58|35.75|104| 137.5|  -|  1|  -| 22|  2|2016|\n+--------------------+---------+---+----+---+----+----+-----+---+------+---+---+---+---+---+----+\nonly showing top 10 rows\n\n"
     ]
    }
   ],
   "source": [
    "highest_run_scorer_df_new.show(10)"
   ]
  },
  {
   "cell_type": "code",
   "execution_count": 0,
   "metadata": {
    "application/vnd.databricks.v1+cell": {
     "cellMetadata": {
      "byteLimit": 2048000,
      "rowLimit": 10000
     },
     "inputWidgets": {},
     "nuid": "23f1b37c-b952-446c-a767-96ac73373a28",
     "showTitle": false,
     "tableResultSettingsMap": {},
     "title": ""
    }
   },
   "outputs": [],
   "source": []
  },
  {
   "cell_type": "code",
   "execution_count": 0,
   "metadata": {
    "application/vnd.databricks.v1+cell": {
     "cellMetadata": {
      "byteLimit": 2048000,
      "rowLimit": 10000
     },
     "inputWidgets": {},
     "nuid": "f4267f84-d6a4-4ed6-9dda-1307eb75e5a9",
     "showTitle": false,
     "tableResultSettingsMap": {},
     "title": ""
    }
   },
   "outputs": [],
   "source": [
    "highest_run_scorer_df_new = highest_run_scorer_df_new.withColumn(\"Country\", split(col(\"Player\"), r\"\\(\").getItem(1))"
   ]
  },
  {
   "cell_type": "code",
   "execution_count": 0,
   "metadata": {
    "application/vnd.databricks.v1+cell": {
     "cellMetadata": {
      "byteLimit": 2048000,
      "rowLimit": 10000
     },
     "inputWidgets": {},
     "nuid": "780e0f34-b2dc-4461-ba26-d651305d972f",
     "showTitle": false,
     "tableResultSettingsMap": {},
     "title": ""
    }
   },
   "outputs": [
    {
     "output_type": "stream",
     "name": "stdout",
     "output_type": "stream",
     "text": [
      "+--------------------+---------+---+----+---+----+----+-----+---+------+---+---+---+---+---+----+-------+\n|              Player|     Span|Mat|Inns| NO|Runs|  HS|  Ave| BF|    SR|100| 50|  0| 4s| 6s|Year|Country|\n+--------------------+---------+---+----+---+----+----+-----+---+------+---+---+---+---+---+----+-------+\n|   Tamim Iqbal (BAN)|2016-2016|  6|   6|  2| 295|103*|73.75|207|142.51|  1|  1|  -| 24| 14|2016|   BAN)|\n|       V Kohli (IND)|2016-2016|  5|   5|  3| 273| 89*|136.5|186|146.77|  -|  3|  -| 29|  5|2016|   IND)|\n|       JE Root (ENG)|2016-2016|  6|   6|  1| 249|  83| 49.8|170|146.47|  -|  2|  -| 24|  7|2016|   ENG)|\n|Mohammad Shahzad ...|2016-2016|  7|   7|  -| 222|  61|31.71|158| 140.5|  -|  1|  -| 23| 12|2016|   AFG)|\n|    JC Buttler (ENG)|2016-2016|  6|   6|  2| 191| 66*|47.75|120|159.16|  -|  1|  -| 13| 12|2016|   ENG)|\n|        JJ Roy (ENG)|2016-2016|  6|   6|  -| 183|  78| 30.5|123|148.78|  -|  1|  1| 22|  7|2016|   ENG)|\n|     MN Samuels (WI)|2016-2016|  6|   6|  1| 181| 85*| 36.2|161|112.42|  -|  1|  -| 26|  2|2016|    WI)|\n|      Q de Kock (SA)|2016-2016|  4|   4|  -| 153|  52|38.25|107|142.99|  -|  1|  -| 18|  6|2016|    SA)|\n| Sabbir Rahman (BAN)|2016-2016|  7|   7|  1| 147|  44| 24.5|119|123.52|  -|  -|  -| 17|  4|2016|   BAN)|\n|    UT Khawaja (AUS)|2016-2016|  4|   4|  -| 143|  58|35.75|104| 137.5|  -|  1|  -| 22|  2|2016|   AUS)|\n| Asghar Afghan (AFG)|2016-2016|  7|   6|  1| 141|  62| 28.2|131|107.63|  -|  2|  1|  5|  7|2016|   AFG)|\n|     MJ Guptill (NZ)|2016-2016|  4|   4|  -| 140|  80|   35| 89| 157.3|  -|  1|  -| 15|  8|2016|    NZ)|\n|     TM Dilshan (SL)|2016-2016|  4|   4|  1| 133| 83*|44.33|108|123.14|  -|  1|  -| 13|  5|2016|    SL)|\n|Shakib Al Hasan (...|2016-2016|  7|   7|  3| 129| 50*|32.25|102|126.47|  -|  1|  -| 10|  5|2016|   BAN)|\n|Noor Ali Zadran (...|2016-2016|  6|   6|  -| 124|  35|20.66|129| 96.12|  -|  -|  -|  9|  2|2016|   AFG)|\n+--------------------+---------+---+----+---+----+----+-----+---+------+---+---+---+---+---+----+-------+\nonly showing top 15 rows\n\n"
     ]
    }
   ],
   "source": [
    "highest_run_scorer_df_new.show(15)"
   ]
  },
  {
   "cell_type": "code",
   "execution_count": 0,
   "metadata": {
    "application/vnd.databricks.v1+cell": {
     "cellMetadata": {
      "byteLimit": 2048000,
      "rowLimit": 10000
     },
     "inputWidgets": {},
     "nuid": "c96888cb-10b9-4898-bfae-ebbd114c0494",
     "showTitle": false,
     "tableResultSettingsMap": {},
     "title": ""
    }
   },
   "outputs": [],
   "source": [
    "highest_run_scorer_df_new = highest_run_scorer_df_new.withColumn(\"CountryName\", \n",
    "                                                 when(col(\"Country\") == 'AFG)', \"Afghanistan\")\n",
    "                                                               .when(col(\"Country\") == 'NZ)', \"New Zealand\")\n",
    "                                                               .when(col(\"Country\") == 'IND)', \"India\")\n",
    "                                                               .when(col(\"Country\") == 'PAK)', \"Pakistan\")\n",
    "                                                               .when(col(\"Country\") == 'AUS)', \"Australia\")\n",
    "                                                               .when(col(\"Country\") == 'SL)', \"Sri Lanka\")\n",
    "                                                               .when(col(\"Country\") == 'ENG)', \"England\")\n",
    "                                                               .when(col(\"Country\") == 'WI)', \"West Indies\")\n",
    "                                                               .when(col(\"Country\") == 'BAN)', \"Bangladesh\")\n",
    "                                                               .when(col(\"Country\") == 'SA)', \"South Africa\")\n",
    "                                                               .when(col(\"Country\") == 'NED)', \"Netherlands\")\n",
    "                                                               .when(col(\"Country\") == 'ZIM)', \"Zimbabwe\")\n",
    "                                                               .otherwise(\"Unknown\"))"
   ]
  },
  {
   "cell_type": "code",
   "execution_count": 0,
   "metadata": {
    "application/vnd.databricks.v1+cell": {
     "cellMetadata": {
      "byteLimit": 2048000,
      "rowLimit": 10000
     },
     "inputWidgets": {},
     "nuid": "e608d5bc-2eb1-4701-9f55-a01b4a5eedfb",
     "showTitle": false,
     "tableResultSettingsMap": {},
     "title": ""
    }
   },
   "outputs": [],
   "source": [
    "highest_run_scorer_df_new = highest_run_scorer_df_new.withColumn(\"Player\", split(col(\"Player\"), r\"\\(\").getItem(0))"
   ]
  },
  {
   "cell_type": "code",
   "execution_count": 0,
   "metadata": {
    "application/vnd.databricks.v1+cell": {
     "cellMetadata": {
      "byteLimit": 2048000,
      "rowLimit": 10000
     },
     "inputWidgets": {},
     "nuid": "a9bd91ad-f620-4964-a229-12fa5c1b8850",
     "showTitle": false,
     "tableResultSettingsMap": {},
     "title": ""
    }
   },
   "outputs": [],
   "source": [
    "highest_run_scorer_df_new.createOrReplaceTempView(\"highest_scorers_batters\")"
   ]
  },
  {
   "cell_type": "code",
   "execution_count": 0,
   "metadata": {
    "application/vnd.databricks.v1+cell": {
     "cellMetadata": {
      "byteLimit": 2048000,
      "rowLimit": 10000
     },
     "inputWidgets": {},
     "nuid": "4008bf4e-15cd-4caf-9ea4-64b7bf93e640",
     "showTitle": false,
     "tableResultSettingsMap": {},
     "title": ""
    }
   },
   "outputs": [
    {
     "output_type": "stream",
     "name": "stdout",
     "output_type": "stream",
     "text": [
      "+------+----+-----------+------------+----------------+\n|Series|Type|     Winner|      Runner|      Tournament|\n+------+----+-----------+------------+----------------+\n|  2016| T20|West Indies|     England|          T20 WC|\n|  2017| ODI|   Pakistan|       India|Champions Trophy|\n|  2019| ODI|    England| New Zealand|          ODI WC|\n|  2021| T20|  Australia| New Zealand|          T20 WC|\n|  2022| T20|    England|    Pakistan|          T20 WC|\n|  2023| ODI|  Australia|       India|          ODI WC|\n|  2024| T20|      India|South Africa|          T20 WC|\n+------+----+-----------+------------+----------------+\n\n"
     ]
    }
   ],
   "source": [
    "wc_winners_df.show(10)"
   ]
  },
  {
   "cell_type": "code",
   "execution_count": 0,
   "metadata": {
    "application/vnd.databricks.v1+cell": {
     "cellMetadata": {
      "byteLimit": 2048000,
      "rowLimit": 10000
     },
     "inputWidgets": {},
     "nuid": "a30a20fa-8ef7-4f10-be91-2a06500dc15f",
     "showTitle": false,
     "tableResultSettingsMap": {},
     "title": ""
    }
   },
   "outputs": [],
   "source": [
    "wc_winners_df.createOrReplaceTempView(\"wc_winners\")"
   ]
  },
  {
   "cell_type": "code",
   "execution_count": 0,
   "metadata": {
    "application/vnd.databricks.v1+cell": {
     "cellMetadata": {
      "byteLimit": 2048000,
      "rowLimit": 10000
     },
     "inputWidgets": {},
     "nuid": "f76cfcf4-71eb-47ed-91a5-0df2b72fda5e",
     "showTitle": false,
     "tableResultSettingsMap": {},
     "title": ""
    }
   },
   "outputs": [],
   "source": [
    "highest_runs_per_country = spark.sql(\"\"\"SELECT h.CountryName, sum(h.runs) as `Total Runs` from highest_scorers_batters as h GROUP BY h.CountryName ORDER BY `Total Runs` DESC \"\"\")"
   ]
  },
  {
   "cell_type": "code",
   "execution_count": 0,
   "metadata": {
    "application/vnd.databricks.v1+cell": {
     "cellMetadata": {
      "byteLimit": 2048000,
      "rowLimit": 10000
     },
     "inputWidgets": {},
     "nuid": "121f29b7-da62-41cd-b914-2f0d5386794e",
     "showTitle": false,
     "tableResultSettingsMap": {},
     "title": ""
    }
   },
   "outputs": [
    {
     "output_type": "stream",
     "name": "stdout",
     "output_type": "stream",
     "text": [
      "+------------+----------+\n| CountryName|Total Runs|\n+------------+----------+\n|       India|   10174.0|\n|     England|    9583.0|\n|     Unknown|    9356.0|\n|   Australia|    9147.0|\n|  Bangladesh|    8329.0|\n|South Africa|    8227.0|\n| New Zealand|    8223.0|\n|    Pakistan|    8091.0|\n|   Sri Lanka|    7114.0|\n| Afghanistan|    6694.0|\n| West Indies|    4721.0|\n| Netherlands|    3577.0|\n|    Zimbabwe|    1309.0|\n+------------+----------+\n\n"
     ]
    }
   ],
   "source": [
    "highest_runs_per_country.show(20)\n"
   ]
  },
  {
   "cell_type": "code",
   "execution_count": 0,
   "metadata": {
    "application/vnd.databricks.v1+cell": {
     "cellMetadata": {
      "byteLimit": 2048000,
      "rowLimit": 10000
     },
     "inputWidgets": {},
     "nuid": "5f4a00a6-a507-4bbf-b060-b546496af813",
     "showTitle": false,
     "tableResultSettingsMap": {},
     "title": ""
    }
   },
   "outputs": [],
   "source": [
    "highest_run_scorer_impact = spark.sql(\"\"\"SELECT w.Series AS YEAR,\n",
    "       w.Tournament,\n",
    "       ROUND(SUM(CASE WHEN h.CountryName = w.Winner THEN h.runs ELSE 0 END) / COUNT(CASE WHEN h.CountryName = w.Winner THEN 1 ELSE NULL END), 2) AS `AVG RUNS BY WINNING TEAM`,\n",
    "       ROUND(SUM(CASE WHEN h.CountryName != w.Winner THEN h.runs ELSE 0 END) / COUNT(CASE WHEN h.CountryName != w.Winner THEN 1 ELSE NULL END), 2) AS `AVG RUNS BY OTHER TEAMS`,\n",
    "       COUNT(*) AS `MATCHES PLAYED`\n",
    "FROM highest_scorers_batters AS h\n",
    "JOIN wc_winners AS w ON h.YEAR = w.SERIES\n",
    "GROUP BY w.Series, w.Tournament, h.YEAR\n",
    "ORDER BY w.Series ASC;\n",
    "\n",
    "                                       \"\"\")"
   ]
  },
  {
   "cell_type": "code",
   "execution_count": 0,
   "metadata": {
    "application/vnd.databricks.v1+cell": {
     "cellMetadata": {
      "byteLimit": 2048000,
      "rowLimit": 10000
     },
     "inputWidgets": {},
     "nuid": "50ed877b-68a2-4a18-a8b2-6cd8be1761ab",
     "showTitle": false,
     "tableResultSettingsMap": {},
     "title": ""
    }
   },
   "outputs": [
    {
     "output_type": "stream",
     "name": "stdout",
     "output_type": "stream",
     "text": [
      "+----+----------------+------------------------+-----------------------+--------------+\n|YEAR|      Tournament|AVG RUNS BY WINNING TEAM|AVG RUNS BY OTHER TEAMS|MATCHES PLAYED|\n+----+----------------+------------------------+-----------------------+--------------+\n|2016|          T20 WC|                    85.4|                  59.05|           150|\n|2017|Champions Trophy|                   83.17|                  67.71|            97|\n|2019|          ODI WC|                  235.31|                 135.69|           147|\n|2021|          T20 WC|                    94.1|                  74.81|           150|\n|2022|          T20 WC|                   88.11|                  72.63|           150|\n|2023|          ODI WC|                  210.36|                 155.17|           146|\n|2024|          T20 WC|                  147.75|                  73.05|           150|\n+----+----------------+------------------------+-----------------------+--------------+\n\n"
     ]
    }
   ],
   "source": [
    "highest_run_scorer_impact.show(15)"
   ]
  },
  {
   "cell_type": "code",
   "execution_count": 0,
   "metadata": {
    "application/vnd.databricks.v1+cell": {
     "cellMetadata": {
      "byteLimit": 2048000,
      "rowLimit": 10000
     },
     "inputWidgets": {},
     "nuid": "049ff0bd-431f-4f68-bf9c-b2bea714e59f",
     "showTitle": false,
     "tableResultSettingsMap": {},
     "title": ""
    }
   },
   "outputs": [
    {
     "output_type": "stream",
     "name": "stdout",
     "output_type": "stream",
     "text": [
      "+------------+-----------+------------+------+------------+------------+----------+-------------+-----------+------------+\n|      Team 1|     Team 2|      Winner|Margin|      Ground|  Match Date| Scorecard|Year_of_Match|Margin type| Type of win|\n+------------+-----------+------------+------+------------+------------+----------+-------------+-----------+------------+\n|     England|West Indies| West Indies|     4|Eden Gardens| Apr 3, 2016|T20I # 557|         2016|    wickets|Dominant win|\n|       India|West Indies| West Indies|     7|    Wankhede|Mar 31, 2016|T20I # 556|         2016|    wickets|Dominant win|\n|     England|New Zealand|     England|     7|       Delhi|Mar 30, 2016|T20I # 555|         2016|    wickets|Dominant win|\n|South Africa|  Sri Lanka|South Africa|     8|       Delhi|Mar 28, 2016|T20I # 554|         2016|    wickets|Dominant win|\n|       India|  Australia|       India|     6|      Mohali|Mar 27, 2016|T20I # 553|         2016|    wickets|Dominant win|\n| Afghanistan|West Indies| Afghanistan|     6|      Nagpur|Mar 27, 2016|T20I # 552|         2016|       runs|   Close Win|\n|     England|  Sri Lanka|     England|    10|       Delhi|Mar 26, 2016|T20I # 551|         2016|       runs|   Close Win|\n|  Bangladesh|New Zealand| New Zealand|    75|Eden Gardens|Mar 26, 2016|T20I # 550|         2016|       runs|Dominant win|\n|South Africa|West Indies| West Indies|     3|      Nagpur|Mar 25, 2016|T20I # 549|         2016|    wickets|Dominant win|\n|   Australia|   Pakistan|   Australia|    21|      Mohali|Mar 25, 2016|T20I # 548|         2016|       runs|Dominant win|\n+------------+-----------+------------+------+------------+------------+----------+-------------+-----------+------------+\nonly showing top 10 rows\n\n"
     ]
    }
   ],
   "source": [
    "wc_match_winners_df_new_margin.show(10)\n",
    "winners_runs = spark.sql(\"\"\"\n",
    "                         SELECT\n",
    "    wi.Series,\n",
    "    wi.Tournament,\n",
    "    wi.Winner,\n",
    "    -- COUNT(CASE WHEN w.Winner = wi.Winner THEN 1 ELSE NULL END) AS `Matches Won by Winner`,\n",
    "    -- COUNT(CASE WHEN w.Winner != wi.Winner THEN 1 ELSE NULL END) AS `Matches Won by Other Teams`,\n",
    "    -- COUNT(CASE WHEN w.`Team 1` = wi.Winner OR w.`Team 2` = wi.Winner THEN 1 ELSE NULL END) AS `Matches Played by Winner`,\n",
    "    -- COUNT(CASE WHEN w.`Team 1` != wi.Winner OR w.`Team 2` != wi.Winner THEN 1 ELSE NULL END  ) AS `Matches Played by Non \n",
    "    -- Winners`,\n",
    "     ROUND(\n",
    "            COUNT(CASE WHEN w.Winner = wi.Winner THEN 1 ELSE NULL END) * 100.0 /\n",
    "            COUNT(CASE WHEN w.`Team 1` = wi.Winner OR w.`Team 2` = wi.Winner THEN 1 ELSE NULL END),\n",
    "            2\n",
    "        ) AS `Win % of Champions`,\n",
    "\n",
    "    ROUND(\n",
    "        COUNT(CASE WHEN w.Winner != wi.Winner THEN 1 ELSE NULL END) * 100 / \n",
    "        COUNT(CASE WHEN w.`Team 1` != wi.Winner OR w.`Team 2` != wi.Winner THEN 1 ELSE NULL END), \n",
    "        2) \n",
    "        AS `Win % of Non Winners`  \n",
    "    \n",
    "FROM\n",
    "    wc_winners AS wi\n",
    "JOIN\n",
    "    wc_match_winners AS w\n",
    "ON\n",
    "    TRIM(CAST(w.Year_of_Match AS STRING)) = TRIM(CAST(wi.Series AS STRING))\n",
    "WHERE\n",
    "    w.Year_of_Match > 2015\n",
    "GROUP BY\n",
    "    wi.Series, wi.Tournament, wi.Winner\n",
    "ORDER BY\n",
    "    wi.Series ASC;\n",
    "                         \n",
    "                         \"\"\")"
   ]
  },
  {
   "cell_type": "code",
   "execution_count": 0,
   "metadata": {
    "application/vnd.databricks.v1+cell": {
     "cellMetadata": {
      "byteLimit": 2048000,
      "rowLimit": 10000
     },
     "inputWidgets": {},
     "nuid": "c3e285ba-cb1b-4b7d-8942-27331117ee14",
     "showTitle": false,
     "tableResultSettingsMap": {},
     "title": ""
    }
   },
   "outputs": [
    {
     "output_type": "stream",
     "name": "stdout",
     "output_type": "stream",
     "text": [
      "+------+----------------+-----------+------------------+--------------------+\n|Series|      Tournament|     Winner|Win % of Champions|Win % of Non Winners|\n+------+----------------+-----------+------------------+--------------------+\n|  2016|          T20 WC|West Indies|             83.33|               85.71|\n|  2017|Champions Trophy|   Pakistan|             80.00|               73.33|\n|  2019|          ODI WC|    England|             63.64|               84.44|\n|  2021|          T20 WC|  Australia|             85.71|               86.67|\n|  2022|          T20 WC|    England|             83.33|                88.1|\n|  2023|          ODI WC|  Australia|             81.82|               81.25|\n|  2024|          T20 WC|      India|            100.00|               84.62|\n+------+----------------+-----------+------------------+--------------------+\n\n"
     ]
    }
   ],
   "source": [
    "winners_runs.show(30)"
   ]
  },
  {
   "cell_type": "code",
   "execution_count": 0,
   "metadata": {
    "application/vnd.databricks.v1+cell": {
     "cellMetadata": {
      "byteLimit": 2048000,
      "rowLimit": 10000
     },
     "inputWidgets": {},
     "nuid": "337fea9c-5feb-44f6-97c2-685676dbd4d7",
     "showTitle": false,
     "tableResultSettingsMap": {},
     "title": ""
    }
   },
   "outputs": [
    {
     "output_type": "display_data",
     "data": {
      "text/plain": [
       ""
      ]
     },
     "metadata": {
      "application/vnd.databricks.v1+output": {
       "arguments": {},
       "data": "",
       "errorSummary": "Command skipped",
       "errorTraceType": "ansi",
       "metadata": {},
       "type": "ipynbError"
      }
     },
     "output_type": "display_data"
    }
   ],
   "source": [
    "ss = spark.sql(\"\"\"DESCRIBE wc_winners\"\"\")\n",
    "\n",
    "ss.show(10)"
   ]
  },
  {
   "cell_type": "code",
   "execution_count": 0,
   "metadata": {
    "application/vnd.databricks.v1+cell": {
     "cellMetadata": {
      "byteLimit": 2048000,
      "rowLimit": 10000
     },
     "inputWidgets": {},
     "nuid": "5485abcc-896a-4941-b996-dcb54063407d",
     "showTitle": false,
     "tableResultSettingsMap": {},
     "title": ""
    }
   },
   "outputs": [],
   "source": []
  }
 ],
 "metadata": {
  "application/vnd.databricks.v1+notebook": {
   "computePreferences": null,
   "dashboards": [],
   "environmentMetadata": {
    "base_environment": "",
    "client": "1"
   },
   "language": "python",
   "notebookMetadata": {
    "pythonIndentUnit": 4
   },
   "notebookName": "ICC CT Analysis",
   "widgets": {}
  }
 },
 "nbformat": 4,
 "nbformat_minor": 0
}
