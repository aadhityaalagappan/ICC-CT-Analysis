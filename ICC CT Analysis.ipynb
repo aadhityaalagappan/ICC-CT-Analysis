{
 "cells": [
  {
   "cell_type": "code",
   "execution_count": 0,
   "metadata": {
    "application/vnd.databricks.v1+cell": {
     "cellMetadata": {
      "byteLimit": 2048000,
      "rowLimit": 10000
     },
     "inputWidgets": {},
     "nuid": "8345ab94-ef29-47d0-a697-b645be229fb2",
     "showTitle": false,
     "tableResultSettingsMap": {},
     "title": ""
    }
   },
   "outputs": [
    {
     "output_type": "display_data",
     "data": {
      "text/html": [
       "\n",
       "            <div>\n",
       "                <p><b>SparkSession - hive</b></p>\n",
       "                \n",
       "        <div>\n",
       "            <p><b>SparkContext</b></p>\n",
       "\n",
       "            <p><a href=\"/?o=2021009750037460#setting/sparkui/0108-170349-479107zl/driver-428347869241852757\">Spark UI</a></p>\n",
       "\n",
       "            <dl>\n",
       "              <dt>Version</dt>\n",
       "                <dd><code>v3.3.2</code></dd>\n",
       "              <dt>Master</dt>\n",
       "                <dd><code>local[8]</code></dd>\n",
       "              <dt>AppName</dt>\n",
       "                <dd><code>Databricks Shell</code></dd>\n",
       "            </dl>\n",
       "        </div>\n",
       "        \n",
       "            </div>\n",
       "        "
      ]
     },
     "metadata": {
      "application/vnd.databricks.v1+output": {
       "addedWidgets": {},
       "arguments": {},
       "data": "\n            <div>\n                <p><b>SparkSession - hive</b></p>\n                \n        <div>\n            <p><b>SparkContext</b></p>\n\n            <p><a href=\"/?o=2021009750037460#setting/sparkui/0108-170349-479107zl/driver-428347869241852757\">Spark UI</a></p>\n\n            <dl>\n              <dt>Version</dt>\n                <dd><code>v3.3.2</code></dd>\n              <dt>Master</dt>\n                <dd><code>local[8]</code></dd>\n              <dt>AppName</dt>\n                <dd><code>Databricks Shell</code></dd>\n            </dl>\n        </div>\n        \n            </div>\n        ",
       "datasetInfos": [],
       "metadata": {},
       "removedWidgets": [],
       "textData": null,
       "type": "htmlSandbox"
      }
     },
     "output_type": "display_data"
    }
   ],
   "source": [
    "spark"
   ]
  },
  {
   "cell_type": "code",
   "execution_count": 0,
   "metadata": {
    "application/vnd.databricks.v1+cell": {
     "cellMetadata": {
      "byteLimit": 2048000,
      "rowLimit": 10000
     },
     "inputWidgets": {},
     "nuid": "a8e8b373-60cf-424c-bc38-e221f80107a8",
     "showTitle": false,
     "tableResultSettingsMap": {},
     "title": ""
    }
   },
   "outputs": [],
   "source": [
    "from pyspark.sql import SparkSession\n",
    "spark = SparkSession.builder.appName(\"CT_Analysis\").getOrCreate()"
   ]
  },
  {
   "cell_type": "code",
   "execution_count": 0,
   "metadata": {
    "application/vnd.databricks.v1+cell": {
     "cellMetadata": {
      "byteLimit": 2048000,
      "rowLimit": 10000
     },
     "inputWidgets": {},
     "nuid": "df670f7a-19d0-424a-9a34-e60cf4864258",
     "showTitle": false,
     "tableResultSettingsMap": {},
     "title": ""
    }
   },
   "outputs": [
    {
     "output_type": "display_data",
     "data": {
      "text/html": [
       "\n",
       "            <div>\n",
       "                <p><b>SparkSession - hive</b></p>\n",
       "                \n",
       "        <div>\n",
       "            <p><b>SparkContext</b></p>\n",
       "\n",
       "            <p><a href=\"/?o=2021009750037460#setting/sparkui/0108-170349-479107zl/driver-428347869241852757\">Spark UI</a></p>\n",
       "\n",
       "            <dl>\n",
       "              <dt>Version</dt>\n",
       "                <dd><code>v3.3.2</code></dd>\n",
       "              <dt>Master</dt>\n",
       "                <dd><code>local[8]</code></dd>\n",
       "              <dt>AppName</dt>\n",
       "                <dd><code>Databricks Shell</code></dd>\n",
       "            </dl>\n",
       "        </div>\n",
       "        \n",
       "            </div>\n",
       "        "
      ]
     },
     "metadata": {
      "application/vnd.databricks.v1+output": {
       "addedWidgets": {},
       "arguments": {},
       "data": "\n            <div>\n                <p><b>SparkSession - hive</b></p>\n                \n        <div>\n            <p><b>SparkContext</b></p>\n\n            <p><a href=\"/?o=2021009750037460#setting/sparkui/0108-170349-479107zl/driver-428347869241852757\">Spark UI</a></p>\n\n            <dl>\n              <dt>Version</dt>\n                <dd><code>v3.3.2</code></dd>\n              <dt>Master</dt>\n                <dd><code>local[8]</code></dd>\n              <dt>AppName</dt>\n                <dd><code>Databricks Shell</code></dd>\n            </dl>\n        </div>\n        \n            </div>\n        ",
       "datasetInfos": [],
       "metadata": {},
       "removedWidgets": [],
       "textData": null,
       "type": "htmlSandbox"
      }
     },
     "output_type": "display_data"
    }
   ],
   "source": [
    "spark"
   ]
  },
  {
   "cell_type": "code",
   "execution_count": 0,
   "metadata": {
    "application/vnd.databricks.v1+cell": {
     "cellMetadata": {
      "byteLimit": 2048000,
      "rowLimit": 10000
     },
     "inputWidgets": {},
     "nuid": "75e868f8-b31a-4622-a224-3708eadb80b9",
     "showTitle": false,
     "tableResultSettingsMap": {},
     "title": ""
    }
   },
   "outputs": [],
   "source": [
    "highest_run_scorer_df = spark.read.format(\"csv\").option(\"header\", \"true\").load(\"dbfs:/FileStore/tables/highest_run_scorers.csv\")"
   ]
  },
  {
   "cell_type": "code",
   "execution_count": 0,
   "metadata": {
    "application/vnd.databricks.v1+cell": {
     "cellMetadata": {
      "byteLimit": 2048000,
      "rowLimit": 10000
     },
     "inputWidgets": {},
     "nuid": "b4c114e1-cde6-4e39-bd83-a90142f5783a",
     "showTitle": false,
     "tableResultSettingsMap": {},
     "title": ""
    }
   },
   "outputs": [
    {
     "output_type": "stream",
     "name": "stdout",
     "output_type": "stream",
     "text": [
      "Out[162]: DataFrame[Player: string, Span: string, Mat: string, Inns: string, NO: string, Runs: string, HS: string, Ave: string, BF: string, SR: string, 100: string, 50: string, 0: string, 4s: string, 6s: string]"
     ]
    }
   ],
   "source": [
    "highest_run_scorer_df"
   ]
  },
  {
   "cell_type": "code",
   "execution_count": 0,
   "metadata": {
    "application/vnd.databricks.v1+cell": {
     "cellMetadata": {
      "byteLimit": 2048000,
      "rowLimit": 10000
     },
     "inputWidgets": {},
     "nuid": "3a57c83a-5094-4fb4-bb48-8b15943d9a11",
     "showTitle": false,
     "tableResultSettingsMap": {},
     "title": ""
    }
   },
   "outputs": [
    {
     "output_type": "stream",
     "name": "stdout",
     "output_type": "stream",
     "text": [
      "+--------------------+---------+---+----+---+----+----+-----+---+------+---+---+---+---+---+\n|              Player|     Span|Mat|Inns| NO|Runs|  HS|  Ave| BF|    SR|100| 50|  0| 4s| 6s|\n+--------------------+---------+---+----+---+----+----+-----+---+------+---+---+---+---+---+\n|   Tamim Iqbal (BAN)|2016-2016|  6|   6|  2| 295|103*|73.75|207|142.51|  1|  1|  -| 24| 14|\n|       V Kohli (IND)|2016-2016|  5|   5|  3| 273| 89*|136.5|186|146.77|  -|  3|  -| 29|  5|\n|       JE Root (ENG)|2016-2016|  6|   6|  1| 249|  83| 49.8|170|146.47|  -|  2|  -| 24|  7|\n|Mohammad Shahzad ...|2016-2016|  7|   7|  -| 222|  61|31.71|158| 140.5|  -|  1|  -| 23| 12|\n|    JC Buttler (ENG)|2016-2016|  6|   6|  2| 191| 66*|47.75|120|159.16|  -|  1|  -| 13| 12|\n+--------------------+---------+---+----+---+----+----+-----+---+------+---+---+---+---+---+\nonly showing top 5 rows\n\n"
     ]
    }
   ],
   "source": [
    "highest_run_scorer_df.show(5)"
   ]
  },
  {
   "cell_type": "code",
   "execution_count": 0,
   "metadata": {
    "application/vnd.databricks.v1+cell": {
     "cellMetadata": {
      "byteLimit": 2048000,
      "rowLimit": 10000
     },
     "inputWidgets": {},
     "nuid": "ec0b1b28-2082-48d4-a118-cb3e3031fe6f",
     "showTitle": false,
     "tableResultSettingsMap": {},
     "title": ""
    }
   },
   "outputs": [],
   "source": [
    "most_wickets_1 = spark.read.format(\"csv\").option(\"headers\", \"true\").load(\"dbfs:/FileStore/tables/most_wicket_takers-2.csv\")"
   ]
  },
  {
   "cell_type": "code",
   "execution_count": 0,
   "metadata": {
    "application/vnd.databricks.v1+cell": {
     "cellMetadata": {
      "byteLimit": 2048000,
      "rowLimit": 10000
     },
     "inputWidgets": {},
     "nuid": "8a9cda7b-37b3-4399-8afc-7fcb084761e6",
     "showTitle": false,
     "tableResultSettingsMap": {},
     "title": ""
    }
   },
   "outputs": [
    {
     "output_type": "stream",
     "name": "stdout",
     "output_type": "stream",
     "text": [
      "+--------------------+---------+---+----+-----+-----+----+----+----+------+-----+----+-----+----+----+\n|                 _c0|      _c1|_c2| _c3|  _c4|  _c5| _c6| _c7| _c8|   _c9| _c10|_c11| _c12|_c13|_c14|\n+--------------------+---------+---+----+-----+-----+----+----+----+------+-----+----+-----+----+----+\n|              Player|     Span|Mat|Inns|Balls|Overs|Mdns|Runs|Wkts|   BBI|  Ave|Econ|   SR|   4|   5|\n| Mohammad Nabi (AFG)|2016-2016|  7|   7|  162|   27|   1| 164|  12|Apr-20|13.66|6.07| 13.5|   1|   -|\n|   Rashid Khan (AFG)|2016-2016|  7|   7|  168|   28|   -| 183|  11|03-Nov|16.63|6.53|15.27|   -|   -|\n|     MJ Santner (NZ)|2016-2016|  5|   5|  109| 18.1|   -| 114|  10|04-Nov| 11.4|6.27| 10.9|   1|   -|\n|       IS Sodhi (NZ)|2016-2016|  5|   5|  118| 19.4|   -| 120|  10|Mar-18|   12| 6.1| 11.8|   -|   -|\n|     DJ Willey (ENG)|2016-2016|  6|   6|  126|   21|   -| 159|  10|Mar-20| 15.9|7.57| 12.6|   -|   -|\n|Shakib Al Hasan (...|2016-2016|  7|   6|  138|   23|   -| 166|  10|Apr-15| 16.6|7.21| 13.8|   1|   -|\n+--------------------+---------+---+----+-----+-----+----+----+----+------+-----+----+-----+----+----+\nonly showing top 7 rows\n\n"
     ]
    }
   ],
   "source": [
    "most_wickets_1.show(7)"
   ]
  },
  {
   "cell_type": "code",
   "execution_count": 0,
   "metadata": {
    "application/vnd.databricks.v1+cell": {
     "cellMetadata": {
      "byteLimit": 2048000,
      "rowLimit": 10000
     },
     "inputWidgets": {},
     "nuid": "38bdde6a-e2c3-497f-8f7a-eefad851db9e",
     "showTitle": false,
     "tableResultSettingsMap": {},
     "title": ""
    }
   },
   "outputs": [],
   "source": [
    "economy_rate_df = spark.read.format(\"csv\").option(\"header\", \"true\").load(\"dbfs:/FileStore/tables/best_economy_rates.csv\")"
   ]
  },
  {
   "cell_type": "code",
   "execution_count": 0,
   "metadata": {
    "application/vnd.databricks.v1+cell": {
     "cellMetadata": {
      "byteLimit": 2048000,
      "rowLimit": 10000
     },
     "inputWidgets": {},
     "nuid": "319731eb-ea88-4eba-b56a-0b3e622eb58f",
     "showTitle": false,
     "tableResultSettingsMap": {},
     "title": ""
    }
   },
   "outputs": [
    {
     "output_type": "stream",
     "name": "stdout",
     "output_type": "stream",
     "text": [
      "+--------------------+---------+---+-----+----+-----+----+----+------+-----+----+---+---+---+---+\n|              Player|     Span|Mat|Overs|Mdns|Balls|Runs|Wkts|   BBI|  Ave|Econ| SR|  4|  5| 10|\n+--------------------+---------+---+-----+----+-----+----+----+------+-----+----+---+---+---+---+\n|    NL McCullum (NZ)|2016-2016|  2|    5|   -|   30|  21|   3|Feb-15|    7| 4.2| 10|  -|  -|  -|\n|PA van Meekeren (...|2016-2016|  3|    6|   -|   36|  28|   6|04-Nov| 4.66|4.66|  6|  1|  -|  -|\n|  CD de Lange (SCOT)|2016-2016|  1|    4|   -|   24|  19|   1|Jan-19|   19|4.75| 24|  -|  -|  -|\n|      SK Raina (IND)|2016-2016|  5|    6|   -|   36|  29|   3|01-Apr| 9.66|4.83| 12|  -|  -|  -|\n|  JDF Vandersay (SL)|2016-2016|  3|   12|   1|   72|  62|   3|Feb-26|20.66|5.16| 24|  -|  -|  -|\n+--------------------+---------+---+-----+----+-----+----+----+------+-----+----+---+---+---+---+\nonly showing top 5 rows\n\n"
     ]
    }
   ],
   "source": [
    "economy_rate_df.show(5)"
   ]
  },
  {
   "cell_type": "code",
   "execution_count": 0,
   "metadata": {
    "application/vnd.databricks.v1+cell": {
     "cellMetadata": {
      "byteLimit": 2048000,
      "rowLimit": 10000
     },
     "inputWidgets": {},
     "nuid": "564b950c-0aad-4ec8-983a-57c39ce40c18",
     "showTitle": false,
     "tableResultSettingsMap": {},
     "title": ""
    }
   },
   "outputs": [],
   "source": [
    "wc_match_winners_df = spark.read.format(\"csv\").option(\"header\", \"true\").load(\"dbfs:/FileStore/tables/world_cup_match_winners.csv\")"
   ]
  },
  {
   "cell_type": "code",
   "execution_count": 0,
   "metadata": {
    "application/vnd.databricks.v1+cell": {
     "cellMetadata": {
      "byteLimit": 2048000,
      "rowLimit": 10000
     },
     "inputWidgets": {},
     "nuid": "0aedcbc9-2a84-46af-9c06-7a6cf1bb1d9d",
     "showTitle": false,
     "tableResultSettingsMap": {},
     "title": ""
    }
   },
   "outputs": [
    {
     "output_type": "stream",
     "name": "stdout",
     "output_type": "stream",
     "text": [
      "+------------+-----------+------------+---------+------------+------------+----------+\n|      Team 1|     Team 2|      Winner|   Margin|      Ground|  Match Date| Scorecard|\n+------------+-----------+------------+---------+------------+------------+----------+\n|     England|West Indies| West Indies|4 wickets|Eden Gardens| Apr 3, 2016|T20I # 557|\n|       India|West Indies| West Indies|7 wickets|    Wankhede|Mar 31, 2016|T20I # 556|\n|     England|New Zealand|     England|7 wickets|       Delhi|Mar 30, 2016|T20I # 555|\n|South Africa|  Sri Lanka|South Africa|8 wickets|       Delhi|Mar 28, 2016|T20I # 554|\n|       India|  Australia|       India|6 wickets|      Mohali|Mar 27, 2016|T20I # 553|\n+------------+-----------+------------+---------+------------+------------+----------+\nonly showing top 5 rows\n\n"
     ]
    }
   ],
   "source": [
    "wc_match_winners_df.show(5)"
   ]
  },
  {
   "cell_type": "code",
   "execution_count": 0,
   "metadata": {
    "application/vnd.databricks.v1+cell": {
     "cellMetadata": {
      "byteLimit": 2048000,
      "rowLimit": 10000
     },
     "inputWidgets": {},
     "nuid": "aefcf562-a8e3-4497-9765-82d91014347c",
     "showTitle": false,
     "tableResultSettingsMap": {},
     "title": ""
    }
   },
   "outputs": [],
   "source": [
    "wc_winners_df = spark.read.format(\"csv\").option(\"header\", \"true\").load(\"dbfs:/FileStore/tables/World_cup_winners-1.csv\")"
   ]
  },
  {
   "cell_type": "code",
   "execution_count": 0,
   "metadata": {
    "application/vnd.databricks.v1+cell": {
     "cellMetadata": {
      "byteLimit": 2048000,
      "rowLimit": 10000
     },
     "inputWidgets": {},
     "nuid": "0ad3634d-ffa4-43e3-9fb2-c4cd3e72615f",
     "showTitle": false,
     "tableResultSettingsMap": {},
     "title": ""
    }
   },
   "outputs": [
    {
     "output_type": "stream",
     "name": "stdout",
     "output_type": "stream",
     "text": [
      "+------+----+-----------+------------+----------------+\n|Series|Type|     Winner|      Runner|      Tournament|\n+------+----+-----------+------------+----------------+\n|  2016| T20|West Indies|     England|          T20 WC|\n|  2017| ODI|   Pakistan|       India|Champions Trophy|\n|  2019| ODI|    England| New Zealand|          ODI WC|\n|  2021| T20|  Australia| New Zealand|          T20 WC|\n|  2022| T20|    England|    Pakistan|          T20 WC|\n|  2023| ODI|  Australia|       India|          ODI WC|\n|  2024| T20|      India|South Africa|          T20 WC|\n+------+----+-----------+------------+----------------+\n\n"
     ]
    }
   ],
   "source": [
    "wc_winners_df.show(10)"
   ]
  },
  {
   "cell_type": "code",
   "execution_count": 0,
   "metadata": {
    "application/vnd.databricks.v1+cell": {
     "cellMetadata": {
      "byteLimit": 2048000,
      "rowLimit": 10000
     },
     "inputWidgets": {},
     "nuid": "006e20aa-156b-4655-a0dd-6dc52e536730",
     "showTitle": false,
     "tableResultSettingsMap": {},
     "title": ""
    }
   },
   "outputs": [],
   "source": [
    "large_victories_df2 = spark.read.format(\"csv\").option(\"headers\", \"true\").load(\"dbfs:/FileStore/tables/largest_victories_by_runs-1.csv\")"
   ]
  },
  {
   "cell_type": "code",
   "execution_count": 0,
   "metadata": {
    "application/vnd.databricks.v1+cell": {
     "cellMetadata": {
      "byteLimit": 2048000,
      "rowLimit": 10000
     },
     "inputWidgets": {},
     "nuid": "ce4e3bfa-4ede-453d-97d2-7282d5fcac29",
     "showTitle": false,
     "tableResultSettingsMap": {},
     "title": ""
    }
   },
   "outputs": [
    {
     "output_type": "stream",
     "name": "stdout",
     "output_type": "stream",
     "text": [
      "+-----------+-------+---------+------+-----+---+------------+------------+----------+----------+\n|        _c0|    _c1|      _c2|   _c3|  _c4|_c5|         _c6|         _c7|       _c8|       _c9|\n+-----------+-------+---------+------+-----+---+------------+------------+----------+----------+\n|     Winner| Margin|Balls Rem|Target|Overs|Max|  Opposition|      Ground|Match Date| Scorecard|\n|New Zealand|75 runs|        0|   146| 15.4| 20|v Bangladesh|Eden Gardens| 26-Mar-16|T20I # 550|\n|Afghanistan|59 runs|        0|   187| 19.4| 20|  v Zimbabwe|      Nagpur| 12-Mar-16|T20I # 531|\n|   Pakistan|55 runs|        0|   202|   20| 20|v Bangladesh|Eden Gardens| 16-Mar-16|T20I # 536|\n| Bangladesh|54 runs|        0|   120|   12| 12|      v Oman|  Dharamsala| 13-Mar-16|T20I # 534|\n+-----------+-------+---------+------+-----+---+------------+------------+----------+----------+\nonly showing top 5 rows\n\n"
     ]
    }
   ],
   "source": [
    "large_victories_df2.show(5)"
   ]
  },
  {
   "cell_type": "code",
   "execution_count": 0,
   "metadata": {
    "application/vnd.databricks.v1+cell": {
     "cellMetadata": {
      "byteLimit": 2048000,
      "rowLimit": 10000
     },
     "inputWidgets": {},
     "nuid": "6355333f-8817-4fe7-9c14-9057d5de7726",
     "showTitle": false,
     "tableResultSettingsMap": {},
     "title": ""
    }
   },
   "outputs": [
    {
     "output_type": "stream",
     "name": "stdout",
     "output_type": "stream",
     "text": [
      "+-----------+-------+---------+------+-----+---+------------+------------+----------+----------+\n|        _c0|    _c1|      _c2|   _c3|  _c4|_c5|         _c6|         _c7|       _c8|       _c9|\n+-----------+-------+---------+------+-----+---+------------+------------+----------+----------+\n|     Winner| Margin|Balls Rem|Target|Overs|Max|  Opposition|      Ground|Match Date| Scorecard|\n|New Zealand|75 runs|        0|   146| 15.4| 20|v Bangladesh|Eden Gardens| 26-Mar-16|T20I # 550|\n|Afghanistan|59 runs|        0|   187| 19.4| 20|  v Zimbabwe|      Nagpur| 12-Mar-16|T20I # 531|\n|   Pakistan|55 runs|        0|   202|   20| 20|v Bangladesh|Eden Gardens| 16-Mar-16|T20I # 536|\n| Bangladesh|54 runs|        0|   120|   12| 12|      v Oman|  Dharamsala| 13-Mar-16|T20I # 534|\n+-----------+-------+---------+------+-----+---+------------+------------+----------+----------+\nonly showing top 5 rows\n\n"
     ]
    }
   ],
   "source": [
    "large_victories_df2.show(5)"
   ]
  },
  {
   "cell_type": "code",
   "execution_count": 0,
   "metadata": {
    "application/vnd.databricks.v1+cell": {
     "cellMetadata": {
      "byteLimit": 2048000,
      "rowLimit": 10000
     },
     "inputWidgets": {},
     "nuid": "962272d5-1a29-434a-9c49-086103601211",
     "showTitle": false,
     "tableResultSettingsMap": {},
     "title": ""
    }
   },
   "outputs": [
    {
     "output_type": "stream",
     "name": "stdout",
     "output_type": "stream",
     "text": [
      "+-----------+-------+---------+------+-----+---+------------+------------+----------+----------+\n|        _c0|    _c1|      _c2|   _c3|  _c4|_c5|         _c6|         _c7|       _c8|       _c9|\n+-----------+-------+---------+------+-----+---+------------+------------+----------+----------+\n|     Winner| Margin|Balls Rem|Target|Overs|Max|  Opposition|      Ground|Match Date| Scorecard|\n|New Zealand|75 runs|        0|   146| 15.4| 20|v Bangladesh|Eden Gardens| 26-Mar-16|T20I # 550|\n|Afghanistan|59 runs|        0|   187| 19.4| 20|  v Zimbabwe|      Nagpur| 12-Mar-16|T20I # 531|\n|   Pakistan|55 runs|        0|   202|   20| 20|v Bangladesh|Eden Gardens| 16-Mar-16|T20I # 536|\n| Bangladesh|54 runs|        0|   120|   12| 12|      v Oman|  Dharamsala| 13-Mar-16|T20I # 534|\n+-----------+-------+---------+------+-----+---+------------+------------+----------+----------+\nonly showing top 5 rows\n\n"
     ]
    }
   ],
   "source": [
    "large_victories_df2.show(5)"
   ]
  },
  {
   "cell_type": "code",
   "execution_count": 0,
   "metadata": {
    "application/vnd.databricks.v1+cell": {
     "cellMetadata": {
      "byteLimit": 2048000,
      "rowLimit": 10000
     },
     "inputWidgets": {},
     "nuid": "0a7a6ae4-7041-4926-9324-ea020e405488",
     "showTitle": false,
     "tableResultSettingsMap": {},
     "title": ""
    }
   },
   "outputs": [],
   "source": [
    "from pyspark.sql.functions import col\n",
    "columns = [f\"_c{i}\" for i in range(10)]"
   ]
  },
  {
   "cell_type": "code",
   "execution_count": 0,
   "metadata": {
    "application/vnd.databricks.v1+cell": {
     "cellMetadata": {
      "byteLimit": 2048000,
      "rowLimit": 10000
     },
     "inputWidgets": {},
     "nuid": "42409336-0fa5-4d3d-8034-9e128142c791",
     "showTitle": false,
     "tableResultSettingsMap": {},
     "title": ""
    }
   },
   "outputs": [
    {
     "output_type": "stream",
     "name": "stdout",
     "output_type": "stream",
     "text": [
      "Out[177]: ['_c0', '_c1', '_c2', '_c3', '_c4', '_c5', '_c6', '_c7', '_c8', '_c9']"
     ]
    }
   ],
   "source": [
    "columns"
   ]
  },
  {
   "cell_type": "code",
   "execution_count": 0,
   "metadata": {
    "application/vnd.databricks.v1+cell": {
     "cellMetadata": {
      "byteLimit": 2048000,
      "rowLimit": 10000
     },
     "inputWidgets": {},
     "nuid": "fcc2eb65-5278-469e-994b-a6343434f996",
     "showTitle": false,
     "tableResultSettingsMap": {},
     "title": ""
    }
   },
   "outputs": [],
   "source": [
    "new_large_victories_df = large_victories_df2.select('*')"
   ]
  },
  {
   "cell_type": "code",
   "execution_count": 0,
   "metadata": {
    "application/vnd.databricks.v1+cell": {
     "cellMetadata": {
      "byteLimit": 2048000,
      "rowLimit": 10000
     },
     "inputWidgets": {},
     "nuid": "70daa424-86b0-44cb-9ecb-5fa698606ec9",
     "showTitle": false,
     "tableResultSettingsMap": {},
     "title": ""
    }
   },
   "outputs": [
    {
     "output_type": "stream",
     "name": "stdout",
     "output_type": "stream",
     "text": [
      "+-----------+-------+---------+------+-----+---+------------+------------+----------+----------+\n|        _c0|    _c1|      _c2|   _c3|  _c4|_c5|         _c6|         _c7|       _c8|       _c9|\n+-----------+-------+---------+------+-----+---+------------+------------+----------+----------+\n|     Winner| Margin|Balls Rem|Target|Overs|Max|  Opposition|      Ground|Match Date| Scorecard|\n|New Zealand|75 runs|        0|   146| 15.4| 20|v Bangladesh|Eden Gardens| 26-Mar-16|T20I # 550|\n|Afghanistan|59 runs|        0|   187| 19.4| 20|  v Zimbabwe|      Nagpur| 12-Mar-16|T20I # 531|\n|   Pakistan|55 runs|        0|   202|   20| 20|v Bangladesh|Eden Gardens| 16-Mar-16|T20I # 536|\n| Bangladesh|54 runs|        0|   120|   12| 12|      v Oman|  Dharamsala| 13-Mar-16|T20I # 534|\n+-----------+-------+---------+------+-----+---+------------+------------+----------+----------+\nonly showing top 5 rows\n\n"
     ]
    }
   ],
   "source": [
    "new_large_victories_df.show(5)"
   ]
  },
  {
   "cell_type": "code",
   "execution_count": 0,
   "metadata": {
    "application/vnd.databricks.v1+cell": {
     "cellMetadata": {
      "byteLimit": 2048000,
      "rowLimit": 10000
     },
     "inputWidgets": {},
     "nuid": "4f7358ef-00e3-4c54-9ffe-471bed4259f3",
     "showTitle": false,
     "tableResultSettingsMap": {},
     "title": ""
    }
   },
   "outputs": [],
   "source": [
    "header = new_large_victories_df.first()"
   ]
  },
  {
   "cell_type": "code",
   "execution_count": 0,
   "metadata": {
    "application/vnd.databricks.v1+cell": {
     "cellMetadata": {
      "byteLimit": 2048000,
      "rowLimit": 10000
     },
     "inputWidgets": {},
     "nuid": "0516050c-0539-497e-beed-ca0a59f2fbaf",
     "showTitle": false,
     "tableResultSettingsMap": {},
     "title": ""
    }
   },
   "outputs": [
    {
     "output_type": "stream",
     "name": "stdout",
     "output_type": "stream",
     "text": [
      "Out[181]: Row(_c0='Winner', _c1='Margin', _c2='Balls Rem', _c3='Target', _c4='Overs', _c5='Max', _c6='Opposition', _c7='Ground', _c8='Match Date', _c9='Scorecard')"
     ]
    }
   ],
   "source": [
    "header"
   ]
  },
  {
   "cell_type": "code",
   "execution_count": 0,
   "metadata": {
    "application/vnd.databricks.v1+cell": {
     "cellMetadata": {
      "byteLimit": 2048000,
      "rowLimit": 10000
     },
     "inputWidgets": {},
     "nuid": "9f42b98d-d454-47d0-8ef1-c1679046e60a",
     "showTitle": false,
     "tableResultSettingsMap": {},
     "title": ""
    }
   },
   "outputs": [],
   "source": [
    "new_win_mar_df = new_large_victories_df.filter(~(col(\"_c0\") == header[\"_c0\"] ))"
   ]
  },
  {
   "cell_type": "code",
   "execution_count": 0,
   "metadata": {
    "application/vnd.databricks.v1+cell": {
     "cellMetadata": {
      "byteLimit": 2048000,
      "rowLimit": 10000
     },
     "inputWidgets": {},
     "nuid": "a663671a-9807-4afb-84ce-2b58efafa753",
     "showTitle": false,
     "tableResultSettingsMap": {},
     "title": ""
    }
   },
   "outputs": [
    {
     "output_type": "stream",
     "name": "stdout",
     "output_type": "stream",
     "text": [
      "+-----------+-------+---+---+----+---+------------+------------+---------+----------+\n|        _c0|    _c1|_c2|_c3| _c4|_c5|         _c6|         _c7|      _c8|       _c9|\n+-----------+-------+---+---+----+---+------------+------------+---------+----------+\n|New Zealand|75 runs|  0|146|15.4| 20|v Bangladesh|Eden Gardens|26-Mar-16|T20I # 550|\n|Afghanistan|59 runs|  0|187|19.4| 20|  v Zimbabwe|      Nagpur|12-Mar-16|T20I # 531|\n|   Pakistan|55 runs|  0|202|  20| 20|v Bangladesh|Eden Gardens|16-Mar-16|T20I # 536|\n| Bangladesh|54 runs|  0|120|  12| 12|      v Oman|  Dharamsala|13-Mar-16|T20I # 534|\n|New Zealand|47 runs|  0|127|18.1| 20|     v India|      Nagpur|15-Mar-16|T20I # 535|\n+-----------+-------+---+---+----+---+------------+------------+---------+----------+\nonly showing top 5 rows\n\n"
     ]
    }
   ],
   "source": [
    "new_win_mar_df.show(5)"
   ]
  },
  {
   "cell_type": "code",
   "execution_count": 0,
   "metadata": {
    "application/vnd.databricks.v1+cell": {
     "cellMetadata": {
      "byteLimit": 2048000,
      "rowLimit": 10000
     },
     "inputWidgets": {},
     "nuid": "ac314dc1-ffd1-4a55-abfb-c396ef78acb7",
     "showTitle": false,
     "tableResultSettingsMap": {},
     "title": ""
    }
   },
   "outputs": [
    {
     "output_type": "stream",
     "name": "stdout",
     "output_type": "stream",
     "text": [
      "Out[184]: 'Winner'"
     ]
    }
   ],
   "source": [
    "header[\"_c0\"]"
   ]
  },
  {
   "cell_type": "code",
   "execution_count": 0,
   "metadata": {
    "application/vnd.databricks.v1+cell": {
     "cellMetadata": {
      "byteLimit": 2048000,
      "rowLimit": 10000
     },
     "inputWidgets": {},
     "nuid": "9c959353-9a33-4a55-a62a-06510dd2ad9c",
     "showTitle": false,
     "tableResultSettingsMap": {},
     "title": ""
    }
   },
   "outputs": [],
   "source": [
    "new_cols = [header[f\"_c{i}\"] for i in range(len(header))]"
   ]
  },
  {
   "cell_type": "code",
   "execution_count": 0,
   "metadata": {
    "application/vnd.databricks.v1+cell": {
     "cellMetadata": {
      "byteLimit": 2048000,
      "rowLimit": 10000
     },
     "inputWidgets": {},
     "nuid": "9aa2e516-e6d9-4462-85f9-d34293946f45",
     "showTitle": false,
     "tableResultSettingsMap": {},
     "title": ""
    }
   },
   "outputs": [
    {
     "output_type": "stream",
     "name": "stdout",
     "output_type": "stream",
     "text": [
      "Out[186]: ['Winner',\n 'Margin',\n 'Balls Rem',\n 'Target',\n 'Overs',\n 'Max',\n 'Opposition',\n 'Ground',\n 'Match Date',\n 'Scorecard']"
     ]
    }
   ],
   "source": [
    "new_cols"
   ]
  },
  {
   "cell_type": "code",
   "execution_count": 0,
   "metadata": {
    "application/vnd.databricks.v1+cell": {
     "cellMetadata": {
      "byteLimit": 2048000,
      "rowLimit": 10000
     },
     "inputWidgets": {},
     "nuid": "027933b8-6582-430f-b89e-238de3c84630",
     "showTitle": false,
     "tableResultSettingsMap": {},
     "title": ""
    }
   },
   "outputs": [],
   "source": [
    "new_win_mar_df_final = new_win_mar_df.toDF(*new_cols)"
   ]
  },
  {
   "cell_type": "code",
   "execution_count": 0,
   "metadata": {
    "application/vnd.databricks.v1+cell": {
     "cellMetadata": {
      "byteLimit": 2048000,
      "rowLimit": 10000
     },
     "inputWidgets": {},
     "nuid": "23d62a6c-d013-42e2-ad66-79284e99277e",
     "showTitle": false,
     "tableResultSettingsMap": {},
     "title": ""
    }
   },
   "outputs": [
    {
     "output_type": "stream",
     "name": "stdout",
     "output_type": "stream",
     "text": [
      "+-----------+-------+---------+------+-----+---+------------+------------+----------+----------+\n|     Winner| Margin|Balls Rem|Target|Overs|Max|  Opposition|      Ground|Match Date| Scorecard|\n+-----------+-------+---------+------+-----+---+------------+------------+----------+----------+\n|New Zealand|75 runs|        0|   146| 15.4| 20|v Bangladesh|Eden Gardens| 26-Mar-16|T20I # 550|\n|Afghanistan|59 runs|        0|   187| 19.4| 20|  v Zimbabwe|      Nagpur| 12-Mar-16|T20I # 531|\n|   Pakistan|55 runs|        0|   202|   20| 20|v Bangladesh|Eden Gardens| 16-Mar-16|T20I # 536|\n| Bangladesh|54 runs|        0|   120|   12| 12|      v Oman|  Dharamsala| 13-Mar-16|T20I # 534|\n|New Zealand|47 runs|        0|   127| 18.1| 20|     v India|      Nagpur| 15-Mar-16|T20I # 535|\n+-----------+-------+---------+------+-----+---+------------+------------+----------+----------+\nonly showing top 5 rows\n\n"
     ]
    }
   ],
   "source": [
    "new_win_mar_df_final.show(5)"
   ]
  },
  {
   "cell_type": "code",
   "execution_count": 0,
   "metadata": {
    "application/vnd.databricks.v1+cell": {
     "cellMetadata": {
      "byteLimit": 2048000,
      "rowLimit": 10000
     },
     "inputWidgets": {},
     "nuid": "c5c0a079-013a-4d55-8511-4a35aa2ca503",
     "showTitle": false,
     "tableResultSettingsMap": {},
     "title": ""
    }
   },
   "outputs": [],
   "source": [
    "most_wickets_1_1 = most_wickets_1.select('*')"
   ]
  },
  {
   "cell_type": "code",
   "execution_count": 0,
   "metadata": {
    "application/vnd.databricks.v1+cell": {
     "cellMetadata": {
      "byteLimit": 2048000,
      "rowLimit": 10000
     },
     "inputWidgets": {},
     "nuid": "237d6744-2f6b-4ffe-8802-539fca0c7f88",
     "showTitle": false,
     "tableResultSettingsMap": {},
     "title": ""
    }
   },
   "outputs": [],
   "source": [
    "header_1 = most_wickets_1_1.first()"
   ]
  },
  {
   "cell_type": "code",
   "execution_count": 0,
   "metadata": {
    "application/vnd.databricks.v1+cell": {
     "cellMetadata": {
      "byteLimit": 2048000,
      "rowLimit": 10000
     },
     "inputWidgets": {},
     "nuid": "5779ee63-dcca-4ace-9e8b-4fb5fec44604",
     "showTitle": false,
     "tableResultSettingsMap": {},
     "title": ""
    }
   },
   "outputs": [
    {
     "output_type": "stream",
     "name": "stdout",
     "output_type": "stream",
     "text": [
      "Out[191]: Row(_c0='Player', _c1='Span', _c2='Mat', _c3='Inns', _c4='Balls', _c5='Overs', _c6='Mdns', _c7='Runs', _c8='Wkts', _c9='BBI', _c10='Ave', _c11='Econ', _c12='SR', _c13='4', _c14='5')"
     ]
    }
   ],
   "source": [
    "header_1"
   ]
  },
  {
   "cell_type": "code",
   "execution_count": 0,
   "metadata": {
    "application/vnd.databricks.v1+cell": {
     "cellMetadata": {
      "byteLimit": 2048000,
      "rowLimit": 10000
     },
     "inputWidgets": {},
     "nuid": "a12c6d05-9cf5-409c-af63-6b8b2ff3a21e",
     "showTitle": false,
     "tableResultSettingsMap": {},
     "title": ""
    }
   },
   "outputs": [],
   "source": [
    "most_wickets_new_df = most_wickets_1_1.filter(~(col(\"_c0\") == header_1[\"_c0\"]))"
   ]
  },
  {
   "cell_type": "code",
   "execution_count": 0,
   "metadata": {
    "application/vnd.databricks.v1+cell": {
     "cellMetadata": {
      "byteLimit": 2048000,
      "rowLimit": 10000
     },
     "inputWidgets": {},
     "nuid": "9d5441bf-2f3a-4d1e-847e-9d15207d93df",
     "showTitle": false,
     "tableResultSettingsMap": {},
     "title": ""
    }
   },
   "outputs": [
    {
     "output_type": "stream",
     "name": "stdout",
     "output_type": "stream",
     "text": [
      "+-------------------+---------+---+---+---+----+---+---+---+------+-----+----+-----+----+----+\n|                _c0|      _c1|_c2|_c3|_c4| _c5|_c6|_c7|_c8|   _c9| _c10|_c11| _c12|_c13|_c14|\n+-------------------+---------+---+---+---+----+---+---+---+------+-----+----+-----+----+----+\n|Mohammad Nabi (AFG)|2016-2016|  7|  7|162|  27|  1|164| 12|Apr-20|13.66|6.07| 13.5|   1|   -|\n|  Rashid Khan (AFG)|2016-2016|  7|  7|168|  28|  -|183| 11|03-Nov|16.63|6.53|15.27|   -|   -|\n|    MJ Santner (NZ)|2016-2016|  5|  5|109|18.1|  -|114| 10|04-Nov| 11.4|6.27| 10.9|   1|   -|\n|      IS Sodhi (NZ)|2016-2016|  5|  5|118|19.4|  -|120| 10|Mar-18|   12| 6.1| 11.8|   -|   -|\n|    DJ Willey (ENG)|2016-2016|  6|  6|126|  21|  -|159| 10|Mar-20| 15.9|7.57| 12.6|   -|   -|\n+-------------------+---------+---+---+---+----+---+---+---+------+-----+----+-----+----+----+\nonly showing top 5 rows\n\n"
     ]
    }
   ],
   "source": [
    "most_wickets_new_df.show(5)"
   ]
  },
  {
   "cell_type": "code",
   "execution_count": 0,
   "metadata": {
    "application/vnd.databricks.v1+cell": {
     "cellMetadata": {
      "byteLimit": 2048000,
      "rowLimit": 10000
     },
     "inputWidgets": {},
     "nuid": "2a39df8c-e17e-4e48-88b3-a2f994ce91a7",
     "showTitle": false,
     "tableResultSettingsMap": {},
     "title": ""
    }
   },
   "outputs": [],
   "source": [
    "new_columns_1 = [header_1[f\"_c{i}\"] for i in range(len(header_1))]"
   ]
  },
  {
   "cell_type": "code",
   "execution_count": 0,
   "metadata": {
    "application/vnd.databricks.v1+cell": {
     "cellMetadata": {
      "byteLimit": 2048000,
      "rowLimit": 10000
     },
     "inputWidgets": {},
     "nuid": "868c4f77-c9e1-44dd-aab6-b49686b6811d",
     "showTitle": false,
     "tableResultSettingsMap": {},
     "title": ""
    }
   },
   "outputs": [],
   "source": [
    "most_wickets_final_df = most_wickets_new_df.toDF(*new_columns_1)"
   ]
  },
  {
   "cell_type": "code",
   "execution_count": 0,
   "metadata": {
    "application/vnd.databricks.v1+cell": {
     "cellMetadata": {
      "byteLimit": 2048000,
      "rowLimit": 10000
     },
     "inputWidgets": {},
     "nuid": "dfde6938-50c2-44ab-ba04-a295a5fd79f7",
     "showTitle": false,
     "tableResultSettingsMap": {},
     "title": ""
    }
   },
   "outputs": [
    {
     "output_type": "stream",
     "name": "stdout",
     "output_type": "stream",
     "text": [
      "+-------------------+---------+---+----+-----+-----+----+----+----+------+-----+----+-----+---+---+\n|             Player|     Span|Mat|Inns|Balls|Overs|Mdns|Runs|Wkts|   BBI|  Ave|Econ|   SR|  4|  5|\n+-------------------+---------+---+----+-----+-----+----+----+----+------+-----+----+-----+---+---+\n|Mohammad Nabi (AFG)|2016-2016|  7|   7|  162|   27|   1| 164|  12|Apr-20|13.66|6.07| 13.5|  1|  -|\n|  Rashid Khan (AFG)|2016-2016|  7|   7|  168|   28|   -| 183|  11|03-Nov|16.63|6.53|15.27|  -|  -|\n|    MJ Santner (NZ)|2016-2016|  5|   5|  109| 18.1|   -| 114|  10|04-Nov| 11.4|6.27| 10.9|  1|  -|\n|      IS Sodhi (NZ)|2016-2016|  5|   5|  118| 19.4|   -| 120|  10|Mar-18|   12| 6.1| 11.8|  -|  -|\n|    DJ Willey (ENG)|2016-2016|  6|   6|  126|   21|   -| 159|  10|Mar-20| 15.9|7.57| 12.6|  -|  -|\n+-------------------+---------+---+----+-----+-----+----+----+----+------+-----+----+-----+---+---+\nonly showing top 5 rows\n\n"
     ]
    }
   ],
   "source": [
    "most_wickets_final_df.show(5)"
   ]
  },
  {
   "cell_type": "code",
   "execution_count": 0,
   "metadata": {
    "application/vnd.databricks.v1+cell": {
     "cellMetadata": {
      "byteLimit": 2048000,
      "rowLimit": 10000
     },
     "inputWidgets": {},
     "nuid": "a901b0bf-899c-4908-8fe6-d274d7839637",
     "showTitle": false,
     "tableResultSettingsMap": {},
     "title": ""
    }
   },
   "outputs": [],
   "source": [
    "from pyspark.sql.functions import when"
   ]
  },
  {
   "cell_type": "code",
   "execution_count": 0,
   "metadata": {
    "application/vnd.databricks.v1+cell": {
     "cellMetadata": {
      "byteLimit": 2048000,
      "rowLimit": 10000
     },
     "inputWidgets": {},
     "nuid": "88d8ef4a-c3ed-4022-a693-ae12fb837788",
     "showTitle": false,
     "tableResultSettingsMap": {},
     "title": ""
    }
   },
   "outputs": [],
   "source": [
    "columns_most_wickets = most_wickets_final_df.columns"
   ]
  },
  {
   "cell_type": "code",
   "execution_count": 0,
   "metadata": {
    "application/vnd.databricks.v1+cell": {
     "cellMetadata": {
      "byteLimit": 2048000,
      "rowLimit": 10000
     },
     "inputWidgets": {},
     "nuid": "7441e7af-abe2-49ea-9ede-01816ea4aa79",
     "showTitle": false,
     "tableResultSettingsMap": {},
     "title": ""
    }
   },
   "outputs": [
    {
     "output_type": "stream",
     "name": "stdout",
     "output_type": "stream",
     "text": [
      "Out[199]: ['Player',\n 'Span',\n 'Mat',\n 'Inns',\n 'Balls',\n 'Overs',\n 'Mdns',\n 'Runs',\n 'Wkts',\n 'BBI',\n 'Ave',\n 'Econ',\n 'SR',\n '4',\n '5']"
     ]
    }
   ],
   "source": [
    "columns_most_wickets"
   ]
  },
  {
   "cell_type": "code",
   "execution_count": 0,
   "metadata": {
    "application/vnd.databricks.v1+cell": {
     "cellMetadata": {
      "byteLimit": 2048000,
      "rowLimit": 10000
     },
     "inputWidgets": {},
     "nuid": "dc60e4b8-993c-4727-93b9-cb6838ef18d7",
     "showTitle": false,
     "tableResultSettingsMap": {},
     "title": ""
    }
   },
   "outputs": [
    {
     "output_type": "stream",
     "name": "stdout",
     "output_type": "stream",
     "text": [
      "+-------------------+---------+---+----+-----+-----+----+----+----+------+-----+----+-----+---+---+\n|             Player|     Span|Mat|Inns|Balls|Overs|Mdns|Runs|Wkts|   BBI|  Ave|Econ|   SR|  4|  5|\n+-------------------+---------+---+----+-----+-----+----+----+----+------+-----+----+-----+---+---+\n|Mohammad Nabi (AFG)|2016-2016|  7|   7|  162|   27|   1| 164|  12|Apr-20|13.66|6.07| 13.5|  1|  0|\n|  Rashid Khan (AFG)|2016-2016|  7|   7|  168|   28|   0| 183|  11|03-Nov|16.63|6.53|15.27|  0|  0|\n|    MJ Santner (NZ)|2016-2016|  5|   5|  109| 18.1|   0| 114|  10|04-Nov| 11.4|6.27| 10.9|  1|  0|\n|      IS Sodhi (NZ)|2016-2016|  5|   5|  118| 19.4|   0| 120|  10|Mar-18|   12| 6.1| 11.8|  0|  0|\n|    DJ Willey (ENG)|2016-2016|  6|   6|  126|   21|   0| 159|  10|Mar-20| 15.9|7.57| 12.6|  0|  0|\n+-------------------+---------+---+----+-----+-----+----+----+----+------+-----+----+-----+---+---+\nonly showing top 5 rows\n\n"
     ]
    }
   ],
   "source": [
    "columns_needed = [\"Mdns\", \"4\", \"5\"]\n",
    "for cols in columns_needed:\n",
    "    most_wickets_final_df = most_wickets_final_df.withColumn(cols, when(col(cols) == \"-\", \"0\").otherwise(col(cols)))\n",
    "\n",
    "most_wickets_final_df.show(5)\n"
   ]
  },
  {
   "cell_type": "code",
   "execution_count": 0,
   "metadata": {
    "application/vnd.databricks.v1+cell": {
     "cellMetadata": {
      "byteLimit": 2048000,
      "rowLimit": 10000
     },
     "inputWidgets": {},
     "nuid": "50f666da-6984-4c47-9e42-5fb0329e22bb",
     "showTitle": false,
     "tableResultSettingsMap": {},
     "title": ""
    }
   },
   "outputs": [],
   "source": [
    "#Starting Analysis\n",
    "from pyspark.sql.functions import split, length\n",
    "most_wickets_final_df123 =  most_wickets_final_df.withColumn(\"Country\", split(col(\"Player\"), r\"\\(\").getItem(1))\n",
    "\n",
    "most_wickets_final_df123 = most_wickets_final_df123.withColumn(\"Country\", col(\"Country\").substr(0,3))\n",
    "most_wickets_final_df123 = most_wickets_final_df123.withColumn(\"Player\", split(col(\"Player\"), r\"\\(\").getItem(0))\n",
    "most_wickets_final_df123 = most_wickets_final_df123.withColumn(\"CountryName\", \n",
    "                                                               when(col(\"Country\") == 'AFG', \"Afghanistan\")\n",
    "                                                               .when(col(\"Country\") == 'NZ)', \"New Zealand\")\n",
    "                                                               .when(col(\"Country\") == 'IND', \"India\")\n",
    "                                                               .when(col(\"Country\") == 'PAK', \"Pakistan\")\n",
    "                                                               .when(col(\"Country\") == 'AUS', \"Australia\")\n",
    "                                                               .when(col(\"Country\") == 'SL)', \"Sri Lanka\")\n",
    "                                                               .when(col(\"Country\") == 'ENG', \"England\")\n",
    "                                                               .when(col(\"Country\") == 'WI)', \"West Indies\")\n",
    "                                                               .when(col(\"Country\") == 'BAN', \"Bangladesh\")\n",
    "                                                               .when(col(\"Country\") == 'SA)', \"South Africa\")\n",
    "                                                               .when(col(\"Country\") == 'NED', \"Netherlands\")\n",
    "                                                               .when(col(\"Country\") == 'ZIM', \"Zimbabwe\")\n",
    "                                                               .otherwise(\"Unknown\")\n",
    "\n",
    ")\n",
    "\n"
   ]
  },
  {
   "cell_type": "code",
   "execution_count": 0,
   "metadata": {
    "application/vnd.databricks.v1+cell": {
     "cellMetadata": {
      "byteLimit": 2048000,
      "rowLimit": 10000
     },
     "inputWidgets": {},
     "nuid": "7959f63a-5394-4373-ab3e-b9aed70cf617",
     "showTitle": false,
     "tableResultSettingsMap": {},
     "title": ""
    }
   },
   "outputs": [
    {
     "output_type": "stream",
     "name": "stdout",
     "output_type": "stream",
     "text": [
      "+--------------+---------+---+----+-----+-----+----+----+----+------+-----+----+-----+---+---+-------+-----------+\n|        Player|     Span|Mat|Inns|Balls|Overs|Mdns|Runs|Wkts|   BBI|  Ave|Econ|   SR|  4|  5|Country|CountryName|\n+--------------+---------+---+----+-----+-----+----+----+----+------+-----+----+-----+---+---+-------+-----------+\n|Mohammad Nabi |2016-2016|  7|   7|  162|   27|   1| 164|  12|Apr-20|13.66|6.07| 13.5|  1|  0|    AFG|Afghanistan|\n|  Rashid Khan |2016-2016|  7|   7|  168|   28|   0| 183|  11|03-Nov|16.63|6.53|15.27|  0|  0|    AFG|Afghanistan|\n|   MJ Santner |2016-2016|  5|   5|  109| 18.1|   0| 114|  10|04-Nov| 11.4|6.27| 10.9|  1|  0|    NZ)|New Zealand|\n|     IS Sodhi |2016-2016|  5|   5|  118| 19.4|   0| 120|  10|Mar-18|   12| 6.1| 11.8|  0|  0|    NZ)|New Zealand|\n|    DJ Willey |2016-2016|  6|   6|  126|   21|   0| 159|  10|Mar-20| 15.9|7.57| 12.6|  0|  0|    ENG|    England|\n+--------------+---------+---+----+-----+-----+----+----+----+------+-----+----+-----+---+---+-------+-----------+\nonly showing top 5 rows\n\n"
     ]
    }
   ],
   "source": [
    "most_wickets_final_df123.show(5)"
   ]
  },
  {
   "cell_type": "code",
   "execution_count": 0,
   "metadata": {
    "application/vnd.databricks.v1+cell": {
     "cellMetadata": {
      "byteLimit": 2048000,
      "rowLimit": 10000
     },
     "inputWidgets": {},
     "nuid": "a7ca39a0-de9e-4d11-8fc6-3d46952455a3",
     "showTitle": false,
     "tableResultSettingsMap": {},
     "title": ""
    }
   },
   "outputs": [],
   "source": [
    "from pyspark.sql.functions import row_number, sum, avg, desc\n",
    "wickets_by_each_country = most_wickets_final_df123.groupBy(\"Country\").agg(\n",
    "                            sum(\"Wkts\").alias(\"Total Wickets\"),\n",
    "                            avg(\"Wkts\").alias(\"Avg Wickets\")\n",
    "                            ).orderBy(desc(\"Avg Wickets\"))"
   ]
  },
  {
   "cell_type": "code",
   "execution_count": 0,
   "metadata": {
    "application/vnd.databricks.v1+cell": {
     "cellMetadata": {
      "byteLimit": 2048000,
      "rowLimit": 10000
     },
     "inputWidgets": {},
     "nuid": "ed75ef1c-9ac7-4177-8c5a-bb2596c1e745",
     "showTitle": false,
     "tableResultSettingsMap": {},
     "title": ""
    }
   },
   "outputs": [
    {
     "output_type": "stream",
     "name": "stdout",
     "output_type": "stream",
     "text": [
      "+-------+-------------+-----------------+------------+\n|Country|Total Wickets|      Avg Wickets| CountryName|\n+-------+-------------+-----------------+------------+\n|    IND|        351.0|           7.3125|       India|\n|    SA)|        323.0|7.021739130434782|South Africa|\n|    ENG|        345.0|              6.9|     England|\n|    NZ)|        314.0|6.826086956521739| New Zealand|\n|    AUS|        314.0|             6.28|   Australia|\n|    PAK|        286.0|6.085106382978723|    Pakistan|\n|    AFG|        233.0|            5.825| Afghanistan|\n|    BAN|        279.0|5.365384615384615|  Bangladesh|\n|    WI)|        170.0|           5.3125| West Indies|\n|    NED|        158.0|5.266666666666667| Netherlands|\n|    ZIM|         65.0|              5.0|    Zimbabwe|\n|    SL)|        235.0|4.795918367346939|   Sri Lanka|\n+-------+-------------+-----------------+------------+\nonly showing top 12 rows\n\n"
     ]
    }
   ],
   "source": [
    "wickets_by_each_country.show(12)"
   ]
  },
  {
   "cell_type": "code",
   "execution_count": 0,
   "metadata": {
    "application/vnd.databricks.v1+cell": {
     "cellMetadata": {
      "byteLimit": 2048000,
      "rowLimit": 10000
     },
     "inputWidgets": {},
     "nuid": "7f7d0490-6b95-4edf-bee1-3f18aeaf47e9",
     "showTitle": false,
     "tableResultSettingsMap": {},
     "title": ""
    }
   },
   "outputs": [],
   "source": [
    "wickets_by_each_country = wickets_by_each_country.withColumn(\"CountryName\",  when(col(\"Country\") == 'AFG', \"Afghanistan\")\n",
    "                                                               .when(col(\"Country\") == 'NZ)', \"New Zealand\")\n",
    "                                                               .when(col(\"Country\") == 'IND', \"India\")\n",
    "                                                               .when(col(\"Country\") == 'PAK', \"Pakistan\")\n",
    "                                                               .when(col(\"Country\") == 'AUS', \"Australia\")\n",
    "                                                               .when(col(\"Country\") == 'SL)', \"Sri Lanka\")\n",
    "                                                               .when(col(\"Country\") == 'ENG', \"England\")\n",
    "                                                               .when(col(\"Country\") == 'WI)', \"West Indies\")\n",
    "                                                               .when(col(\"Country\") == 'BAN', \"Bangladesh\")\n",
    "                                                               .when(col(\"Country\") == 'SA)', \"South Africa\")\n",
    "                                                               .when(col(\"Country\") == 'NED', \"Netherlands\")\n",
    "                                                               .when(col(\"Country\") == 'ZIM', \"Zimbabwe\")\n",
    "                                                               .otherwise(\"Unknown\"))"
   ]
  },
  {
   "cell_type": "code",
   "execution_count": 0,
   "metadata": {
    "application/vnd.databricks.v1+cell": {
     "cellMetadata": {
      "byteLimit": 2048000,
      "rowLimit": 10000
     },
     "inputWidgets": {},
     "nuid": "06074332-0699-4ed8-bec3-a65d859b5467",
     "showTitle": false,
     "tableResultSettingsMap": {},
     "title": ""
    }
   },
   "outputs": [
    {
     "output_type": "display_data",
     "data": {
      "image/png": "[encoded data removed]"
     },
     "metadata": {
      "application/vnd.databricks.v1+output": {
       "addedWidgets": {},
       "arguments": {},
       "data": "data:image/png;base64,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\n",
       "datasetInfos": [],
       "metadata": {},
       "removedWidgets": [],
       "type": "image"
      }
     },
     "output_type": "display_data"
    },
    {
     "output_type": "display_data",
     "data": {
      "image/png": "[encoded data removed]"
     },
     "metadata": {
      "application/vnd.databricks.v1+output": {
       "addedWidgets": {},
       "arguments": {},
       "data": "data:image/png;base64,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\n",
       "datasetInfos": [],
       "metadata": {},
       "removedWidgets": [],
       "type": "image"
      }
     },
     "output_type": "display_data"
    }
   ],
   "source": [
    "import pandas as py\n",
    "import seaborn as sn\n",
    "import matplotlib.pyplot as plt\n",
    "\n",
    "sn.set(style=\"whitegrid\")\n",
    "\n",
    "plt.figure(figsize=(10,6))\n",
    "\n",
    "wickets_by_each_country_pandas = wickets_by_each_country.toPandas()\n",
    "bar_plot = sn.barplot(x=\"CountryName\", y = \"Avg Wickets\", data = wickets_by_each_country_pandas, palette=\"viridis\")\n",
    "bar_plot.set_title(\"Avg Wickets by each country in the ICC torunaments for the past decade\")\n",
    "bar_plot.set_xlabel(\"Avg Wickets\", fontsize=\"18\")\n",
    "bar_plot.set_ylabel(\"Country\", fontsize=\"18\")\n",
    "plt.xticks(rotation=45)\n",
    "plt.show()\n",
    "\n",
    "wickets_by_each_country_pandas = wickets_by_each_country.toPandas()\n",
    "bar_plot = sn.barplot(x=\"Country\", y = \"Total Wickets\", data = wickets_by_each_country_pandas, palette=\"viridis\")\n",
    "bar_plot.set_title(\"Total Wickets by each country in the ICC torunaments for the past decade\")\n",
    "bar_plot.set_xlabel(\"Total Wickets\", fontsize=\"18\")\n",
    "bar_plot.set_ylabel(\"Country\", fontsize=\"18\")\n",
    "plt.xticks(rotation=45)\n",
    "plt.show()\n",
    "\n",
    "\n",
    "\n"
   ]
  },
  {
   "cell_type": "code",
   "execution_count": 0,
   "metadata": {
    "application/vnd.databricks.v1+cell": {
     "cellMetadata": {
      "byteLimit": 2048000,
      "rowLimit": 10000
     },
     "inputWidgets": {},
     "nuid": "0ea90239-7999-432d-8b62-22d227ae20da",
     "showTitle": false,
     "tableResultSettingsMap": {},
     "title": ""
    }
   },
   "outputs": [],
   "source": [
    "## From this graph, we can infer why SL is performing poorly since the 2016 ICC Tournament as their wickets tally is really low whereas India ranks higher in the wickets tally and also performed consistently in the ICC tournaments in the past decade. So wickets tally plays a significant part in the successful campaign of the team."
   ]
  },
  {
   "cell_type": "code",
   "execution_count": 0,
   "metadata": {
    "application/vnd.databricks.v1+cell": {
     "cellMetadata": {
      "byteLimit": 2048000,
      "rowLimit": 10000
     },
     "inputWidgets": {},
     "nuid": "989f99bb-bdca-4078-b3df-cc410065d307",
     "showTitle": false,
     "tableResultSettingsMap": {},
     "title": ""
    }
   },
   "outputs": [],
   "source": [
    "## Now we are going to analyze how wickets taken impacts the rate of winning the trophy"
   ]
  },
  {
   "cell_type": "code",
   "execution_count": 0,
   "metadata": {
    "application/vnd.databricks.v1+cell": {
     "cellMetadata": {
      "byteLimit": 2048000,
      "rowLimit": 10000
     },
     "inputWidgets": {},
     "nuid": "e1c46c98-4223-4fb1-b85f-2ca32f918c64",
     "showTitle": false,
     "tableResultSettingsMap": {},
     "title": ""
    }
   },
   "outputs": [
    {
     "output_type": "stream",
     "name": "stdout",
     "output_type": "stream",
     "text": [
      "Out[208]: DataFrame[Series: string, Type: string, Winner: string, Runner: string, Tournament: string]"
     ]
    }
   ],
   "source": [
    "wc_winners_df"
   ]
  },
  {
   "cell_type": "code",
   "execution_count": 0,
   "metadata": {
    "application/vnd.databricks.v1+cell": {
     "cellMetadata": {
      "byteLimit": 2048000,
      "rowLimit": 10000
     },
     "inputWidgets": {},
     "nuid": "f9821cf8-3fdc-4569-9a48-ca032cde0d70",
     "showTitle": false,
     "tableResultSettingsMap": {},
     "title": ""
    }
   },
   "outputs": [
    {
     "output_type": "stream",
     "name": "stdout",
     "output_type": "stream",
     "text": [
      "+------+----+-----------+------------+----------------+\n|Series|Type|     Winner|      Runner|      Tournament|\n+------+----+-----------+------------+----------------+\n|  2016| T20|West Indies|     England|          T20 WC|\n|  2017| ODI|   Pakistan|       India|Champions Trophy|\n|  2019| ODI|    England| New Zealand|          ODI WC|\n|  2021| T20|  Australia| New Zealand|          T20 WC|\n|  2022| T20|    England|    Pakistan|          T20 WC|\n|  2023| ODI|  Australia|       India|          ODI WC|\n|  2024| T20|      India|South Africa|          T20 WC|\n+------+----+-----------+------------+----------------+\n\n"
     ]
    }
   ],
   "source": [
    "wc_winners_df.show(10)"
   ]
  },
  {
   "cell_type": "code",
   "execution_count": 0,
   "metadata": {
    "application/vnd.databricks.v1+cell": {
     "cellMetadata": {
      "byteLimit": 2048000,
      "rowLimit": 10000
     },
     "inputWidgets": {},
     "nuid": "fb18c8dc-7637-465a-b206-3beb694d040d",
     "showTitle": false,
     "tableResultSettingsMap": {},
     "title": ""
    }
   },
   "outputs": [],
   "source": [
    "#Total wickets taken by winning team\n",
    "\n",
    "total_wickets_impact = most_wickets_final_df123.join(wc_winners_df, wc_winners_df[\"Winner\"] == most_wickets_final_df123[\"CountryName\"]).groupBy(\"Winner\", \"Tournament\", \"Series\").agg(avg(\"Wkts\").alias(\"Avg Wickets by champions\"))"
   ]
  },
  {
   "cell_type": "code",
   "execution_count": 0,
   "metadata": {
    "application/vnd.databricks.v1+cell": {
     "cellMetadata": {
      "byteLimit": 2048000,
      "rowLimit": 10000
     },
     "inputWidgets": {},
     "nuid": "d4f762d2-e3a5-4b96-899d-604b0c526043",
     "showTitle": false,
     "tableResultSettingsMap": {},
     "title": ""
    }
   },
   "outputs": [
    {
     "output_type": "stream",
     "name": "stdout",
     "output_type": "stream",
     "text": [
      "+-----------+----------------+------+------------------------+\n|     Winner|      Tournament|Series|Avg Wickets by champions|\n+-----------+----------------+------+------------------------+\n|      India|          T20 WC|  2024|                  7.3125|\n|West Indies|          T20 WC|  2016|                  5.3125|\n|  Australia|          T20 WC|  2021|                    6.28|\n|    England|          ODI WC|  2019|                     6.9|\n|  Australia|          ODI WC|  2023|                    6.28|\n|    England|          T20 WC|  2022|                     6.9|\n|   Pakistan|Champions Trophy|  2017|       6.085106382978723|\n+-----------+----------------+------+------------------------+\n\n"
     ]
    }
   ],
   "source": [
    "total_wickets_impact.show(10)"
   ]
  },
  {
   "cell_type": "code",
   "execution_count": 0,
   "metadata": {
    "application/vnd.databricks.v1+cell": {
     "cellMetadata": {
      "byteLimit": 2048000,
      "rowLimit": 10000
     },
     "inputWidgets": {},
     "nuid": "560081a3-a0f7-4e44-8f4a-80ea90333d0b",
     "showTitle": false,
     "tableResultSettingsMap": {},
     "title": ""
    }
   },
   "outputs": [],
   "source": [
    "total_wickets_impact_non_winners = most_wickets_final_df123.join(wc_winners_df, wc_winners_df[\"Winner\"] != most_wickets_final_df123[\"CountryName\"]).groupBy(\"Tournament\", \"Series\").agg(avg(\"Wkts\").alias(\"Avg Wickets by non winners\"))"
   ]
  },
  {
   "cell_type": "code",
   "execution_count": 0,
   "metadata": {
    "application/vnd.databricks.v1+cell": {
     "cellMetadata": {
      "byteLimit": 2048000,
      "rowLimit": 10000
     },
     "inputWidgets": {},
     "nuid": "438fc6ab-1cd9-4bb4-8335-b78dac2cf019",
     "showTitle": false,
     "tableResultSettingsMap": {},
     "title": ""
    }
   },
   "outputs": [
    {
     "output_type": "stream",
     "name": "stdout",
     "output_type": "stream",
     "text": [
      "+----------------+------+--------------------------+\n|      Tournament|Series|Avg Wickets by non winners|\n+----------------+------+--------------------------+\n|          ODI WC|  2019|         5.552584670231729|\n|          ODI WC|  2023|         5.607843137254902|\n|          T20 WC|  2021|         5.607843137254902|\n|          T20 WC|  2022|         5.552584670231729|\n|          T20 WC|  2016|         5.682210708117444|\n|Champions Trophy|  2017|         5.627659574468085|\n|          T20 WC|  2024|         5.522202486678508|\n+----------------+------+--------------------------+\n\n"
     ]
    }
   ],
   "source": [
    "total_wickets_impact_non_winners.show(10)"
   ]
  },
  {
   "cell_type": "code",
   "execution_count": 0,
   "metadata": {
    "application/vnd.databricks.v1+cell": {
     "cellMetadata": {
      "byteLimit": 2048000,
      "rowLimit": 10000
     },
     "inputWidgets": {},
     "nuid": "0ce28f94-1c33-4147-b5ce-3d7d057b996d",
     "showTitle": false,
     "tableResultSettingsMap": {},
     "title": ""
    }
   },
   "outputs": [],
   "source": [
    "compare_wickets_impact = total_wickets_impact.join(total_wickets_impact_non_winners, [\"Tournament\", \"Series\"])"
   ]
  },
  {
   "cell_type": "code",
   "execution_count": 0,
   "metadata": {
    "application/vnd.databricks.v1+cell": {
     "cellMetadata": {
      "byteLimit": 2048000,
      "rowLimit": 10000
     },
     "inputWidgets": {},
     "nuid": "cd80ff8c-f004-48f3-8c50-0c51be9680c3",
     "showTitle": false,
     "tableResultSettingsMap": {},
     "title": ""
    }
   },
   "outputs": [
    {
     "output_type": "stream",
     "name": "stdout",
     "output_type": "stream",
     "text": [
      "+----------------+------+-----------+------------------------+--------------------------+\n|      Tournament|Series|     Winner|Avg Wickets by champions|Avg Wickets by non winners|\n+----------------+------+-----------+------------------------+--------------------------+\n|          T20 WC|  2024|      India|                  7.3125|         5.522202486678508|\n|          T20 WC|  2016|West Indies|                  5.3125|         5.682210708117444|\n|          T20 WC|  2021|  Australia|                    6.28|         5.607843137254902|\n|          ODI WC|  2019|    England|                     6.9|         5.552584670231729|\n|          ODI WC|  2023|  Australia|                    6.28|         5.607843137254902|\n|          T20 WC|  2022|    England|                     6.9|         5.552584670231729|\n|Champions Trophy|  2017|   Pakistan|       6.085106382978723|         5.627659574468085|\n+----------------+------+-----------+------------------------+--------------------------+\n\n"
     ]
    }
   ],
   "source": [
    "compare_wickets_impact.show(10)"
   ]
  },
  {
   "cell_type": "code",
   "execution_count": 0,
   "metadata": {
    "application/vnd.databricks.v1+cell": {
     "cellMetadata": {
      "byteLimit": 2048000,
      "rowLimit": 10000
     },
     "inputWidgets": {},
     "nuid": "83317a5b-1b6c-4899-bd02-4af4c9d2a32c",
     "showTitle": false,
     "tableResultSettingsMap": {},
     "title": ""
    }
   },
   "outputs": [],
   "source": [
    "compare_wickets_impact_pandas = compare_wickets_impact.toPandas()"
   ]
  },
  {
   "cell_type": "code",
   "execution_count": 0,
   "metadata": {
    "application/vnd.databricks.v1+cell": {
     "cellMetadata": {
      "byteLimit": 2048000,
      "rowLimit": 10000
     },
     "inputWidgets": {},
     "nuid": "49c656c1-c886-4b07-8a90-05f815b112c8",
     "showTitle": false,
     "tableResultSettingsMap": {},
     "title": ""
    }
   },
   "outputs": [
    {
     "output_type": "display_data",
     "data": {
      "image/png": "[encoded data removed]"
     },
     "metadata": {
      "application/vnd.databricks.v1+output": {
       "addedWidgets": {},
       "arguments": {},
       "data": "data:image/png;base64,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\n",
       "datasetInfos": [],
       "metadata": {},
       "removedWidgets": [],
       "type": "image"
      }
     },
     "output_type": "display_data"
    }
   ],
   "source": [
    "compare_wickets_impact_pandas_long = compare_wickets_impact_pandas.melt(\n",
    "    id_vars=[\"Series\", \"Tournament\"],\n",
    "    value_vars=[\"Avg Wickets by champions\", \"Avg Wickets by non winners\"],\n",
    "    var_name=\"Type\",\n",
    "    value_name=\"Avg Wickets\"\n",
    ")\n",
    "\n",
    "\n",
    "plt.figure(figsize=(12, 6))\n",
    "sn.barplot(\n",
    "    data=compare_wickets_impact_pandas_long,\n",
    "    x=\"Tournament\",\n",
    "    y=\"Avg Wickets\",\n",
    "    hue=\"Type\",\n",
    "    palette=\"muted\"\n",
    ")\n",
    "\n",
    "plt.title(\"Average Wickets Comparison by Champions and Non-Winners\", fontsize=16)\n",
    "plt.xlabel(\"Tournament\", fontsize=12)\n",
    "plt.ylabel(\"Average Wickets\", fontsize=12)\n",
    "plt.xticks(rotation=45)\n",
    "plt.legend(title=\"Type\", loc=\"right\")\n",
    "\n",
    "plt.tight_layout()\n",
    "plt.show()"
   ]
  },
  {
   "cell_type": "code",
   "execution_count": 0,
   "metadata": {
    "application/vnd.databricks.v1+cell": {
     "cellMetadata": {
      "byteLimit": 2048000,
      "rowLimit": 10000
     },
     "inputWidgets": {},
     "nuid": "55a579af-99cb-4d9a-92b8-557b1b421c7b",
     "showTitle": false,
     "tableResultSettingsMap": {},
     "title": ""
    }
   },
   "outputs": [
    {
     "output_type": "display_data",
     "data": {
      "image/png": "[encoded data removed]"
     },
     "metadata": {
      "application/vnd.databricks.v1+output": {
       "addedWidgets": {},
       "arguments": {},
       "data": "data:image/png;base64,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\n",
       "datasetInfos": [],
       "metadata": {},
       "removedWidgets": [],
       "type": "image"
      }
     },
     "output_type": "display_data"
    }
   ],
   "source": [
    "plt.figure(figsize=(12, 6))\n",
    "sn.barplot(\n",
    "    data=compare_wickets_impact_pandas_long,\n",
    "    x=\"Series\",\n",
    "    y=\"Avg Wickets\",\n",
    "    hue=\"Type\",\n",
    "    palette=\"muted\"\n",
    ")\n",
    "\n",
    "plt.title(\"Average Wickets Comparison by Champions and Non-Winners\", fontsize=16)\n",
    "plt.xlabel(\"Series\", fontsize=12)\n",
    "plt.ylabel(\"Average Wickets\", fontsize=12)\n",
    "plt.xticks(rotation=45)\n",
    "plt.legend(title=\"Type\", loc=\"upper right\")\n",
    "\n",
    "plt.tight_layout()\n",
    "plt.show()"
   ]
  },
  {
   "cell_type": "code",
   "execution_count": 0,
   "metadata": {
    "application/vnd.databricks.v1+cell": {
     "cellMetadata": {
      "byteLimit": 2048000,
      "rowLimit": 10000
     },
     "inputWidgets": {},
     "nuid": "2f54dcfb-9a5e-4eaa-bf10-5b67f3a2b84f",
     "showTitle": false,
     "tableResultSettingsMap": {},
     "title": ""
    }
   },
   "outputs": [
    {
     "output_type": "stream",
     "name": "stdout",
     "output_type": "stream",
     "text": [
      "+--------------------+---------+---+-----+----+-----+----+----+------+-----+----+---+---+---+---+\n|              Player|     Span|Mat|Overs|Mdns|Balls|Runs|Wkts|   BBI|  Ave|Econ| SR|  4|  5| 10|\n+--------------------+---------+---+-----+----+-----+----+----+------+-----+----+---+---+---+---+\n|    NL McCullum (NZ)|2016-2016|  2|    5|   -|   30|  21|   3|Feb-15|    7| 4.2| 10|  -|  -|  -|\n|PA van Meekeren (...|2016-2016|  3|    6|   -|   36|  28|   6|04-Nov| 4.66|4.66|  6|  1|  -|  -|\n|  CD de Lange (SCOT)|2016-2016|  1|    4|   -|   24|  19|   1|Jan-19|   19|4.75| 24|  -|  -|  -|\n|      SK Raina (IND)|2016-2016|  5|    6|   -|   36|  29|   3|01-Apr| 9.66|4.83| 12|  -|  -|  -|\n|  JDF Vandersay (SL)|2016-2016|  3|   12|   1|   72|  62|   3|Feb-26|20.66|5.16| 24|  -|  -|  -|\n+--------------------+---------+---+-----+----+-----+----+----+------+-----+----+---+---+---+---+\nonly showing top 5 rows\n\n"
     ]
    }
   ],
   "source": [
    "economy_rate_df.show(5)"
   ]
  },
  {
   "cell_type": "code",
   "execution_count": 0,
   "metadata": {
    "application/vnd.databricks.v1+cell": {
     "cellMetadata": {
      "byteLimit": 2048000,
      "rowLimit": 10000
     },
     "inputWidgets": {},
     "nuid": "1ce3f45e-f130-44d1-9e05-303d62a30d33",
     "showTitle": false,
     "tableResultSettingsMap": {},
     "title": ""
    }
   },
   "outputs": [],
   "source": [
    "economy_rate_df_new = economy_rate_df.withColumn(\"Country\", split(col(\"Player\"), r\"\\(\").getItem(1))\n",
    "\n"
   ]
  },
  {
   "cell_type": "code",
   "execution_count": 0,
   "metadata": {
    "application/vnd.databricks.v1+cell": {
     "cellMetadata": {
      "byteLimit": 2048000,
      "rowLimit": 10000
     },
     "inputWidgets": {},
     "nuid": "08fde42c-1b52-46e3-aee2-7462cb6b0a0b",
     "showTitle": false,
     "tableResultSettingsMap": {},
     "title": ""
    }
   },
   "outputs": [
    {
     "output_type": "stream",
     "name": "stdout",
     "output_type": "stream",
     "text": [
      "+--------------------+---------+---+-----+----+-----+----+----+------+-----+----+----+---+---+---+-------+\n|              Player|     Span|Mat|Overs|Mdns|Balls|Runs|Wkts|   BBI|  Ave|Econ|  SR|  4|  5| 10|Country|\n+--------------------+---------+---+-----+----+-----+----+----+------+-----+----+----+---+---+---+-------+\n|    NL McCullum (NZ)|2016-2016|  2|    5|   -|   30|  21|   3|Feb-15|    7| 4.2|  10|  -|  -|  -|    NZ)|\n|PA van Meekeren (...|2016-2016|  3|    6|   -|   36|  28|   6|04-Nov| 4.66|4.66|   6|  1|  -|  -|   NED)|\n|  CD de Lange (SCOT)|2016-2016|  1|    4|   -|   24|  19|   1|Jan-19|   19|4.75|  24|  -|  -|  -|  SCOT)|\n|      SK Raina (IND)|2016-2016|  5|    6|   -|   36|  29|   3|01-Apr| 9.66|4.83|  12|  -|  -|  -|   IND)|\n|  JDF Vandersay (SL)|2016-2016|  3|   12|   1|   72|  62|   3|Feb-26|20.66|5.16|  24|  -|  -|  -|    SL)|\n|    Imran Tahir (SA)|2016-2016|  4|   16|   -|   96|  83|   6|Feb-13|13.83|5.18|  16|  -|  -|  -|    SA)|\n|       S Badree (WI)|2016-2016|  6|   23|   1|  138| 124|   9|03-Dec|13.77|5.39|15.3|  -|  -|  -|    WI)|\n|    AM Phangiso (SA)|2016-2016|  2|    8|   -|   48|  45|   3|Feb-26|   15|5.62|  16|  -|  -|  -|    SA)|\n|     GD Elliott (NZ)|2016-2016|  5|   13|   -|   78|  75|   3|03-Dec|   25|5.76|  26|  -|  -|  -|    NZ)|\n|       A Nehra (IND)|2016-2016|  5|   19|   1|  114| 113|   5|Jan-20| 22.6|5.94|22.8|  -|  -|  -|   IND)|\n|     MRJ Watt (SCOT)|2016-2016|  3|   12|   -|   72|  72|   4|Feb-21|   18|   6|  18|  -|  -|  -|  SCOT)|\n|    Bilal Khan (OMA)|2016-2016|  3|    8|   -|   48|  48|   -|     -|    0|   6|   -|  -|  -|  -|   OMA)|\n| Mohammad Nabi (AFG)|2016-2016|  7|   27|   1|  162| 164|  12|Apr-20|13.66|6.07|13.5|  1|  -|  -|   AFG)|\n|  Taskin Ahmed (BAN)|2016-2016|  4|   10|   -|   60|  61|   3|Feb-32|20.33| 6.1|  20|  -|  -|  -|   BAN)|\n|       IS Sodhi (NZ)|2016-2016|  5| 19.4|   -|  118| 120|  10|Mar-18|   12| 6.1|11.8|  -|  -|  -|    NZ)|\n|   HMRKB Herath (SL)|2016-2016|  4|   16|   1|   96|  99|   3|Feb-24|   33|6.18|  32|  -|  -|  -|    SL)|\n|   GH Dockrell (IRE)|2016-2016|  2|    4|   -|   24|  25|   4|03-Jul| 6.25|6.25|   6|  -|  -|  -|   IRE)|\n|Samiullah Shinwar...|2016-2016|  7|   22|   -|  132| 138|   3|Jan-21|   46|6.27|  44|  -|  -|  -|   AFG)|\n|       A Zampa (AUS)|2016-2016|  4|   11|   -|   66|  69|   5|Mar-23| 13.8|6.27|13.2|  -|  -|  -|   AUS)|\n|     MJ Santner (NZ)|2016-2016|  5| 18.1|   -|  109| 114|  10|04-Nov| 11.4|6.27|10.9|  1|  -|  -|    NZ)|\n|  Hamid Hassan (AFG)|2016-2016|  4| 13.3|   -|   81|  85|   3|02-Nov|28.33|6.29|  27|  -|  -|  -|   AFG)|\n|   PVD Chameera (SL)|2016-2016|  3|   11|   -|   66|  70|   -|     -|    0|6.36|   -|  -|  -|  -|    SL)|\n|   LE Plunkett (ENG)|2016-2016|  4|   16|   1|   96| 102|   2|Jan-23|   51|6.37|  48|  -|  -|  -|   ENG)|\n|  Tanwir Afzal (HKG)|2016-2016|  3|    8|   -|   48|  51|   2|Feb-19| 25.5|6.37|  24|  -|  -|  -|   HKG)|\n|   Rashid Khan (AFG)|2016-2016|  7|   28|   -|  168| 183|  11|03-Nov|16.63|6.53|15.2|  -|  -|  -|   AFG)|\n|  T Panyangara (ZIM)|2016-2016|  3|   12|   -|   72|  79|   4|Mar-32|19.75|6.58|  18|  -|  -|  -|   ZIM)|\n| Shuvagata Hom (BAN)|2016-2016|  3|    8|   -|   48|  53|   1|Jan-24|   53|6.62|  48|  -|  -|  -|   BAN)|\n|     AC Evans (SCOT)|2016-2016|  2|    8|   -|   48|  54|   3|Feb-30|   18|6.75|  16|  -|  -|  -|  SCOT)|\n|   SC Williams (ZIM)|2016-2016|  3|    9|   -|   54|  61|   2|Jan-22| 30.5|6.77|  27|  -|  -|  -|   ZIM)|\n|   RJ Campbell (HKG)|2016-2016|  3|   10|   -|   60|  68|   2|Feb-28|   34| 6.8|  30|  -|  -|  -|   HKG)|\n+--------------------+---------+---+-----+----+-----+----+----+------+-----+----+----+---+---+---+-------+\nonly showing top 30 rows\n\n"
     ]
    }
   ],
   "source": [
    "economy_rate_df_new.show(30)"
   ]
  },
  {
   "cell_type": "code",
   "execution_count": 0,
   "metadata": {
    "application/vnd.databricks.v1+cell": {
     "cellMetadata": {
      "byteLimit": 2048000,
      "rowLimit": 10000
     },
     "inputWidgets": {},
     "nuid": "71d91fac-5d9b-4038-9f58-5a73e2be826b",
     "showTitle": false,
     "tableResultSettingsMap": {},
     "title": ""
    }
   },
   "outputs": [],
   "source": [
    "economy_rate_df_new = economy_rate_df_new.withColumn(\"Player\", split(col(\"Player\"), r\"\\(\").getItem(0))\n"
   ]
  },
  {
   "cell_type": "code",
   "execution_count": 0,
   "metadata": {
    "application/vnd.databricks.v1+cell": {
     "cellMetadata": {
      "byteLimit": 2048000,
      "rowLimit": 10000
     },
     "inputWidgets": {},
     "nuid": "0dcc3fbd-e091-4c10-b3ae-9b4b54473e53",
     "showTitle": false,
     "tableResultSettingsMap": {},
     "title": ""
    }
   },
   "outputs": [
    {
     "output_type": "stream",
     "name": "stdout",
     "output_type": "stream",
     "text": [
      "+----------------+---------+---+-----+----+-----+----+----+------+-----+----+---+---+---+---+-------+\n|          Player|     Span|Mat|Overs|Mdns|Balls|Runs|Wkts|   BBI|  Ave|Econ| SR|  4|  5| 10|Country|\n+----------------+---------+---+-----+----+-----+----+----+------+-----+----+---+---+---+---+-------+\n|    NL McCullum |2016-2016|  2|    5|   -|   30|  21|   3|Feb-15|    7| 4.2| 10|  -|  -|  -|    NZ)|\n|PA van Meekeren |2016-2016|  3|    6|   -|   36|  28|   6|04-Nov| 4.66|4.66|  6|  1|  -|  -|   NED)|\n|    CD de Lange |2016-2016|  1|    4|   -|   24|  19|   1|Jan-19|   19|4.75| 24|  -|  -|  -|  SCOT)|\n|       SK Raina |2016-2016|  5|    6|   -|   36|  29|   3|01-Apr| 9.66|4.83| 12|  -|  -|  -|   IND)|\n|  JDF Vandersay |2016-2016|  3|   12|   1|   72|  62|   3|Feb-26|20.66|5.16| 24|  -|  -|  -|    SL)|\n+----------------+---------+---+-----+----+-----+----+----+------+-----+----+---+---+---+---+-------+\nonly showing top 5 rows\n\n"
     ]
    }
   ],
   "source": [
    "economy_rate_df_new.show(5)"
   ]
  },
  {
   "cell_type": "code",
   "execution_count": 0,
   "metadata": {
    "application/vnd.databricks.v1+cell": {
     "cellMetadata": {
      "byteLimit": 2048000,
      "rowLimit": 10000
     },
     "inputWidgets": {},
     "nuid": "2077246f-9feb-44df-9c6f-445ae15037a2",
     "showTitle": false,
     "tableResultSettingsMap": {},
     "title": ""
    }
   },
   "outputs": [],
   "source": [
    "economy_rate_df_new = economy_rate_df_new.withColumn(\"CountryName\", \n",
    "                                                 when(col(\"Country\") == 'AFG)', \"Afghanistan\")\n",
    "                                                               .when(col(\"Country\") == 'NZ)', \"New Zealand\")\n",
    "                                                               .when(col(\"Country\") == 'IND)', \"India\")\n",
    "                                                               .when(col(\"Country\") == 'PAK)', \"Pakistan\")\n",
    "                                                               .when(col(\"Country\") == 'AUS)', \"Australia\")\n",
    "                                                               .when(col(\"Country\") == 'SL)', \"Sri Lanka\")\n",
    "                                                               .when(col(\"Country\") == 'ENG)', \"England\")\n",
    "                                                               .when(col(\"Country\") == 'WI)', \"West Indies\")\n",
    "                                                               .when(col(\"Country\") == 'BAN)', \"Bangladesh\")\n",
    "                                                               .when(col(\"Country\") == 'SA)', \"South Africa\")\n",
    "                                                               .when(col(\"Country\") == 'NED)', \"Netherlands\")\n",
    "                                                               .when(col(\"Country\") == 'ZIM)', \"Zimbabwe\")\n",
    "                                                               .otherwise(\"Unknown\"))\n"
   ]
  },
  {
   "cell_type": "code",
   "execution_count": 0,
   "metadata": {
    "application/vnd.databricks.v1+cell": {
     "cellMetadata": {
      "byteLimit": 2048000,
      "rowLimit": 10000
     },
     "inputWidgets": {},
     "nuid": "a6f98d85-6765-4153-9fa5-588537b056dc",
     "showTitle": false,
     "tableResultSettingsMap": {},
     "title": ""
    }
   },
   "outputs": [
    {
     "output_type": "stream",
     "name": "stdout",
     "output_type": "stream",
     "text": [
      "+-------------------+---------+---+-----+----+-----+----+----+------+-----+----+----+---+---+---+-------+------------+\n|             Player|     Span|Mat|Overs|Mdns|Balls|Runs|Wkts|   BBI|  Ave|Econ|  SR|  4|  5| 10|Country| CountryName|\n+-------------------+---------+---+-----+----+-----+----+----+------+-----+----+----+---+---+---+-------+------------+\n|       NL McCullum |2016-2016|  2|    5|   -|   30|  21|   3|Feb-15|    7| 4.2|  10|  -|  -|  -|    NZ)| New Zealand|\n|   PA van Meekeren |2016-2016|  3|    6|   -|   36|  28|   6|04-Nov| 4.66|4.66|   6|  1|  -|  -|   NED)| Netherlands|\n|       CD de Lange |2016-2016|  1|    4|   -|   24|  19|   1|Jan-19|   19|4.75|  24|  -|  -|  -|  SCOT)|     Unknown|\n|          SK Raina |2016-2016|  5|    6|   -|   36|  29|   3|01-Apr| 9.66|4.83|  12|  -|  -|  -|   IND)|       India|\n|     JDF Vandersay |2016-2016|  3|   12|   1|   72|  62|   3|Feb-26|20.66|5.16|  24|  -|  -|  -|    SL)|   Sri Lanka|\n|       Imran Tahir |2016-2016|  4|   16|   -|   96|  83|   6|Feb-13|13.83|5.18|  16|  -|  -|  -|    SA)|South Africa|\n|          S Badree |2016-2016|  6|   23|   1|  138| 124|   9|03-Dec|13.77|5.39|15.3|  -|  -|  -|    WI)| West Indies|\n|       AM Phangiso |2016-2016|  2|    8|   -|   48|  45|   3|Feb-26|   15|5.62|  16|  -|  -|  -|    SA)|South Africa|\n|        GD Elliott |2016-2016|  5|   13|   -|   78|  75|   3|03-Dec|   25|5.76|  26|  -|  -|  -|    NZ)| New Zealand|\n|           A Nehra |2016-2016|  5|   19|   1|  114| 113|   5|Jan-20| 22.6|5.94|22.8|  -|  -|  -|   IND)|       India|\n|          MRJ Watt |2016-2016|  3|   12|   -|   72|  72|   4|Feb-21|   18|   6|  18|  -|  -|  -|  SCOT)|     Unknown|\n|        Bilal Khan |2016-2016|  3|    8|   -|   48|  48|   -|     -|    0|   6|   -|  -|  -|  -|   OMA)|     Unknown|\n|     Mohammad Nabi |2016-2016|  7|   27|   1|  162| 164|  12|Apr-20|13.66|6.07|13.5|  1|  -|  -|   AFG)| Afghanistan|\n|      Taskin Ahmed |2016-2016|  4|   10|   -|   60|  61|   3|Feb-32|20.33| 6.1|  20|  -|  -|  -|   BAN)|  Bangladesh|\n|          IS Sodhi |2016-2016|  5| 19.4|   -|  118| 120|  10|Mar-18|   12| 6.1|11.8|  -|  -|  -|    NZ)| New Zealand|\n|      HMRKB Herath |2016-2016|  4|   16|   1|   96|  99|   3|Feb-24|   33|6.18|  32|  -|  -|  -|    SL)|   Sri Lanka|\n|       GH Dockrell |2016-2016|  2|    4|   -|   24|  25|   4|03-Jul| 6.25|6.25|   6|  -|  -|  -|   IRE)|     Unknown|\n|Samiullah Shinwari |2016-2016|  7|   22|   -|  132| 138|   3|Jan-21|   46|6.27|  44|  -|  -|  -|   AFG)| Afghanistan|\n|           A Zampa |2016-2016|  4|   11|   -|   66|  69|   5|Mar-23| 13.8|6.27|13.2|  -|  -|  -|   AUS)|   Australia|\n|        MJ Santner |2016-2016|  5| 18.1|   -|  109| 114|  10|04-Nov| 11.4|6.27|10.9|  1|  -|  -|    NZ)| New Zealand|\n+-------------------+---------+---+-----+----+-----+----+----+------+-----+----+----+---+---+---+-------+------------+\nonly showing top 20 rows\n\n"
     ]
    }
   ],
   "source": [
    "economy_rate_df_new.show(20)"
   ]
  },
  {
   "cell_type": "code",
   "execution_count": 0,
   "metadata": {
    "application/vnd.databricks.v1+cell": {
     "cellMetadata": {
      "byteLimit": 2048000,
      "rowLimit": 10000
     },
     "inputWidgets": {},
     "nuid": "7b0a4652-c4f0-43fe-895f-8fab10ef08a5",
     "showTitle": false,
     "tableResultSettingsMap": {},
     "title": ""
    }
   },
   "outputs": [
    {
     "output_type": "stream",
     "name": "stdout",
     "output_type": "stream",
     "text": [
      "+------+----+-----------+------------+----------------+\n|Series|Type|     Winner|      Runner|      Tournament|\n+------+----+-----------+------------+----------------+\n|  2016| T20|West Indies|     England|          T20 WC|\n|  2017| ODI|   Pakistan|       India|Champions Trophy|\n|  2019| ODI|    England| New Zealand|          ODI WC|\n|  2021| T20|  Australia| New Zealand|          T20 WC|\n|  2022| T20|    England|    Pakistan|          T20 WC|\n|  2023| ODI|  Australia|       India|          ODI WC|\n|  2024| T20|      India|South Africa|          T20 WC|\n+------+----+-----------+------------+----------------+\n\n"
     ]
    }
   ],
   "source": [
    "wc_winners_df.show(10)"
   ]
  },
  {
   "cell_type": "code",
   "execution_count": 0,
   "metadata": {
    "application/vnd.databricks.v1+cell": {
     "cellMetadata": {
      "byteLimit": 2048000,
      "rowLimit": 10000
     },
     "inputWidgets": {},
     "nuid": "90714ef1-48f4-4da2-8ae8-4c48f1327457",
     "showTitle": false,
     "tableResultSettingsMap": {},
     "title": ""
    }
   },
   "outputs": [],
   "source": [
    "economy_rate_df_winners = economy_rate_df_new.join(wc_winners_df, economy_rate_df_new[\"CountryName\"] == wc_winners_df[\"Winner\"]).groupBy([\"Series\", \"Tournament\", \"Winner\"]).agg(avg(col(\"Econ\")).alias(\"Avg Economy rate of winner bowlers\")).orderBy(col(\"Avg Economy rate of winner bowlers\").asc())"
   ]
  },
  {
   "cell_type": "code",
   "execution_count": 0,
   "metadata": {
    "application/vnd.databricks.v1+cell": {
     "cellMetadata": {
      "byteLimit": 2048000,
      "rowLimit": 10000
     },
     "inputWidgets": {},
     "nuid": "0d261f13-7bf2-4dd2-bdda-42d8e1df55ea",
     "showTitle": false,
     "tableResultSettingsMap": {},
     "title": ""
    }
   },
   "outputs": [
    {
     "output_type": "stream",
     "name": "stdout",
     "output_type": "stream",
     "text": [
      "+------+----------------+-----------+----------------------------------+\n|Series|      Tournament|     Winner|Avg Economy rate of winner bowlers|\n+------+----------------+-----------+----------------------------------+\n|  2024|          T20 WC|      India|                 6.094081632653062|\n|  2017|Champions Trophy|   Pakistan|                            6.4612|\n|  2022|          T20 WC|    England|                 6.494893617021276|\n|  2019|          ODI WC|    England|                 6.494893617021276|\n|  2021|          T20 WC|  Australia|                 6.550000000000001|\n|  2023|          ODI WC|  Australia|                 6.550000000000001|\n|  2016|          T20 WC|West Indies|                6.9446875000000015|\n+------+----------------+-----------+----------------------------------+\n\n"
     ]
    }
   ],
   "source": [
    "economy_rate_df_winners.show(20)"
   ]
  },
  {
   "cell_type": "code",
   "execution_count": 0,
   "metadata": {
    "application/vnd.databricks.v1+cell": {
     "cellMetadata": {
      "byteLimit": 2048000,
      "rowLimit": 10000
     },
     "inputWidgets": {},
     "nuid": "56e5f44d-b2c3-4063-ab21-f4384f0382dd",
     "showTitle": false,
     "tableResultSettingsMap": {},
     "title": ""
    }
   },
   "outputs": [],
   "source": [
    "economy_rate_df_non_winners = economy_rate_df_new.join(wc_winners_df, economy_rate_df_new[\"CountryName\"] != wc_winners_df[\"Winner\"]).groupBy([\"Series\", \"Tournament\"]).agg(avg(col(\"Econ\")).alias(\"Avg Economy rate of non winner bowlers\")).orderBy(col(\"Avg Economy rate of non winner bowlers\").asc())"
   ]
  },
  {
   "cell_type": "code",
   "execution_count": 0,
   "metadata": {
    "application/vnd.databricks.v1+cell": {
     "cellMetadata": {
      "byteLimit": 2048000,
      "rowLimit": 10000
     },
     "inputWidgets": {},
     "nuid": "262247e6-56fa-47d4-8c18-3f2a0a50bd2c",
     "showTitle": false,
     "tableResultSettingsMap": {},
     "title": ""
    }
   },
   "outputs": [
    {
     "output_type": "stream",
     "name": "stdout",
     "output_type": "stream",
     "text": [
      "+------+----------------+--------------------------------------+\n|Series|      Tournament|Avg Economy rate of non winner bowlers|\n+------+----------------+--------------------------------------+\n|  2016|          T20 WC|                      6.55853135313531|\n|  2023|          ODI WC|                     6.580220713072999|\n|  2021|          T20 WC|                     6.580220713072999|\n|  2019|          ODI WC|                     6.584500846023683|\n|  2022|          T20 WC|                     6.584500846023683|\n|  2017|Champions Trophy|                    6.5878231292516976|\n|  2024|          T20 WC|                     6.618149405772489|\n+------+----------------+--------------------------------------+\n\n"
     ]
    }
   ],
   "source": [
    "economy_rate_df_non_winners.show(10)"
   ]
  },
  {
   "cell_type": "code",
   "execution_count": 0,
   "metadata": {
    "application/vnd.databricks.v1+cell": {
     "cellMetadata": {
      "byteLimit": 2048000,
      "rowLimit": 10000
     },
     "inputWidgets": {},
     "nuid": "384926d6-eaca-4c0c-afcf-63eef561fb38",
     "showTitle": false,
     "tableResultSettingsMap": {},
     "title": ""
    }
   },
   "outputs": [],
   "source": [
    "economy_rate_df_2023 = economy_rate_df_new.filter((col(\"Span\") == \"2023-2023\") & (col(\"CountryName\") == \"Australia\"))"
   ]
  },
  {
   "cell_type": "code",
   "execution_count": 0,
   "metadata": {
    "application/vnd.databricks.v1+cell": {
     "cellMetadata": {
      "byteLimit": 2048000,
      "rowLimit": 10000
     },
     "inputWidgets": {},
     "nuid": "4383e046-80cc-4af4-b26b-afcaac53184c",
     "showTitle": false,
     "tableResultSettingsMap": {},
     "title": ""
    }
   },
   "outputs": [
    {
     "output_type": "stream",
     "name": "stdout",
     "output_type": "stream",
     "text": [
      "+-------------+---------+---+-----+----+-----+----+----+------+-----+----+----+---+---+---+-------+-----------+\n|       Player|     Span|Mat|Overs|Mdns|Balls|Runs|Wkts|   BBI|  Ave|Econ|  SR|  4|  5| 10|Country|CountryName|\n+-------------+---------+---+-----+----+-----+----+----+------+-----+----+----+---+---+---+-------+-----------+\n|     TM Head |2023-2023|  6|   21|   -|  126| 101|   2|Feb-21| 50.5| 4.8|  63|  -|  -|  -|   AUS)|  Australia|\n|  GJ Maxwell |2023-2023|  9| 68.3|   1|  411| 330|   6|Feb-34|   55|4.81|68.5|  -|  -|  -|   AUS)|  Australia|\n|JR Hazlewood |2023-2023| 11| 93.1|   8|  559| 449|  16|Mar-38|28.06|4.81|34.9|  -|  -|  -|   AUS)|  Australia|\n|     A Zampa |2023-2023| 11|   96|   1|  576| 515|  23|04-Aug|22.39|5.36|  25|  3|  -|  -|   AUS)|  Australia|\n|  PJ Cummins |2023-2023| 11| 89.3|   1|  537| 515|  15|Mar-51|34.33|5.75|35.8|  -|  -|  -|   AUS)|  Australia|\n|    MA Starc |2023-2023| 10|   87|   2|  522| 528|  16|Mar-34|   33|6.06|32.6|  -|  -|  -|   AUS)|  Australia|\n|   SA Abbott |2023-2023|  1|   10|   -|   60|  61|   2|Feb-61| 30.5| 6.1|  30|  -|  -|  -|   AUS)|  Australia|\n|    MR Marsh |2023-2023| 10|   13|   -|   78|  96|   2|Feb-19|   48|7.38|  39|  -|  -|  -|   AUS)|  Australia|\n|  MP Stoinis |2023-2023|  6|   19|   -|  114| 143|   4|Feb-40|35.75|7.52|28.5|  -|  -|  -|   AUS)|  Australia|\n+-------------+---------+---+-----+----+-----+----+----+------+-----+----+----+---+---+---+-------+-----------+\n\n"
     ]
    }
   ],
   "source": [
    "economy_rate_df_2023.show(10)"
   ]
  },
  {
   "cell_type": "code",
   "execution_count": 0,
   "metadata": {
    "application/vnd.databricks.v1+cell": {
     "cellMetadata": {
      "byteLimit": 2048000,
      "rowLimit": 10000
     },
     "inputWidgets": {},
     "nuid": "c6924d3d-367e-4bd6-9e2d-d6a80af8c81d",
     "showTitle": false,
     "tableResultSettingsMap": {},
     "title": ""
    }
   },
   "outputs": [],
   "source": [
    "economy_rate_df_combined = economy_rate_df_winners.join(economy_rate_df_non_winners, on=[\"Series\", \"Tournament\"], how=\"inner\").orderBy(col(\"Avg Economy rate of winner bowlers\").asc())"
   ]
  },
  {
   "cell_type": "code",
   "execution_count": 0,
   "metadata": {
    "application/vnd.databricks.v1+cell": {
     "cellMetadata": {
      "byteLimit": 2048000,
      "rowLimit": 10000
     },
     "inputWidgets": {},
     "nuid": "4722650f-46c8-47df-8037-758fa79fc670",
     "showTitle": false,
     "tableResultSettingsMap": {},
     "title": ""
    }
   },
   "outputs": [
    {
     "output_type": "stream",
     "name": "stdout",
     "output_type": "stream",
     "text": [
      "+------+----------------+-----------+----------------------------------+--------------------------------------+\n|Series|      Tournament|     Winner|Avg Economy rate of winner bowlers|Avg Economy rate of non winner bowlers|\n+------+----------------+-----------+----------------------------------+--------------------------------------+\n|  2024|          T20 WC|      India|                 6.094081632653062|                     6.618149405772489|\n|  2017|Champions Trophy|   Pakistan|                            6.4612|                    6.5878231292516976|\n|  2022|          T20 WC|    England|                 6.494893617021276|                     6.584500846023683|\n|  2019|          ODI WC|    England|                 6.494893617021276|                     6.584500846023683|\n|  2021|          T20 WC|  Australia|                 6.550000000000001|                     6.580220713072999|\n|  2023|          ODI WC|  Australia|                 6.550000000000001|                     6.580220713072999|\n|  2016|          T20 WC|West Indies|                6.9446875000000015|                      6.55853135313531|\n+------+----------------+-----------+----------------------------------+--------------------------------------+\n\n"
     ]
    }
   ],
   "source": [
    "economy_rate_df_combined.show(20)"
   ]
  },
  {
   "cell_type": "code",
   "execution_count": 0,
   "metadata": {
    "application/vnd.databricks.v1+cell": {
     "cellMetadata": {
      "byteLimit": 2048000,
      "rowLimit": 10000
     },
     "inputWidgets": {},
     "nuid": "6c855afe-3fbb-43af-bbc7-f6152e72c303",
     "showTitle": false,
     "tableResultSettingsMap": {},
     "title": ""
    }
   },
   "outputs": [],
   "source": [
    " economy_rate_df_combined_pandas =  economy_rate_df_combined.toPandas()\n"
   ]
  },
  {
   "cell_type": "code",
   "execution_count": 0,
   "metadata": {
    "application/vnd.databricks.v1+cell": {
     "cellMetadata": {
      "byteLimit": 2048000,
      "rowLimit": 10000
     },
     "inputWidgets": {},
     "nuid": "5a647537-1311-4ee2-ac9a-8febffdab15d",
     "showTitle": false,
     "tableResultSettingsMap": {},
     "title": ""
    }
   },
   "outputs": [],
   "source": [
    "economy_rate_df_combined_melt = economy_rate_df_combined_pandas.melt(id_vars=[\"Series\", \"Tournament\"], value_vars=[\"Avg Economy rate of winner bowlers\", \"Avg Economy rate of non winner bowlers\"], var_name=\"Type\", value_name=\"Avg Economy rate\")"
   ]
  },
  {
   "cell_type": "code",
   "execution_count": 0,
   "metadata": {
    "application/vnd.databricks.v1+cell": {
     "cellMetadata": {
      "byteLimit": 2048000,
      "rowLimit": 10000
     },
     "inputWidgets": {},
     "nuid": "672763fd-d1f5-45de-b19f-606a56ea2641",
     "showTitle": false,
     "tableResultSettingsMap": {},
     "title": ""
    }
   },
   "outputs": [
    {
     "output_type": "display_data",
     "data": {
      "text/html": [
       "<div>\n",
       "<style scoped>\n",
       "    .dataframe tbody tr th:only-of-type {\n",
       "        vertical-align: middle;\n",
       "    }\n",
       "\n",
       "    .dataframe tbody tr th {\n",
       "        vertical-align: top;\n",
       "    }\n",
       "\n",
       "    .dataframe thead th {\n",
       "        text-align: right;\n",
       "    }\n",
       "</style>\n",
       "<table border=\"1\" class=\"dataframe\">\n",
       "  <thead>\n",
       "    <tr style=\"text-align: right;\">\n",
       "      <th></th>\n",
       "      <th>Series</th>\n",
       "      <th>Tournament</th>\n",
       "      <th>Type</th>\n",
       "      <th>Avg Economy rate</th>\n",
       "    </tr>\n",
       "  </thead>\n",
       "  <tbody>\n",
       "    <tr>\n",
       "      <th>0</th>\n",
       "      <td>2024</td>\n",
       "      <td>T20 WC</td>\n",
       "      <td>Avg Economy rate of winner bowlers</td>\n",
       "      <td>6.094082</td>\n",
       "    </tr>\n",
       "    <tr>\n",
       "      <th>1</th>\n",
       "      <td>2017</td>\n",
       "      <td>Champions Trophy</td>\n",
       "      <td>Avg Economy rate of winner bowlers</td>\n",
       "      <td>6.461200</td>\n",
       "    </tr>\n",
       "    <tr>\n",
       "      <th>2</th>\n",
       "      <td>2022</td>\n",
       "      <td>T20 WC</td>\n",
       "      <td>Avg Economy rate of winner bowlers</td>\n",
       "      <td>6.494894</td>\n",
       "    </tr>\n",
       "    <tr>\n",
       "      <th>3</th>\n",
       "      <td>2019</td>\n",
       "      <td>ODI WC</td>\n",
       "      <td>Avg Economy rate of winner bowlers</td>\n",
       "      <td>6.494894</td>\n",
       "    </tr>\n",
       "    <tr>\n",
       "      <th>4</th>\n",
       "      <td>2021</td>\n",
       "      <td>T20 WC</td>\n",
       "      <td>Avg Economy rate of winner bowlers</td>\n",
       "      <td>6.550000</td>\n",
       "    </tr>\n",
       "    <tr>\n",
       "      <th>5</th>\n",
       "      <td>2023</td>\n",
       "      <td>ODI WC</td>\n",
       "      <td>Avg Economy rate of winner bowlers</td>\n",
       "      <td>6.550000</td>\n",
       "    </tr>\n",
       "    <tr>\n",
       "      <th>6</th>\n",
       "      <td>2016</td>\n",
       "      <td>T20 WC</td>\n",
       "      <td>Avg Economy rate of winner bowlers</td>\n",
       "      <td>6.944688</td>\n",
       "    </tr>\n",
       "    <tr>\n",
       "      <th>7</th>\n",
       "      <td>2024</td>\n",
       "      <td>T20 WC</td>\n",
       "      <td>Avg Economy rate of non winner bowlers</td>\n",
       "      <td>6.618149</td>\n",
       "    </tr>\n",
       "    <tr>\n",
       "      <th>8</th>\n",
       "      <td>2017</td>\n",
       "      <td>Champions Trophy</td>\n",
       "      <td>Avg Economy rate of non winner bowlers</td>\n",
       "      <td>6.587823</td>\n",
       "    </tr>\n",
       "    <tr>\n",
       "      <th>9</th>\n",
       "      <td>2022</td>\n",
       "      <td>T20 WC</td>\n",
       "      <td>Avg Economy rate of non winner bowlers</td>\n",
       "      <td>6.584501</td>\n",
       "    </tr>\n",
       "  </tbody>\n",
       "</table>\n",
       "</div>"
      ]
     },
     "metadata": {
      "application/vnd.databricks.v1+output": {
       "addedWidgets": {},
       "arguments": {},
       "data": "<div>\n<style scoped>\n    .dataframe tbody tr th:only-of-type {\n        vertical-align: middle;\n    }\n\n    .dataframe tbody tr th {\n        vertical-align: top;\n    }\n\n    .dataframe thead th {\n        text-align: right;\n    }\n</style>\n<table border=\"1\" class=\"dataframe\">\n  <thead>\n    <tr style=\"text-align: right;\">\n      <th></th>\n      <th>Series</th>\n      <th>Tournament</th>\n      <th>Type</th>\n      <th>Avg Economy rate</th>\n    </tr>\n  </thead>\n  <tbody>\n    <tr>\n      <th>0</th>\n      <td>2024</td>\n      <td>T20 WC</td>\n      <td>Avg Economy rate of winner bowlers</td>\n      <td>6.094082</td>\n    </tr>\n    <tr>\n      <th>1</th>\n      <td>2017</td>\n      <td>Champions Trophy</td>\n      <td>Avg Economy rate of winner bowlers</td>\n      <td>6.461200</td>\n    </tr>\n    <tr>\n      <th>2</th>\n      <td>2022</td>\n      <td>T20 WC</td>\n      <td>Avg Economy rate of winner bowlers</td>\n      <td>6.494894</td>\n    </tr>\n    <tr>\n      <th>3</th>\n      <td>2019</td>\n      <td>ODI WC</td>\n      <td>Avg Economy rate of winner bowlers</td>\n      <td>6.494894</td>\n    </tr>\n    <tr>\n      <th>4</th>\n      <td>2021</td>\n      <td>T20 WC</td>\n      <td>Avg Economy rate of winner bowlers</td>\n      <td>6.550000</td>\n    </tr>\n    <tr>\n      <th>5</th>\n      <td>2023</td>\n      <td>ODI WC</td>\n      <td>Avg Economy rate of winner bowlers</td>\n      <td>6.550000</td>\n    </tr>\n    <tr>\n      <th>6</th>\n      <td>2016</td>\n      <td>T20 WC</td>\n      <td>Avg Economy rate of winner bowlers</td>\n      <td>6.944688</td>\n    </tr>\n    <tr>\n      <th>7</th>\n      <td>2024</td>\n      <td>T20 WC</td>\n      <td>Avg Economy rate of non winner bowlers</td>\n      <td>6.618149</td>\n    </tr>\n    <tr>\n      <th>8</th>\n      <td>2017</td>\n      <td>Champions Trophy</td>\n      <td>Avg Economy rate of non winner bowlers</td>\n      <td>6.587823</td>\n    </tr>\n    <tr>\n      <th>9</th>\n      <td>2022</td>\n      <td>T20 WC</td>\n      <td>Avg Economy rate of non winner bowlers</td>\n      <td>6.584501</td>\n    </tr>\n  </tbody>\n</table>\n</div>",
       "datasetInfos": [],
       "metadata": {},
       "removedWidgets": [],
       "textData": null,
       "type": "htmlSandbox"
      }
     },
     "output_type": "display_data"
    }
   ],
   "source": [
    "economy_rate_df_combined_melt.head(10)"
   ]
  },
  {
   "cell_type": "code",
   "execution_count": 0,
   "metadata": {
    "application/vnd.databricks.v1+cell": {
     "cellMetadata": {
      "byteLimit": 2048000,
      "rowLimit": 10000
     },
     "inputWidgets": {},
     "nuid": "1c98f982-69ee-4cb8-a0a7-4652910fc6a2",
     "showTitle": false,
     "tableResultSettingsMap": {},
     "title": ""
    }
   },
   "outputs": [
    {
     "output_type": "display_data",
     "data": {
      "image/png": "[encoded data removed]"
     },
     "metadata": {
      "application/vnd.databricks.v1+output": {
       "addedWidgets": {},
       "arguments": {},
       "data": "data:image/png;base64,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\n",
       "datasetInfos": [],
       "metadata": {},
       "removedWidgets": [],
       "type": "image"
      }
     },
     "output_type": "display_data"
    }
   ],
   "source": [
    "import numpy as np\n",
    "plt.figure(figsize=(12,6))\n",
    "sn.barplot(data=economy_rate_df_combined_melt, x=\"Tournament\", y=\"Avg Economy rate\", hue=\"Type\", palette=\"muted\")\n",
    "plt.title(\"Impact of economy rate of bowlers to win the tournament\", fontsize=16)\n",
    "plt.xlabel(\"Tournament\", fontsize=12)\n",
    "plt.ylabel(\"Average economy rate\", fontsize=12)\n",
    "plt.xticks(rotation=50)\n",
    "for i in plt.gca().containers:\n",
    "    plt.gca().bar_label(i, fmt='%.2f', padding=10)\n",
    "\n",
    "plt.legend(title=\"Type\")\n",
    "plt.tight_layout()\n",
    "plt.show()\n"
   ]
  },
  {
   "cell_type": "code",
   "execution_count": 0,
   "metadata": {
    "application/vnd.databricks.v1+cell": {
     "cellMetadata": {
      "byteLimit": 2048000,
      "rowLimit": 10000
     },
     "inputWidgets": {},
     "nuid": "d3df423c-85d8-4351-b378-4e0d3be25cf0",
     "showTitle": false,
     "tableResultSettingsMap": {},
     "title": ""
    }
   },
   "outputs": [
    {
     "output_type": "stream",
     "name": "stdout",
     "output_type": "stream",
     "text": [
      "+------------------+---------+---+----+-----+-----+----+----+----+------+-----+----+-----+---+---+-------+-----------+\n|            Player|     Span|Mat|Inns|Balls|Overs|Mdns|Runs|Wkts|   BBI|  Ave|Econ|   SR|  4|  5|Country|CountryName|\n+------------------+---------+---+----+-----+-----+----+----+----+------+-----+----+-----+---+---+-------+-----------+\n|    Mohammad Nabi |2016-2016|  7|   7|  162|   27|   1| 164|  12|Apr-20|13.66|6.07| 13.5|  1|  0|    AFG|Afghanistan|\n|      Rashid Khan |2016-2016|  7|   7|  168|   28|   0| 183|  11|03-Nov|16.63|6.53|15.27|  0|  0|    AFG|Afghanistan|\n|       MJ Santner |2016-2016|  5|   5|  109| 18.1|   0| 114|  10|04-Nov| 11.4|6.27| 10.9|  1|  0|    NZ)|New Zealand|\n|         IS Sodhi |2016-2016|  5|   5|  118| 19.4|   0| 120|  10|Mar-18|   12| 6.1| 11.8|  0|  0|    NZ)|New Zealand|\n|        DJ Willey |2016-2016|  6|   6|  126|   21|   0| 159|  10|Mar-20| 15.9|7.57| 12.6|  0|  0|    ENG|    England|\n|  Shakib Al Hasan |2016-2016|  7|   6|  138|   23|   0| 166|  10|Apr-15| 16.6|7.21| 13.8|  1|  0|    BAN| Bangladesh|\n|Mustafizur Rahman |2016-2016|  3|   3|   72|   12|   0|  86|   9|May-22| 9.55|7.16|    8|  0|  1|    BAN| Bangladesh|\n|         S Badree |2016-2016|  6|   6|  138|   23|   1| 124|   9|03-Dec|13.77|5.39|15.33|  0|  0|    WI)|West Indies|\n|       AD Russell |2016-2016|  6|   6|  144|   24|   0| 189|   9|Feb-23|   21|7.87|   16|  0|  0|    WI)|West Indies|\n|         DJ Bravo |2016-2016|  6|   6|  144|   24|   0| 190|   9|Mar-37|21.11|7.91|   16|  0|  0|    WI)|West Indies|\n+------------------+---------+---+----+-----+-----+----+----+----+------+-----+----+-----+---+---+-------+-----------+\nonly showing top 10 rows\n\n"
     ]
    }
   ],
   "source": [
    "most_wickets_final_df123.show(10)"
   ]
  },
  {
   "cell_type": "code",
   "execution_count": 0,
   "metadata": {
    "application/vnd.databricks.v1+cell": {
     "cellMetadata": {
      "byteLimit": 2048000,
      "rowLimit": 10000
     },
     "inputWidgets": {},
     "nuid": "f1b2b4a6-4ba2-4610-9948-a22cd47cd04d",
     "showTitle": false,
     "tableResultSettingsMap": {},
     "title": ""
    }
   },
   "outputs": [],
   "source": [
    "most_4_5frs_df = most_wickets_final_df123.filter((col(\"4\")!=0) | (col(\"5\")!=0))"
   ]
  },
  {
   "cell_type": "code",
   "execution_count": 0,
   "metadata": {
    "application/vnd.databricks.v1+cell": {
     "cellMetadata": {
      "byteLimit": 2048000,
      "rowLimit": 10000
     },
     "inputWidgets": {},
     "nuid": "4715844b-52c8-47fa-9484-e71c1f71bf5f",
     "showTitle": false,
     "tableResultSettingsMap": {},
     "title": ""
    }
   },
   "outputs": [
    {
     "output_type": "stream",
     "name": "stdout",
     "output_type": "stream",
     "text": [
      "+------------------+---------+---+----+-----+-----+----+----+----+------+-----+----+-----+---+---+-------+------------+\n|            Player|     Span|Mat|Inns|Balls|Overs|Mdns|Runs|Wkts|   BBI|  Ave|Econ|   SR|  4|  5|Country| CountryName|\n+------------------+---------+---+----+-----+-----+----+----+----+------+-----+----+-----+---+---+-------+------------+\n|    Mohammad Nabi |2016-2016|  7|   7|  162|   27|   1| 164|  12|Apr-20|13.66|6.07| 13.5|  1|  0|    AFG| Afghanistan|\n|       MJ Santner |2016-2016|  5|   5|  109| 18.1|   0| 114|  10|04-Nov| 11.4|6.27| 10.9|  1|  0|    NZ)| New Zealand|\n|  Shakib Al Hasan |2016-2016|  7|   6|  138|   23|   0| 166|  10|Apr-15| 16.6|7.21| 13.8|  1|  0|    BAN|  Bangladesh|\n|Mustafizur Rahman |2016-2016|  3|   3|   72|   12|   0|  86|   9|May-22| 9.55|7.16|    8|  0|  1|    BAN|  Bangladesh|\n|      JP Faulkner |2016-2016|  4|   4|   79| 13.1|   0| 106|   8|May-27|13.25|8.05| 9.87|  0|  1|    AUS|   Australia|\n|  PA van Meekeren |2016-2016|  3|   2|   36|    6|   0|  28|   6|04-Nov| 4.66|4.66|    6|  1|  0|    NED| Netherlands|\n|        CJ Jordan |2016-2016|  6|   6|  138|   23|   0| 188|   6|Apr-28|31.33|8.17|   23|  1|  0|    ENG|     England|\n|     WP Masakadza |2016-2016|  3|   3|   72|   12|   1|  89|   5|Apr-28| 17.8|7.41| 14.4|  1|  0|    ZIM|    Zimbabwe|\n|        CH Morris |2016-2016|  3|   3|   66|   11|   0|  98|   5|Apr-27| 19.6| 8.9| 13.2|  1|  0|    SA)|South Africa|\n|     JR Hazlewood |2017-2017|  3|   3|  168|   28|   0| 142|   9|Jun-52|15.77|5.07|18.66|  0|  1|    AUS|   Australia|\n+------------------+---------+---+----+-----+-----+----+----+----+------+-----+----+-----+---+---+-------+------------+\nonly showing top 10 rows\n\n"
     ]
    }
   ],
   "source": [
    "most_4_5frs_df.show(10)"
   ]
  },
  {
   "cell_type": "code",
   "execution_count": 0,
   "metadata": {
    "application/vnd.databricks.v1+cell": {
     "cellMetadata": {
      "byteLimit": 2048000,
      "rowLimit": 10000
     },
     "inputWidgets": {},
     "nuid": "1fc07506-1282-414e-ba3a-838b7ff836d4",
     "showTitle": false,
     "tableResultSettingsMap": {},
     "title": ""
    }
   },
   "outputs": [],
   "source": [
    "most_4_5frs_df_combined = most_4_5frs_df.withColumn(\"BestBowling\", col(\"4\") + col(\"5\"))"
   ]
  },
  {
   "cell_type": "code",
   "execution_count": 0,
   "metadata": {
    "application/vnd.databricks.v1+cell": {
     "cellMetadata": {
      "byteLimit": 2048000,
      "rowLimit": 10000
     },
     "inputWidgets": {},
     "nuid": "1c0906f8-0adf-46cd-bac9-3b124c4d41fe",
     "showTitle": false,
     "tableResultSettingsMap": {},
     "title": ""
    }
   },
   "outputs": [
    {
     "output_type": "stream",
     "name": "stdout",
     "output_type": "stream",
     "text": [
      "+------------------+---------+---+----+-----+-----+----+----+----+------+-----+----+-----+---+---+-------+------------+-----------+\n|            Player|     Span|Mat|Inns|Balls|Overs|Mdns|Runs|Wkts|   BBI|  Ave|Econ|   SR|  4|  5|Country| CountryName|BestBowling|\n+------------------+---------+---+----+-----+-----+----+----+----+------+-----+----+-----+---+---+-------+------------+-----------+\n|    Mohammad Nabi |2016-2016|  7|   7|  162|   27|   1| 164|  12|Apr-20|13.66|6.07| 13.5|  1|  0|    AFG| Afghanistan|        1.0|\n|       MJ Santner |2016-2016|  5|   5|  109| 18.1|   0| 114|  10|04-Nov| 11.4|6.27| 10.9|  1|  0|    NZ)| New Zealand|        1.0|\n|  Shakib Al Hasan |2016-2016|  7|   6|  138|   23|   0| 166|  10|Apr-15| 16.6|7.21| 13.8|  1|  0|    BAN|  Bangladesh|        1.0|\n|Mustafizur Rahman |2016-2016|  3|   3|   72|   12|   0|  86|   9|May-22| 9.55|7.16|    8|  0|  1|    BAN|  Bangladesh|        1.0|\n|      JP Faulkner |2016-2016|  4|   4|   79| 13.1|   0| 106|   8|May-27|13.25|8.05| 9.87|  0|  1|    AUS|   Australia|        1.0|\n|  PA van Meekeren |2016-2016|  3|   2|   36|    6|   0|  28|   6|04-Nov| 4.66|4.66|    6|  1|  0|    NED| Netherlands|        1.0|\n|        CJ Jordan |2016-2016|  6|   6|  138|   23|   0| 188|   6|Apr-28|31.33|8.17|   23|  1|  0|    ENG|     England|        1.0|\n|     WP Masakadza |2016-2016|  3|   3|   72|   12|   1|  89|   5|Apr-28| 17.8|7.41| 14.4|  1|  0|    ZIM|    Zimbabwe|        1.0|\n|        CH Morris |2016-2016|  3|   3|   66|   11|   0|  98|   5|Apr-27| 19.6| 8.9| 13.2|  1|  0|    SA)|South Africa|        1.0|\n|     JR Hazlewood |2017-2017|  3|   3|  168|   28|   0| 142|   9|Jun-52|15.77|5.07|18.66|  0|  1|    AUS|   Australia|        1.0|\n|      LE Plunkett |2017-2017|  4|   4|  201| 33.3|   0| 196|   8|Apr-55| 24.5|5.85|25.12|  2|  0|    ENG|     England|        2.0|\n|        AU Rashid |2017-2017|  3|   3|  180|   30|   1| 142|   7|Apr-41|20.28|4.73|25.71|  1|  0|    ENG|     England|        1.0|\n|      Imran Tahir |2017-2017|  3|   3|  111| 18.3|   0|  80|   5|Apr-27|   16|4.32| 22.2|  1|  0|    SA)|South Africa|        1.0|\n|         MA Starc |2017-2017|  3|   3|  165| 27.3|   2| 133|   5|Apr-29| 26.6|4.83|   33|  1|  0|    AUS|   Australia|        1.0|\n|          MA Wood |2017-2017|  4|   4|  222|   37|   3| 160|   5|Apr-33|   32|4.32| 44.4|  1|  0|    ENG|     England|        1.0|\n|   Mohammed Shami |2023-2023|  7|   7|  293| 48.5|   4| 257|  24|Jul-57| 10.7|5.26| 12.2|  1|  3|    IND|       India|        4.0|\n|          A Zampa |2023-2023| 11|  11|  576|   96|   1| 515|  23|04-Aug|22.39|5.36|25.04|  3|  0|    AUS|   Australia|        3.0|\n|     D Madushanka |2023-2023|  9|   9|  470| 78.2|   4| 525|  21|May-80|   25| 6.7|22.38|  1|  1|    SL)|   Sri Lanka|        2.0|\n|        JJ Bumrah |2023-2023| 11|  11|  551| 91.5|   9| 373|  20|Apr-39|18.65|4.06|27.55|  1|  0|    IND|       India|        1.0|\n|        G Coetzee |2023-2023|  8|   8|  381| 63.3|   1| 396|  20|Apr-44| 19.8|6.23|19.05|  1|  0|    SA)|South Africa|        1.0|\n+------------------+---------+---+----+-----+-----+----+----+----+------+-----+----+-----+---+---+-------+------------+-----------+\nonly showing top 20 rows\n\n"
     ]
    }
   ],
   "source": [
    "most_4_5frs_df_combined.show(20)"
   ]
  },
  {
   "cell_type": "code",
   "execution_count": 0,
   "metadata": {
    "application/vnd.databricks.v1+cell": {
     "cellMetadata": {
      "byteLimit": 2048000,
      "rowLimit": 10000
     },
     "inputWidgets": {},
     "nuid": "e47bef5a-e76d-437a-a42f-e9f79c8cebfa",
     "showTitle": false,
     "tableResultSettingsMap": {},
     "title": ""
    }
   },
   "outputs": [],
   "source": [
    "most_4_5frs_df_winners_new = most_4_5frs_df_combined.join(wc_winners_df, most_4_5frs_df_combined[\"CountryName\"] == wc_winners_df[\"Winner\"]).groupBy([\"Series\", \"Tournament\", \"Type\", \"Winner\"]).agg(avg(col(\"BestBowling\")).alias(\"Average Best Bowling by Winners\")).orderBy(col(\"Average Best Bowling by Winners\").asc())"
   ]
  },
  {
   "cell_type": "code",
   "execution_count": 0,
   "metadata": {
    "application/vnd.databricks.v1+cell": {
     "cellMetadata": {
      "byteLimit": 2048000,
      "rowLimit": 10000
     },
     "inputWidgets": {},
     "nuid": "d1dd0ff9-5784-4adf-a36d-c2aca11b4239",
     "showTitle": false,
     "tableResultSettingsMap": {},
     "title": ""
    }
   },
   "outputs": [
    {
     "output_type": "stream",
     "name": "stdout",
     "output_type": "stream",
     "text": [
      "+------+----------------+----+-----------+-------------------------------+\n|Series|      Tournament|Type|     Winner|Average Best Bowling by Winners|\n+------+----------------+----+-----------+-------------------------------+\n|  2016|          T20 WC| T20|West Indies|                            1.0|\n|  2019|          ODI WC| ODI|    England|                            1.1|\n|  2022|          T20 WC| T20|    England|                            1.1|\n|  2017|Champions Trophy| ODI|   Pakistan|                          1.125|\n|  2021|          T20 WC| T20|  Australia|             1.5555555555555556|\n|  2023|          ODI WC| ODI|  Australia|             1.5555555555555556|\n|  2024|          T20 WC| T20|      India|             1.7142857142857142|\n+------+----------------+----+-----------+-------------------------------+\n\n"
     ]
    }
   ],
   "source": [
    "most_4_5frs_df_winners_new.show(10)"
   ]
  },
  {
   "cell_type": "code",
   "execution_count": 0,
   "metadata": {
    "application/vnd.databricks.v1+cell": {
     "cellMetadata": {
      "byteLimit": 2048000,
      "rowLimit": 10000
     },
     "inputWidgets": {},
     "nuid": "678154ab-3044-45da-b226-bc31e854ea08",
     "showTitle": false,
     "tableResultSettingsMap": {},
     "title": ""
    }
   },
   "outputs": [],
   "source": [
    "most_4_5frs_df_non_winners_new = most_4_5frs_df_combined.join(wc_winners_df, most_4_5frs_df_combined[\"CountryName\"] != wc_winners_df[\"Winner\"]).groupBy([\"Series\", \"Tournament\", \"Type\"]).agg(avg(col(\"BestBowling\")).alias(\"Average Best Bowling by Non Winners\")).orderBy(col(\"Average Best Bowling by Non Winners\").asc())"
   ]
  },
  {
   "cell_type": "code",
   "execution_count": 0,
   "metadata": {
    "application/vnd.databricks.v1+cell": {
     "cellMetadata": {
      "byteLimit": 2048000,
      "rowLimit": 10000
     },
     "inputWidgets": {},
     "nuid": "89fe2680-8d9a-4055-9c5a-782cd5040643",
     "showTitle": false,
     "tableResultSettingsMap": {},
     "title": ""
    }
   },
   "outputs": [
    {
     "output_type": "stream",
     "name": "stdout",
     "output_type": "stream",
     "text": [
      "+------+----------------+----+-----------------------------------+\n|Series|      Tournament|Type|Average Best Bowling by Non Winners|\n+------+----------------+----+-----------------------------------+\n|  2024|          T20 WC| T20|                 1.1511627906976745|\n|  2021|          T20 WC| T20|                 1.1547619047619047|\n|  2023|          ODI WC| ODI|                 1.1547619047619047|\n|  2017|Champions Trophy| ODI|                                1.2|\n|  2022|          T20 WC| T20|                 1.2048192771084338|\n|  2019|          ODI WC| ODI|                 1.2048192771084338|\n|  2016|          T20 WC| T20|                  1.206896551724138|\n+------+----------------+----+-----------------------------------+\n\n"
     ]
    }
   ],
   "source": [
    "most_4_5frs_df_non_winners_new.show(10)"
   ]
  },
  {
   "cell_type": "code",
   "execution_count": 0,
   "metadata": {
    "application/vnd.databricks.v1+cell": {
     "cellMetadata": {
      "byteLimit": 2048000,
      "rowLimit": 10000
     },
     "inputWidgets": {},
     "nuid": "99290a03-0b8e-44ae-8f6b-78d9b09a5f4c",
     "showTitle": false,
     "tableResultSettingsMap": {},
     "title": ""
    }
   },
   "outputs": [],
   "source": [
    "most_4_5frs_df_final = most_4_5frs_df_winners_new.join(most_4_5frs_df_non_winners_new, on=[\"Series\", \"Tournament\", \"Type\"], how=\"inner\")"
   ]
  },
  {
   "cell_type": "code",
   "execution_count": 0,
   "metadata": {
    "application/vnd.databricks.v1+cell": {
     "cellMetadata": {
      "byteLimit": 2048000,
      "rowLimit": 10000
     },
     "inputWidgets": {},
     "nuid": "145702c5-195e-49ed-b3ed-b8663ada95a7",
     "showTitle": false,
     "tableResultSettingsMap": {},
     "title": ""
    }
   },
   "outputs": [
    {
     "output_type": "stream",
     "name": "stdout",
     "output_type": "stream",
     "text": [
      "+------+----------------+----+-----------+-------------------------------+-----------------------------------+\n|Series|      Tournament|Type|     Winner|Average Best Bowling by Winners|Average Best Bowling by Non Winners|\n+------+----------------+----+-----------+-------------------------------+-----------------------------------+\n|  2019|          ODI WC| ODI|    England|                            1.1|                 1.2048192771084338|\n|  2021|          T20 WC| T20|  Australia|             1.5555555555555556|                 1.1547619047619047|\n|  2024|          T20 WC| T20|      India|             1.7142857142857142|                 1.1511627906976745|\n|  2016|          T20 WC| T20|West Indies|                            1.0|                  1.206896551724138|\n|  2023|          ODI WC| ODI|  Australia|             1.5555555555555556|                 1.1547619047619047|\n|  2022|          T20 WC| T20|    England|                            1.1|                 1.2048192771084338|\n|  2017|Champions Trophy| ODI|   Pakistan|                          1.125|                                1.2|\n+------+----------------+----+-----------+-------------------------------+-----------------------------------+\n\n"
     ]
    }
   ],
   "source": [
    "most_4_5frs_df_final.show(10)"
   ]
  },
  {
   "cell_type": "code",
   "execution_count": 0,
   "metadata": {
    "application/vnd.databricks.v1+cell": {
     "cellMetadata": {
      "byteLimit": 2048000,
      "rowLimit": 10000
     },
     "inputWidgets": {},
     "nuid": "a5aed2db-eb0e-4e83-b88a-118c1af04a83",
     "showTitle": false,
     "tableResultSettingsMap": {},
     "title": ""
    }
   },
   "outputs": [],
   "source": [
    "high_impact_bowlers = most_wickets_final_df123.join(\n",
    "    wc_winners_df,\n",
    "    most_wickets_final_df123[\"CountryName\"] == wc_winners_df[\"Winner\"]\n",
    ").orderBy(col(\"BBI\").desc())"
   ]
  },
  {
   "cell_type": "code",
   "execution_count": 0,
   "metadata": {
    "application/vnd.databricks.v1+cell": {
     "cellMetadata": {
      "byteLimit": 2048000,
      "rowLimit": 10000
     },
     "inputWidgets": {},
     "nuid": "5ce3328f-1243-4e08-b106-418cc33583fc",
     "showTitle": false,
     "tableResultSettingsMap": {},
     "title": ""
    }
   },
   "outputs": [
    {
     "output_type": "stream",
     "name": "stdout",
     "output_type": "stream",
     "text": [
      "+--------------------+---------+---+----+-----+-----+----+----+----+------+-----+----+-----+---+---+-------+-----------+------+----+--------+------------+----------------+\n|              Player|     Span|Mat|Inns|Balls|Overs|Mdns|Runs|Wkts|   BBI|  Ave|Econ|   SR|  4|  5|Country|CountryName|Series|Type|  Winner|      Runner|      Tournament|\n+--------------------+---------+---+----+-----+-----+----+----+----+------+-----+----+-----+---+---+-------+-----------+------+----+--------+------------+----------------+\n|     Mohammed Shami |2019-2019|  4|   4|  211| 35.1|   2| 193|  14|May-69|13.78|5.48|15.07|  2|  1|    IND|      India|  2024| T20|   India|South Africa|          T20 WC|\n|Shaheen Shah Afridi |2023-2023|  9|   9|  486|   81|   3| 481|  18|May-54|26.72|5.93|   27|  0|  1|    PAK|   Pakistan|  2017| ODI|Pakistan|       India|Champions Trophy|\n+--------------------+---------+---+----+-----+-----+----+----+----+------+-----+----+-----+---+---+-------+-----------+------+----+--------+------------+----------------+\nonly showing top 2 rows\n\n"
     ]
    }
   ],
   "source": [
    "high_impact_bowlers.show(2)"
   ]
  },
  {
   "cell_type": "code",
   "execution_count": 0,
   "metadata": {
    "application/vnd.databricks.v1+cell": {
     "cellMetadata": {
      "byteLimit": 2048000,
      "rowLimit": 10000
     },
     "inputWidgets": {},
     "nuid": "558dd473-cac3-4803-bd63-aae4e6204d36",
     "showTitle": false,
     "tableResultSettingsMap": {},
     "title": ""
    }
   },
   "outputs": [
    {
     "output_type": "stream",
     "name": "stdout",
     "output_type": "stream",
     "text": [
      "+------------------+---------+---+----+-----+-----+----+----+----+------+-----+----+-----+---+---+-------+-----------+\n|            Player|     Span|Mat|Inns|Balls|Overs|Mdns|Runs|Wkts|   BBI|  Ave|Econ|   SR|  4|  5|Country|CountryName|\n+------------------+---------+---+----+-----+-----+----+----+----+------+-----+----+-----+---+---+-------+-----------+\n|    Mohammad Nabi |2016-2016|  7|   7|  162|   27|   1| 164|  12|Apr-20|13.66|6.07| 13.5|  1|  0|    AFG|Afghanistan|\n|      Rashid Khan |2016-2016|  7|   7|  168|   28|   0| 183|  11|03-Nov|16.63|6.53|15.27|  0|  0|    AFG|Afghanistan|\n|       MJ Santner |2016-2016|  5|   5|  109| 18.1|   0| 114|  10|04-Nov| 11.4|6.27| 10.9|  1|  0|    NZ)|New Zealand|\n|         IS Sodhi |2016-2016|  5|   5|  118| 19.4|   0| 120|  10|Mar-18|   12| 6.1| 11.8|  0|  0|    NZ)|New Zealand|\n|        DJ Willey |2016-2016|  6|   6|  126|   21|   0| 159|  10|Mar-20| 15.9|7.57| 12.6|  0|  0|    ENG|    England|\n|  Shakib Al Hasan |2016-2016|  7|   6|  138|   23|   0| 166|  10|Apr-15| 16.6|7.21| 13.8|  1|  0|    BAN| Bangladesh|\n|Mustafizur Rahman |2016-2016|  3|   3|   72|   12|   0|  86|   9|May-22| 9.55|7.16|    8|  0|  1|    BAN| Bangladesh|\n|         S Badree |2016-2016|  6|   6|  138|   23|   1| 124|   9|03-Dec|13.77|5.39|15.33|  0|  0|    WI)|West Indies|\n|       AD Russell |2016-2016|  6|   6|  144|   24|   0| 189|   9|Feb-23|   21|7.87|   16|  0|  0|    WI)|West Indies|\n|         DJ Bravo |2016-2016|  6|   6|  144|   24|   0| 190|   9|Mar-37|21.11|7.91|   16|  0|  0|    WI)|West Indies|\n+------------------+---------+---+----+-----+-----+----+----+----+------+-----+----+-----+---+---+-------+-----------+\nonly showing top 10 rows\n\n"
     ]
    }
   ],
   "source": [
    "most_wickets_final_df123.show(10)"
   ]
  },
  {
   "cell_type": "code",
   "execution_count": 0,
   "metadata": {
    "application/vnd.databricks.v1+cell": {
     "cellMetadata": {
      "byteLimit": 2048000,
      "rowLimit": 10000
     },
     "inputWidgets": {},
     "nuid": "a7f2b7a0-1917-45a0-be32-0b6e571588eb",
     "showTitle": false,
     "tableResultSettingsMap": {},
     "title": ""
    }
   },
   "outputs": [
    {
     "output_type": "stream",
     "name": "stdout",
     "output_type": "stream",
     "text": [
      "+------------+-----------+------------+---------+------------+------------+----------+\n|      Team 1|     Team 2|      Winner|   Margin|      Ground|  Match Date| Scorecard|\n+------------+-----------+------------+---------+------------+------------+----------+\n|     England|West Indies| West Indies|4 wickets|Eden Gardens| Apr 3, 2016|T20I # 557|\n|       India|West Indies| West Indies|7 wickets|    Wankhede|Mar 31, 2016|T20I # 556|\n|     England|New Zealand|     England|7 wickets|       Delhi|Mar 30, 2016|T20I # 555|\n|South Africa|  Sri Lanka|South Africa|8 wickets|       Delhi|Mar 28, 2016|T20I # 554|\n|       India|  Australia|       India|6 wickets|      Mohali|Mar 27, 2016|T20I # 553|\n| Afghanistan|West Indies| Afghanistan|   6 runs|      Nagpur|Mar 27, 2016|T20I # 552|\n|     England|  Sri Lanka|     England|  10 runs|       Delhi|Mar 26, 2016|T20I # 551|\n|  Bangladesh|New Zealand| New Zealand|  75 runs|Eden Gardens|Mar 26, 2016|T20I # 550|\n|South Africa|West Indies| West Indies|3 wickets|      Nagpur|Mar 25, 2016|T20I # 549|\n|   Australia|   Pakistan|   Australia|  21 runs|      Mohali|Mar 25, 2016|T20I # 548|\n+------------+-----------+------------+---------+------------+------------+----------+\nonly showing top 10 rows\n\n"
     ]
    }
   ],
   "source": [
    "wc_match_winners_df.show(10)"
   ]
  },
  {
   "cell_type": "code",
   "execution_count": 0,
   "metadata": {
    "application/vnd.databricks.v1+cell": {
     "cellMetadata": {
      "byteLimit": 2048000,
      "rowLimit": 10000
     },
     "inputWidgets": {},
     "nuid": "8b6a0dcf-e3a0-4300-997c-38ab7457c113",
     "showTitle": false,
     "tableResultSettingsMap": {},
     "title": ""
    }
   },
   "outputs": [],
   "source": [
    "wc_match_winners_df_new = wc_match_winners_df.withColumn(\"Year_of_Match\", split(col(\"Match Date\"), r\"\\,\").getItem(1))"
   ]
  },
  {
   "cell_type": "code",
   "execution_count": 0,
   "metadata": {
    "application/vnd.databricks.v1+cell": {
     "cellMetadata": {
      "byteLimit": 2048000,
      "rowLimit": 10000
     },
     "inputWidgets": {},
     "nuid": "8ebd1f45-7273-4820-9bc7-280e227d74ee",
     "showTitle": false,
     "tableResultSettingsMap": {},
     "title": ""
    }
   },
   "outputs": [
    {
     "output_type": "stream",
     "name": "stdout",
     "output_type": "stream",
     "text": [
      "+------------+-----------+------------+---------+------------+------------+----------+-------------+\n|      Team 1|     Team 2|      Winner|   Margin|      Ground|  Match Date| Scorecard|Year_of_Match|\n+------------+-----------+------------+---------+------------+------------+----------+-------------+\n|     England|West Indies| West Indies|4 wickets|Eden Gardens| Apr 3, 2016|T20I # 557|         2016|\n|       India|West Indies| West Indies|7 wickets|    Wankhede|Mar 31, 2016|T20I # 556|         2016|\n|     England|New Zealand|     England|7 wickets|       Delhi|Mar 30, 2016|T20I # 555|         2016|\n|South Africa|  Sri Lanka|South Africa|8 wickets|       Delhi|Mar 28, 2016|T20I # 554|         2016|\n|       India|  Australia|       India|6 wickets|      Mohali|Mar 27, 2016|T20I # 553|         2016|\n| Afghanistan|West Indies| Afghanistan|   6 runs|      Nagpur|Mar 27, 2016|T20I # 552|         2016|\n|     England|  Sri Lanka|     England|  10 runs|       Delhi|Mar 26, 2016|T20I # 551|         2016|\n|  Bangladesh|New Zealand| New Zealand|  75 runs|Eden Gardens|Mar 26, 2016|T20I # 550|         2016|\n|South Africa|West Indies| West Indies|3 wickets|      Nagpur|Mar 25, 2016|T20I # 549|         2016|\n|   Australia|   Pakistan|   Australia|  21 runs|      Mohali|Mar 25, 2016|T20I # 548|         2016|\n+------------+-----------+------------+---------+------------+------------+----------+-------------+\nonly showing top 10 rows\n\n"
     ]
    }
   ],
   "source": [
    "wc_match_winners_df_new.show(10)"
   ]
  },
  {
   "cell_type": "code",
   "execution_count": 0,
   "metadata": {
    "application/vnd.databricks.v1+cell": {
     "cellMetadata": {
      "byteLimit": 2048000,
      "rowLimit": 10000
     },
     "inputWidgets": {},
     "nuid": "bd03100c-e3c9-4d36-82c1-870eadef5b0d",
     "showTitle": false,
     "tableResultSettingsMap": {},
     "title": ""
    }
   },
   "outputs": [],
   "source": [
    "most_wickets_final_df123_new = most_wickets_final_df123.withColumn(\"Year\", split(col(\"Span\"), r\"\\-\").getItem(0))"
   ]
  },
  {
   "cell_type": "code",
   "execution_count": 0,
   "metadata": {
    "application/vnd.databricks.v1+cell": {
     "cellMetadata": {
      "byteLimit": 2048000,
      "rowLimit": 10000
     },
     "inputWidgets": {},
     "nuid": "a71a220d-4150-4878-b11b-21281ceae3b5",
     "showTitle": false,
     "tableResultSettingsMap": {},
     "title": ""
    }
   },
   "outputs": [
    {
     "output_type": "stream",
     "name": "stdout",
     "output_type": "stream",
     "text": [
      "+------------------+---------+---+----+-----+-----+----+----+----+------+-----+----+-----+---+---+-------+-----------+----+\n|            Player|     Span|Mat|Inns|Balls|Overs|Mdns|Runs|Wkts|   BBI|  Ave|Econ|   SR|  4|  5|Country|CountryName|Year|\n+------------------+---------+---+----+-----+-----+----+----+----+------+-----+----+-----+---+---+-------+-----------+----+\n|    Mohammad Nabi |2016-2016|  7|   7|  162|   27|   1| 164|  12|Apr-20|13.66|6.07| 13.5|  1|  0|    AFG|Afghanistan|2016|\n|      Rashid Khan |2016-2016|  7|   7|  168|   28|   0| 183|  11|03-Nov|16.63|6.53|15.27|  0|  0|    AFG|Afghanistan|2016|\n|       MJ Santner |2016-2016|  5|   5|  109| 18.1|   0| 114|  10|04-Nov| 11.4|6.27| 10.9|  1|  0|    NZ)|New Zealand|2016|\n|         IS Sodhi |2016-2016|  5|   5|  118| 19.4|   0| 120|  10|Mar-18|   12| 6.1| 11.8|  0|  0|    NZ)|New Zealand|2016|\n|        DJ Willey |2016-2016|  6|   6|  126|   21|   0| 159|  10|Mar-20| 15.9|7.57| 12.6|  0|  0|    ENG|    England|2016|\n|  Shakib Al Hasan |2016-2016|  7|   6|  138|   23|   0| 166|  10|Apr-15| 16.6|7.21| 13.8|  1|  0|    BAN| Bangladesh|2016|\n|Mustafizur Rahman |2016-2016|  3|   3|   72|   12|   0|  86|   9|May-22| 9.55|7.16|    8|  0|  1|    BAN| Bangladesh|2016|\n|         S Badree |2016-2016|  6|   6|  138|   23|   1| 124|   9|03-Dec|13.77|5.39|15.33|  0|  0|    WI)|West Indies|2016|\n|       AD Russell |2016-2016|  6|   6|  144|   24|   0| 189|   9|Feb-23|   21|7.87|   16|  0|  0|    WI)|West Indies|2016|\n|         DJ Bravo |2016-2016|  6|   6|  144|   24|   0| 190|   9|Mar-37|21.11|7.91|   16|  0|  0|    WI)|West Indies|2016|\n+------------------+---------+---+----+-----+-----+----+----+----+------+-----+----+-----+---+---+-------+-----------+----+\nonly showing top 10 rows\n\n"
     ]
    }
   ],
   "source": [
    "most_wickets_final_df123_new.show(10)"
   ]
  },
  {
   "cell_type": "code",
   "execution_count": 0,
   "metadata": {
    "application/vnd.databricks.v1+cell": {
     "cellMetadata": {
      "byteLimit": 2048000,
      "rowLimit": 10000
     },
     "inputWidgets": {},
     "nuid": "d2271d60-56ab-4f64-91ba-c851984cf7e1",
     "showTitle": false,
     "tableResultSettingsMap": {},
     "title": ""
    }
   },
   "outputs": [],
   "source": [
    "wc_match_winners_economy_rates_df_winners = wc_match_winners_df_new.join(most_wickets_final_df123_new, wc_match_winners_df_new[\"Winner\"] == most_wickets_final_df123_new[\"CountryName\"]).groupBy([\"Year\", \"Player\", \"Winner\"]).agg(avg(col(\"Econ\")))"
   ]
  },
  {
   "cell_type": "code",
   "execution_count": 0,
   "metadata": {
    "application/vnd.databricks.v1+cell": {
     "cellMetadata": {
      "byteLimit": 2048000,
      "rowLimit": 10000
     },
     "inputWidgets": {},
     "nuid": "6cbd9776-61ac-4ec0-9bda-9eda6793f9f4",
     "showTitle": false,
     "tableResultSettingsMap": {},
     "title": ""
    }
   },
   "outputs": [
    {
     "output_type": "stream",
     "name": "stdout",
     "output_type": "stream",
     "text": [
      "+----+---------------+------------+------------------+\n|Year|         Player|      Winner|         avg(Econ)|\n+----+---------------+------------+------------------+\n|2024| Naveen-ul-Haq | Afghanistan|               6.0|\n|2024|    Haris Rauf |    Pakistan|6.7299999999999995|\n|2016| Mohammad Amir |    Pakistan| 7.860000000000006|\n|2017|     RA Jadeja |       India| 5.919999999999995|\n|2023|AL Phehlukwayo |South Africa| 5.139999999999999|\n|2022|   LH Ferguson | New Zealand| 8.360000000000005|\n|2016|  Hamid Hassan | Afghanistan| 6.290000000000002|\n|2017|    PJ Cummins |   Australia| 5.759999999999998|\n|2023|     JJ Bumrah |       India| 4.060000000000001|\n|2023|       L Ngidi |South Africa| 5.860000000000004|\n+----+---------------+------------+------------------+\nonly showing top 10 rows\n\n"
     ]
    }
   ],
   "source": [
    "wc_match_winners_economy_rates_df_winners.show(10)"
   ]
  },
  {
   "cell_type": "code",
   "execution_count": 0,
   "metadata": {
    "application/vnd.databricks.v1+cell": {
     "cellMetadata": {
      "byteLimit": 2048000,
      "rowLimit": 10000
     },
     "inputWidgets": {},
     "nuid": "f3af1b4d-fd74-43f7-8309-393402dd769a",
     "showTitle": false,
     "tableResultSettingsMap": {},
     "title": ""
    }
   },
   "outputs": [
    {
     "output_type": "stream",
     "name": "stdout",
     "output_type": "stream",
     "text": [
      "+------------+-----------+------------+---------+------------+------------+----------+-------------+\n|      Team 1|     Team 2|      Winner|   Margin|      Ground|  Match Date| Scorecard|Year_of_Match|\n+------------+-----------+------------+---------+------------+------------+----------+-------------+\n|     England|West Indies| West Indies|4 wickets|Eden Gardens| Apr 3, 2016|T20I # 557|         2016|\n|       India|West Indies| West Indies|7 wickets|    Wankhede|Mar 31, 2016|T20I # 556|         2016|\n|     England|New Zealand|     England|7 wickets|       Delhi|Mar 30, 2016|T20I # 555|         2016|\n|South Africa|  Sri Lanka|South Africa|8 wickets|       Delhi|Mar 28, 2016|T20I # 554|         2016|\n|       India|  Australia|       India|6 wickets|      Mohali|Mar 27, 2016|T20I # 553|         2016|\n| Afghanistan|West Indies| Afghanistan|   6 runs|      Nagpur|Mar 27, 2016|T20I # 552|         2016|\n|     England|  Sri Lanka|     England|  10 runs|       Delhi|Mar 26, 2016|T20I # 551|         2016|\n|  Bangladesh|New Zealand| New Zealand|  75 runs|Eden Gardens|Mar 26, 2016|T20I # 550|         2016|\n|South Africa|West Indies| West Indies|3 wickets|      Nagpur|Mar 25, 2016|T20I # 549|         2016|\n|   Australia|   Pakistan|   Australia|  21 runs|      Mohali|Mar 25, 2016|T20I # 548|         2016|\n+------------+-----------+------------+---------+------------+------------+----------+-------------+\nonly showing top 10 rows\n\n"
     ]
    }
   ],
   "source": [
    "wc_match_winners_df_new.show(10)"
   ]
  },
  {
   "cell_type": "code",
   "execution_count": 0,
   "metadata": {
    "application/vnd.databricks.v1+cell": {
     "cellMetadata": {
      "byteLimit": 2048000,
      "rowLimit": 10000
     },
     "inputWidgets": {},
     "nuid": "be9b996a-c3ee-45fe-97ac-b6a73e1a93cb",
     "showTitle": false,
     "tableResultSettingsMap": {},
     "title": ""
    }
   },
   "outputs": [],
   "source": [
    "wc_match_winners_df_new_margin = wc_match_winners_df_new.withColumn(\"Margin type\", split(col('Margin'), r\"\\ \").getItem(1))"
   ]
  },
  {
   "cell_type": "code",
   "execution_count": 0,
   "metadata": {
    "application/vnd.databricks.v1+cell": {
     "cellMetadata": {
      "byteLimit": 2048000,
      "rowLimit": 10000
     },
     "inputWidgets": {},
     "nuid": "a611f965-4017-46c3-a716-b13b16aa4646",
     "showTitle": false,
     "tableResultSettingsMap": {},
     "title": ""
    }
   },
   "outputs": [
    {
     "output_type": "stream",
     "name": "stdout",
     "output_type": "stream",
     "text": [
      "+------------+-----------+------------+---------+------------+------------+----------+-------------+-----------+\n|      Team 1|     Team 2|      Winner|   Margin|      Ground|  Match Date| Scorecard|Year_of_Match|Margin type|\n+------------+-----------+------------+---------+------------+------------+----------+-------------+-----------+\n|     England|West Indies| West Indies|4 wickets|Eden Gardens| Apr 3, 2016|T20I # 557|         2016|    wickets|\n|       India|West Indies| West Indies|7 wickets|    Wankhede|Mar 31, 2016|T20I # 556|         2016|    wickets|\n|     England|New Zealand|     England|7 wickets|       Delhi|Mar 30, 2016|T20I # 555|         2016|    wickets|\n|South Africa|  Sri Lanka|South Africa|8 wickets|       Delhi|Mar 28, 2016|T20I # 554|         2016|    wickets|\n|       India|  Australia|       India|6 wickets|      Mohali|Mar 27, 2016|T20I # 553|         2016|    wickets|\n| Afghanistan|West Indies| Afghanistan|   6 runs|      Nagpur|Mar 27, 2016|T20I # 552|         2016|       runs|\n|     England|  Sri Lanka|     England|  10 runs|       Delhi|Mar 26, 2016|T20I # 551|         2016|       runs|\n|  Bangladesh|New Zealand| New Zealand|  75 runs|Eden Gardens|Mar 26, 2016|T20I # 550|         2016|       runs|\n|South Africa|West Indies| West Indies|3 wickets|      Nagpur|Mar 25, 2016|T20I # 549|         2016|    wickets|\n|   Australia|   Pakistan|   Australia|  21 runs|      Mohali|Mar 25, 2016|T20I # 548|         2016|       runs|\n+------------+-----------+------------+---------+------------+------------+----------+-------------+-----------+\nonly showing top 10 rows\n\n"
     ]
    }
   ],
   "source": [
    "wc_match_winners_df_new_margin.show(10)"
   ]
  },
  {
   "cell_type": "code",
   "execution_count": 0,
   "metadata": {
    "application/vnd.databricks.v1+cell": {
     "cellMetadata": {
      "byteLimit": 2048000,
      "rowLimit": 10000
     },
     "inputWidgets": {},
     "nuid": "74e3bf55-ed03-4ba0-9c4f-c1b7da3bdc5a",
     "showTitle": false,
     "tableResultSettingsMap": {},
     "title": ""
    }
   },
   "outputs": [],
   "source": [
    "wc_match_winners_df_new_margin = wc_match_winners_df_new_margin.withColumn(\"Margin\", split(col('Margin'), r\"\\ \").getItem(0))"
   ]
  },
  {
   "cell_type": "code",
   "execution_count": 0,
   "metadata": {
    "application/vnd.databricks.v1+cell": {
     "cellMetadata": {
      "byteLimit": 2048000,
      "rowLimit": 10000
     },
     "inputWidgets": {},
     "nuid": "f225758e-3af8-447b-ba39-fd136ee20b41",
     "showTitle": false,
     "tableResultSettingsMap": {},
     "title": ""
    }
   },
   "outputs": [
    {
     "output_type": "stream",
     "name": "stdout",
     "output_type": "stream",
     "text": [
      "+------------+-----------+------------+------+------------+------------+----------+-------------+-----------+\n|      Team 1|     Team 2|      Winner|Margin|      Ground|  Match Date| Scorecard|Year_of_Match|Margin type|\n+------------+-----------+------------+------+------------+------------+----------+-------------+-----------+\n|     England|West Indies| West Indies|     4|Eden Gardens| Apr 3, 2016|T20I # 557|         2016|    wickets|\n|       India|West Indies| West Indies|     7|    Wankhede|Mar 31, 2016|T20I # 556|         2016|    wickets|\n|     England|New Zealand|     England|     7|       Delhi|Mar 30, 2016|T20I # 555|         2016|    wickets|\n|South Africa|  Sri Lanka|South Africa|     8|       Delhi|Mar 28, 2016|T20I # 554|         2016|    wickets|\n|       India|  Australia|       India|     6|      Mohali|Mar 27, 2016|T20I # 553|         2016|    wickets|\n| Afghanistan|West Indies| Afghanistan|     6|      Nagpur|Mar 27, 2016|T20I # 552|         2016|       runs|\n|     England|  Sri Lanka|     England|    10|       Delhi|Mar 26, 2016|T20I # 551|         2016|       runs|\n|  Bangladesh|New Zealand| New Zealand|    75|Eden Gardens|Mar 26, 2016|T20I # 550|         2016|       runs|\n|South Africa|West Indies| West Indies|     3|      Nagpur|Mar 25, 2016|T20I # 549|         2016|    wickets|\n|   Australia|   Pakistan|   Australia|    21|      Mohali|Mar 25, 2016|T20I # 548|         2016|       runs|\n+------------+-----------+------------+------+------------+------------+----------+-------------+-----------+\nonly showing top 10 rows\n\n"
     ]
    }
   ],
   "source": [
    "wc_match_winners_df_new_margin.show(10)"
   ]
  },
  {
   "cell_type": "code",
   "execution_count": 0,
   "metadata": {
    "application/vnd.databricks.v1+cell": {
     "cellMetadata": {
      "byteLimit": 2048000,
      "rowLimit": 10000
     },
     "inputWidgets": {},
     "nuid": "20dedf69-62b9-4df4-849a-ccfb449d3406",
     "showTitle": false,
     "tableResultSettingsMap": {},
     "title": ""
    }
   },
   "outputs": [
    {
     "output_type": "stream",
     "name": "stdout",
     "output_type": "stream",
     "text": [
      "Out[265]: [('Team 1', 'string'),\n ('Team 2', 'string'),\n ('Winner', 'string'),\n ('Margin', 'string'),\n ('Ground', 'string'),\n ('Match Date', 'string'),\n ('Scorecard', 'string'),\n ('Year_of_Match', 'string'),\n ('Margin type', 'string')]"
     ]
    }
   ],
   "source": [
    "wc_match_winners_df_new_margin.dtypes"
   ]
  },
  {
   "cell_type": "code",
   "execution_count": 0,
   "metadata": {
    "application/vnd.databricks.v1+cell": {
     "cellMetadata": {
      "byteLimit": 2048000,
      "rowLimit": 10000
     },
     "inputWidgets": {},
     "nuid": "232886dc-703c-43ad-bf59-86ea583eff07",
     "showTitle": false,
     "tableResultSettingsMap": {},
     "title": ""
    }
   },
   "outputs": [],
   "source": [
    "wc_match_winners_df_new_margin = wc_match_winners_df_new_margin.withColumn(\"Margin\", col(\"Margin\").cast(\"int\"))"
   ]
  },
  {
   "cell_type": "code",
   "execution_count": 0,
   "metadata": {
    "application/vnd.databricks.v1+cell": {
     "cellMetadata": {
      "byteLimit": 2048000,
      "rowLimit": 10000
     },
     "inputWidgets": {},
     "nuid": "eaa3989d-4792-43d8-afeb-1601175a3591",
     "showTitle": false,
     "tableResultSettingsMap": {},
     "title": ""
    }
   },
   "outputs": [
    {
     "output_type": "stream",
     "name": "stdout",
     "output_type": "stream",
     "text": [
      "Out[267]: [('Team 1', 'string'),\n ('Team 2', 'string'),\n ('Winner', 'string'),\n ('Margin', 'int'),\n ('Ground', 'string'),\n ('Match Date', 'string'),\n ('Scorecard', 'string'),\n ('Year_of_Match', 'string'),\n ('Margin type', 'string')]"
     ]
    }
   ],
   "source": [
    "wc_match_winners_df_new_margin.dtypes"
   ]
  },
  {
   "cell_type": "code",
   "execution_count": 0,
   "metadata": {
    "application/vnd.databricks.v1+cell": {
     "cellMetadata": {
      "byteLimit": 2048000,
      "rowLimit": 10000
     },
     "inputWidgets": {},
     "nuid": "4a0095dc-1ced-4c74-9a5f-7394156f992d",
     "showTitle": false,
     "tableResultSettingsMap": {},
     "title": ""
    }
   },
   "outputs": [
    {
     "output_type": "stream",
     "name": "stdout",
     "output_type": "stream",
     "text": [
      "+------------+-----------+------------+------+------------+------------+----------+-------------+-----------+\n|      Team 1|     Team 2|      Winner|Margin|      Ground|  Match Date| Scorecard|Year_of_Match|Margin type|\n+------------+-----------+------------+------+------------+------------+----------+-------------+-----------+\n|     England|West Indies| West Indies|     4|Eden Gardens| Apr 3, 2016|T20I # 557|         2016|    wickets|\n|       India|West Indies| West Indies|     7|    Wankhede|Mar 31, 2016|T20I # 556|         2016|    wickets|\n|     England|New Zealand|     England|     7|       Delhi|Mar 30, 2016|T20I # 555|         2016|    wickets|\n|South Africa|  Sri Lanka|South Africa|     8|       Delhi|Mar 28, 2016|T20I # 554|         2016|    wickets|\n|       India|  Australia|       India|     6|      Mohali|Mar 27, 2016|T20I # 553|         2016|    wickets|\n| Afghanistan|West Indies| Afghanistan|     6|      Nagpur|Mar 27, 2016|T20I # 552|         2016|       runs|\n|     England|  Sri Lanka|     England|    10|       Delhi|Mar 26, 2016|T20I # 551|         2016|       runs|\n|  Bangladesh|New Zealand| New Zealand|    75|Eden Gardens|Mar 26, 2016|T20I # 550|         2016|       runs|\n|South Africa|West Indies| West Indies|     3|      Nagpur|Mar 25, 2016|T20I # 549|         2016|    wickets|\n|   Australia|   Pakistan|   Australia|    21|      Mohali|Mar 25, 2016|T20I # 548|         2016|       runs|\n+------------+-----------+------------+------+------------+------------+----------+-------------+-----------+\nonly showing top 10 rows\n\n"
     ]
    }
   ],
   "source": [
    "wc_match_winners_df_new_margin.show(10)"
   ]
  },
  {
   "cell_type": "code",
   "execution_count": 0,
   "metadata": {
    "application/vnd.databricks.v1+cell": {
     "cellMetadata": {
      "byteLimit": 2048000,
      "rowLimit": 10000
     },
     "inputWidgets": {},
     "nuid": "67ba8552-7066-482e-97b0-84cc21717155",
     "showTitle": false,
     "tableResultSettingsMap": {},
     "title": ""
    }
   },
   "outputs": [],
   "source": [
    "\n",
    "wc_match_winners_df_new_margin = wc_match_winners_df_new_margin.withColumn(\n",
    "    \"Type of win\",\n",
    "    when(\n",
    "        ((col(\"Margin type\") == \"wickets\") & (col(\"Margin\") < 3)) | \n",
    "        ((col(\"Margin type\") == \"runs\") & (col(\"Margin\") < 20)),\n",
    "        \"Close Win\"\n",
    "    ).otherwise(\"Dominant win\")\n",
    ")"
   ]
  },
  {
   "cell_type": "code",
   "execution_count": 0,
   "metadata": {
    "application/vnd.databricks.v1+cell": {
     "cellMetadata": {
      "byteLimit": 2048000,
      "rowLimit": 10000
     },
     "inputWidgets": {},
     "nuid": "20127b59-a041-482f-bbe1-8287c4bd8d02",
     "showTitle": false,
     "tableResultSettingsMap": {},
     "title": ""
    }
   },
   "outputs": [
    {
     "output_type": "stream",
     "name": "stdout",
     "output_type": "stream",
     "text": [
      "+------------+------------+------------+------+------------+------------+----------+-------------+-----------+------------+\n|      Team 1|      Team 2|      Winner|Margin|      Ground|  Match Date| Scorecard|Year_of_Match|Margin type| Type of win|\n+------------+------------+------------+------+------------+------------+----------+-------------+-----------+------------+\n|     England| West Indies| West Indies|     4|Eden Gardens| Apr 3, 2016|T20I # 557|         2016|    wickets|Dominant win|\n|       India| West Indies| West Indies|     7|    Wankhede|Mar 31, 2016|T20I # 556|         2016|    wickets|Dominant win|\n|     England| New Zealand|     England|     7|       Delhi|Mar 30, 2016|T20I # 555|         2016|    wickets|Dominant win|\n|South Africa|   Sri Lanka|South Africa|     8|       Delhi|Mar 28, 2016|T20I # 554|         2016|    wickets|Dominant win|\n|       India|   Australia|       India|     6|      Mohali|Mar 27, 2016|T20I # 553|         2016|    wickets|Dominant win|\n| Afghanistan| West Indies| Afghanistan|     6|      Nagpur|Mar 27, 2016|T20I # 552|         2016|       runs|   Close Win|\n|     England|   Sri Lanka|     England|    10|       Delhi|Mar 26, 2016|T20I # 551|         2016|       runs|   Close Win|\n|  Bangladesh| New Zealand| New Zealand|    75|Eden Gardens|Mar 26, 2016|T20I # 550|         2016|       runs|Dominant win|\n|South Africa| West Indies| West Indies|     3|      Nagpur|Mar 25, 2016|T20I # 549|         2016|    wickets|Dominant win|\n|   Australia|    Pakistan|   Australia|    21|      Mohali|Mar 25, 2016|T20I # 548|         2016|       runs|Dominant win|\n|       India|  Bangladesh|       India|     1|   Bengaluru|Mar 23, 2016|T20I # 547|         2016|        run|Dominant win|\n| Afghanistan|     England|     England|    15|       Delhi|Mar 23, 2016|T20I # 546|         2016|       runs|   Close Win|\n| New Zealand|    Pakistan| New Zealand|    22|      Mohali|Mar 22, 2016|T20I # 545|         2016|       runs|Dominant win|\n|   Australia|  Bangladesh|   Australia|     3|   Bengaluru|Mar 21, 2016|T20I # 544|         2016|    wickets|Dominant win|\n|   Sri Lanka| West Indies| West Indies|     7|   Bengaluru|Mar 20, 2016|T20I # 543|         2016|    wickets|Dominant win|\n| Afghanistan|South Africa|South Africa|    37|    Wankhede|Mar 20, 2016|T20I # 542|         2016|       runs|Dominant win|\n|       India|    Pakistan|       India|     6|Eden Gardens|Mar 19, 2016|T20I # 541|         2016|    wickets|Dominant win|\n|     England|South Africa|     England|     2|    Wankhede|Mar 18, 2016|T20I # 540|         2016|    wickets|   Close Win|\n|   Australia| New Zealand| New Zealand|     8|  Dharamsala|Mar 18, 2016|T20I # 539|         2016|       runs|   Close Win|\n| Afghanistan|   Sri Lanka|   Sri Lanka|     6|Eden Gardens|Mar 17, 2016|T20I # 538|         2016|    wickets|Dominant win|\n+------------+------------+------------+------+------------+------------+----------+-------------+-----------+------------+\nonly showing top 20 rows\n\n"
     ]
    }
   ],
   "source": [
    "wc_match_winners_df_new_margin.show(20)"
   ]
  },
  {
   "cell_type": "code",
   "execution_count": 0,
   "metadata": {
    "application/vnd.databricks.v1+cell": {
     "cellMetadata": {
      "byteLimit": 2048000,
      "rowLimit": 10000
     },
     "inputWidgets": {},
     "nuid": "a37ec20b-dd9e-4a19-8c65-f21f54bbb7d7",
     "showTitle": false,
     "tableResultSettingsMap": {},
     "title": ""
    }
   },
   "outputs": [
    {
     "output_type": "stream",
     "name": "stdout",
     "output_type": "stream",
     "text": [
      "+----------------+---------+---+-----+----+-----+----+----+------+-----+----+----+---+---+---+-------+------------+\n|          Player|     Span|Mat|Overs|Mdns|Balls|Runs|Wkts|   BBI|  Ave|Econ|  SR|  4|  5| 10|Country| CountryName|\n+----------------+---------+---+-----+----+-----+----+----+------+-----+----+----+---+---+---+-------+------------+\n|    NL McCullum |2016-2016|  2|    5|   -|   30|  21|   3|Feb-15|    7| 4.2|  10|  -|  -|  -|    NZ)| New Zealand|\n|PA van Meekeren |2016-2016|  3|    6|   -|   36|  28|   6|04-Nov| 4.66|4.66|   6|  1|  -|  -|   NED)| Netherlands|\n|    CD de Lange |2016-2016|  1|    4|   -|   24|  19|   1|Jan-19|   19|4.75|  24|  -|  -|  -|  SCOT)|     Unknown|\n|       SK Raina |2016-2016|  5|    6|   -|   36|  29|   3|01-Apr| 9.66|4.83|  12|  -|  -|  -|   IND)|       India|\n|  JDF Vandersay |2016-2016|  3|   12|   1|   72|  62|   3|Feb-26|20.66|5.16|  24|  -|  -|  -|    SL)|   Sri Lanka|\n|    Imran Tahir |2016-2016|  4|   16|   -|   96|  83|   6|Feb-13|13.83|5.18|  16|  -|  -|  -|    SA)|South Africa|\n|       S Badree |2016-2016|  6|   23|   1|  138| 124|   9|03-Dec|13.77|5.39|15.3|  -|  -|  -|    WI)| West Indies|\n|    AM Phangiso |2016-2016|  2|    8|   -|   48|  45|   3|Feb-26|   15|5.62|  16|  -|  -|  -|    SA)|South Africa|\n|     GD Elliott |2016-2016|  5|   13|   -|   78|  75|   3|03-Dec|   25|5.76|  26|  -|  -|  -|    NZ)| New Zealand|\n|        A Nehra |2016-2016|  5|   19|   1|  114| 113|   5|Jan-20| 22.6|5.94|22.8|  -|  -|  -|   IND)|       India|\n+----------------+---------+---+-----+----+-----+----+----+------+-----+----+----+---+---+---+-------+------------+\nonly showing top 10 rows\n\n"
     ]
    }
   ],
   "source": [
    "economy_rate_df_new.show(10)"
   ]
  },
  {
   "cell_type": "code",
   "execution_count": 0,
   "metadata": {
    "application/vnd.databricks.v1+cell": {
     "cellMetadata": {
      "byteLimit": 2048000,
      "rowLimit": 10000
     },
     "inputWidgets": {},
     "nuid": "defe6a9e-82cd-4f95-95b8-9b9a4e1170e9",
     "showTitle": false,
     "tableResultSettingsMap": {},
     "title": ""
    }
   },
   "outputs": [],
   "source": [
    "#Analyse the dominant wins of the champions vs non champions\n",
    "\n",
    "type_of_wins_winners_df = wc_match_winners_df_new_margin.join(wc_winners_df, wc_match_winners_df_new_margin['Winner'] == wc_winners_df[\"Winner\"], how=\"inner\")"
   ]
  },
  {
   "cell_type": "code",
   "execution_count": 0,
   "metadata": {
    "application/vnd.databricks.v1+cell": {
     "cellMetadata": {
      "byteLimit": 2048000,
      "rowLimit": 10000
     },
     "inputWidgets": {},
     "nuid": "8d393c9f-068e-45cd-919b-86c2553e33d9",
     "showTitle": false,
     "tableResultSettingsMap": {},
     "title": ""
    }
   },
   "outputs": [
    {
     "output_type": "stream",
     "name": "stdout",
     "output_type": "stream",
     "text": [
      "+------------+------------+-----------+------+------------+------------+----------+-------------+-----------+------------+------+----+-----------+------------+----------+\n|      Team 1|      Team 2|     Winner|Margin|      Ground|  Match Date| Scorecard|Year_of_Match|Margin type| Type of win|Series|Type|     Winner|      Runner|Tournament|\n+------------+------------+-----------+------+------------+------------+----------+-------------+-----------+------------+------+----+-----------+------------+----------+\n|     England| West Indies|West Indies|     4|Eden Gardens| Apr 3, 2016|T20I # 557|         2016|    wickets|Dominant win|  2016| T20|West Indies|     England|    T20 WC|\n|       India| West Indies|West Indies|     7|    Wankhede|Mar 31, 2016|T20I # 556|         2016|    wickets|Dominant win|  2016| T20|West Indies|     England|    T20 WC|\n|     England| New Zealand|    England|     7|       Delhi|Mar 30, 2016|T20I # 555|         2016|    wickets|Dominant win|  2022| T20|    England|    Pakistan|    T20 WC|\n|     England| New Zealand|    England|     7|       Delhi|Mar 30, 2016|T20I # 555|         2016|    wickets|Dominant win|  2019| ODI|    England| New Zealand|    ODI WC|\n|       India|   Australia|      India|     6|      Mohali|Mar 27, 2016|T20I # 553|         2016|    wickets|Dominant win|  2024| T20|      India|South Africa|    T20 WC|\n|     England|   Sri Lanka|    England|    10|       Delhi|Mar 26, 2016|T20I # 551|         2016|       runs|   Close Win|  2022| T20|    England|    Pakistan|    T20 WC|\n|     England|   Sri Lanka|    England|    10|       Delhi|Mar 26, 2016|T20I # 551|         2016|       runs|   Close Win|  2019| ODI|    England| New Zealand|    ODI WC|\n|South Africa| West Indies|West Indies|     3|      Nagpur|Mar 25, 2016|T20I # 549|         2016|    wickets|Dominant win|  2016| T20|West Indies|     England|    T20 WC|\n|   Australia|    Pakistan|  Australia|    21|      Mohali|Mar 25, 2016|T20I # 548|         2016|       runs|Dominant win|  2023| ODI|  Australia|       India|    ODI WC|\n|   Australia|    Pakistan|  Australia|    21|      Mohali|Mar 25, 2016|T20I # 548|         2016|       runs|Dominant win|  2021| T20|  Australia| New Zealand|    T20 WC|\n|       India|  Bangladesh|      India|     1|   Bengaluru|Mar 23, 2016|T20I # 547|         2016|        run|Dominant win|  2024| T20|      India|South Africa|    T20 WC|\n| Afghanistan|     England|    England|    15|       Delhi|Mar 23, 2016|T20I # 546|         2016|       runs|   Close Win|  2022| T20|    England|    Pakistan|    T20 WC|\n| Afghanistan|     England|    England|    15|       Delhi|Mar 23, 2016|T20I # 546|         2016|       runs|   Close Win|  2019| ODI|    England| New Zealand|    ODI WC|\n|   Australia|  Bangladesh|  Australia|     3|   Bengaluru|Mar 21, 2016|T20I # 544|         2016|    wickets|Dominant win|  2023| ODI|  Australia|       India|    ODI WC|\n|   Australia|  Bangladesh|  Australia|     3|   Bengaluru|Mar 21, 2016|T20I # 544|         2016|    wickets|Dominant win|  2021| T20|  Australia| New Zealand|    T20 WC|\n|   Sri Lanka| West Indies|West Indies|     7|   Bengaluru|Mar 20, 2016|T20I # 543|         2016|    wickets|Dominant win|  2016| T20|West Indies|     England|    T20 WC|\n|       India|    Pakistan|      India|     6|Eden Gardens|Mar 19, 2016|T20I # 541|         2016|    wickets|Dominant win|  2024| T20|      India|South Africa|    T20 WC|\n|     England|South Africa|    England|     2|    Wankhede|Mar 18, 2016|T20I # 540|         2016|    wickets|   Close Win|  2022| T20|    England|    Pakistan|    T20 WC|\n|     England|South Africa|    England|     2|    Wankhede|Mar 18, 2016|T20I # 540|         2016|    wickets|   Close Win|  2019| ODI|    England| New Zealand|    ODI WC|\n|     England| West Indies|West Indies|     6|    Wankhede|Mar 16, 2016|T20I # 537|         2016|    wickets|Dominant win|  2016| T20|West Indies|     England|    T20 WC|\n+------------+------------+-----------+------+------------+------------+----------+-------------+-----------+------------+------+----+-----------+------------+----------+\nonly showing top 20 rows\n\n"
     ]
    }
   ],
   "source": [
    "type_of_wins_winners_df.show(20)"
   ]
  },
  {
   "cell_type": "code",
   "execution_count": 0,
   "metadata": {
    "application/vnd.databricks.v1+cell": {
     "cellMetadata": {
      "byteLimit": 2048000,
      "rowLimit": 10000
     },
     "inputWidgets": {},
     "nuid": "96f940d0-1ec8-4ba0-a815-6330968d3728",
     "showTitle": false,
     "tableResultSettingsMap": {},
     "title": ""
    }
   },
   "outputs": [],
   "source": [
    "from pyspark.sql.functions import count, trim\n",
    "column_names = type_of_wins_winners_df.columns\n",
    "column_names[12] = \"Champion\"\n",
    "type_of_wins_winners_df_1 = type_of_wins_winners_df.toDF(*column_names)\n",
    "\n",
    "type_of_wins_winners_df_1 = type_of_wins_winners_df_1.groupBy(\n",
    "    [\"Series\", \"Tournament\", \"Year_of_Match\"]\n",
    ").agg(\n",
    "    count(when(col(\"Type of win\") == 'Dominant win', True)).alias(\"Dominant Win by Winners\"),\n",
    "    count(\"Champion\").alias(\"Total Matches Won\")\n",
    ").withColumn(\"Dominant win% by Winners\", col(\"Dominant Win by Winners\") / col(\"Total Matches Won\") * 100)\n",
    "\n",
    "\n"
   ]
  },
  {
   "cell_type": "code",
   "execution_count": 0,
   "metadata": {
    "application/vnd.databricks.v1+cell": {
     "cellMetadata": {
      "byteLimit": 2048000,
      "rowLimit": 10000
     },
     "inputWidgets": {},
     "nuid": "103ddd4d-74b7-4e11-9208-975a31948b5c",
     "showTitle": false,
     "tableResultSettingsMap": {},
     "title": ""
    }
   },
   "outputs": [
    {
     "output_type": "stream",
     "name": "stdout",
     "output_type": "stream",
     "text": [
      "+------+----------------+-------------+-----------------------+-----------------+------------------------+\n|Series|      Tournament|Year_of_Match|Dominant Win by Winners|Total Matches Won|Dominant win% by Winners|\n+------+----------------+-------------+-----------------------+-----------------+------------------------+\n|  2019|          ODI WC|         2019|                      7|                7|                   100.0|\n|  2021|          T20 WC|         2021|                      6|                6|                   100.0|\n|  2023|          ODI WC|         2023|                      8|                9|       88.88888888888889|\n|  2016|          T20 WC|         2016|                      5|                5|                   100.0|\n|  2017|Champions Trophy|         2017|                      3|                4|                    75.0|\n|  2022|          T20 WC|         2022|                      5|                5|                   100.0|\n|  2024|          T20 WC|         2024|                      6|                8|                    75.0|\n+------+----------------+-------------+-----------------------+-----------------+------------------------+\n\n"
     ]
    }
   ],
   "source": [
    "type_of_wins_winners_df_1 = type_of_wins_winners_df_1.filter(trim(col(\"Series\")) == trim(col(\"Year_of_Match\")))\n",
    "\n",
    "type_of_wins_winners_df_1.show(10)"
   ]
  },
  {
   "cell_type": "code",
   "execution_count": 0,
   "metadata": {
    "application/vnd.databricks.v1+cell": {
     "cellMetadata": {
      "byteLimit": 2048000,
      "rowLimit": 10000
     },
     "inputWidgets": {},
     "nuid": "37c04398-3d03-4eea-a38f-a183d0e345bb",
     "showTitle": false,
     "tableResultSettingsMap": {},
     "title": ""
    }
   },
   "outputs": [
    {
     "output_type": "stream",
     "name": "stdout",
     "output_type": "stream",
     "text": [
      "+-------+-----------+-----------+------+------------+------------+----------+-------------+-----------+------------+------+----+---------+------------+----------------+\n| Team 1|     Team 2|     Winner|Margin|      Ground|  Match Date| Scorecard|Year_of_Match|Margin type| Type of win|Series|Type|   Winner|      Runner|      Tournament|\n+-------+-----------+-----------+------+------------+------------+----------+-------------+-----------+------------+------+----+---------+------------+----------------+\n|England|West Indies|West Indies|     4|Eden Gardens| Apr 3, 2016|T20I # 557|         2016|    wickets|Dominant win|  2017| ODI| Pakistan|       India|Champions Trophy|\n|England|West Indies|West Indies|     4|Eden Gardens| Apr 3, 2016|T20I # 557|         2016|    wickets|Dominant win|  2019| ODI|  England| New Zealand|          ODI WC|\n|England|West Indies|West Indies|     4|Eden Gardens| Apr 3, 2016|T20I # 557|         2016|    wickets|Dominant win|  2021| T20|Australia| New Zealand|          T20 WC|\n|England|West Indies|West Indies|     4|Eden Gardens| Apr 3, 2016|T20I # 557|         2016|    wickets|Dominant win|  2022| T20|  England|    Pakistan|          T20 WC|\n|England|West Indies|West Indies|     4|Eden Gardens| Apr 3, 2016|T20I # 557|         2016|    wickets|Dominant win|  2023| ODI|Australia|       India|          ODI WC|\n|England|West Indies|West Indies|     4|Eden Gardens| Apr 3, 2016|T20I # 557|         2016|    wickets|Dominant win|  2024| T20|    India|South Africa|          T20 WC|\n|  India|West Indies|West Indies|     7|    Wankhede|Mar 31, 2016|T20I # 556|         2016|    wickets|Dominant win|  2017| ODI| Pakistan|       India|Champions Trophy|\n|  India|West Indies|West Indies|     7|    Wankhede|Mar 31, 2016|T20I # 556|         2016|    wickets|Dominant win|  2019| ODI|  England| New Zealand|          ODI WC|\n|  India|West Indies|West Indies|     7|    Wankhede|Mar 31, 2016|T20I # 556|         2016|    wickets|Dominant win|  2021| T20|Australia| New Zealand|          T20 WC|\n|  India|West Indies|West Indies|     7|    Wankhede|Mar 31, 2016|T20I # 556|         2016|    wickets|Dominant win|  2022| T20|  England|    Pakistan|          T20 WC|\n+-------+-----------+-----------+------+------------+------------+----------+-------------+-----------+------------+------+----+---------+------------+----------------+\nonly showing top 10 rows\n\n"
     ]
    }
   ],
   "source": [
    "type_of_wins_winners_df_non_winners = wc_match_winners_df_new_margin.join(wc_winners_df, wc_match_winners_df_new_margin['Winner'] != wc_winners_df[\"Winner\"], how=\"inner\")\n",
    "\n",
    "type_of_wins_winners_df_non_winners.show(10)\n"
   ]
  },
  {
   "cell_type": "code",
   "execution_count": 0,
   "metadata": {
    "application/vnd.databricks.v1+cell": {
     "cellMetadata": {
      "byteLimit": 2048000,
      "rowLimit": 10000
     },
     "inputWidgets": {},
     "nuid": "ba07f606-c144-4be0-908b-67db90194aa6",
     "showTitle": false,
     "tableResultSettingsMap": {},
     "title": ""
    }
   },
   "outputs": [
    {
     "output_type": "stream",
     "name": "stdout",
     "output_type": "stream",
     "text": [
      "+-------------+----------------+---------------------------+--------------------------------+----------------------------+\n|Year_of_Match|      Tournament|Dominant Win by Non Winners|Total Matches Won by Non Winners|Dominant win% by Non Winners|\n+-------------+----------------+---------------------------+--------------------------------+----------------------------+\n|         2023|          ODI WC|                         39|                              39|                       100.0|\n|         2024|          T20 WC|                         37|                              44|            84.0909090909091|\n|         2022|          T20 WC|                         29|                              37|           78.37837837837837|\n|         2017|Champions Trophy|                         11|                              11|                       100.0|\n|         2021|          T20 WC|                         34|                              39|           87.17948717948718|\n|         2019|          ODI WC|                         31|                              38|           81.57894736842105|\n|         2016|          T20 WC|                         19|                              30|           63.33333333333333|\n+-------------+----------------+---------------------------+--------------------------------+----------------------------+\n\n"
     ]
    }
   ],
   "source": [
    "col_names = type_of_wins_winners_df_non_winners.columns\n",
    "col_names[12] = \"Champion\"\n",
    "type_of_wins_winners_df_non_winners_1 = type_of_wins_winners_df_non_winners.toDF(*col_names)\n",
    "\n",
    "\n",
    "type_of_wins_winners_df_non_winners_1 = type_of_wins_winners_df_non_winners_1.filter(trim(col(\"Series\")) == trim(col(\"Year_of_Match\"))).groupBy(\n",
    "    [\"Year_of_Match\", \"Tournament\"]\n",
    ").agg(\n",
    "    count(when(col(\"Type of win\") == 'Dominant win', True)).alias(\"Dominant Win by Non Winners\"),\n",
    "    count(\"Winner\").alias(\"Total Matches Won by Non Winners\")\n",
    ").withColumn(\"Dominant win% by Non Winners\", col(\"Dominant Win by Non Winners\") / col(\"Total Matches Won by Non Winners\") * 100)\n",
    "\n",
    "\n",
    "\n",
    "type_of_wins_winners_df_non_winners_1.show(10)"
   ]
  },
  {
   "cell_type": "code",
   "execution_count": 0,
   "metadata": {
    "application/vnd.databricks.v1+cell": {
     "cellMetadata": {
      "byteLimit": 2048000,
      "rowLimit": 10000
     },
     "inputWidgets": {},
     "nuid": "2bcdf590-684b-4393-bd51-401e5d5d6ea9",
     "showTitle": false,
     "tableResultSettingsMap": {},
     "title": ""
    }
   },
   "outputs": [
    {
     "output_type": "stream",
     "name": "stdout",
     "output_type": "stream",
     "text": [
      "+-------------+----------------+---------------------------+--------------------------------+----------------------------+\n|Year_of_Match|      Tournament|Dominant Win by Non Winners|Total Matches Won by Non Winners|Dominant win% by Non Winners|\n+-------------+----------------+---------------------------+--------------------------------+----------------------------+\n|         2023|          ODI WC|                         39|                              39|                       100.0|\n|         2024|          T20 WC|                         37|                              44|            84.0909090909091|\n|         2022|          T20 WC|                         29|                              37|           78.37837837837837|\n|         2017|Champions Trophy|                         11|                              11|                       100.0|\n|         2021|          T20 WC|                         34|                              39|           87.17948717948718|\n|         2019|          ODI WC|                         31|                              38|           81.57894736842105|\n|         2016|          T20 WC|                         19|                              30|           63.33333333333333|\n+-------------+----------------+---------------------------+--------------------------------+----------------------------+\n\n"
     ]
    }
   ],
   "source": [
    "\n",
    "\n",
    "type_of_wins_winners_df_non_winners_1.show(10)"
   ]
  },
  {
   "cell_type": "code",
   "execution_count": 0,
   "metadata": {
    "application/vnd.databricks.v1+cell": {
     "cellMetadata": {
      "byteLimit": 2048000,
      "rowLimit": 10000
     },
     "inputWidgets": {},
     "nuid": "e827a23c-53a4-433b-80e7-7b3c45e663b3",
     "showTitle": false,
     "tableResultSettingsMap": {},
     "title": ""
    }
   },
   "outputs": [],
   "source": [
    "# dominant_wins_by_non_winner_teams = type_of_wins_winners_df_non_winners_1.groupBy(\"Series\", \"Tournament\", \"Year_of_Match\").agg(\n",
    "#     sum(\"Dominant Win by Non Winners\").alias(\"Total Dominant Wins by Non Winners\")\n",
    "# )\n",
    "\n",
    "# dominant_wins_by_non_winner_teams.show(30)"
   ]
  },
  {
   "cell_type": "code",
   "execution_count": 0,
   "metadata": {
    "application/vnd.databricks.v1+cell": {
     "cellMetadata": {
      "byteLimit": 2048000,
      "rowLimit": 10000
     },
     "inputWidgets": {},
     "nuid": "66425065-757e-4da2-8c57-81121aa0f242",
     "showTitle": false,
     "tableResultSettingsMap": {},
     "title": ""
    }
   },
   "outputs": [
    {
     "output_type": "stream",
     "name": "stdout",
     "output_type": "stream",
     "text": [
      "+-------------+------+----------------+-----------------------+-----------------+------------------------+----------------+---------------------------+--------------------------------+----------------------------+\n|Year_of_Match|Series|      Tournament|Dominant Win by Winners|Total Matches Won|Dominant win% by Winners|      Tournament|Dominant Win by Non Winners|Total Matches Won by Non Winners|Dominant win% by Non Winners|\n+-------------+------+----------------+-----------------------+-----------------+------------------------+----------------+---------------------------+--------------------------------+----------------------------+\n|         2019|  2019|          ODI WC|                      7|                7|                   100.0|          ODI WC|                         31|                              38|           81.57894736842105|\n|         2021|  2021|          T20 WC|                      6|                6|                   100.0|          T20 WC|                         34|                              39|           87.17948717948718|\n|         2023|  2023|          ODI WC|                      8|                9|       88.88888888888889|          ODI WC|                         39|                              39|                       100.0|\n|         2016|  2016|          T20 WC|                      5|                5|                   100.0|          T20 WC|                         19|                              30|           63.33333333333333|\n|         2017|  2017|Champions Trophy|                      3|                4|                    75.0|Champions Trophy|                         11|                              11|                       100.0|\n|         2022|  2022|          T20 WC|                      5|                5|                   100.0|          T20 WC|                         29|                              37|           78.37837837837837|\n|         2024|  2024|          T20 WC|                      6|                8|                    75.0|          T20 WC|                         37|                              44|            84.0909090909091|\n+-------------+------+----------------+-----------------------+-----------------+------------------------+----------------+---------------------------+--------------------------------+----------------------------+\n\n"
     ]
    }
   ],
   "source": [
    "type_of_wins_winners_df_combined = type_of_wins_winners_df_1.join(type_of_wins_winners_df_non_winners_1, on=\"Year_of_Match\", how=\"inner\")\n",
    "\n",
    "type_of_wins_winners_df_combined.show(20)"
   ]
  },
  {
   "cell_type": "code",
   "execution_count": 0,
   "metadata": {
    "application/vnd.databricks.v1+cell": {
     "cellMetadata": {
      "byteLimit": 2048000,
      "rowLimit": 10000
     },
     "inputWidgets": {},
     "nuid": "af6d1851-8071-4a4b-ae46-ddbfb361893c",
     "showTitle": false,
     "tableResultSettingsMap": {},
     "title": ""
    }
   },
   "outputs": [
    {
     "output_type": "stream",
     "name": "stdout",
     "output_type": "stream",
     "text": [
      "+------+----------------+-----------------+------------------------+----------------+--------------------------------+----------------------------+\n|Series|      Tournament|Total Matches Won|Dominant win% by Winners|      Tournament|Total Matches Won by Non Winners|Dominant win% by Non Winners|\n+------+----------------+-----------------+------------------------+----------------+--------------------------------+----------------------------+\n|  2019|          ODI WC|                7|                   100.0|          ODI WC|                              38|           81.57894736842105|\n|  2021|          T20 WC|                6|                   100.0|          T20 WC|                              39|           87.17948717948718|\n|  2016|          T20 WC|                5|                   100.0|          T20 WC|                              30|           63.33333333333333|\n|  2022|          T20 WC|                5|                   100.0|          T20 WC|                              37|           78.37837837837837|\n|  2023|          ODI WC|                9|       88.88888888888889|          ODI WC|                              39|                       100.0|\n|  2017|Champions Trophy|                4|                    75.0|Champions Trophy|                              11|                       100.0|\n|  2024|          T20 WC|                8|                    75.0|          T20 WC|                              44|            84.0909090909091|\n+------+----------------+-----------------+------------------------+----------------+--------------------------------+----------------------------+\n\n"
     ]
    }
   ],
   "source": [
    "type_of_wins_winners_df_combined = type_of_wins_winners_df_combined.drop(\"Dominant Win by Winners\", \"Dominant Win by Non Winners\", \"Year_of_Match\")\n",
    "\n",
    "type_of_wins_winners_df_combined = type_of_wins_winners_df_combined.orderBy(col(\"Dominant win% by Winners\").desc())\n",
    "\n",
    "type_of_wins_winners_df_combined.show(15)"
   ]
  },
  {
   "cell_type": "code",
   "execution_count": 0,
   "metadata": {
    "application/vnd.databricks.v1+cell": {
     "cellMetadata": {
      "byteLimit": 2048000,
      "rowLimit": 10000
     },
     "inputWidgets": {},
     "nuid": "a7657068-f76e-40f7-aedb-e750be8d3577",
     "showTitle": false,
     "tableResultSettingsMap": {},
     "title": ""
    }
   },
   "outputs": [],
   "source": []
  },
  {
   "cell_type": "code",
   "execution_count": 0,
   "metadata": {
    "application/vnd.databricks.v1+cell": {
     "cellMetadata": {
      "byteLimit": 2048000,
      "rowLimit": 10000
     },
     "inputWidgets": {},
     "nuid": "30b3c4a2-cb2a-4ac7-b256-f13543be0d19",
     "showTitle": false,
     "tableResultSettingsMap": {},
     "title": ""
    }
   },
   "outputs": [
    {
     "output_type": "stream",
     "name": "stdout",
     "output_type": "stream",
     "text": [
      "+------------+-----------+------------+------+------------+------------+----------+-------------+-----------+------------+\n|      Team 1|     Team 2|      Winner|Margin|      Ground|  Match Date| Scorecard|Year_of_Match|Margin type| Type of win|\n+------------+-----------+------------+------+------------+------------+----------+-------------+-----------+------------+\n|     England|West Indies| West Indies|     4|Eden Gardens| Apr 3, 2016|T20I # 557|         2016|    wickets|Dominant win|\n|       India|West Indies| West Indies|     7|    Wankhede|Mar 31, 2016|T20I # 556|         2016|    wickets|Dominant win|\n|     England|New Zealand|     England|     7|       Delhi|Mar 30, 2016|T20I # 555|         2016|    wickets|Dominant win|\n|South Africa|  Sri Lanka|South Africa|     8|       Delhi|Mar 28, 2016|T20I # 554|         2016|    wickets|Dominant win|\n|       India|  Australia|       India|     6|      Mohali|Mar 27, 2016|T20I # 553|         2016|    wickets|Dominant win|\n| Afghanistan|West Indies| Afghanistan|     6|      Nagpur|Mar 27, 2016|T20I # 552|         2016|       runs|   Close Win|\n|     England|  Sri Lanka|     England|    10|       Delhi|Mar 26, 2016|T20I # 551|         2016|       runs|   Close Win|\n|  Bangladesh|New Zealand| New Zealand|    75|Eden Gardens|Mar 26, 2016|T20I # 550|         2016|       runs|Dominant win|\n|South Africa|West Indies| West Indies|     3|      Nagpur|Mar 25, 2016|T20I # 549|         2016|    wickets|Dominant win|\n|   Australia|   Pakistan|   Australia|    21|      Mohali|Mar 25, 2016|T20I # 548|         2016|       runs|Dominant win|\n+------------+-----------+------------+------+------------+------------+----------+-------------+-----------+------------+\nonly showing top 10 rows\n\n"
     ]
    }
   ],
   "source": [
    "wc_match_winners_df_new_margin.show(10)"
   ]
  },
  {
   "cell_type": "code",
   "execution_count": 0,
   "metadata": {
    "application/vnd.databricks.v1+cell": {
     "cellMetadata": {
      "byteLimit": 2048000,
      "rowLimit": 10000
     },
     "inputWidgets": {},
     "nuid": "2307b6b5-c80a-4d33-97de-14d76cfe4d98",
     "showTitle": false,
     "tableResultSettingsMap": {},
     "title": ""
    }
   },
   "outputs": [
    {
     "output_type": "stream",
     "name": "stdout",
     "output_type": "stream",
     "text": [
      "+----------------+---------+---+-----+----+-----+----+----+------+-----+----+----+---+---+---+-------+------------+\n|          Player|     Span|Mat|Overs|Mdns|Balls|Runs|Wkts|   BBI|  Ave|Econ|  SR|  4|  5| 10|Country| CountryName|\n+----------------+---------+---+-----+----+-----+----+----+------+-----+----+----+---+---+---+-------+------------+\n|    NL McCullum |2016-2016|  2|    5|   -|   30|  21|   3|Feb-15|    7| 4.2|  10|  -|  -|  -|    NZ)| New Zealand|\n|PA van Meekeren |2016-2016|  3|    6|   -|   36|  28|   6|04-Nov| 4.66|4.66|   6|  1|  -|  -|   NED)| Netherlands|\n|    CD de Lange |2016-2016|  1|    4|   -|   24|  19|   1|Jan-19|   19|4.75|  24|  -|  -|  -|  SCOT)|     Unknown|\n|       SK Raina |2016-2016|  5|    6|   -|   36|  29|   3|01-Apr| 9.66|4.83|  12|  -|  -|  -|   IND)|       India|\n|  JDF Vandersay |2016-2016|  3|   12|   1|   72|  62|   3|Feb-26|20.66|5.16|  24|  -|  -|  -|    SL)|   Sri Lanka|\n|    Imran Tahir |2016-2016|  4|   16|   -|   96|  83|   6|Feb-13|13.83|5.18|  16|  -|  -|  -|    SA)|South Africa|\n|       S Badree |2016-2016|  6|   23|   1|  138| 124|   9|03-Dec|13.77|5.39|15.3|  -|  -|  -|    WI)| West Indies|\n|    AM Phangiso |2016-2016|  2|    8|   -|   48|  45|   3|Feb-26|   15|5.62|  16|  -|  -|  -|    SA)|South Africa|\n|     GD Elliott |2016-2016|  5|   13|   -|   78|  75|   3|03-Dec|   25|5.76|  26|  -|  -|  -|    NZ)| New Zealand|\n|        A Nehra |2016-2016|  5|   19|   1|  114| 113|   5|Jan-20| 22.6|5.94|22.8|  -|  -|  -|   IND)|       India|\n+----------------+---------+---+-----+----+-----+----+----+------+-----+----+----+---+---+---+-------+------------+\nonly showing top 10 rows\n\n"
     ]
    }
   ],
   "source": [
    "#wc_match_winners_df_new_margin.createOrReplaceTempView(\"wc_match_winners\")\n",
    "economy_rate_df_new.show(10)"
   ]
  },
  {
   "cell_type": "code",
   "execution_count": 0,
   "metadata": {
    "application/vnd.databricks.v1+cell": {
     "cellMetadata": {
      "byteLimit": 2048000,
      "rowLimit": 10000
     },
     "inputWidgets": {},
     "nuid": "268cf9d2-34c9-4b7c-a3c9-9b738be3cf03",
     "showTitle": false,
     "tableResultSettingsMap": {},
     "title": ""
    }
   },
   "outputs": [],
   "source": [
    "wc_match_winners_df_new_margin.createOrReplaceTempView(\"wc_match_winners\")\n",
    "economy_rate_df_new.createOrReplaceTempView(\"economy_rate\")"
   ]
  },
  {
   "cell_type": "code",
   "execution_count": 0,
   "metadata": {
    "application/vnd.databricks.v1+cell": {
     "cellMetadata": {
      "byteLimit": 2048000,
      "rowLimit": 10000
     },
     "inputWidgets": {},
     "nuid": "a6c380cf-763e-4258-b8ee-c5006df2bbcb",
     "showTitle": false,
     "tableResultSettingsMap": {},
     "title": ""
    }
   },
   "outputs": [
    {
     "output_type": "stream",
     "name": "stdout",
     "output_type": "stream",
     "text": [
      "+------------+-----------+------------+------+------------+------------+----------+-------------+-----------+------------+\n|      Team 1|     Team 2|      Winner|Margin|      Ground|  Match Date| Scorecard|Year_of_Match|Margin type| Type of win|\n+------------+-----------+------------+------+------------+------------+----------+-------------+-----------+------------+\n|     England|West Indies| West Indies|     4|Eden Gardens| Apr 3, 2016|T20I # 557|         2016|    wickets|Dominant win|\n|       India|West Indies| West Indies|     7|    Wankhede|Mar 31, 2016|T20I # 556|         2016|    wickets|Dominant win|\n|     England|New Zealand|     England|     7|       Delhi|Mar 30, 2016|T20I # 555|         2016|    wickets|Dominant win|\n|South Africa|  Sri Lanka|South Africa|     8|       Delhi|Mar 28, 2016|T20I # 554|         2016|    wickets|Dominant win|\n|       India|  Australia|       India|     6|      Mohali|Mar 27, 2016|T20I # 553|         2016|    wickets|Dominant win|\n| Afghanistan|West Indies| Afghanistan|     6|      Nagpur|Mar 27, 2016|T20I # 552|         2016|       runs|   Close Win|\n|     England|  Sri Lanka|     England|    10|       Delhi|Mar 26, 2016|T20I # 551|         2016|       runs|   Close Win|\n|  Bangladesh|New Zealand| New Zealand|    75|Eden Gardens|Mar 26, 2016|T20I # 550|         2016|       runs|Dominant win|\n|South Africa|West Indies| West Indies|     3|      Nagpur|Mar 25, 2016|T20I # 549|         2016|    wickets|Dominant win|\n|   Australia|   Pakistan|   Australia|    21|      Mohali|Mar 25, 2016|T20I # 548|         2016|       runs|Dominant win|\n+------------+-----------+------------+------+------------+------------+----------+-------------+-----------+------------+\nonly showing top 10 rows\n\n"
     ]
    }
   ],
   "source": [
    "wc_match_winners_df_new_margin.show(10)"
   ]
  },
  {
   "cell_type": "code",
   "execution_count": 0,
   "metadata": {
    "application/vnd.databricks.v1+cell": {
     "cellMetadata": {
      "byteLimit": 2048000,
      "rowLimit": 10000
     },
     "inputWidgets": {},
     "nuid": "4d2323e8-52dd-4b8a-a658-ff0df3ff903c",
     "showTitle": false,
     "tableResultSettingsMap": {},
     "title": ""
    }
   },
   "outputs": [],
   "source": [
    "venue_analysis = spark.sql(\"\"\"\n",
    "                           SELECT wc.Ground, avg(ec.ECON) as `Avg Economy Rate` from wc_match_winners as wc JOIN economy_rate as ec\n",
    "                           ON wc.Winner == ec.CountryName GROUP BY wc.Ground ORDER BY `Avg Economy Rate` DESC\n",
    "                           \"\"\")"
   ]
  },
  {
   "cell_type": "code",
   "execution_count": 0,
   "metadata": {
    "application/vnd.databricks.v1+cell": {
     "cellMetadata": {
      "byteLimit": 2048000,
      "rowLimit": 10000
     },
     "inputWidgets": {},
     "nuid": "56615f5d-9000-4242-9874-5f3baa035701",
     "showTitle": false,
     "tableResultSettingsMap": {},
     "title": ""
    }
   },
   "outputs": [
    {
     "output_type": "stream",
     "name": "stdout",
     "output_type": "stream",
     "text": [
      "+-----------------+------------------+\n|           Ground|  Avg Economy Rate|\n+-----------------+------------------+\n|           Hobart| 6.836181818181821|\n|           Dallas| 6.669156626506025|\n|          Geelong| 6.664090909090911|\n|        Al Amerat| 6.660196078431375|\n|       Nottingham|            6.5955|\n|         Brisbane|  6.59334975369458|\n|       Hambantota| 6.562547169811324|\n|    Colombo (RPS)|  6.56254716981132|\n|          Bristol|              6.55|\n|       Dharamsala| 6.509119804400977|\n|            Leeds| 6.505187165775403|\n|           Lord's| 6.505151515151516|\n|           Nagpur| 6.499031413612564|\n|            Perth| 6.481428571428564|\n|          Taunton| 6.471292517006806|\n|       Lauderhill| 6.461200000000002|\n|       Gros Islet| 6.460211267605631|\n|          Cardiff|6.4526817042606455|\n|Chester-le-Street|6.4474675324675355|\n|       Providence| 6.445228426395937|\n+-----------------+------------------+\nonly showing top 20 rows\n\n"
     ]
    }
   ],
   "source": [
    "venue_analysis.show(20)"
   ]
  },
  {
   "cell_type": "code",
   "execution_count": 0,
   "metadata": {
    "application/vnd.databricks.v1+cell": {
     "cellMetadata": {
      "byteLimit": 2048000,
      "rowLimit": 10000
     },
     "inputWidgets": {},
     "nuid": "8805b2d5-18dc-44d8-8cbf-f5e2fa57e405",
     "showTitle": false,
     "tableResultSettingsMap": {},
     "title": ""
    }
   },
   "outputs": [
    {
     "output_type": "stream",
     "name": "stdout",
     "output_type": "stream",
     "text": [
      "+--------------------+---------+---+----+---+----+----+-----+---+------+---+---+---+---+---+\n|              Player|     Span|Mat|Inns| NO|Runs|  HS|  Ave| BF|    SR|100| 50|  0| 4s| 6s|\n+--------------------+---------+---+----+---+----+----+-----+---+------+---+---+---+---+---+\n|   Tamim Iqbal (BAN)|2016-2016|  6|   6|  2| 295|103*|73.75|207|142.51|  1|  1|  -| 24| 14|\n|       V Kohli (IND)|2016-2016|  5|   5|  3| 273| 89*|136.5|186|146.77|  -|  3|  -| 29|  5|\n|       JE Root (ENG)|2016-2016|  6|   6|  1| 249|  83| 49.8|170|146.47|  -|  2|  -| 24|  7|\n|Mohammad Shahzad ...|2016-2016|  7|   7|  -| 222|  61|31.71|158| 140.5|  -|  1|  -| 23| 12|\n|    JC Buttler (ENG)|2016-2016|  6|   6|  2| 191| 66*|47.75|120|159.16|  -|  1|  -| 13| 12|\n|        JJ Roy (ENG)|2016-2016|  6|   6|  -| 183|  78| 30.5|123|148.78|  -|  1|  1| 22|  7|\n|     MN Samuels (WI)|2016-2016|  6|   6|  1| 181| 85*| 36.2|161|112.42|  -|  1|  -| 26|  2|\n|      Q de Kock (SA)|2016-2016|  4|   4|  -| 153|  52|38.25|107|142.99|  -|  1|  -| 18|  6|\n| Sabbir Rahman (BAN)|2016-2016|  7|   7|  1| 147|  44| 24.5|119|123.52|  -|  -|  -| 17|  4|\n|    UT Khawaja (AUS)|2016-2016|  4|   4|  -| 143|  58|35.75|104| 137.5|  -|  1|  -| 22|  2|\n+--------------------+---------+---+----+---+----+----+-----+---+------+---+---+---+---+---+\nonly showing top 10 rows\n\n"
     ]
    }
   ],
   "source": [
    "highest_run_scorer_df.show(10)"
   ]
  },
  {
   "cell_type": "code",
   "execution_count": 0,
   "metadata": {
    "application/vnd.databricks.v1+cell": {
     "cellMetadata": {
      "byteLimit": 2048000,
      "rowLimit": 10000
     },
     "inputWidgets": {},
     "nuid": "7f88cd4a-c94f-493e-af54-73359268524d",
     "showTitle": false,
     "tableResultSettingsMap": {},
     "title": ""
    }
   },
   "outputs": [],
   "source": [
    "highest_run_scorer_df_new = highest_run_scorer_df.withColumn(\"Year\", split(col(\"Span\"), r\"\\-\").getItem(1))"
   ]
  },
  {
   "cell_type": "code",
   "execution_count": 0,
   "metadata": {
    "application/vnd.databricks.v1+cell": {
     "cellMetadata": {
      "byteLimit": 2048000,
      "rowLimit": 10000
     },
     "inputWidgets": {},
     "nuid": "849920e4-f324-4d90-b27c-1912e26140ff",
     "showTitle": false,
     "tableResultSettingsMap": {},
     "title": ""
    }
   },
   "outputs": [
    {
     "output_type": "stream",
     "name": "stdout",
     "output_type": "stream",
     "text": [
      "+--------------------+---------+---+----+---+----+----+-----+---+------+---+---+---+---+---+----+\n|              Player|     Span|Mat|Inns| NO|Runs|  HS|  Ave| BF|    SR|100| 50|  0| 4s| 6s|Year|\n+--------------------+---------+---+----+---+----+----+-----+---+------+---+---+---+---+---+----+\n|   Tamim Iqbal (BAN)|2016-2016|  6|   6|  2| 295|103*|73.75|207|142.51|  1|  1|  -| 24| 14|2016|\n|       V Kohli (IND)|2016-2016|  5|   5|  3| 273| 89*|136.5|186|146.77|  -|  3|  -| 29|  5|2016|\n|       JE Root (ENG)|2016-2016|  6|   6|  1| 249|  83| 49.8|170|146.47|  -|  2|  -| 24|  7|2016|\n|Mohammad Shahzad ...|2016-2016|  7|   7|  -| 222|  61|31.71|158| 140.5|  -|  1|  -| 23| 12|2016|\n|    JC Buttler (ENG)|2016-2016|  6|   6|  2| 191| 66*|47.75|120|159.16|  -|  1|  -| 13| 12|2016|\n|        JJ Roy (ENG)|2016-2016|  6|   6|  -| 183|  78| 30.5|123|148.78|  -|  1|  1| 22|  7|2016|\n|     MN Samuels (WI)|2016-2016|  6|   6|  1| 181| 85*| 36.2|161|112.42|  -|  1|  -| 26|  2|2016|\n|      Q de Kock (SA)|2016-2016|  4|   4|  -| 153|  52|38.25|107|142.99|  -|  1|  -| 18|  6|2016|\n| Sabbir Rahman (BAN)|2016-2016|  7|   7|  1| 147|  44| 24.5|119|123.52|  -|  -|  -| 17|  4|2016|\n|    UT Khawaja (AUS)|2016-2016|  4|   4|  -| 143|  58|35.75|104| 137.5|  -|  1|  -| 22|  2|2016|\n+--------------------+---------+---+----+---+----+----+-----+---+------+---+---+---+---+---+----+\nonly showing top 10 rows\n\n"
     ]
    }
   ],
   "source": [
    "highest_run_scorer_df_new.show(10)"
   ]
  },
  {
   "cell_type": "code",
   "execution_count": 0,
   "metadata": {
    "application/vnd.databricks.v1+cell": {
     "cellMetadata": {
      "byteLimit": 2048000,
      "rowLimit": 10000
     },
     "inputWidgets": {},
     "nuid": "23f1b37c-b952-446c-a767-96ac73373a28",
     "showTitle": false,
     "tableResultSettingsMap": {},
     "title": ""
    }
   },
   "outputs": [],
   "source": []
  },
  {
   "cell_type": "code",
   "execution_count": 0,
   "metadata": {
    "application/vnd.databricks.v1+cell": {
     "cellMetadata": {
      "byteLimit": 2048000,
      "rowLimit": 10000
     },
     "inputWidgets": {},
     "nuid": "f4267f84-d6a4-4ed6-9dda-1307eb75e5a9",
     "showTitle": false,
     "tableResultSettingsMap": {},
     "title": ""
    }
   },
   "outputs": [],
   "source": [
    "highest_run_scorer_df_new = highest_run_scorer_df_new.withColumn(\"Country\", split(col(\"Player\"), r\"\\(\").getItem(1))"
   ]
  },
  {
   "cell_type": "code",
   "execution_count": 0,
   "metadata": {
    "application/vnd.databricks.v1+cell": {
     "cellMetadata": {
      "byteLimit": 2048000,
      "rowLimit": 10000
     },
     "inputWidgets": {},
     "nuid": "780e0f34-b2dc-4461-ba26-d651305d972f",
     "showTitle": false,
     "tableResultSettingsMap": {},
     "title": ""
    }
   },
   "outputs": [
    {
     "output_type": "stream",
     "name": "stdout",
     "output_type": "stream",
     "text": [
      "+--------------------+---------+---+----+---+----+----+-----+---+------+---+---+---+---+---+----+-------+\n|              Player|     Span|Mat|Inns| NO|Runs|  HS|  Ave| BF|    SR|100| 50|  0| 4s| 6s|Year|Country|\n+--------------------+---------+---+----+---+----+----+-----+---+------+---+---+---+---+---+----+-------+\n|   Tamim Iqbal (BAN)|2016-2016|  6|   6|  2| 295|103*|73.75|207|142.51|  1|  1|  -| 24| 14|2016|   BAN)|\n|       V Kohli (IND)|2016-2016|  5|   5|  3| 273| 89*|136.5|186|146.77|  -|  3|  -| 29|  5|2016|   IND)|\n|       JE Root (ENG)|2016-2016|  6|   6|  1| 249|  83| 49.8|170|146.47|  -|  2|  -| 24|  7|2016|   ENG)|\n|Mohammad Shahzad ...|2016-2016|  7|   7|  -| 222|  61|31.71|158| 140.5|  -|  1|  -| 23| 12|2016|   AFG)|\n|    JC Buttler (ENG)|2016-2016|  6|   6|  2| 191| 66*|47.75|120|159.16|  -|  1|  -| 13| 12|2016|   ENG)|\n|        JJ Roy (ENG)|2016-2016|  6|   6|  -| 183|  78| 30.5|123|148.78|  -|  1|  1| 22|  7|2016|   ENG)|\n|     MN Samuels (WI)|2016-2016|  6|   6|  1| 181| 85*| 36.2|161|112.42|  -|  1|  -| 26|  2|2016|    WI)|\n|      Q de Kock (SA)|2016-2016|  4|   4|  -| 153|  52|38.25|107|142.99|  -|  1|  -| 18|  6|2016|    SA)|\n| Sabbir Rahman (BAN)|2016-2016|  7|   7|  1| 147|  44| 24.5|119|123.52|  -|  -|  -| 17|  4|2016|   BAN)|\n|    UT Khawaja (AUS)|2016-2016|  4|   4|  -| 143|  58|35.75|104| 137.5|  -|  1|  -| 22|  2|2016|   AUS)|\n| Asghar Afghan (AFG)|2016-2016|  7|   6|  1| 141|  62| 28.2|131|107.63|  -|  2|  1|  5|  7|2016|   AFG)|\n|     MJ Guptill (NZ)|2016-2016|  4|   4|  -| 140|  80|   35| 89| 157.3|  -|  1|  -| 15|  8|2016|    NZ)|\n|     TM Dilshan (SL)|2016-2016|  4|   4|  1| 133| 83*|44.33|108|123.14|  -|  1|  -| 13|  5|2016|    SL)|\n|Shakib Al Hasan (...|2016-2016|  7|   7|  3| 129| 50*|32.25|102|126.47|  -|  1|  -| 10|  5|2016|   BAN)|\n|Noor Ali Zadran (...|2016-2016|  6|   6|  -| 124|  35|20.66|129| 96.12|  -|  -|  -|  9|  2|2016|   AFG)|\n+--------------------+---------+---+----+---+----+----+-----+---+------+---+---+---+---+---+----+-------+\nonly showing top 15 rows\n\n"
     ]
    }
   ],
   "source": [
    "highest_run_scorer_df_new.show(15)"
   ]
  },
  {
   "cell_type": "code",
   "execution_count": 0,
   "metadata": {
    "application/vnd.databricks.v1+cell": {
     "cellMetadata": {
      "byteLimit": 2048000,
      "rowLimit": 10000
     },
     "inputWidgets": {},
     "nuid": "c96888cb-10b9-4898-bfae-ebbd114c0494",
     "showTitle": false,
     "tableResultSettingsMap": {},
     "title": ""
    }
   },
   "outputs": [],
   "source": [
    "highest_run_scorer_df_new = highest_run_scorer_df_new.withColumn(\"CountryName\", \n",
    "                                                 when(col(\"Country\") == 'AFG)', \"Afghanistan\")\n",
    "                                                               .when(col(\"Country\") == 'NZ)', \"New Zealand\")\n",
    "                                                               .when(col(\"Country\") == 'IND)', \"India\")\n",
    "                                                               .when(col(\"Country\") == 'PAK)', \"Pakistan\")\n",
    "                                                               .when(col(\"Country\") == 'AUS)', \"Australia\")\n",
    "                                                               .when(col(\"Country\") == 'SL)', \"Sri Lanka\")\n",
    "                                                               .when(col(\"Country\") == 'ENG)', \"England\")\n",
    "                                                               .when(col(\"Country\") == 'WI)', \"West Indies\")\n",
    "                                                               .when(col(\"Country\") == 'BAN)', \"Bangladesh\")\n",
    "                                                               .when(col(\"Country\") == 'SA)', \"South Africa\")\n",
    "                                                               .when(col(\"Country\") == 'NED)', \"Netherlands\")\n",
    "                                                               .when(col(\"Country\") == 'ZIM)', \"Zimbabwe\")\n",
    "                                                               .otherwise(\"Unknown\"))"
   ]
  },
  {
   "cell_type": "code",
   "execution_count": 0,
   "metadata": {
    "application/vnd.databricks.v1+cell": {
     "cellMetadata": {
      "byteLimit": 2048000,
      "rowLimit": 10000
     },
     "inputWidgets": {},
     "nuid": "e608d5bc-2eb1-4701-9f55-a01b4a5eedfb",
     "showTitle": false,
     "tableResultSettingsMap": {},
     "title": ""
    }
   },
   "outputs": [],
   "source": [
    "highest_run_scorer_df_new = highest_run_scorer_df_new.withColumn(\"Player\", split(col(\"Player\"), r\"\\(\").getItem(0))"
   ]
  },
  {
   "cell_type": "code",
   "execution_count": 0,
   "metadata": {
    "application/vnd.databricks.v1+cell": {
     "cellMetadata": {
      "byteLimit": 2048000,
      "rowLimit": 10000
     },
     "inputWidgets": {},
     "nuid": "a9bd91ad-f620-4964-a229-12fa5c1b8850",
     "showTitle": false,
     "tableResultSettingsMap": {},
     "title": ""
    }
   },
   "outputs": [],
   "source": [
    "highest_run_scorer_df_new.createOrReplaceTempView(\"highest_scorers_batters\")"
   ]
  },
  {
   "cell_type": "code",
   "execution_count": 0,
   "metadata": {
    "application/vnd.databricks.v1+cell": {
     "cellMetadata": {
      "byteLimit": 2048000,
      "rowLimit": 10000
     },
     "inputWidgets": {},
     "nuid": "4008bf4e-15cd-4caf-9ea4-64b7bf93e640",
     "showTitle": false,
     "tableResultSettingsMap": {},
     "title": ""
    }
   },
   "outputs": [
    {
     "output_type": "stream",
     "name": "stdout",
     "output_type": "stream",
     "text": [
      "+------+----+-----------+------------+----------------+\n|Series|Type|     Winner|      Runner|      Tournament|\n+------+----+-----------+------------+----------------+\n|  2016| T20|West Indies|     England|          T20 WC|\n|  2017| ODI|   Pakistan|       India|Champions Trophy|\n|  2019| ODI|    England| New Zealand|          ODI WC|\n|  2021| T20|  Australia| New Zealand|          T20 WC|\n|  2022| T20|    England|    Pakistan|          T20 WC|\n|  2023| ODI|  Australia|       India|          ODI WC|\n|  2024| T20|      India|South Africa|          T20 WC|\n+------+----+-----------+------------+----------------+\n\n"
     ]
    }
   ],
   "source": [
    "wc_winners_df.show(10)"
   ]
  },
  {
   "cell_type": "code",
   "execution_count": 0,
   "metadata": {
    "application/vnd.databricks.v1+cell": {
     "cellMetadata": {
      "byteLimit": 2048000,
      "rowLimit": 10000
     },
     "inputWidgets": {},
     "nuid": "a30a20fa-8ef7-4f10-be91-2a06500dc15f",
     "showTitle": false,
     "tableResultSettingsMap": {},
     "title": ""
    }
   },
   "outputs": [],
   "source": [
    "wc_winners_df.createOrReplaceTempView(\"wc_winners\")"
   ]
  },
  {
   "cell_type": "code",
   "execution_count": 0,
   "metadata": {
    "application/vnd.databricks.v1+cell": {
     "cellMetadata": {
      "byteLimit": 2048000,
      "rowLimit": 10000
     },
     "inputWidgets": {},
     "nuid": "f76cfcf4-71eb-47ed-91a5-0df2b72fda5e",
     "showTitle": false,
     "tableResultSettingsMap": {},
     "title": ""
    }
   },
   "outputs": [],
   "source": [
    "highest_runs_per_country = spark.sql(\"\"\"SELECT h.CountryName, sum(h.runs) as `Total Runs` from highest_scorers_batters as h GROUP BY h.CountryName ORDER BY `Total Runs` DESC \"\"\")"
   ]
  },
  {
   "cell_type": "code",
   "execution_count": 0,
   "metadata": {
    "application/vnd.databricks.v1+cell": {
     "cellMetadata": {
      "byteLimit": 2048000,
      "rowLimit": 10000
     },
     "inputWidgets": {},
     "nuid": "121f29b7-da62-41cd-b914-2f0d5386794e",
     "showTitle": false,
     "tableResultSettingsMap": {},
     "title": ""
    }
   },
   "outputs": [
    {
     "output_type": "stream",
     "name": "stdout",
     "output_type": "stream",
     "text": [
      "+------------+----------+\n| CountryName|Total Runs|\n+------------+----------+\n|       India|   10174.0|\n|     England|    9583.0|\n|     Unknown|    9356.0|\n|   Australia|    9147.0|\n|  Bangladesh|    8329.0|\n|South Africa|    8227.0|\n| New Zealand|    8223.0|\n|    Pakistan|    8091.0|\n|   Sri Lanka|    7114.0|\n| Afghanistan|    6694.0|\n| West Indies|    4721.0|\n| Netherlands|    3577.0|\n|    Zimbabwe|    1309.0|\n+------------+----------+\n\n"
     ]
    }
   ],
   "source": [
    "highest_runs_per_country.show(20)\n"
   ]
  },
  {
   "cell_type": "code",
   "execution_count": 0,
   "metadata": {
    "application/vnd.databricks.v1+cell": {
     "cellMetadata": {
      "byteLimit": 2048000,
      "rowLimit": 10000
     },
     "inputWidgets": {},
     "nuid": "5f4a00a6-a507-4bbf-b060-b546496af813",
     "showTitle": false,
     "tableResultSettingsMap": {},
     "title": ""
    }
   },
   "outputs": [],
   "source": [
    "highest_run_scorer_impact = spark.sql(\"\"\"SELECT w.Series AS YEAR, h.CountryName,\n",
    "       w.Tournament,\n",
    "       ROUND(SUM(CASE WHEN h.CountryName = w.Winner THEN h.runs ELSE 0 END) / COUNT(CASE WHEN h.CountryName = w.Winner THEN 1 ELSE NULL END), 2) AS `AVG RUNS BY WINNING TEAM`,\n",
    "       ROUND(SUM(CASE WHEN h.CountryName != w.Winner THEN h.runs ELSE 0 END) / COUNT(CASE WHEN h.CountryName != w.Winner THEN 1 ELSE NULL END), 2) AS `AVG RUNS BY OTHER TEAMS`,\n",
    "       COUNT(w.Tournament) AS `MATCHES PLAYED`\n",
    "FROM highest_scorers_batters AS h\n",
    "JOIN wc_winners AS w ON h.YEAR = w.SERIES \n",
    "GROUP BY w.Series, w.Tournament, h.YEAR, h.CountryName\n",
    "ORDER BY w.Series ASC;\n",
    "\n",
    "                                       \"\"\")"
   ]
  },
  {
   "cell_type": "code",
   "execution_count": 0,
   "metadata": {
    "application/vnd.databricks.v1+cell": {
     "cellMetadata": {
      "byteLimit": 2048000,
      "rowLimit": 10000
     },
     "inputWidgets": {},
     "nuid": "50ed877b-68a2-4a18-a8b2-6cd8be1761ab",
     "showTitle": false,
     "tableResultSettingsMap": {},
     "title": ""
    }
   },
   "outputs": [
    {
     "output_type": "stream",
     "name": "stdout",
     "output_type": "stream",
     "text": [
      "+----+------------+----------------+------------------------+-----------------------+--------------+\n|YEAR| CountryName|      Tournament|AVG RUNS BY WINNING TEAM|AVG RUNS BY OTHER TEAMS|MATCHES PLAYED|\n+----+------------+----------------+------------------------+-----------------------+--------------+\n|2016|     Unknown|          T20 WC|                    null|                  32.91|            33|\n|2016|     England|          T20 WC|                    null|                  87.82|            11|\n|2016|   Australia|          T20 WC|                    null|                   60.1|            10|\n|2016| West Indies|          T20 WC|                    85.4|                   null|            10|\n|2016| Netherlands|          T20 WC|                    null|                  24.71|             7|\n|2016|    Zimbabwe|          T20 WC|                    null|                   39.6|            10|\n|2016|  Bangladesh|          T20 WC|                    null|                  80.64|            11|\n|2016| Afghanistan|          T20 WC|                    null|                   98.4|            10|\n|2016| New Zealand|          T20 WC|                    null|                   70.1|            10|\n|2016|       India|          T20 WC|                    null|                   66.9|            10|\n|2016|   Sri Lanka|          T20 WC|                    null|                   51.7|            10|\n|2016|    Pakistan|          T20 WC|                    null|                  69.67|             9|\n|2016|South Africa|          T20 WC|                    null|                  73.33|             9|\n|2017|South Africa|Champions Trophy|                    null|                  56.25|            12|\n|2017|   Sri Lanka|Champions Trophy|                    null|                  47.33|            15|\n|2017|       India|Champions Trophy|                    null|                 111.73|            11|\n|2017|   Australia|Champions Trophy|                    null|                  35.73|            11|\n|2017|  Bangladesh|Champions Trophy|                    null|                  73.69|            13|\n|2017| New Zealand|Champions Trophy|                    null|                  68.18|            11|\n|2017|    Pakistan|Champions Trophy|                   83.17|                   null|            12|\n|2017|     England|Champions Trophy|                    null|                  86.67|            12|\n|2019|South Africa|          ODI WC|                    null|                 141.38|            13|\n|2019|     England|          ODI WC|                  235.31|                   null|            13|\n|2019|   Australia|          ODI WC|                    null|                 172.31|            16|\n|2019|   Sri Lanka|          ODI WC|                    null|                 107.36|            14|\n+----+------------+----------------+------------------------+-----------------------+--------------+\nonly showing top 25 rows\n\n"
     ]
    }
   ],
   "source": [
    "highest_run_scorer_impact.show(25)"
   ]
  },
  {
   "cell_type": "code",
   "execution_count": 0,
   "metadata": {
    "application/vnd.databricks.v1+cell": {
     "cellMetadata": {
      "byteLimit": 2048000,
      "rowLimit": 10000
     },
     "inputWidgets": {},
     "nuid": "049ff0bd-431f-4f68-bf9c-b2bea714e59f",
     "showTitle": false,
     "tableResultSettingsMap": {},
     "title": ""
    }
   },
   "outputs": [
    {
     "output_type": "stream",
     "name": "stdout",
     "output_type": "stream",
     "text": [
      "+------------+-----------+------------+------+------------+------------+----------+-------------+-----------+------------+\n|      Team 1|     Team 2|      Winner|Margin|      Ground|  Match Date| Scorecard|Year_of_Match|Margin type| Type of win|\n+------------+-----------+------------+------+------------+------------+----------+-------------+-----------+------------+\n|     England|West Indies| West Indies|     4|Eden Gardens| Apr 3, 2016|T20I # 557|         2016|    wickets|Dominant win|\n|       India|West Indies| West Indies|     7|    Wankhede|Mar 31, 2016|T20I # 556|         2016|    wickets|Dominant win|\n|     England|New Zealand|     England|     7|       Delhi|Mar 30, 2016|T20I # 555|         2016|    wickets|Dominant win|\n|South Africa|  Sri Lanka|South Africa|     8|       Delhi|Mar 28, 2016|T20I # 554|         2016|    wickets|Dominant win|\n|       India|  Australia|       India|     6|      Mohali|Mar 27, 2016|T20I # 553|         2016|    wickets|Dominant win|\n| Afghanistan|West Indies| Afghanistan|     6|      Nagpur|Mar 27, 2016|T20I # 552|         2016|       runs|   Close Win|\n|     England|  Sri Lanka|     England|    10|       Delhi|Mar 26, 2016|T20I # 551|         2016|       runs|   Close Win|\n|  Bangladesh|New Zealand| New Zealand|    75|Eden Gardens|Mar 26, 2016|T20I # 550|         2016|       runs|Dominant win|\n|South Africa|West Indies| West Indies|     3|      Nagpur|Mar 25, 2016|T20I # 549|         2016|    wickets|Dominant win|\n|   Australia|   Pakistan|   Australia|    21|      Mohali|Mar 25, 2016|T20I # 548|         2016|       runs|Dominant win|\n+------------+-----------+------------+------+------------+------------+----------+-------------+-----------+------------+\nonly showing top 10 rows\n\n"
     ]
    }
   ],
   "source": [
    "wc_match_winners_df_new_margin.show(10)\n",
    "winners_runs = spark.sql(\"\"\"\n",
    "                         SELECT\n",
    "    wi.Series,\n",
    "    wi.Tournament,\n",
    "    wi.Winner,\n",
    "    -- COUNT(CASE WHEN w.Winner = wi.Winner THEN 1 ELSE NULL END) AS `Matches Won by Winner`,\n",
    "    -- COUNT(CASE WHEN w.Winner != wi.Winner THEN 1 ELSE NULL END) AS `Matches Won by Other Teams`,\n",
    "    -- COUNT(CASE WHEN w.`Team 1` = wi.Winner OR w.`Team 2` = wi.Winner THEN 1 ELSE NULL END) AS `Matches Played by Winner`,\n",
    "    -- COUNT(CASE WHEN w.`Team 1` != wi.Winner OR w.`Team 2` != wi.Winner THEN 1 ELSE NULL END  ) AS `Matches Played by Non \n",
    "    -- Winners`,\n",
    "     ROUND(\n",
    "            COUNT(CASE WHEN w.Winner = wi.Winner THEN 1 ELSE NULL END) * 100.0 /\n",
    "            COUNT(CASE WHEN w.`Team 1` = wi.Winner OR w.`Team 2` = wi.Winner THEN 1 ELSE NULL END),\n",
    "            2\n",
    "        ) AS `Win % of Champions`,\n",
    "\n",
    "    ROUND(\n",
    "        COUNT(CASE WHEN w.Winner != wi.Winner THEN 1 ELSE NULL END) * 100 / \n",
    "        COUNT(CASE WHEN w.`Team 1` != wi.Winner OR w.`Team 2` != wi.Winner THEN 1 ELSE NULL END), \n",
    "        2) \n",
    "        AS `Win % of Non Winners`  \n",
    "    \n",
    "FROM\n",
    "    wc_winners AS wi\n",
    "JOIN\n",
    "    wc_match_winners AS w\n",
    "ON\n",
    "    TRIM(CAST(w.Year_of_Match AS STRING)) = TRIM(CAST(wi.Series AS STRING))\n",
    "WHERE\n",
    "    w.Year_of_Match > 2015\n",
    "GROUP BY\n",
    "    wi.Series, wi.Tournament, wi.Winner\n",
    "ORDER BY\n",
    "    wi.Series ASC;\n",
    "                         \n",
    "                         \"\"\")"
   ]
  },
  {
   "cell_type": "code",
   "execution_count": 0,
   "metadata": {
    "application/vnd.databricks.v1+cell": {
     "cellMetadata": {
      "byteLimit": 2048000,
      "rowLimit": 10000
     },
     "inputWidgets": {},
     "nuid": "c3e285ba-cb1b-4b7d-8942-27331117ee14",
     "showTitle": false,
     "tableResultSettingsMap": {},
     "title": ""
    }
   },
   "outputs": [
    {
     "output_type": "stream",
     "name": "stdout",
     "output_type": "stream",
     "text": [
      "+------+----------------+-----------+------------------+--------------------+\n|Series|      Tournament|     Winner|Win % of Champions|Win % of Non Winners|\n+------+----------------+-----------+------------------+--------------------+\n|  2016|          T20 WC|West Indies|             83.33|               85.71|\n|  2017|Champions Trophy|   Pakistan|             80.00|               73.33|\n|  2019|          ODI WC|    England|             63.64|               84.44|\n|  2021|          T20 WC|  Australia|             85.71|               86.67|\n|  2022|          T20 WC|    England|             83.33|                88.1|\n|  2023|          ODI WC|  Australia|             81.82|               81.25|\n|  2024|          T20 WC|      India|            100.00|               84.62|\n+------+----------------+-----------+------------------+--------------------+\n\n"
     ]
    }
   ],
   "source": [
    "winners_runs.show(30)"
   ]
  },
  {
   "cell_type": "code",
   "execution_count": 0,
   "metadata": {
    "application/vnd.databricks.v1+cell": {
     "cellMetadata": {
      "byteLimit": 2048000,
      "rowLimit": 10000
     },
     "inputWidgets": {},
     "nuid": "337fea9c-5feb-44f6-97c2-685676dbd4d7",
     "showTitle": false,
     "tableResultSettingsMap": {},
     "title": ""
    }
   },
   "outputs": [
    {
     "output_type": "stream",
     "name": "stdout",
     "output_type": "stream",
     "text": [
      "+----------+---------+-------+\n|  col_name|data_type|comment|\n+----------+---------+-------+\n|    Series|   string|   null|\n|      Type|   string|   null|\n|    Winner|   string|   null|\n|    Runner|   string|   null|\n|Tournament|   string|   null|\n+----------+---------+-------+\n\n"
     ]
    }
   ],
   "source": [
    "ss = spark.sql(\"\"\"DESCRIBE wc_winners\"\"\")\n",
    "\n",
    "ss.show(10)"
   ]
  },
  {
   "cell_type": "code",
   "execution_count": 0,
   "metadata": {
    "application/vnd.databricks.v1+cell": {
     "cellMetadata": {
      "byteLimit": 2048000,
      "rowLimit": 10000
     },
     "inputWidgets": {},
     "nuid": "5485abcc-896a-4941-b996-dcb54063407d",
     "showTitle": false,
     "tableResultSettingsMap": {},
     "title": ""
    }
   },
   "outputs": [],
   "source": [
    "winners_by_location = spark.sql(\"\"\"\n",
    "                         SELECT\n",
    "    wi.Series,\n",
    "    wi.Tournament,\n",
    "    wi.Winner,\n",
    "    w.Ground,\n",
    "    -- COUNT(CASE WHEN w.Winner = wi.Winner THEN 1 ELSE NULL END) AS `Matches Won by Winner`,\n",
    "    -- COUNT(CASE WHEN w.Winner != wi.Winner THEN 1 ELSE NULL END) AS `Matches Won by Other Teams`,\n",
    "    -- COUNT(CASE WHEN w.`Team 1` = wi.Winner OR w.`Team 2` = wi.Winner THEN 1 ELSE NULL END) AS `Matches Played by Winner`,\n",
    "    -- COUNT(CASE WHEN w.`Team 1` != wi.Winner OR w.`Team 2` != wi.Winner THEN 1 ELSE NULL END  ) AS `Matches Played by Non \n",
    "    -- Winners`,\n",
    "     ROUND(\n",
    "            COUNT(CASE WHEN w.Winner = wi.Winner THEN 1 ELSE NULL END) * 100.0 /\n",
    "            COUNT(CASE WHEN w.`Team 1` = wi.Winner OR w.`Team 2` = wi.Winner THEN 1 ELSE NULL END),\n",
    "            2\n",
    "        ) AS `Win % of Champions`\n",
    "\n",
    "FROM\n",
    "    wc_winners AS wi\n",
    "JOIN\n",
    "    wc_match_winners AS w\n",
    "ON\n",
    "    TRIM(CAST(w.Year_of_Match AS STRING)) = TRIM(CAST(wi.Series AS STRING))\n",
    "WHERE\n",
    "    w.Year_of_Match > 2015\n",
    "GROUP BY\n",
    "    wi.Series, wi.Tournament, wi.Winner, w.Ground\n",
    "HAVING\n",
    "        `Win % of Champions` IS NOT NULL    \n",
    "ORDER BY\n",
    "    wi.Series ASC;\n",
    "                         \n",
    "                         \"\"\")"
   ]
  },
  {
   "cell_type": "code",
   "execution_count": 0,
   "metadata": {
    "application/vnd.databricks.v1+cell": {
     "cellMetadata": {
      "byteLimit": 2048000,
      "rowLimit": 10000
     },
     "inputWidgets": {},
     "nuid": "088c9506-af02-4e27-ae27-87d85e78ccd6",
     "showTitle": false,
     "tableResultSettingsMap": {},
     "title": ""
    }
   },
   "outputs": [
    {
     "output_type": "stream",
     "name": "stdout",
     "output_type": "stream",
     "text": [
      "+------+----------------+-----------+-----------------+------------------+\n|Series|      Tournament|     Winner|           Ground|Win % of Champions|\n+------+----------------+-----------+-----------------+------------------+\n|  2016|          T20 WC|West Indies|           Nagpur|             50.00|\n|  2016|          T20 WC|West Indies|        Bengaluru|            100.00|\n|  2016|          T20 WC|West Indies|     Eden Gardens|            100.00|\n|  2016|          T20 WC|West Indies|         Wankhede|            100.00|\n|  2017|Champions Trophy|   Pakistan|       Birmingham|             50.00|\n|  2017|Champions Trophy|   Pakistan|         The Oval|            100.00|\n|  2017|Champions Trophy|   Pakistan|          Cardiff|            100.00|\n|  2019|          ODI WC|    England|Chester-le-Street|            100.00|\n|  2019|          ODI WC|    England|            Leeds|              0.00|\n|  2019|          ODI WC|    England|       Birmingham|            100.00|\n|  2019|          ODI WC|    England|       Nottingham|              0.00|\n|  2019|          ODI WC|    England|          Cardiff|            100.00|\n|  2019|          ODI WC|    England|         The Oval|            100.00|\n|  2019|          ODI WC|    England|       Manchester|            100.00|\n|  2019|          ODI WC|    England|      Southampton|            100.00|\n|  2019|          ODI WC|    England|           Lord's|              0.00|\n|  2021|          T20 WC|  Australia|     Dubai (DICS)|             80.00|\n|  2021|          T20 WC|  Australia|        Abu Dhabi|            100.00|\n|  2022|          T20 WC|    England|         Adelaide|            100.00|\n|  2022|          T20 WC|    England|           Sydney|            100.00|\n|  2022|          T20 WC|    England|        Melbourne|             50.00|\n|  2022|          T20 WC|    England|         Brisbane|            100.00|\n|  2022|          T20 WC|    England|            Perth|            100.00|\n|  2023|          ODI WC|  Australia|        Bengaluru|            100.00|\n|  2023|          ODI WC|  Australia|        Ahmedabad|            100.00|\n|  2023|          ODI WC|  Australia|       Dharamsala|            100.00|\n|  2023|          ODI WC|  Australia|         Wankhede|            100.00|\n|  2023|          ODI WC|  Australia|     Eden Gardens|            100.00|\n|  2023|          ODI WC|  Australia|            Delhi|            100.00|\n|  2023|          ODI WC|  Australia|          Lucknow|             50.00|\n|  2023|          ODI WC|  Australia|             Pune|            100.00|\n|  2023|          ODI WC|  Australia|          Chennai|              0.00|\n|  2024|          T20 WC|      India|       Providence|            100.00|\n|  2024|          T20 WC|      India|      North Sound|            100.00|\n|  2024|          T20 WC|      India|       Bridgetown|            100.00|\n|  2024|          T20 WC|      India|         New York|            100.00|\n|  2024|          T20 WC|      India|       Gros Islet|            100.00|\n+------+----------------+-----------+-----------------+------------------+\n\n"
     ]
    }
   ],
   "source": [
    "winners_by_location.show(50)"
   ]
  },
  {
   "cell_type": "code",
   "execution_count": 0,
   "metadata": {
    "application/vnd.databricks.v1+cell": {
     "cellMetadata": {
      "byteLimit": 2048000,
      "rowLimit": 10000
     },
     "inputWidgets": {},
     "nuid": "50951443-c3ed-49da-a5f9-7ce46613e0a8",
     "showTitle": false,
     "tableResultSettingsMap": {},
     "title": ""
    }
   },
   "outputs": [
    {
     "output_type": "stream",
     "name": "stderr",
     "output_type": "stream",
     "text": [
      "/databricks/spark/python/pyspark/sql/pandas/utils.py:124: UserWarning: The conversion of DecimalType columns is inefficient and may take a long time. Column names: [Win % of Champions] If those columns are not necessary, you may consider dropping them or converting to primitive types before the conversion.\n  warnings.warn(\n"
     ]
    }
   ],
   "source": [
    "winners_by_location_pandas = winners_by_location.toPandas()"
   ]
  },
  {
   "cell_type": "code",
   "execution_count": 0,
   "metadata": {
    "application/vnd.databricks.v1+cell": {
     "cellMetadata": {
      "byteLimit": 2048000,
      "rowLimit": 10000
     },
     "inputWidgets": {},
     "nuid": "d4d9c802-1d1a-4394-ac95-62e19d3f74c3",
     "showTitle": false,
     "tableResultSettingsMap": {},
     "title": ""
    }
   },
   "outputs": [
    {
     "output_type": "display_data",
     "data": {
      "text/html": [
       "<div>\n",
       "<style scoped>\n",
       "    .dataframe tbody tr th:only-of-type {\n",
       "        vertical-align: middle;\n",
       "    }\n",
       "\n",
       "    .dataframe tbody tr th {\n",
       "        vertical-align: top;\n",
       "    }\n",
       "\n",
       "    .dataframe thead th {\n",
       "        text-align: right;\n",
       "    }\n",
       "</style>\n",
       "<table border=\"1\" class=\"dataframe\">\n",
       "  <thead>\n",
       "    <tr style=\"text-align: right;\">\n",
       "      <th></th>\n",
       "      <th>Series</th>\n",
       "      <th>Tournament</th>\n",
       "      <th>Winner</th>\n",
       "      <th>Ground</th>\n",
       "      <th>Win % of Champions</th>\n",
       "    </tr>\n",
       "  </thead>\n",
       "  <tbody>\n",
       "    <tr>\n",
       "      <th>0</th>\n",
       "      <td>2016</td>\n",
       "      <td>T20 WC</td>\n",
       "      <td>West Indies</td>\n",
       "      <td>Nagpur</td>\n",
       "      <td>50.00</td>\n",
       "    </tr>\n",
       "    <tr>\n",
       "      <th>1</th>\n",
       "      <td>2016</td>\n",
       "      <td>T20 WC</td>\n",
       "      <td>West Indies</td>\n",
       "      <td>Bengaluru</td>\n",
       "      <td>100.00</td>\n",
       "    </tr>\n",
       "    <tr>\n",
       "      <th>2</th>\n",
       "      <td>2016</td>\n",
       "      <td>T20 WC</td>\n",
       "      <td>West Indies</td>\n",
       "      <td>Eden Gardens</td>\n",
       "      <td>100.00</td>\n",
       "    </tr>\n",
       "    <tr>\n",
       "      <th>3</th>\n",
       "      <td>2016</td>\n",
       "      <td>T20 WC</td>\n",
       "      <td>West Indies</td>\n",
       "      <td>Wankhede</td>\n",
       "      <td>100.00</td>\n",
       "    </tr>\n",
       "    <tr>\n",
       "      <th>4</th>\n",
       "      <td>2017</td>\n",
       "      <td>Champions Trophy</td>\n",
       "      <td>Pakistan</td>\n",
       "      <td>Birmingham</td>\n",
       "      <td>50.00</td>\n",
       "    </tr>\n",
       "    <tr>\n",
       "      <th>5</th>\n",
       "      <td>2017</td>\n",
       "      <td>Champions Trophy</td>\n",
       "      <td>Pakistan</td>\n",
       "      <td>The Oval</td>\n",
       "      <td>100.00</td>\n",
       "    </tr>\n",
       "    <tr>\n",
       "      <th>6</th>\n",
       "      <td>2017</td>\n",
       "      <td>Champions Trophy</td>\n",
       "      <td>Pakistan</td>\n",
       "      <td>Cardiff</td>\n",
       "      <td>100.00</td>\n",
       "    </tr>\n",
       "    <tr>\n",
       "      <th>7</th>\n",
       "      <td>2019</td>\n",
       "      <td>ODI WC</td>\n",
       "      <td>England</td>\n",
       "      <td>Chester-le-Street</td>\n",
       "      <td>100.00</td>\n",
       "    </tr>\n",
       "    <tr>\n",
       "      <th>8</th>\n",
       "      <td>2019</td>\n",
       "      <td>ODI WC</td>\n",
       "      <td>England</td>\n",
       "      <td>Leeds</td>\n",
       "      <td>0.00</td>\n",
       "    </tr>\n",
       "    <tr>\n",
       "      <th>9</th>\n",
       "      <td>2019</td>\n",
       "      <td>ODI WC</td>\n",
       "      <td>England</td>\n",
       "      <td>Birmingham</td>\n",
       "      <td>100.00</td>\n",
       "    </tr>\n",
       "  </tbody>\n",
       "</table>\n",
       "</div>"
      ]
     },
     "metadata": {
      "application/vnd.databricks.v1+output": {
       "addedWidgets": {},
       "arguments": {},
       "data": "<div>\n<style scoped>\n    .dataframe tbody tr th:only-of-type {\n        vertical-align: middle;\n    }\n\n    .dataframe tbody tr th {\n        vertical-align: top;\n    }\n\n    .dataframe thead th {\n        text-align: right;\n    }\n</style>\n<table border=\"1\" class=\"dataframe\">\n  <thead>\n    <tr style=\"text-align: right;\">\n      <th></th>\n      <th>Series</th>\n      <th>Tournament</th>\n      <th>Winner</th>\n      <th>Ground</th>\n      <th>Win % of Champions</th>\n    </tr>\n  </thead>\n  <tbody>\n    <tr>\n      <th>0</th>\n      <td>2016</td>\n      <td>T20 WC</td>\n      <td>West Indies</td>\n      <td>Nagpur</td>\n      <td>50.00</td>\n    </tr>\n    <tr>\n      <th>1</th>\n      <td>2016</td>\n      <td>T20 WC</td>\n      <td>West Indies</td>\n      <td>Bengaluru</td>\n      <td>100.00</td>\n    </tr>\n    <tr>\n      <th>2</th>\n      <td>2016</td>\n      <td>T20 WC</td>\n      <td>West Indies</td>\n      <td>Eden Gardens</td>\n      <td>100.00</td>\n    </tr>\n    <tr>\n      <th>3</th>\n      <td>2016</td>\n      <td>T20 WC</td>\n      <td>West Indies</td>\n      <td>Wankhede</td>\n      <td>100.00</td>\n    </tr>\n    <tr>\n      <th>4</th>\n      <td>2017</td>\n      <td>Champions Trophy</td>\n      <td>Pakistan</td>\n      <td>Birmingham</td>\n      <td>50.00</td>\n    </tr>\n    <tr>\n      <th>5</th>\n      <td>2017</td>\n      <td>Champions Trophy</td>\n      <td>Pakistan</td>\n      <td>The Oval</td>\n      <td>100.00</td>\n    </tr>\n    <tr>\n      <th>6</th>\n      <td>2017</td>\n      <td>Champions Trophy</td>\n      <td>Pakistan</td>\n      <td>Cardiff</td>\n      <td>100.00</td>\n    </tr>\n    <tr>\n      <th>7</th>\n      <td>2019</td>\n      <td>ODI WC</td>\n      <td>England</td>\n      <td>Chester-le-Street</td>\n      <td>100.00</td>\n    </tr>\n    <tr>\n      <th>8</th>\n      <td>2019</td>\n      <td>ODI WC</td>\n      <td>England</td>\n      <td>Leeds</td>\n      <td>0.00</td>\n    </tr>\n    <tr>\n      <th>9</th>\n      <td>2019</td>\n      <td>ODI WC</td>\n      <td>England</td>\n      <td>Birmingham</td>\n      <td>100.00</td>\n    </tr>\n  </tbody>\n</table>\n</div>",
       "datasetInfos": [],
       "metadata": {},
       "removedWidgets": [],
       "textData": null,
       "type": "htmlSandbox"
      }
     },
     "output_type": "display_data"
    }
   ],
   "source": [
    "winners_by_location_pandas.head(10)"
   ]
  },
  {
   "cell_type": "code",
   "execution_count": 0,
   "metadata": {
    "application/vnd.databricks.v1+cell": {
     "cellMetadata": {
      "byteLimit": 2048000,
      "rowLimit": 10000
     },
     "inputWidgets": {},
     "nuid": "eb4a86ae-c662-42d1-aec9-b38e57f40d3d",
     "showTitle": false,
     "tableResultSettingsMap": {},
     "title": ""
    }
   },
   "outputs": [
    {
     "output_type": "display_data",
     "data": {
      "image/png": "[encoded data removed]"
     },
     "metadata": {
      "application/vnd.databricks.v1+output": {
       "addedWidgets": {},
       "arguments": {},
       "data": "data:image/png;base64,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\n",
       "datasetInfos": [],
       "metadata": {},
       "removedWidgets": [],
       "type": "image"
      }
     },
     "output_type": "display_data"
    }
   ],
   "source": [
    "plt.figure(figsize=(15, 8))\n",
    "sn.barplot(\n",
    "    data=winners_by_location_pandas,\n",
    "    x=\"Ground\",\n",
    "    y=\"Win % of Champions\",\n",
    "    hue=\"Series\",\n",
    "    dodge=True,\n",
    "    palette=\"viridis\"\n",
    ")\n",
    "\n",
    "# Customize the plot\n",
    "plt.title(\"Win % of Champions by Ground\", fontsize=16)\n",
    "plt.xlabel(\"Ground\", fontsize=14)\n",
    "plt.ylabel(\"Win % of Champions\", fontsize=14)\n",
    "plt.xticks(rotation=45, ha=\"right\")\n",
    "plt.legend(title=\"Series\", loc=\"upper right\", fontsize=12)\n",
    "plt.tight_layout()\n",
    "\n",
    "# Show the plot\n",
    "plt.show()"
   ]
  },
  {
   "cell_type": "code",
   "execution_count": 0,
   "metadata": {
    "application/vnd.databricks.v1+cell": {
     "cellMetadata": {
      "byteLimit": 2048000,
      "rowLimit": 10000
     },
     "inputWidgets": {},
     "nuid": "d89611a3-e848-447c-822f-3497ea6fcd01",
     "showTitle": false,
     "tableResultSettingsMap": {},
     "title": ""
    }
   },
   "outputs": [
    {
     "output_type": "stream",
     "name": "stdout",
     "output_type": "stream",
     "text": [
      "+------------+-------+---------+------+-----+---+-------------+------------+----------+----------+\n|      Winner| Margin|Balls Rem|Target|Overs|Max|   Opposition|      Ground|Match Date| Scorecard|\n+------------+-------+---------+------+-----+---+-------------+------------+----------+----------+\n| New Zealand|75 runs|        0|   146| 15.4| 20| v Bangladesh|Eden Gardens| 26-Mar-16|T20I # 550|\n| Afghanistan|59 runs|        0|   187| 19.4| 20|   v Zimbabwe|      Nagpur| 12-Mar-16|T20I # 531|\n|    Pakistan|55 runs|        0|   202|   20| 20| v Bangladesh|Eden Gardens| 16-Mar-16|T20I # 536|\n|  Bangladesh|54 runs|        0|   120|   12| 12|       v Oman|  Dharamsala| 13-Mar-16|T20I # 534|\n| New Zealand|47 runs|        0|   127| 18.1| 20|      v India|      Nagpur| 15-Mar-16|T20I # 535|\n|South Africa|37 runs|        0|   210|   20| 20|v Afghanistan|    Wankhede| 20-Mar-16|T20I # 542|\n| New Zealand|22 runs|        0|   181|   20| 20|   v Pakistan|      Mohali| 22-Mar-16|T20I # 545|\n|   Australia|21 runs|        0|   194|   20| 20|   v Pakistan|      Mohali| 25-Mar-16|T20I # 548|\n|     England|15 runs|        0|   143|   20| 20|v Afghanistan|       Delhi| 23-Mar-16|T20I # 546|\n|    Zimbabwe|14 runs|        0|   159|   20| 20|  v Hong Kong|      Nagpur| 08-Mar-16|T20I # 522|\n+------------+-------+---------+------+-----+---+-------------+------------+----------+----------+\nonly showing top 10 rows\n\n"
     ]
    }
   ],
   "source": [
    "new_win_mar_df_final.show(10)"
   ]
  },
  {
   "cell_type": "code",
   "execution_count": 0,
   "metadata": {
    "application/vnd.databricks.v1+cell": {
     "cellMetadata": {
      "byteLimit": 2048000,
      "rowLimit": 10000
     },
     "inputWidgets": {},
     "nuid": "074bf3d8-276d-4d8a-8557-8d85fa8aad8d",
     "showTitle": false,
     "tableResultSettingsMap": {},
     "title": ""
    }
   },
   "outputs": [],
   "source": [
    "new_win_mar_df_final.createOrReplaceTempView(\"win_margin\")"
   ]
  },
  {
   "cell_type": "code",
   "execution_count": 0,
   "metadata": {
    "application/vnd.databricks.v1+cell": {
     "cellMetadata": {
      "byteLimit": 2048000,
      "rowLimit": 10000
     },
     "inputWidgets": {},
     "nuid": "270b9736-4218-4ed1-81ad-3c257553dd5e",
     "showTitle": false,
     "tableResultSettingsMap": {},
     "title": ""
    }
   },
   "outputs": [],
   "source": [
    "ground_wise_analysis = spark.sql(\"\"\"\n",
    "                                 SELECT wi.Ground, count(*) as `Total Big Wins` FROM win_margin as wi GROUP BY wi.Ground ORDER BY `Total Big Wins` DESC\n",
    "                                 \n",
    "                                 \n",
    "                                 \"\"\")"
   ]
  },
  {
   "cell_type": "code",
   "execution_count": 0,
   "metadata": {
    "application/vnd.databricks.v1+cell": {
     "cellMetadata": {
      "byteLimit": 2048000,
      "rowLimit": 10000
     },
     "inputWidgets": {},
     "nuid": "13648964-8ac2-4e8a-9042-084f2555e064",
     "showTitle": false,
     "tableResultSettingsMap": {},
     "title": ""
    }
   },
   "outputs": [
    {
     "output_type": "stream",
     "name": "stdout",
     "output_type": "stream",
     "text": [
      "+------------+--------------+\n|      Ground|Total Big Wins|\n+------------+--------------+\n|  Dharamsala|             7|\n|  Manchester|             6|\n|     Sharjah|             6|\n|      Nagpur|             6|\n|    The Oval|             5|\n|    Wankhede|             5|\n|Eden Gardens|             5|\n|  Birmingham|             5|\n|      Sydney|             5|\n|   Kingstown|             5|\n|       Delhi|             5|\n|   Abu Dhabi|             5|\n|    Adelaide|             4|\n|      Hobart|             4|\n|     Geelong|             4|\n|  Bridgetown|             4|\n|   Al Amerat|             4|\n| North Sound|             4|\n|   Bengaluru|             4|\n|      Lord's|             4|\n+------------+--------------+\nonly showing top 20 rows\n\n"
     ]
    }
   ],
   "source": [
    "ground_wise_analysis.show(20)"
   ]
  },
  {
   "cell_type": "code",
   "execution_count": 0,
   "metadata": {
    "application/vnd.databricks.v1+cell": {
     "cellMetadata": {
      "byteLimit": 2048000,
      "rowLimit": 10000
     },
     "inputWidgets": {},
     "nuid": "0160528f-550f-411c-b0c5-ba12dc041b96",
     "showTitle": false,
     "tableResultSettingsMap": {},
     "title": ""
    }
   },
   "outputs": [
    {
     "output_type": "display_data",
     "data": {
      "image/png": "[encoded data removed]"
     },
     "metadata": {
      "application/vnd.databricks.v1+output": {
       "addedWidgets": {},
       "arguments": {},
       "data": "data:image/png;base64,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\n",
       "datasetInfos": [],
       "metadata": {},
       "removedWidgets": [],
       "type": "image"
      }
     },
     "output_type": "display_data"
    }
   ],
   "source": [
    "plt.figure(figsize=(19,8))\n",
    "ground_wise_analysis_pandas = ground_wise_analysis.toPandas()\n",
    "sn.barplot(data=ground_wise_analysis_pandas, x=\"Ground\", y =\"Total Big Wins\", palette=\"viridis\")\n",
    "plt.title(\"Comparison of Ground vs Big Margin Wins\")\n",
    "plt.xticks(rotation = 50)\n",
    "plt.xlabel(\"Ground\")\n",
    "plt.ylabel(\"Big Wins\")\n",
    "plt.show()"
   ]
  }
 ],
 "metadata": {
  "application/vnd.databricks.v1+notebook": {
   "computePreferences": null,
   "dashboards": [],
   "environmentMetadata": {
    "base_environment": "",
    "client": "1"
   },
   "language": "python",
   "notebookMetadata": {
    "pythonIndentUnit": 4
   },
   "notebookName": "ICC CT Analysis",
   "widgets": {}
  }
 },
 "nbformat": 4,
 "nbformat_minor": 0
}
